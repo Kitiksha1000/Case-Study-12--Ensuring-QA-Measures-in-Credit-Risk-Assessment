{
  "nbformat": 4,
  "nbformat_minor": 0,
  "metadata": {
    "colab": {
      "provenance": [],
      "authorship_tag": "ABX9TyMaa04pwHt4N9U5qcQxfQeW",
      "include_colab_link": true
    },
    "kernelspec": {
      "name": "python3",
      "display_name": "Python 3"
    },
    "language_info": {
      "name": "python"
    }
  },
  "cells": [
    {
      "cell_type": "markdown",
      "metadata": {
        "id": "view-in-github",
        "colab_type": "text"
      },
      "source": [
        "<a href=\"https://colab.research.google.com/github/Kitiksha1000/Case-Study-12--Ensuring-QA-Measures-in-Credit-Risk-Assessment/blob/main/General_Preprocessing_pipeline__Case_Study_12.ipynb\" target=\"_parent\"><img src=\"https://colab.research.google.com/assets/colab-badge.svg\" alt=\"Open In Colab\"/></a>"
      ]
    },
    {
      "cell_type": "code",
      "source": [
        "!pip install fairlearn"
      ],
      "metadata": {
        "colab": {
          "base_uri": "https://localhost:8080/"
        },
        "id": "xYlJ5D-gNnx8",
        "outputId": "e3f1c236-fec1-40c0-f83c-d85806eacb1f"
      },
      "execution_count": null,
      "outputs": [
        {
          "output_type": "stream",
          "name": "stdout",
          "text": [
            "Collecting fairlearn\n",
            "  Downloading fairlearn-0.12.0-py3-none-any.whl.metadata (7.0 kB)\n",
            "Requirement already satisfied: numpy>=1.24.4 in /usr/local/lib/python3.11/dist-packages (from fairlearn) (2.0.2)\n",
            "Requirement already satisfied: pandas>=2.0.3 in /usr/local/lib/python3.11/dist-packages (from fairlearn) (2.2.2)\n",
            "Requirement already satisfied: scikit-learn>=1.2.1 in /usr/local/lib/python3.11/dist-packages (from fairlearn) (1.6.1)\n",
            "Requirement already satisfied: scipy>=1.9.3 in /usr/local/lib/python3.11/dist-packages (from fairlearn) (1.15.3)\n",
            "Requirement already satisfied: python-dateutil>=2.8.2 in /usr/local/lib/python3.11/dist-packages (from pandas>=2.0.3->fairlearn) (2.9.0.post0)\n",
            "Requirement already satisfied: pytz>=2020.1 in /usr/local/lib/python3.11/dist-packages (from pandas>=2.0.3->fairlearn) (2025.2)\n",
            "Requirement already satisfied: tzdata>=2022.7 in /usr/local/lib/python3.11/dist-packages (from pandas>=2.0.3->fairlearn) (2025.2)\n",
            "Requirement already satisfied: joblib>=1.2.0 in /usr/local/lib/python3.11/dist-packages (from scikit-learn>=1.2.1->fairlearn) (1.5.1)\n",
            "Requirement already satisfied: threadpoolctl>=3.1.0 in /usr/local/lib/python3.11/dist-packages (from scikit-learn>=1.2.1->fairlearn) (3.6.0)\n",
            "Requirement already satisfied: six>=1.5 in /usr/local/lib/python3.11/dist-packages (from python-dateutil>=2.8.2->pandas>=2.0.3->fairlearn) (1.17.0)\n",
            "Downloading fairlearn-0.12.0-py3-none-any.whl (240 kB)\n",
            "\u001b[2K   \u001b[90m━━━━━━━━━━━━━━━━━━━━━━━━━━━━━━━━━━━━━━━━\u001b[0m \u001b[32m240.0/240.0 kB\u001b[0m \u001b[31m12.2 MB/s\u001b[0m eta \u001b[36m0:00:00\u001b[0m\n",
            "\u001b[?25hInstalling collected packages: fairlearn\n",
            "Successfully installed fairlearn-0.12.0\n"
          ]
        }
      ]
    },
    {
      "cell_type": "code",
      "source": [
        "!pip install shap"
      ],
      "metadata": {
        "colab": {
          "base_uri": "https://localhost:8080/"
        },
        "id": "PXYQ79lDK0s7",
        "outputId": "f644abbc-b8eb-48b2-c6e4-6dcfe214dd50"
      },
      "execution_count": null,
      "outputs": [
        {
          "output_type": "stream",
          "name": "stdout",
          "text": [
            "Requirement already satisfied: shap in /usr/local/lib/python3.11/dist-packages (0.48.0)\n",
            "Requirement already satisfied: numpy in /usr/local/lib/python3.11/dist-packages (from shap) (2.0.2)\n",
            "Requirement already satisfied: scipy in /usr/local/lib/python3.11/dist-packages (from shap) (1.15.3)\n",
            "Requirement already satisfied: scikit-learn in /usr/local/lib/python3.11/dist-packages (from shap) (1.6.1)\n",
            "Requirement already satisfied: pandas in /usr/local/lib/python3.11/dist-packages (from shap) (2.2.2)\n",
            "Requirement already satisfied: tqdm>=4.27.0 in /usr/local/lib/python3.11/dist-packages (from shap) (4.67.1)\n",
            "Requirement already satisfied: packaging>20.9 in /usr/local/lib/python3.11/dist-packages (from shap) (24.2)\n",
            "Requirement already satisfied: slicer==0.0.8 in /usr/local/lib/python3.11/dist-packages (from shap) (0.0.8)\n",
            "Requirement already satisfied: numba>=0.54 in /usr/local/lib/python3.11/dist-packages (from shap) (0.60.0)\n",
            "Requirement already satisfied: cloudpickle in /usr/local/lib/python3.11/dist-packages (from shap) (3.1.1)\n",
            "Requirement already satisfied: typing-extensions in /usr/local/lib/python3.11/dist-packages (from shap) (4.14.0)\n",
            "Requirement already satisfied: llvmlite<0.44,>=0.43.0dev0 in /usr/local/lib/python3.11/dist-packages (from numba>=0.54->shap) (0.43.0)\n",
            "Requirement already satisfied: python-dateutil>=2.8.2 in /usr/local/lib/python3.11/dist-packages (from pandas->shap) (2.9.0.post0)\n",
            "Requirement already satisfied: pytz>=2020.1 in /usr/local/lib/python3.11/dist-packages (from pandas->shap) (2025.2)\n",
            "Requirement already satisfied: tzdata>=2022.7 in /usr/local/lib/python3.11/dist-packages (from pandas->shap) (2025.2)\n",
            "Requirement already satisfied: joblib>=1.2.0 in /usr/local/lib/python3.11/dist-packages (from scikit-learn->shap) (1.5.1)\n",
            "Requirement already satisfied: threadpoolctl>=3.1.0 in /usr/local/lib/python3.11/dist-packages (from scikit-learn->shap) (3.6.0)\n",
            "Requirement already satisfied: six>=1.5 in /usr/local/lib/python3.11/dist-packages (from python-dateutil>=2.8.2->pandas->shap) (1.17.0)\n"
          ]
        }
      ]
    },
    {
      "cell_type": "code",
      "source": [
        "!pip install category_encoders"
      ],
      "metadata": {
        "colab": {
          "base_uri": "https://localhost:8080/"
        },
        "id": "IUoB6uRw7fla",
        "outputId": "3571e75b-1148-42fc-b8f5-941280bd214b"
      },
      "execution_count": null,
      "outputs": [
        {
          "output_type": "stream",
          "name": "stdout",
          "text": [
            "Requirement already satisfied: category_encoders in /usr/local/lib/python3.11/dist-packages (2.8.1)\n",
            "Requirement already satisfied: numpy>=1.14.0 in /usr/local/lib/python3.11/dist-packages (from category_encoders) (2.0.2)\n",
            "Requirement already satisfied: pandas>=1.0.5 in /usr/local/lib/python3.11/dist-packages (from category_encoders) (2.2.2)\n",
            "Requirement already satisfied: patsy>=0.5.1 in /usr/local/lib/python3.11/dist-packages (from category_encoders) (1.0.1)\n",
            "Requirement already satisfied: scikit-learn>=1.6.0 in /usr/local/lib/python3.11/dist-packages (from category_encoders) (1.6.1)\n",
            "Requirement already satisfied: scipy>=1.0.0 in /usr/local/lib/python3.11/dist-packages (from category_encoders) (1.15.3)\n",
            "Requirement already satisfied: statsmodels>=0.9.0 in /usr/local/lib/python3.11/dist-packages (from category_encoders) (0.14.4)\n",
            "Requirement already satisfied: python-dateutil>=2.8.2 in /usr/local/lib/python3.11/dist-packages (from pandas>=1.0.5->category_encoders) (2.9.0.post0)\n",
            "Requirement already satisfied: pytz>=2020.1 in /usr/local/lib/python3.11/dist-packages (from pandas>=1.0.5->category_encoders) (2025.2)\n",
            "Requirement already satisfied: tzdata>=2022.7 in /usr/local/lib/python3.11/dist-packages (from pandas>=1.0.5->category_encoders) (2025.2)\n",
            "Requirement already satisfied: joblib>=1.2.0 in /usr/local/lib/python3.11/dist-packages (from scikit-learn>=1.6.0->category_encoders) (1.5.1)\n",
            "Requirement already satisfied: threadpoolctl>=3.1.0 in /usr/local/lib/python3.11/dist-packages (from scikit-learn>=1.6.0->category_encoders) (3.6.0)\n",
            "Requirement already satisfied: packaging>=21.3 in /usr/local/lib/python3.11/dist-packages (from statsmodels>=0.9.0->category_encoders) (24.2)\n",
            "Requirement already satisfied: six>=1.5 in /usr/local/lib/python3.11/dist-packages (from python-dateutil>=2.8.2->pandas>=1.0.5->category_encoders) (1.17.0)\n"
          ]
        }
      ]
    },
    {
      "cell_type": "code",
      "source": [
        "import pandas as pd\n",
        "df=pd.read_csv('/content/PAKDD_Modelling_data.csv')\n",
        "df.shape"
      ],
      "metadata": {
        "colab": {
          "base_uri": "https://localhost:8080/"
        },
        "id": "6g0EsdNmY6DC",
        "outputId": "4cbf6469-26f3-4745-f61a-347442107438"
      },
      "execution_count": null,
      "outputs": [
        {
          "output_type": "stream",
          "name": "stderr",
          "text": [
            "/tmp/ipython-input-2-2011989236.py:2: DtypeWarning: Columns (51,52) have mixed types. Specify dtype option on import or set low_memory=False.\n",
            "  df=pd.read_csv('/content/PAKDD_Modelling_data.csv')\n"
          ]
        },
        {
          "output_type": "execute_result",
          "data": {
            "text/plain": [
              "(50000, 54)"
            ]
          },
          "metadata": {},
          "execution_count": 2
        }
      ]
    },
    {
      "cell_type": "code",
      "source": [
        "\n",
        "df.head()"
      ],
      "metadata": {
        "colab": {
          "base_uri": "https://localhost:8080/",
          "height": 255
        },
        "id": "wcouy2v_iV0O",
        "outputId": "6ec9c396-1046-4fbc-ae63-1b6985bb4866"
      },
      "execution_count": null,
      "outputs": [
        {
          "output_type": "execute_result",
          "data": {
            "text/plain": [
              "   ID_CLIENT CLERK_TYPE  PAYMENT_DAY APPLICATION_SUBMISSION_TYPE  \\\n",
              "0          1          C            5                         Web   \n",
              "1          2          C           15                       Carga   \n",
              "2          3          C            5                         Web   \n",
              "3          4          C           20                         Web   \n",
              "4          5          C           10                         Web   \n",
              "\n",
              "   QUANT_ADDITIONAL_CARDS  POSTAL_ADDRESS_TYPE SEX  MARITAL_STATUS  \\\n",
              "0                       0                    1   F               6   \n",
              "1                       0                    1   F               2   \n",
              "2                       0                    1   F               2   \n",
              "3                       0                    1   F               2   \n",
              "4                       0                    1   M               2   \n",
              "\n",
              "   QUANT_DEPENDANTS  EDUCATION_LEVEL  ... FLAG_HOME_ADDRESS_DOCUMENT FLAG_RG  \\\n",
              "0                 1                0  ...                          0       0   \n",
              "1                 0                0  ...                          0       0   \n",
              "2                 0                0  ...                          0       0   \n",
              "3                 0                0  ...                          0       0   \n",
              "4                 0                0  ...                          0       0   \n",
              "\n",
              "   FLAG_CPF FLAG_INCOME_PROOF PRODUCT FLAG_ACSP_RECORD AGE RESIDENCIAL_ZIP_3  \\\n",
              "0         0                 0       1                N  32               595   \n",
              "1         0                 0       1                N  34               230   \n",
              "2         0                 0       1                N  27               591   \n",
              "3         0                 0       1                N  61               545   \n",
              "4         0                 0       1                N  48               235   \n",
              "\n",
              "   PROFESSIONAL_ZIP_3  TARGET_LABEL_BAD  \n",
              "0                 595                 1  \n",
              "1                 230                 1  \n",
              "2                 591                 0  \n",
              "3                 545                 0  \n",
              "4                 235                 1  \n",
              "\n",
              "[5 rows x 54 columns]"
            ],
            "text/html": [
              "\n",
              "  <div id=\"df-560db2c0-fc0b-437f-8949-ee1333f22023\" class=\"colab-df-container\">\n",
              "    <div>\n",
              "<style scoped>\n",
              "    .dataframe tbody tr th:only-of-type {\n",
              "        vertical-align: middle;\n",
              "    }\n",
              "\n",
              "    .dataframe tbody tr th {\n",
              "        vertical-align: top;\n",
              "    }\n",
              "\n",
              "    .dataframe thead th {\n",
              "        text-align: right;\n",
              "    }\n",
              "</style>\n",
              "<table border=\"1\" class=\"dataframe\">\n",
              "  <thead>\n",
              "    <tr style=\"text-align: right;\">\n",
              "      <th></th>\n",
              "      <th>ID_CLIENT</th>\n",
              "      <th>CLERK_TYPE</th>\n",
              "      <th>PAYMENT_DAY</th>\n",
              "      <th>APPLICATION_SUBMISSION_TYPE</th>\n",
              "      <th>QUANT_ADDITIONAL_CARDS</th>\n",
              "      <th>POSTAL_ADDRESS_TYPE</th>\n",
              "      <th>SEX</th>\n",
              "      <th>MARITAL_STATUS</th>\n",
              "      <th>QUANT_DEPENDANTS</th>\n",
              "      <th>EDUCATION_LEVEL</th>\n",
              "      <th>...</th>\n",
              "      <th>FLAG_HOME_ADDRESS_DOCUMENT</th>\n",
              "      <th>FLAG_RG</th>\n",
              "      <th>FLAG_CPF</th>\n",
              "      <th>FLAG_INCOME_PROOF</th>\n",
              "      <th>PRODUCT</th>\n",
              "      <th>FLAG_ACSP_RECORD</th>\n",
              "      <th>AGE</th>\n",
              "      <th>RESIDENCIAL_ZIP_3</th>\n",
              "      <th>PROFESSIONAL_ZIP_3</th>\n",
              "      <th>TARGET_LABEL_BAD</th>\n",
              "    </tr>\n",
              "  </thead>\n",
              "  <tbody>\n",
              "    <tr>\n",
              "      <th>0</th>\n",
              "      <td>1</td>\n",
              "      <td>C</td>\n",
              "      <td>5</td>\n",
              "      <td>Web</td>\n",
              "      <td>0</td>\n",
              "      <td>1</td>\n",
              "      <td>F</td>\n",
              "      <td>6</td>\n",
              "      <td>1</td>\n",
              "      <td>0</td>\n",
              "      <td>...</td>\n",
              "      <td>0</td>\n",
              "      <td>0</td>\n",
              "      <td>0</td>\n",
              "      <td>0</td>\n",
              "      <td>1</td>\n",
              "      <td>N</td>\n",
              "      <td>32</td>\n",
              "      <td>595</td>\n",
              "      <td>595</td>\n",
              "      <td>1</td>\n",
              "    </tr>\n",
              "    <tr>\n",
              "      <th>1</th>\n",
              "      <td>2</td>\n",
              "      <td>C</td>\n",
              "      <td>15</td>\n",
              "      <td>Carga</td>\n",
              "      <td>0</td>\n",
              "      <td>1</td>\n",
              "      <td>F</td>\n",
              "      <td>2</td>\n",
              "      <td>0</td>\n",
              "      <td>0</td>\n",
              "      <td>...</td>\n",
              "      <td>0</td>\n",
              "      <td>0</td>\n",
              "      <td>0</td>\n",
              "      <td>0</td>\n",
              "      <td>1</td>\n",
              "      <td>N</td>\n",
              "      <td>34</td>\n",
              "      <td>230</td>\n",
              "      <td>230</td>\n",
              "      <td>1</td>\n",
              "    </tr>\n",
              "    <tr>\n",
              "      <th>2</th>\n",
              "      <td>3</td>\n",
              "      <td>C</td>\n",
              "      <td>5</td>\n",
              "      <td>Web</td>\n",
              "      <td>0</td>\n",
              "      <td>1</td>\n",
              "      <td>F</td>\n",
              "      <td>2</td>\n",
              "      <td>0</td>\n",
              "      <td>0</td>\n",
              "      <td>...</td>\n",
              "      <td>0</td>\n",
              "      <td>0</td>\n",
              "      <td>0</td>\n",
              "      <td>0</td>\n",
              "      <td>1</td>\n",
              "      <td>N</td>\n",
              "      <td>27</td>\n",
              "      <td>591</td>\n",
              "      <td>591</td>\n",
              "      <td>0</td>\n",
              "    </tr>\n",
              "    <tr>\n",
              "      <th>3</th>\n",
              "      <td>4</td>\n",
              "      <td>C</td>\n",
              "      <td>20</td>\n",
              "      <td>Web</td>\n",
              "      <td>0</td>\n",
              "      <td>1</td>\n",
              "      <td>F</td>\n",
              "      <td>2</td>\n",
              "      <td>0</td>\n",
              "      <td>0</td>\n",
              "      <td>...</td>\n",
              "      <td>0</td>\n",
              "      <td>0</td>\n",
              "      <td>0</td>\n",
              "      <td>0</td>\n",
              "      <td>1</td>\n",
              "      <td>N</td>\n",
              "      <td>61</td>\n",
              "      <td>545</td>\n",
              "      <td>545</td>\n",
              "      <td>0</td>\n",
              "    </tr>\n",
              "    <tr>\n",
              "      <th>4</th>\n",
              "      <td>5</td>\n",
              "      <td>C</td>\n",
              "      <td>10</td>\n",
              "      <td>Web</td>\n",
              "      <td>0</td>\n",
              "      <td>1</td>\n",
              "      <td>M</td>\n",
              "      <td>2</td>\n",
              "      <td>0</td>\n",
              "      <td>0</td>\n",
              "      <td>...</td>\n",
              "      <td>0</td>\n",
              "      <td>0</td>\n",
              "      <td>0</td>\n",
              "      <td>0</td>\n",
              "      <td>1</td>\n",
              "      <td>N</td>\n",
              "      <td>48</td>\n",
              "      <td>235</td>\n",
              "      <td>235</td>\n",
              "      <td>1</td>\n",
              "    </tr>\n",
              "  </tbody>\n",
              "</table>\n",
              "<p>5 rows × 54 columns</p>\n",
              "</div>\n",
              "    <div class=\"colab-df-buttons\">\n",
              "\n",
              "  <div class=\"colab-df-container\">\n",
              "    <button class=\"colab-df-convert\" onclick=\"convertToInteractive('df-560db2c0-fc0b-437f-8949-ee1333f22023')\"\n",
              "            title=\"Convert this dataframe to an interactive table.\"\n",
              "            style=\"display:none;\">\n",
              "\n",
              "  <svg xmlns=\"http://www.w3.org/2000/svg\" height=\"24px\" viewBox=\"0 -960 960 960\">\n",
              "    <path d=\"M120-120v-720h720v720H120Zm60-500h600v-160H180v160Zm220 220h160v-160H400v160Zm0 220h160v-160H400v160ZM180-400h160v-160H180v160Zm440 0h160v-160H620v160ZM180-180h160v-160H180v160Zm440 0h160v-160H620v160Z\"/>\n",
              "  </svg>\n",
              "    </button>\n",
              "\n",
              "  <style>\n",
              "    .colab-df-container {\n",
              "      display:flex;\n",
              "      gap: 12px;\n",
              "    }\n",
              "\n",
              "    .colab-df-convert {\n",
              "      background-color: #E8F0FE;\n",
              "      border: none;\n",
              "      border-radius: 50%;\n",
              "      cursor: pointer;\n",
              "      display: none;\n",
              "      fill: #1967D2;\n",
              "      height: 32px;\n",
              "      padding: 0 0 0 0;\n",
              "      width: 32px;\n",
              "    }\n",
              "\n",
              "    .colab-df-convert:hover {\n",
              "      background-color: #E2EBFA;\n",
              "      box-shadow: 0px 1px 2px rgba(60, 64, 67, 0.3), 0px 1px 3px 1px rgba(60, 64, 67, 0.15);\n",
              "      fill: #174EA6;\n",
              "    }\n",
              "\n",
              "    .colab-df-buttons div {\n",
              "      margin-bottom: 4px;\n",
              "    }\n",
              "\n",
              "    [theme=dark] .colab-df-convert {\n",
              "      background-color: #3B4455;\n",
              "      fill: #D2E3FC;\n",
              "    }\n",
              "\n",
              "    [theme=dark] .colab-df-convert:hover {\n",
              "      background-color: #434B5C;\n",
              "      box-shadow: 0px 1px 3px 1px rgba(0, 0, 0, 0.15);\n",
              "      filter: drop-shadow(0px 1px 2px rgba(0, 0, 0, 0.3));\n",
              "      fill: #FFFFFF;\n",
              "    }\n",
              "  </style>\n",
              "\n",
              "    <script>\n",
              "      const buttonEl =\n",
              "        document.querySelector('#df-560db2c0-fc0b-437f-8949-ee1333f22023 button.colab-df-convert');\n",
              "      buttonEl.style.display =\n",
              "        google.colab.kernel.accessAllowed ? 'block' : 'none';\n",
              "\n",
              "      async function convertToInteractive(key) {\n",
              "        const element = document.querySelector('#df-560db2c0-fc0b-437f-8949-ee1333f22023');\n",
              "        const dataTable =\n",
              "          await google.colab.kernel.invokeFunction('convertToInteractive',\n",
              "                                                    [key], {});\n",
              "        if (!dataTable) return;\n",
              "\n",
              "        const docLinkHtml = 'Like what you see? Visit the ' +\n",
              "          '<a target=\"_blank\" href=https://colab.research.google.com/notebooks/data_table.ipynb>data table notebook</a>'\n",
              "          + ' to learn more about interactive tables.';\n",
              "        element.innerHTML = '';\n",
              "        dataTable['output_type'] = 'display_data';\n",
              "        await google.colab.output.renderOutput(dataTable, element);\n",
              "        const docLink = document.createElement('div');\n",
              "        docLink.innerHTML = docLinkHtml;\n",
              "        element.appendChild(docLink);\n",
              "      }\n",
              "    </script>\n",
              "  </div>\n",
              "\n",
              "\n",
              "    <div id=\"df-45e99ea5-6cbf-4768-8079-253058044db3\">\n",
              "      <button class=\"colab-df-quickchart\" onclick=\"quickchart('df-45e99ea5-6cbf-4768-8079-253058044db3')\"\n",
              "                title=\"Suggest charts\"\n",
              "                style=\"display:none;\">\n",
              "\n",
              "<svg xmlns=\"http://www.w3.org/2000/svg\" height=\"24px\"viewBox=\"0 0 24 24\"\n",
              "     width=\"24px\">\n",
              "    <g>\n",
              "        <path d=\"M19 3H5c-1.1 0-2 .9-2 2v14c0 1.1.9 2 2 2h14c1.1 0 2-.9 2-2V5c0-1.1-.9-2-2-2zM9 17H7v-7h2v7zm4 0h-2V7h2v10zm4 0h-2v-4h2v4z\"/>\n",
              "    </g>\n",
              "</svg>\n",
              "      </button>\n",
              "\n",
              "<style>\n",
              "  .colab-df-quickchart {\n",
              "      --bg-color: #E8F0FE;\n",
              "      --fill-color: #1967D2;\n",
              "      --hover-bg-color: #E2EBFA;\n",
              "      --hover-fill-color: #174EA6;\n",
              "      --disabled-fill-color: #AAA;\n",
              "      --disabled-bg-color: #DDD;\n",
              "  }\n",
              "\n",
              "  [theme=dark] .colab-df-quickchart {\n",
              "      --bg-color: #3B4455;\n",
              "      --fill-color: #D2E3FC;\n",
              "      --hover-bg-color: #434B5C;\n",
              "      --hover-fill-color: #FFFFFF;\n",
              "      --disabled-bg-color: #3B4455;\n",
              "      --disabled-fill-color: #666;\n",
              "  }\n",
              "\n",
              "  .colab-df-quickchart {\n",
              "    background-color: var(--bg-color);\n",
              "    border: none;\n",
              "    border-radius: 50%;\n",
              "    cursor: pointer;\n",
              "    display: none;\n",
              "    fill: var(--fill-color);\n",
              "    height: 32px;\n",
              "    padding: 0;\n",
              "    width: 32px;\n",
              "  }\n",
              "\n",
              "  .colab-df-quickchart:hover {\n",
              "    background-color: var(--hover-bg-color);\n",
              "    box-shadow: 0 1px 2px rgba(60, 64, 67, 0.3), 0 1px 3px 1px rgba(60, 64, 67, 0.15);\n",
              "    fill: var(--button-hover-fill-color);\n",
              "  }\n",
              "\n",
              "  .colab-df-quickchart-complete:disabled,\n",
              "  .colab-df-quickchart-complete:disabled:hover {\n",
              "    background-color: var(--disabled-bg-color);\n",
              "    fill: var(--disabled-fill-color);\n",
              "    box-shadow: none;\n",
              "  }\n",
              "\n",
              "  .colab-df-spinner {\n",
              "    border: 2px solid var(--fill-color);\n",
              "    border-color: transparent;\n",
              "    border-bottom-color: var(--fill-color);\n",
              "    animation:\n",
              "      spin 1s steps(1) infinite;\n",
              "  }\n",
              "\n",
              "  @keyframes spin {\n",
              "    0% {\n",
              "      border-color: transparent;\n",
              "      border-bottom-color: var(--fill-color);\n",
              "      border-left-color: var(--fill-color);\n",
              "    }\n",
              "    20% {\n",
              "      border-color: transparent;\n",
              "      border-left-color: var(--fill-color);\n",
              "      border-top-color: var(--fill-color);\n",
              "    }\n",
              "    30% {\n",
              "      border-color: transparent;\n",
              "      border-left-color: var(--fill-color);\n",
              "      border-top-color: var(--fill-color);\n",
              "      border-right-color: var(--fill-color);\n",
              "    }\n",
              "    40% {\n",
              "      border-color: transparent;\n",
              "      border-right-color: var(--fill-color);\n",
              "      border-top-color: var(--fill-color);\n",
              "    }\n",
              "    60% {\n",
              "      border-color: transparent;\n",
              "      border-right-color: var(--fill-color);\n",
              "    }\n",
              "    80% {\n",
              "      border-color: transparent;\n",
              "      border-right-color: var(--fill-color);\n",
              "      border-bottom-color: var(--fill-color);\n",
              "    }\n",
              "    90% {\n",
              "      border-color: transparent;\n",
              "      border-bottom-color: var(--fill-color);\n",
              "    }\n",
              "  }\n",
              "</style>\n",
              "\n",
              "      <script>\n",
              "        async function quickchart(key) {\n",
              "          const quickchartButtonEl =\n",
              "            document.querySelector('#' + key + ' button');\n",
              "          quickchartButtonEl.disabled = true;  // To prevent multiple clicks.\n",
              "          quickchartButtonEl.classList.add('colab-df-spinner');\n",
              "          try {\n",
              "            const charts = await google.colab.kernel.invokeFunction(\n",
              "                'suggestCharts', [key], {});\n",
              "          } catch (error) {\n",
              "            console.error('Error during call to suggestCharts:', error);\n",
              "          }\n",
              "          quickchartButtonEl.classList.remove('colab-df-spinner');\n",
              "          quickchartButtonEl.classList.add('colab-df-quickchart-complete');\n",
              "        }\n",
              "        (() => {\n",
              "          let quickchartButtonEl =\n",
              "            document.querySelector('#df-45e99ea5-6cbf-4768-8079-253058044db3 button');\n",
              "          quickchartButtonEl.style.display =\n",
              "            google.colab.kernel.accessAllowed ? 'block' : 'none';\n",
              "        })();\n",
              "      </script>\n",
              "    </div>\n",
              "\n",
              "    </div>\n",
              "  </div>\n"
            ],
            "application/vnd.google.colaboratory.intrinsic+json": {
              "type": "dataframe",
              "variable_name": "df"
            }
          },
          "metadata": {},
          "execution_count": 3
        }
      ]
    },
    {
      "cell_type": "markdown",
      "source": [
        "## Creating config for each dataset"
      ],
      "metadata": {
        "id": "EO7EJUZKeH0Y"
      }
    },
    {
      "cell_type": "code",
      "source": [
        "config_pakdd = {\n",
        "    \"dataset_name\": \"PAKDD2010_Modelling_Data\",\n",
        "\n",
        "    # Columns\n",
        "    \"id_column\": \"ID_CLIENT\",\n",
        "    \"target_column\": \"TARGET_LABEL_BAD\",\n",
        "\n",
        "    # Feature lists\n",
        "    \"numerical_features\": [\n",
        "        \"AGE\", \"INCOME\", \"QUANT_CARS\", \"QUANT_BANKING_ACCOUNTS\",\n",
        "        \"LOAN_AMOUNT\", \"QUANT_DEPENDANTS\", \"EXPENSES\"\n",
        "    ],\n",
        "    \"categorical_features\": [\n",
        "        \"GENDER\", \"MARITAL_STATUS\", \"EDUCATION\", \"OCCUPATION\"\n",
        "    ],\n",
        "\n",
        "    # Preprocessing strategies\n",
        "    \"num_impute_strategy\": \"median\",\n",
        "    \"cat_impute_strategy\": \"most_frequent\",\n",
        "\n",
        "    # Optional drops\n",
        "    \"drop_high_missing\": { \"enabled\": True, \"threshold\": 0.4 },\n",
        "    \"drop_single_unique\": True,\n",
        "    \"drop_id_column\": True,\n",
        "    \"drop_dominant_columns\": { \"enabled\": True, \"threshold\": 0.99 },\n",
        "    \"drop_high_correlation\": { \"enabled\": True, \"threshold\": 0.8 },\n",
        "    \"drop_high_cramersv\": { \"enabled\": True, \"threshold\": 1.0 },\n",
        "\n",
        "    # Outlier handling\n",
        "    \"cap_outliers\": {\n",
        "        \"enabled\": True,\n",
        "        \"strategy\": \"cap\",       # or \"median\"\n",
        "        \"upper_percentile\": 0.99,\n",
        "        \"lower_percentile\": 0.01\n",
        "    },\n",
        "\n",
        "    # Encoding\n",
        "    \"encoding\": {\n",
        "        \"low_cardinality_strategy\": \"onehot\",         # \"onehot\", \"ordinal\"\n",
        "        \"high_cardinality_strategy\": \"target\",        # \"target\", \"hash\", \"leave_one_out\"\n",
        "        \"high_cardinality_threshold\": 10\n",
        "    },\n",
        "\n",
        "    # Scaling\n",
        "    \"scaling\": {\n",
        "        \"strategy\": \"standard\",   # \"minmax\", \"robust\", \"none\"\n",
        "        \"columns\": []             # empty = scale all numeric\n",
        "    },\n",
        "\n",
        "    # Train-test split\n",
        "    \"split\": {\n",
        "        \"test_size\": 0.2,\n",
        "        \"random_state\": 42,\n",
        "        \"stratify\": True\n",
        "    },\n",
        "\n",
        "    # Feature selection\n",
        "    \"feature_selection\": {\n",
        "        \"method\": \"model_top_n\",            # \"variance\", \"mutual_info\", \"model_top_n\", \"rfe\", \"rfecv\", \"none\"\n",
        "        \"top_n\": 40,\n",
        "        \"threshold\": 0.01,\n",
        "        \"model_type\": \"XGB\",\n",
        "        \"scoring\": \"roc_auc\"\n",
        "    },\n",
        "\n",
        "    # Model & hyperparameters\n",
        "    \"task\": \"classification\",  # or \"regression\"\n",
        "    \"model\": {\n",
        "        \"type\": \"XGB\"          # \"RandomForest\", \"XGB\", \"LogisticRegression\", \"LinearRegression\"\n",
        "    },\n",
        "    \"hyperparameters\": {\n",
        "        \"RandomForest\": {\n",
        "            \"n_estimators\": 150,\n",
        "            \"max_depth\": 8,\n",
        "            \"class_weight\": \"balanced\",\n",
        "            \"random_state\": 42\n",
        "        },\n",
        "        \"XGB\": {\n",
        "            \"n_estimators\": 100,\n",
        "            \"max_depth\": 6,\n",
        "            \"learning_rate\": 0.1,\n",
        "            \"random_state\": 42,\n",
        "            \"use_label_encoder\": False,\n",
        "            \"eval_metric\": \"logloss\"\n",
        "        },\n",
        "        \"LogisticRegression\": {\n",
        "            \"max_iter\": 1000,\n",
        "            \"class_weight\": \"balanced\",\n",
        "            \"random_state\": 42\n",
        "        },\n",
        "        \"LinearRegression\": {}\n",
        "    },\n",
        "\n",
        "    # Cross-validation\n",
        "    \"cross_validation\": {\n",
        "        \"enabled\": True,\n",
        "        \"type\": \"stratifiedkfold\",    # \"kfold\", \"stratifiedkfold\", \"shuffle split\"\n",
        "        \"n_splits\": 5,\n",
        "        \"random_state\": 42,\n",
        "        \"scoring\": \"roc_auc\"\n",
        "    },\n",
        "\n",
        "    # Fairness & bias mitigation\n",
        "    \"fairness\": {\n",
        "        \"enabled\": True,\n",
        "        \"sensitive_features\": [\"SEX\", \"STATE_OF_BIRTH\", \"AGE\", \"RESIDENCIAL_BOROUGH\"],\n",
        "        \"mitigation\": {\n",
        "            \"enabled\": True,\n",
        "            \"method\": \"threshold_optimizer\",    # \"threshold_optimizer\" or \"reweighing\" or \"none\"\n",
        "            \"constraints\": \"demographic_parity\" # or \"equalized_odds\"\n",
        "        }\n",
        "    },\n",
        "\n",
        "    \"tuning\": {\n",
        "        \"enabled\": True,\n",
        "        \"method\": \"random_search\",         # \"random_search\" or \"grid_search\"\n",
        "        \"cv\": 5,\n",
        "        \"n_iter\": 10,                      # only for random_search\n",
        "        \"scoring\": \"roc_auc\",\n",
        "        \"search_space\": {\n",
        "            \"RandomForest\": {\n",
        "                \"n_estimators\": [100, 200, 300],\n",
        "                \"max_depth\": [4, 6, 8, None]\n",
        "            },\n",
        "            \"XGB\": {\n",
        "                \"n_estimators\": [50, 100, 200],\n",
        "                \"learning_rate\": [0.01, 0.1, 0.2]\n",
        "            },\n",
        "            \"LogisticRegression\": {\n",
        "                \"C\": [0.01, 0.1, 1.0, 10.0]\n",
        "            }\n",
        "        }\n",
        "    }\n",
        "}\n",
        "\n",
        "\n"
      ],
      "metadata": {
        "id": "EHrsHuBpeL2I"
      },
      "execution_count": null,
      "outputs": []
    },
    {
      "cell_type": "markdown",
      "source": [
        "## Dropping columns"
      ],
      "metadata": {
        "id": "22hOwN2YYxIy"
      }
    },
    {
      "cell_type": "markdown",
      "source": [
        "### 1. Dropping columns having more % missing values than a threshold."
      ],
      "metadata": {
        "id": "AWznA8K4ZYTJ"
      }
    },
    {
      "cell_type": "code",
      "execution_count": null,
      "metadata": {
        "id": "ada74XGaYQyk"
      },
      "outputs": [],
      "source": [
        "def drop_high_missing_columns(df, config=None):\n",
        "    \"\"\"\n",
        "    Drops columns with missing values above a threshold if enabled in config.\n",
        "\n",
        "    Parameters:\n",
        "        df (pd.DataFrame): Input DataFrame.\n",
        "        config (dict, optional): Config with keys:\n",
        "            - 'enabled': Boolean to control execution\n",
        "            - 'threshold': Float for missing value threshold (e.g., 0.4)\n",
        "\n",
        "    Returns:\n",
        "        pd.DataFrame: Cleaned DataFrame\n",
        "    \"\"\"\n",
        "    # Default behavior\n",
        "    if config is None or not config.get(\"enabled\", False):\n",
        "        print(\"Skipping drop_high_missing_columns (disabled in config).\")\n",
        "        return df\n",
        "\n",
        "    threshold = config.get(\"threshold\", 0.5)\n",
        "\n",
        "    missing_ratio = df.isnull().mean()\n",
        "    cols_to_drop = missing_ratio[missing_ratio > threshold].index\n",
        "\n",
        "    if cols_to_drop.any():\n",
        "        print(f\"Dropping columns with > {threshold*100}% missing values: {list(cols_to_drop)}\")\n",
        "    else:\n",
        "        print(\"No columns exceeded missing threshold.\")\n",
        "\n",
        "    return df.drop(columns=cols_to_drop)\n"
      ]
    },
    {
      "cell_type": "code",
      "source": [
        "df1=drop_high_missing_columns(df, config_pakdd[\"drop_high_missing\"])\n",
        "df1.shape"
      ],
      "metadata": {
        "colab": {
          "base_uri": "https://localhost:8080/"
        },
        "id": "YwptUEGwZIJZ",
        "outputId": "19dbcf53-b02a-4f25-9b86-f3ec95477244"
      },
      "execution_count": null,
      "outputs": [
        {
          "output_type": "stream",
          "name": "stdout",
          "text": [
            "Dropping columns with > 40.0% missing values: ['PROFESSIONAL_CITY', 'PROFESSIONAL_BOROUGH', 'MATE_PROFESSION_CODE', 'MATE_EDUCATION_LEVEL']\n"
          ]
        },
        {
          "output_type": "execute_result",
          "data": {
            "text/plain": [
              "(50000, 50)"
            ]
          },
          "metadata": {},
          "execution_count": 6
        }
      ]
    },
    {
      "cell_type": "markdown",
      "source": [
        "### 2. Dropping columns having no variance"
      ],
      "metadata": {
        "id": "l0jrUB04ZpjZ"
      }
    },
    {
      "cell_type": "code",
      "source": [
        "def drop_single_unique_columns(df, enabled=True):\n",
        "    \"\"\"\n",
        "    Drops columns that have only one unique value if enabled is True.\n",
        "    \"\"\"\n",
        "    if not enabled:\n",
        "        print(\"Skipping drop_single_unique_columns (disabled).\")\n",
        "        return df\n",
        "\n",
        "    unique_counts = df.nunique(dropna=True)\n",
        "    cols_to_drop = unique_counts[unique_counts <= 1].index\n",
        "\n",
        "    if len(cols_to_drop) > 0:\n",
        "        print(f\"Dropping columns with only one unique value: {list(cols_to_drop)}\")\n",
        "        df = df.drop(columns=cols_to_drop)\n",
        "    else:\n",
        "        print(\"No single-unique-value columns found.\")\n",
        "\n",
        "    return df\n"
      ],
      "metadata": {
        "id": "tab9VCVBZudh"
      },
      "execution_count": null,
      "outputs": []
    },
    {
      "cell_type": "code",
      "source": [
        "df2=drop_single_unique_columns(df1,config_pakdd[\"drop_single_unique\"])\n",
        "df2.shape"
      ],
      "metadata": {
        "colab": {
          "base_uri": "https://localhost:8080/"
        },
        "id": "RNMy9bJlZv0C",
        "outputId": "3ff2f3e0-6b7d-4218-f5fb-e460c42a911d"
      },
      "execution_count": null,
      "outputs": [
        {
          "output_type": "stream",
          "name": "stdout",
          "text": [
            "Dropping columns with only one unique value: ['CLERK_TYPE', 'QUANT_ADDITIONAL_CARDS', 'EDUCATION_LEVEL', 'FLAG_MOBILE_PHONE', 'FLAG_HOME_ADDRESS_DOCUMENT', 'FLAG_RG', 'FLAG_CPF', 'FLAG_INCOME_PROOF', 'FLAG_ACSP_RECORD']\n"
          ]
        },
        {
          "output_type": "execute_result",
          "data": {
            "text/plain": [
              "(50000, 41)"
            ]
          },
          "metadata": {},
          "execution_count": 8
        }
      ]
    },
    {
      "cell_type": "markdown",
      "source": [
        "### 3. Drop ID column"
      ],
      "metadata": {
        "id": "moR8fzJ1aKgQ"
      }
    },
    {
      "cell_type": "code",
      "source": [
        "def drop_id_column_from_config(df, config):\n",
        "    \"\"\"\n",
        "    Drops the ID column specified in the config dictionary.\n",
        "    If no ID column is set or it's missing from the DataFrame, returns unchanged.\n",
        "    \"\"\"\n",
        "    id_col = config.get(\"id_column\")\n",
        "    if id_col and id_col in df.columns:\n",
        "        print(f\"Dropping ID column: {id_col}\")\n",
        "        return df.drop(columns=[id_col])\n",
        "    else:\n",
        "        print(\"No ID column to drop or column not found.\")\n",
        "        return df\n"
      ],
      "metadata": {
        "id": "216A3jsnaOWx"
      },
      "execution_count": null,
      "outputs": []
    },
    {
      "cell_type": "code",
      "source": [
        "df3=drop_id_column_from_config(df2,config_pakdd)\n",
        "df3.shape"
      ],
      "metadata": {
        "colab": {
          "base_uri": "https://localhost:8080/"
        },
        "id": "xwYE2sBcaPV5",
        "outputId": "d9717456-07ec-456d-a411-e821c2a249c8"
      },
      "execution_count": null,
      "outputs": [
        {
          "output_type": "stream",
          "name": "stdout",
          "text": [
            "Dropping ID column: ID_CLIENT\n"
          ]
        },
        {
          "output_type": "execute_result",
          "data": {
            "text/plain": [
              "(50000, 40)"
            ]
          },
          "metadata": {},
          "execution_count": 10
        }
      ]
    },
    {
      "cell_type": "markdown",
      "source": [
        "### 4. Dropping Columns with less than 1% variation"
      ],
      "metadata": {
        "id": "RtjVq4aMm_Qe"
      }
    },
    {
      "cell_type": "code",
      "source": [
        "def drop_highly_dominant_columns_from_config(df, config=None):\n",
        "    \"\"\"\n",
        "    Drops columns where a single value dominates more than threshold proportion of the data,\n",
        "    based on settings from the config.\n",
        "\n",
        "    Config format:\n",
        "    \"drop_dominant_columns\": {\n",
        "        \"enabled\": True,\n",
        "        \"threshold\": 0.99\n",
        "    }\n",
        "\n",
        "    Parameters:\n",
        "        df (pd.DataFrame): Input DataFrame\n",
        "        config (dict): Configuration dictionary\n",
        "\n",
        "    Returns:\n",
        "        pd.DataFrame: Modified DataFrame with dominant columns dropped\n",
        "    \"\"\"\n",
        "    # Config check\n",
        "    if config is None or not config.get(\"enabled\", False):\n",
        "        print(\"Skipping drop_highly_dominant_columns (disabled in config).\")\n",
        "        return df\n",
        "\n",
        "    # Use threshold from config or default\n",
        "    threshold = config.get(\"threshold\", 0.99)\n",
        "    cols_to_drop = []\n",
        "\n",
        "    for col in df.columns:\n",
        "        if df[col].dropna().empty:\n",
        "            continue  # skip if column is all NaN\n",
        "        top_freq = df[col].value_counts(normalize=True, dropna=True).values[0]\n",
        "        if top_freq > threshold:\n",
        "            cols_to_drop.append(col)\n",
        "\n",
        "    if cols_to_drop:\n",
        "        print(f\"Dropping columns with > {threshold*100:.0f}% values in one category: {cols_to_drop}\")\n",
        "        df = df.drop(columns=cols_to_drop)\n",
        "    else:\n",
        "        print(f\"No columns found with > {threshold*100:.0f}% dominance.\")\n",
        "\n",
        "    return df\n"
      ],
      "metadata": {
        "id": "omOb-ZK5nFaw"
      },
      "execution_count": null,
      "outputs": []
    },
    {
      "cell_type": "code",
      "source": [
        "df4 = drop_highly_dominant_columns_from_config(df3, config_pakdd.get(\"drop_dominant_columns\"))\n",
        "df4.shape"
      ],
      "metadata": {
        "colab": {
          "base_uri": "https://localhost:8080/"
        },
        "id": "NYOktzY8nI2l",
        "outputId": "59deb348-bfb7-4110-fffe-438304a80fdf"
      },
      "execution_count": null,
      "outputs": [
        {
          "output_type": "stream",
          "name": "stdout",
          "text": [
            "Dropping columns with > 99% values in one category: ['POSTAL_ADDRESS_TYPE', 'FLAG_DINERS', 'FLAG_AMERICAN_EXPRESS', 'FLAG_OTHER_CARDS', 'MONTHS_IN_THE_JOB']\n"
          ]
        },
        {
          "output_type": "execute_result",
          "data": {
            "text/plain": [
              "(50000, 35)"
            ]
          },
          "metadata": {},
          "execution_count": 12
        }
      ]
    },
    {
      "cell_type": "markdown",
      "source": [
        "## Separation of numerical and categorical features and updating the config"
      ],
      "metadata": {
        "id": "PrurdJ9Kqisd"
      }
    },
    {
      "cell_type": "markdown",
      "source": [
        "**1. Separating only on the basis of datatypes**"
      ],
      "metadata": {
        "id": "SXke9r-tKzLN"
      }
    },
    {
      "cell_type": "code",
      "source": [
        "def update_config_with_feature_types(df, config):\n",
        "    \"\"\"\n",
        "    Automatically detects and updates numerical and categorical features in the config\n",
        "    based on simple dtype rules:\n",
        "      - int64 and float64 → numerical\n",
        "      - everything else → categorical\n",
        "    Excludes ID and target columns.\n",
        "    \"\"\"\n",
        "    exclude = [config.get(\"id_column\"), config.get(\"target_column\")]\n",
        "\n",
        "    numerical_df = df.select_dtypes(include=[\"int64\", \"float64\"])\n",
        "    categorical_df = df.select_dtypes(exclude=[\"int64\", \"float64\"])\n",
        "\n",
        "    config[\"numerical_features\"] = [col for col in numerical_df.columns if col not in exclude]\n",
        "    config[\"categorical_features\"] = [col for col in categorical_df.columns if col not in exclude]\n",
        "\n",
        "    print(\"Updated config with inferred features:\")\n",
        "    print(\"Numerical:\", config[\"numerical_features\"])\n",
        "    print(\"Categorical:\", config[\"categorical_features\"])\n",
        "\n",
        "    return config\n"
      ],
      "metadata": {
        "id": "WV91tWQIq5f0"
      },
      "execution_count": null,
      "outputs": []
    },
    {
      "cell_type": "code",
      "source": [
        "config_pakdd= update_config_with_feature_types(df4, config_pakdd)\n",
        "config_pakdd"
      ],
      "metadata": {
        "colab": {
          "base_uri": "https://localhost:8080/"
        },
        "id": "jsAlC2jsO0XW",
        "outputId": "c2e180cb-5882-483d-b46d-2182a056d63d"
      },
      "execution_count": null,
      "outputs": [
        {
          "output_type": "stream",
          "name": "stdout",
          "text": [
            "Updated config with inferred features:\n",
            "Numerical: ['PAYMENT_DAY', 'MARITAL_STATUS', 'QUANT_DEPENDANTS', 'NACIONALITY', 'RESIDENCE_TYPE', 'MONTHS_IN_RESIDENCE', 'FLAG_EMAIL', 'PERSONAL_MONTHLY_INCOME', 'OTHER_INCOMES', 'FLAG_VISA', 'FLAG_MASTERCARD', 'QUANT_BANKING_ACCOUNTS', 'QUANT_SPECIAL_BANKING_ACCOUNTS', 'PERSONAL_ASSETS_VALUE', 'QUANT_CARS', 'PROFESSION_CODE', 'OCCUPATION_TYPE', 'PRODUCT', 'AGE']\n",
            "Categorical: ['APPLICATION_SUBMISSION_TYPE', 'SEX', 'STATE_OF_BIRTH', 'CITY_OF_BIRTH', 'RESIDENCIAL_STATE', 'RESIDENCIAL_CITY', 'RESIDENCIAL_BOROUGH', 'FLAG_RESIDENCIAL_PHONE', 'RESIDENCIAL_PHONE_AREA_CODE', 'COMPANY', 'PROFESSIONAL_STATE', 'FLAG_PROFESSIONAL_PHONE', 'PROFESSIONAL_PHONE_AREA_CODE', 'RESIDENCIAL_ZIP_3', 'PROFESSIONAL_ZIP_3']\n"
          ]
        },
        {
          "output_type": "execute_result",
          "data": {
            "text/plain": [
              "{'dataset_name': 'PAKDD2010_Modelling_Data',\n",
              " 'id_column': 'ID_CLIENT',\n",
              " 'target_column': 'TARGET_LABEL_BAD',\n",
              " 'sensitive_features': ['GENDER', 'AGE'],\n",
              " 'numerical_features': ['PAYMENT_DAY',\n",
              "  'MARITAL_STATUS',\n",
              "  'QUANT_DEPENDANTS',\n",
              "  'NACIONALITY',\n",
              "  'RESIDENCE_TYPE',\n",
              "  'MONTHS_IN_RESIDENCE',\n",
              "  'FLAG_EMAIL',\n",
              "  'PERSONAL_MONTHLY_INCOME',\n",
              "  'OTHER_INCOMES',\n",
              "  'FLAG_VISA',\n",
              "  'FLAG_MASTERCARD',\n",
              "  'QUANT_BANKING_ACCOUNTS',\n",
              "  'QUANT_SPECIAL_BANKING_ACCOUNTS',\n",
              "  'PERSONAL_ASSETS_VALUE',\n",
              "  'QUANT_CARS',\n",
              "  'PROFESSION_CODE',\n",
              "  'OCCUPATION_TYPE',\n",
              "  'PRODUCT',\n",
              "  'AGE'],\n",
              " 'categorical_features': ['APPLICATION_SUBMISSION_TYPE',\n",
              "  'SEX',\n",
              "  'STATE_OF_BIRTH',\n",
              "  'CITY_OF_BIRTH',\n",
              "  'RESIDENCIAL_STATE',\n",
              "  'RESIDENCIAL_CITY',\n",
              "  'RESIDENCIAL_BOROUGH',\n",
              "  'FLAG_RESIDENCIAL_PHONE',\n",
              "  'RESIDENCIAL_PHONE_AREA_CODE',\n",
              "  'COMPANY',\n",
              "  'PROFESSIONAL_STATE',\n",
              "  'FLAG_PROFESSIONAL_PHONE',\n",
              "  'PROFESSIONAL_PHONE_AREA_CODE',\n",
              "  'RESIDENCIAL_ZIP_3',\n",
              "  'PROFESSIONAL_ZIP_3'],\n",
              " 'num_impute_strategy': 'median',\n",
              " 'cat_impute_strategy': 'most_frequent',\n",
              " 'drop_high_missing': {'enabled': True, 'threshold': 0.4},\n",
              " 'drop_single_unique': True,\n",
              " 'drop_id_column': True,\n",
              " 'drop_dominant_columns': {'enabled': True, 'threshold': 0.99},\n",
              " 'drop_high_correlation': {'enabled': True, 'threshold': 0.8},\n",
              " 'drop_high_cramersv': {'enabled': True, 'threshold': 1.0},\n",
              " 'cap_outliers': {'enabled': True,\n",
              "  'strategy': 'cap',\n",
              "  'upper_percentile': 0.99,\n",
              "  'lower_percentile': 0.01},\n",
              " 'encoding': {'low_cardinality_strategy': 'onehot',\n",
              "  'high_cardinality_strategy': 'target',\n",
              "  'high_cardinality_threshold': 10},\n",
              " 'scaling_strategy': 'standard',\n",
              " 'split': {'test_size': 0.2, 'random_state': 42, 'stratify': True}}"
            ]
          },
          "metadata": {},
          "execution_count": 14
        }
      ]
    },
    {
      "cell_type": "markdown",
      "source": [
        "**2. Separating based on datatypes and cardinality(Better approach inspired by dataprep)**"
      ],
      "metadata": {
        "id": "PGBCGc6GLElX"
      }
    },
    {
      "cell_type": "code",
      "source": [
        "'''def update_config_with_dataprep_style_features(df, config,\n",
        "                                               categorical_threshold=0.05,\n",
        "                                               unique_absolute_threshold=20):\n",
        "    \"\"\"\n",
        "    Dataprep-style feature classification:\n",
        "    - All object, category, and bool columns are categorical\n",
        "    - Numeric columns with high uniqueness are numerical\n",
        "    - Numeric columns with low uniqueness are treated as categorical\n",
        "\n",
        "    Returns updated config and a summary of feature types.\n",
        "    \"\"\"\n",
        "    exclude = [config.get(\"id_column\"), config.get(\"target_column\")]\n",
        "    numerical_features = []\n",
        "    categorical_features = []\n",
        "\n",
        "    for col in df.columns:\n",
        "        if col in exclude:\n",
        "            continue\n",
        "\n",
        "        col_dtype = df[col].dtype\n",
        "        nunique = df[col].nunique(dropna=True)\n",
        "        unique_ratio = nunique / len(df)\n",
        "\n",
        "        # Categorical by dtype\n",
        "        if pd.api.types.is_object_dtype(col_dtype) or \\\n",
        "           pd.api.types.is_categorical_dtype(col_dtype) or \\\n",
        "           pd.api.types.is_bool_dtype(col_dtype):\n",
        "            categorical_features.append(col)\n",
        "\n",
        "        # Numeric handling\n",
        "        elif pd.api.types.is_numeric_dtype(col_dtype):\n",
        "            if unique_ratio > categorical_threshold or nunique > unique_absolute_threshold:\n",
        "                numerical_features.append(col)\n",
        "            else:\n",
        "                categorical_features.append(col)\n",
        "\n",
        "        # Skip datetime and unknowns\n",
        "        else:\n",
        "            continue\n",
        "\n",
        "    # Update config\n",
        "    config[\"numerical_features\"] = numerical_features\n",
        "    config[\"categorical_features\"] = categorical_features\n",
        "\n",
        "    # Create and return summary\n",
        "    feature_summary = {\n",
        "        \"num_numerical\": len(numerical_features),\n",
        "        \"numerical_columns\": numerical_features,\n",
        "        \"num_categorical\": len(categorical_features),\n",
        "        \"categorical_columns\": categorical_features\n",
        "    }\n",
        "\n",
        "    print(\"✅ Dataprep-style feature classification complete.\")\n",
        "    print(f\"Numerical ({feature_summary['num_numerical']}): {numerical_features}\")\n",
        "    print(f\"Categorical ({feature_summary['num_categorical']}): {categorical_features}\")\n",
        "\n",
        "    return feature_summary\n",
        "'''"
      ],
      "metadata": {
        "colab": {
          "base_uri": "https://localhost:8080/",
          "height": 140
        },
        "id": "J4G2oGbqE0gg",
        "outputId": "63a633df-487f-4c8a-ea2d-a9e33789ded1"
      },
      "execution_count": null,
      "outputs": [
        {
          "output_type": "execute_result",
          "data": {
            "text/plain": [
              "'def update_config_with_dataprep_style_features(df, config,\\n                                               categorical_threshold=0.05,\\n                                               unique_absolute_threshold=20):\\n    \"\"\"\\n    Dataprep-style feature classification:\\n    - All object, category, and bool columns are categorical\\n    - Numeric columns with high uniqueness are numerical\\n    - Numeric columns with low uniqueness are treated as categorical\\n\\n    Returns updated config and a summary of feature types.\\n    \"\"\"\\n    exclude = [config.get(\"id_column\"), config.get(\"target_column\")]\\n    numerical_features = []\\n    categorical_features = []\\n\\n    for col in df.columns:\\n        if col in exclude:\\n            continue\\n\\n        col_dtype = df[col].dtype\\n        nunique = df[col].nunique(dropna=True)\\n        unique_ratio = nunique / len(df)\\n\\n        # Categorical by dtype\\n        if pd.api.types.is_object_dtype(col_dtype) or            pd.api.types.is_categorical_dtype(col_dtype) or            pd.api.types.is_bool_dtype(col_dtype):\\n            categorical_features.append(col)\\n\\n        # Numeric handling\\n        elif pd.api.types.is_numeric_dtype(col_dtype):\\n            if unique_ratio > categorical_threshold or nunique > unique_absolute_threshold:\\n                numerical_features.append(col)\\n            else:\\n                categorical_features.append(col)\\n\\n        # Skip datetime and unknowns\\n        else:\\n            continue\\n\\n    # Update config\\n    config[\"numerical_features\"] = numerical_features\\n    config[\"categorical_features\"] = categorical_features\\n\\n    # Create and return summary\\n    feature_summary = {\\n        \"num_numerical\": len(numerical_features),\\n        \"numerical_columns\": numerical_features,\\n        \"num_categorical\": len(categorical_features),\\n        \"categorical_columns\": categorical_features\\n    }\\n\\n    print(\"✅ Dataprep-style feature classification complete.\")\\n    print(f\"Numerical ({feature_summary[\\'num_numerical\\']}): {numerical_features}\")\\n    print(f\"Categorical ({feature_summary[\\'num_categorical\\']}): {categorical_features}\")\\n\\n    return feature_summary\\n'"
            ],
            "application/vnd.google.colaboratory.intrinsic+json": {
              "type": "string"
            }
          },
          "metadata": {},
          "execution_count": 15
        }
      ]
    },
    {
      "cell_type": "code",
      "source": [
        "'''config_pakdd = update_config_with_feature_types(df4, config_pakdd)'''"
      ],
      "metadata": {
        "colab": {
          "base_uri": "https://localhost:8080/",
          "height": 36
        },
        "id": "8Pwm2TeIq7I8",
        "outputId": "c5de849b-c53b-4991-ecf9-d5325c177ba7"
      },
      "execution_count": null,
      "outputs": [
        {
          "output_type": "execute_result",
          "data": {
            "text/plain": [
              "'config_pakdd = update_config_with_feature_types(df4, config_pakdd)'"
            ],
            "application/vnd.google.colaboratory.intrinsic+json": {
              "type": "string"
            }
          },
          "metadata": {},
          "execution_count": 16
        }
      ]
    },
    {
      "cell_type": "code",
      "source": [
        "'''summary = update_config_with_dataprep_style_features(df4, config_pakdd)'''"
      ],
      "metadata": {
        "colab": {
          "base_uri": "https://localhost:8080/",
          "height": 36
        },
        "id": "8R-bcD5kEN0g",
        "outputId": "fdf94b3a-e843-4219-e560-68dbda8a14a1"
      },
      "execution_count": null,
      "outputs": [
        {
          "output_type": "execute_result",
          "data": {
            "text/plain": [
              "'summary = update_config_with_dataprep_style_features(df4, config_pakdd)'"
            ],
            "application/vnd.google.colaboratory.intrinsic+json": {
              "type": "string"
            }
          },
          "metadata": {},
          "execution_count": 17
        }
      ]
    },
    {
      "cell_type": "markdown",
      "source": [
        "**3. Final Scalable Strategy: Smart Inference + Optional Manual Fixes**\n",
        "\n",
        "**Default Classification Logic Use:**\n",
        "\n",
        "**Dtype (object, bool, category) → categorical**\n",
        "\n",
        "**Numeric columns →**\n",
        "\n",
        "If high uniqueness → numerical\n",
        "\n",
        "If low uniqueness but no ordinal meaning → categorical\n",
        "\n",
        "If low uniqueness but shows correlation with other numeric vars → likely numerical\n",
        "\n"
      ],
      "metadata": {
        "id": "12dIqlcGBpGG"
      }
    },
    {
      "cell_type": "code",
      "source": [
        "'''def smart_classify_features(df, config,\n",
        "                            threshold=0.05,\n",
        "                            unique_absolute_threshold=20):\n",
        "    \"\"\"\n",
        "    Automatically classifies numerical and categorical features with:\n",
        "    - Dataprep-style logic\n",
        "    - Manual override support from config\n",
        "    - Warning for potentially misclassified numeric columns\n",
        "\n",
        "    Updates config in-place with:\n",
        "    - \"numerical_features\"\n",
        "    - \"categorical_features\"\n",
        "\n",
        "    Returns:\n",
        "    - updated config\n",
        "    - classification summary\n",
        "    \"\"\"\n",
        "    exclude = [config.get(\"id_column\"), config.get(\"target_column\")]\n",
        "    force_numerical = config.get(\"force_numerical\", [])\n",
        "    force_categorical = config.get(\"force_categorical\", [])\n",
        "\n",
        "    numerical_features = []\n",
        "    categorical_features = []\n",
        "    warning_features = []\n",
        "\n",
        "    for col in df.columns:\n",
        "        if col in exclude:\n",
        "            continue\n",
        "\n",
        "        col_dtype = df[col].dtype\n",
        "        nunique = df[col].nunique(dropna=True)\n",
        "        unique_ratio = nunique / len(df)\n",
        "\n",
        "        # Priority 1: Manual overrides\n",
        "        if col in force_categorical:\n",
        "            categorical_features.append(col)\n",
        "            continue\n",
        "        elif col in force_numerical:\n",
        "            numerical_features.append(col)\n",
        "            continue\n",
        "\n",
        "        # Priority 2: Dataprep-like logic\n",
        "        if pd.api.types.is_object_dtype(col_dtype) or \\\n",
        "           pd.api.types.is_categorical_dtype(col_dtype) or \\\n",
        "           pd.api.types.is_bool_dtype(col_dtype):\n",
        "            categorical_features.append(col)\n",
        "        elif pd.api.types.is_numeric_dtype(col_dtype):\n",
        "            if unique_ratio > threshold or nunique > unique_absolute_threshold:\n",
        "                numerical_features.append(col)\n",
        "            else:\n",
        "                # Potentially numerical, but low uniqueness\n",
        "                categorical_features.append(col)\n",
        "                warning_features.append(col)\n",
        "        else:\n",
        "            # Ignore unknown types\n",
        "            continue\n",
        "\n",
        "    # Update config\n",
        "    config[\"numerical_features\"] = numerical_features\n",
        "    config[\"categorical_features\"] = categorical_features\n",
        "\n",
        "    # Summary\n",
        "    summary = {\n",
        "        \"num_numerical\": len(numerical_features),\n",
        "        \"numerical_columns\": numerical_features,\n",
        "        \"num_categorical\": len(categorical_features),\n",
        "        \"categorical_columns\": categorical_features,\n",
        "        \"warned_features\": warning_features\n",
        "    }\n",
        "\n",
        "    print(\"✅ Feature classification complete.\")\n",
        "    print(f\"Numerical ({summary['num_numerical']}): {numerical_features}\")\n",
        "    print(f\"Categorical ({summary['num_categorical']}): {categorical_features}\")\n",
        "\n",
        "    if warning_features:\n",
        "        print(\"\\n⚠️ WARNING: The following numeric-looking features were classified as categorical due to low uniqueness.\")\n",
        "        print(\"   Please review if they carry ordinal or numerical meaning:\")\n",
        "        print(\"   ➤\", warning_features)\n",
        "\n",
        "    return config, summary\n",
        "'''"
      ],
      "metadata": {
        "colab": {
          "base_uri": "https://localhost:8080/",
          "height": 157
        },
        "id": "dQpIqnPmDvIJ",
        "outputId": "17d5792a-68f0-4ad5-b56a-d2b4ce4185c9"
      },
      "execution_count": null,
      "outputs": [
        {
          "output_type": "execute_result",
          "data": {
            "text/plain": [
              "'def smart_classify_features(df, config,\\n                            threshold=0.05,\\n                            unique_absolute_threshold=20):\\n    \"\"\"\\n    Automatically classifies numerical and categorical features with:\\n    - Dataprep-style logic\\n    - Manual override support from config\\n    - Warning for potentially misclassified numeric columns\\n\\n    Updates config in-place with:\\n    - \"numerical_features\"\\n    - \"categorical_features\"\\n\\n    Returns:\\n    - updated config\\n    - classification summary\\n    \"\"\"\\n    exclude = [config.get(\"id_column\"), config.get(\"target_column\")]\\n    force_numerical = config.get(\"force_numerical\", [])\\n    force_categorical = config.get(\"force_categorical\", [])\\n\\n    numerical_features = []\\n    categorical_features = []\\n    warning_features = []\\n\\n    for col in df.columns:\\n        if col in exclude:\\n            continue\\n\\n        col_dtype = df[col].dtype\\n        nunique = df[col].nunique(dropna=True)\\n        unique_ratio = nunique / len(df)\\n\\n        # Priority 1: Manual overrides\\n        if col in force_categorical:\\n            categorical_features.append(col)\\n            continue\\n        elif col in force_numerical:\\n            numerical_features.append(col)\\n            continue\\n\\n        # Priority 2: Dataprep-like logic\\n        if pd.api.types.is_object_dtype(col_dtype) or            pd.api.types.is_categorical_dtype(col_dtype) or            pd.api.types.is_bool_dtype(col_dtype):\\n            categorical_features.append(col)\\n        elif pd.api.types.is_numeric_dtype(col_dtype):\\n            if unique_ratio > threshold or nunique > unique_absolute_threshold:\\n                numerical_features.append(col)\\n            else:\\n                # Potentially numerical, but low uniqueness\\n                categorical_features.append(col)\\n                warning_features.append(col)\\n        else:\\n            # Ignore unknown types\\n            continue\\n\\n    # Update config\\n    config[\"numerical_features\"] = numerical_features\\n    config[\"categorical_features\"] = categorical_features\\n\\n    # Summary\\n    summary = {\\n        \"num_numerical\": len(numerical_features),\\n        \"numerical_columns\": numerical_features,\\n        \"num_categorical\": len(categorical_features),\\n        \"categorical_columns\": categorical_features,\\n        \"warned_features\": warning_features\\n    }\\n\\n    print(\"✅ Feature classification complete.\")\\n    print(f\"Numerical ({summary[\\'num_numerical\\']}): {numerical_features}\")\\n    print(f\"Categorical ({summary[\\'num_categorical\\']}): {categorical_features}\")\\n\\n    if warning_features:\\n        print(\"\\n⚠️ WARNING: The following numeric-looking features were classified as categorical due to low uniqueness.\")\\n        print(\"   Please review if they carry ordinal or numerical meaning:\")\\n        print(\"   ➤\", warning_features)\\n\\n    return config, summary\\n'"
            ],
            "application/vnd.google.colaboratory.intrinsic+json": {
              "type": "string"
            }
          },
          "metadata": {},
          "execution_count": 18
        }
      ]
    },
    {
      "cell_type": "code",
      "source": [
        "'''config_pakdd[\"force_numerical\"] = [\"QUANT_CARS\", \"QUANT_DEPENDANTS\"]\n",
        "config_pakdd[\"force_categorical\"] = [\"GENDER\"]\n",
        "\n",
        "config_pakdd, summary = smart_classify_features(df4, config_pakdd)\n",
        "summary'''"
      ],
      "metadata": {
        "colab": {
          "base_uri": "https://localhost:8080/",
          "height": 53
        },
        "id": "_Wb8qV5dD1GQ",
        "outputId": "40b9e784-7355-4965-d278-871bfdad7b01"
      },
      "execution_count": null,
      "outputs": [
        {
          "output_type": "execute_result",
          "data": {
            "text/plain": [
              "'config_pakdd[\"force_numerical\"] = [\"QUANT_CARS\", \"QUANT_DEPENDANTS\"]\\nconfig_pakdd[\"force_categorical\"] = [\"GENDER\"]\\n\\nconfig_pakdd, summary = smart_classify_features(df4, config_pakdd)\\nsummary'"
            ],
            "application/vnd.google.colaboratory.intrinsic+json": {
              "type": "string"
            }
          },
          "metadata": {},
          "execution_count": 19
        }
      ]
    },
    {
      "cell_type": "markdown",
      "source": [
        "### 5. Dropping numerical columns with high correlation"
      ],
      "metadata": {
        "id": "zKZx_Oo-QutP"
      }
    },
    {
      "cell_type": "code",
      "source": [
        "from statsmodels.stats.outliers_influence import variance_inflation_factor\n",
        "import numpy as np\n",
        "\n",
        "def drop_highly_correlated_numerical_features(df, config, threshold=0.8):\n",
        "    \"\"\"\n",
        "    Drops one of each pair of highly correlated numerical features (> threshold),\n",
        "    using Variance Inflation Factor (VIF) to decide which one to drop.\n",
        "\n",
        "    Config key:\n",
        "    \"drop_high_correlation\": {\n",
        "        \"enabled\": True,\n",
        "        \"threshold\": 0.9\n",
        "    }\n",
        "\n",
        "    Returns:\n",
        "        cleaned_df (DataFrame), dropped_features (list)\n",
        "    \"\"\"\n",
        "    settings = config.get(\"drop_high_correlation\", {})\n",
        "    if not settings.get(\"enabled\", False):\n",
        "        print(\"🛑 Numerical correlation drop skipped (disabled in config).\")\n",
        "        return df, []\n",
        "\n",
        "    threshold = settings.get(\"threshold\", 0.9)\n",
        "    features = config.get(\"numerical_features\", [])\n",
        "\n",
        "    df_num = df[features].dropna()\n",
        "    dropped = []\n",
        "    upper = df_num.corr().abs().where(np.triu(np.ones(df_num.corr().shape), k=1).astype(bool))\n",
        "\n",
        "    while True:\n",
        "        max_corr = upper.max().max()\n",
        "        if max_corr < threshold:\n",
        "            break\n",
        "\n",
        "        # Get pair\n",
        "        i, j = np.where(upper == max_corr)\n",
        "        f1, f2 = upper.columns[i[0]], upper.columns[j[0]]\n",
        "\n",
        "        # Compute VIF for the pair\n",
        "        X = df_num[[f1, f2]]\n",
        "        vif_f1 = variance_inflation_factor(X.values, 0)\n",
        "        vif_f2 = variance_inflation_factor(X.values, 1)\n",
        "\n",
        "        to_drop = f1 if vif_f1 >= vif_f2 else f2\n",
        "        print(f\"📉 Dropping '{to_drop}' (corr: {max_corr:.2f}, higher VIF).\")\n",
        "        features.remove(to_drop)\n",
        "        dropped.append(to_drop)\n",
        "\n",
        "        # Update matrix\n",
        "        df_num = df[features].dropna()\n",
        "        upper = df_num.corr().abs().where(np.triu(np.ones(df_num.corr().shape), k=1).astype(bool))\n",
        "\n",
        "    config[\"numerical_features\"] = features\n",
        "    return df.drop(columns=dropped), dropped\n"
      ],
      "metadata": {
        "id": "Qxo_blHpQueu"
      },
      "execution_count": null,
      "outputs": []
    },
    {
      "cell_type": "code",
      "source": [
        "df5, dropped_num = drop_highly_correlated_numerical_features(df4, config_pakdd)\n",
        "print(\"Dropped numerical:\", dropped_num)"
      ],
      "metadata": {
        "colab": {
          "base_uri": "https://localhost:8080/"
        },
        "id": "KZJuyR43RpGt",
        "outputId": "3f2ff283-1683-4b2e-b798-4478d14ab9b5"
      },
      "execution_count": null,
      "outputs": [
        {
          "output_type": "stream",
          "name": "stderr",
          "text": [
            "/usr/local/lib/python3.11/dist-packages/statsmodels/stats/outliers_influence.py:197: RuntimeWarning: divide by zero encountered in scalar divide\n",
            "  vif = 1. / (1. - r_squared_i)\n"
          ]
        },
        {
          "output_type": "stream",
          "name": "stdout",
          "text": [
            "📉 Dropping 'QUANT_BANKING_ACCOUNTS' (corr: 1.00, higher VIF).\n",
            "📉 Dropping 'QUANT_CARS' (corr: 0.87, higher VIF).\n",
            "Dropped numerical: ['QUANT_BANKING_ACCOUNTS', 'QUANT_CARS']\n"
          ]
        }
      ]
    },
    {
      "cell_type": "code",
      "source": [
        "df5.shape"
      ],
      "metadata": {
        "colab": {
          "base_uri": "https://localhost:8080/"
        },
        "id": "yfi1IUoXWmg_",
        "outputId": "de899b34-d93a-4abc-c2d1-671dd0ad93aa"
      },
      "execution_count": null,
      "outputs": [
        {
          "output_type": "execute_result",
          "data": {
            "text/plain": [
              "(50000, 33)"
            ]
          },
          "metadata": {},
          "execution_count": 22
        }
      ]
    },
    {
      "cell_type": "markdown",
      "source": [
        "### Dropping categorical columns with high association"
      ],
      "metadata": {
        "id": "LO5hOcnuWzZb"
      }
    },
    {
      "cell_type": "code",
      "source": [
        "from scipy.stats import chi2_contingency\n",
        "import pandas as pd\n",
        "import numpy as np\n",
        "\n",
        "def cramers_v(x, y):\n",
        "    table = pd.crosstab(x, y)\n",
        "    chi2 = chi2_contingency(table, correction=False)[0]\n",
        "    n = table.sum().sum()\n",
        "    phi2 = chi2 / n\n",
        "    r, k = table.shape\n",
        "    return np.sqrt(phi2 / min(k - 1, r - 1)) if min(k - 1, r - 1) > 0 else 0\n",
        "\n",
        "def drop_highly_associated_categorical_features(df, config):\n",
        "    \"\"\"\n",
        "    Drops one of each pair of highly associated categorical features using Cramér’s V,\n",
        "    based on a threshold in the config.\n",
        "\n",
        "    Config format:\n",
        "    \"drop_high_cramersv\": {\n",
        "        \"enabled\": True,\n",
        "        \"threshold\": 0.9\n",
        "    }\n",
        "    \"\"\"\n",
        "    settings = config.get(\"drop_high_cramersv\", {})\n",
        "    enabled = settings.get(\"enabled\", False)\n",
        "    threshold = settings.get(\"threshold\", 0.9)\n",
        "\n",
        "    if not enabled:\n",
        "        print(\"🛑 Skipping categorical association drop (disabled in config).\")\n",
        "        return df, []\n",
        "\n",
        "    features = config.get(\"categorical_features\", [])\n",
        "    dropped = []\n",
        "\n",
        "    for i in range(len(features)):\n",
        "        for j in range(i + 1, len(features)):\n",
        "            f1, f2 = features[i], features[j]\n",
        "            v = cramers_v(df[f1], df[f2])\n",
        "\n",
        "            if v > threshold:\n",
        "                miss1 = df[f1].isna().mean()\n",
        "                miss2 = df[f2].isna().mean()\n",
        "                uniq1 = df[f1].nunique()\n",
        "                uniq2 = df[f2].nunique()\n",
        "\n",
        "                to_drop = f1 if (miss1 > miss2 or (miss1 == miss2 and uniq1 < uniq2)) else f2\n",
        "                if to_drop not in dropped:\n",
        "                    print(f\"📉 Dropping '{to_drop}' (Cramér's V: {v:.2f} with '{f1 if to_drop==f2 else f2}').\")\n",
        "                    dropped.append(to_drop)\n",
        "\n",
        "    config[\"categorical_features\"] = [col for col in features if col not in dropped]\n",
        "    return df.drop(columns=dropped), dropped\n"
      ],
      "metadata": {
        "id": "m3SLiwReW4Lf"
      },
      "execution_count": null,
      "outputs": []
    },
    {
      "cell_type": "code",
      "source": [
        "df6, dropped_cat = drop_highly_associated_categorical_features(df5, config_pakdd)\n",
        "print(\"Dropped categorical features:\", dropped_cat)"
      ],
      "metadata": {
        "colab": {
          "base_uri": "https://localhost:8080/"
        },
        "id": "t1BopDJRW863",
        "outputId": "492f886b-fcf7-47bf-c29f-27cc6baa7850"
      },
      "execution_count": null,
      "outputs": [
        {
          "output_type": "stream",
          "name": "stdout",
          "text": [
            "Dropped categorical features: []\n"
          ]
        }
      ]
    },
    {
      "cell_type": "code",
      "source": [
        "df6.shape"
      ],
      "metadata": {
        "colab": {
          "base_uri": "https://localhost:8080/"
        },
        "id": "MutaX0fEXDQm",
        "outputId": "4fb6963d-6c02-4369-a11b-a9b82b71e2f8"
      },
      "execution_count": null,
      "outputs": [
        {
          "output_type": "execute_result",
          "data": {
            "text/plain": [
              "(50000, 33)"
            ]
          },
          "metadata": {},
          "execution_count": 25
        }
      ]
    },
    {
      "cell_type": "markdown",
      "source": [
        "## Handling missing values"
      ],
      "metadata": {
        "id": "Va9o4creZGKl"
      }
    },
    {
      "cell_type": "code",
      "source": [
        "config_pakdd[\"impute_missing\"] = {\n",
        "    \"enabled\": True,\n",
        "    \"num_strategy\": config_pakdd.get(\"num_impute_strategy\", \"median\"),\n",
        "    \"cat_strategy\": config_pakdd.get(\"cat_impute_strategy\", \"most_frequent\"),\n",
        "    \"cat_fill_value\": \"Missing\"\n",
        "}"
      ],
      "metadata": {
        "id": "_h_ECY2UKLfm"
      },
      "execution_count": null,
      "outputs": []
    },
    {
      "cell_type": "code",
      "source": [
        "config_pakdd"
      ],
      "metadata": {
        "colab": {
          "base_uri": "https://localhost:8080/"
        },
        "id": "pN3zFuluKRe3",
        "outputId": "ef955eb7-5062-410d-88e3-8ae5a0ec0aab"
      },
      "execution_count": null,
      "outputs": [
        {
          "output_type": "execute_result",
          "data": {
            "text/plain": [
              "{'dataset_name': 'PAKDD2010_Modelling_Data',\n",
              " 'id_column': 'ID_CLIENT',\n",
              " 'target_column': 'TARGET_LABEL_BAD',\n",
              " 'sensitive_features': ['GENDER', 'AGE'],\n",
              " 'numerical_features': ['PAYMENT_DAY',\n",
              "  'MARITAL_STATUS',\n",
              "  'QUANT_DEPENDANTS',\n",
              "  'NACIONALITY',\n",
              "  'RESIDENCE_TYPE',\n",
              "  'MONTHS_IN_RESIDENCE',\n",
              "  'FLAG_EMAIL',\n",
              "  'PERSONAL_MONTHLY_INCOME',\n",
              "  'OTHER_INCOMES',\n",
              "  'FLAG_VISA',\n",
              "  'FLAG_MASTERCARD',\n",
              "  'QUANT_SPECIAL_BANKING_ACCOUNTS',\n",
              "  'PERSONAL_ASSETS_VALUE',\n",
              "  'PROFESSION_CODE',\n",
              "  'OCCUPATION_TYPE',\n",
              "  'PRODUCT',\n",
              "  'AGE'],\n",
              " 'categorical_features': ['APPLICATION_SUBMISSION_TYPE',\n",
              "  'SEX',\n",
              "  'STATE_OF_BIRTH',\n",
              "  'CITY_OF_BIRTH',\n",
              "  'RESIDENCIAL_STATE',\n",
              "  'RESIDENCIAL_CITY',\n",
              "  'RESIDENCIAL_BOROUGH',\n",
              "  'FLAG_RESIDENCIAL_PHONE',\n",
              "  'RESIDENCIAL_PHONE_AREA_CODE',\n",
              "  'COMPANY',\n",
              "  'PROFESSIONAL_STATE',\n",
              "  'FLAG_PROFESSIONAL_PHONE',\n",
              "  'PROFESSIONAL_PHONE_AREA_CODE',\n",
              "  'RESIDENCIAL_ZIP_3',\n",
              "  'PROFESSIONAL_ZIP_3'],\n",
              " 'num_impute_strategy': 'median',\n",
              " 'cat_impute_strategy': 'most_frequent',\n",
              " 'drop_high_missing': {'enabled': True, 'threshold': 0.4},\n",
              " 'drop_single_unique': True,\n",
              " 'drop_id_column': True,\n",
              " 'drop_dominant_columns': {'enabled': True, 'threshold': 0.99},\n",
              " 'drop_high_correlation': {'enabled': True, 'threshold': 0.8},\n",
              " 'drop_high_cramersv': {'enabled': True, 'threshold': 1.0},\n",
              " 'cap_outliers': {'enabled': True,\n",
              "  'strategy': 'cap',\n",
              "  'upper_percentile': 0.99,\n",
              "  'lower_percentile': 0.01},\n",
              " 'encoding': {'low_cardinality_strategy': 'onehot',\n",
              "  'high_cardinality_strategy': 'target',\n",
              "  'high_cardinality_threshold': 10},\n",
              " 'scaling_strategy': 'standard',\n",
              " 'split': {'test_size': 0.2, 'random_state': 42, 'stratify': True},\n",
              " 'impute_missing': {'enabled': True,\n",
              "  'num_strategy': 'median',\n",
              "  'cat_strategy': 'most_frequent',\n",
              "  'cat_fill_value': 'Missing'}}"
            ]
          },
          "metadata": {},
          "execution_count": 27
        }
      ]
    },
    {
      "cell_type": "markdown",
      "source": [
        "### Identifying columns with missing values"
      ],
      "metadata": {
        "id": "_QUinFx1ZJcJ"
      }
    },
    {
      "cell_type": "code",
      "source": [
        "def get_missing_info(df, columns):\n",
        "    missing = df[columns].isnull().sum()\n",
        "    missing = missing[missing > 0].sort_values(ascending=False)\n",
        "    return missing"
      ],
      "metadata": {
        "id": "0lDcDMVNJ7kl"
      },
      "execution_count": null,
      "outputs": []
    },
    {
      "cell_type": "markdown",
      "source": [
        "### Impute Numericals"
      ],
      "metadata": {
        "id": "n8eXM4r8HtVy"
      }
    },
    {
      "cell_type": "code",
      "source": [
        "def impute_numerical(df, missing_cols, strategy=\"median\"):\n",
        "    from sklearn.impute import SimpleImputer\n",
        "    if not missing_cols:\n",
        "        return df\n",
        "    print(f\"🧮 Imputing numerical columns: {missing_cols} using strategy: {strategy}\")\n",
        "    imputer = SimpleImputer(strategy=strategy)\n",
        "    df[missing_cols] = imputer.fit_transform(df[missing_cols])\n",
        "    return df\n"
      ],
      "metadata": {
        "id": "tn1XPL0SHs_J"
      },
      "execution_count": null,
      "outputs": []
    },
    {
      "cell_type": "markdown",
      "source": [
        "### Impute categoricals"
      ],
      "metadata": {
        "id": "kuA8l_4fH2DH"
      }
    },
    {
      "cell_type": "code",
      "source": [
        "def impute_categorical(df, missing_cols, strategy=\"most_frequent\", fill_value=\"Missing\"):\n",
        "    from sklearn.impute import SimpleImputer\n",
        "    if not missing_cols:\n",
        "        return df\n",
        "    print(f\"🔤 Imputing categorical columns: {missing_cols} using strategy: {strategy}\")\n",
        "    if strategy == \"constant\":\n",
        "        imputer = SimpleImputer(strategy=\"constant\", fill_value=fill_value)\n",
        "    else:\n",
        "        imputer = SimpleImputer(strategy=strategy)\n",
        "    df[missing_cols] = imputer.fit_transform(df[missing_cols])\n",
        "    return df"
      ],
      "metadata": {
        "id": "Y58ZJZUOH5dn"
      },
      "execution_count": null,
      "outputs": []
    },
    {
      "cell_type": "markdown",
      "source": [
        "### Orchestrate and update config"
      ],
      "metadata": {
        "id": "BkHJ9_mmKn6E"
      }
    },
    {
      "cell_type": "code",
      "source": [
        "def impute_missing_and_update_config(df, config):\n",
        "    df_copy = df.copy()\n",
        "    from sklearn.impute import SimpleImputer\n",
        "    impute_cfg = config.get(\"impute_missing\", {})\n",
        "    if not impute_cfg.get(\"enabled\", True):\n",
        "        print(\"⚠️ Imputation skipped (disabled in config).\")\n",
        "        return df_copy, config\n",
        "\n",
        "    # Get missing info\n",
        "    num_missing = get_missing_info(df_copy, config[\"numerical_features\"])\n",
        "    cat_missing = get_missing_info(df_copy, config[\"categorical_features\"])\n",
        "\n",
        "    if num_missing.empty and cat_missing.empty:\n",
        "        print(\"✅ No missing values found.\")\n",
        "        config[\"impute_missing\"][\"status\"] = \"No imputation needed\"\n",
        "        return df_copy, config\n",
        "\n",
        "    # Impute numericals\n",
        "    df_copy = impute_numerical(\n",
        "        df_copy,\n",
        "        missing_cols=list(num_missing.index),\n",
        "        strategy=impute_cfg.get(\"num_strategy\", \"median\")\n",
        "    )\n",
        "\n",
        "    # Impute categoricals\n",
        "    df_copy = impute_categorical(\n",
        "        df_copy,\n",
        "        missing_cols=list(cat_missing.index),\n",
        "        strategy=impute_cfg.get(\"cat_strategy\", \"most_frequent\"),\n",
        "        fill_value=impute_cfg.get(\"cat_fill_value\", \"Missing\")\n",
        "    )\n",
        "\n",
        "    # Update config\n",
        "    config[\"impute_missing\"][\"status\"] = \"Imputation performed\"\n",
        "    config[\"impute_missing\"][\"imputed_numerical\"] = list(num_missing.index)\n",
        "    config[\"impute_missing\"][\"imputed_categorical\"] = list(cat_missing.index)\n",
        "\n",
        "    print(\"✅ Imputation completed and config updated.\")\n",
        "    return df_copy, config\n"
      ],
      "metadata": {
        "id": "T7S1xXdaIEvr"
      },
      "execution_count": null,
      "outputs": []
    },
    {
      "cell_type": "code",
      "source": [
        "df7, config_pakdd = impute_missing_and_update_config(\n",
        "    df6,\n",
        "    config=config_pakdd\n",
        ")\n"
      ],
      "metadata": {
        "colab": {
          "base_uri": "https://localhost:8080/"
        },
        "id": "4J1C0f1AIHj-",
        "outputId": "d98110e8-01ae-4f3f-d11f-c631a32c158b"
      },
      "execution_count": null,
      "outputs": [
        {
          "output_type": "stream",
          "name": "stdout",
          "text": [
            "🧮 Imputing numerical columns: ['PROFESSION_CODE', 'OCCUPATION_TYPE', 'MONTHS_IN_RESIDENCE', 'RESIDENCE_TYPE'] using strategy: median\n",
            "✅ Imputation completed and config updated.\n"
          ]
        }
      ]
    },
    {
      "cell_type": "code",
      "source": [
        "config_pakdd[\"impute_missing\"]"
      ],
      "metadata": {
        "colab": {
          "base_uri": "https://localhost:8080/"
        },
        "id": "K2dcfZTXKhnu",
        "outputId": "d028179a-a1c1-4d8f-afa2-91c925b67cee"
      },
      "execution_count": null,
      "outputs": [
        {
          "output_type": "execute_result",
          "data": {
            "text/plain": [
              "{'enabled': True,\n",
              " 'num_strategy': 'median',\n",
              " 'cat_strategy': 'most_frequent',\n",
              " 'cat_fill_value': 'Missing',\n",
              " 'status': 'Imputation performed',\n",
              " 'imputed_numerical': ['PROFESSION_CODE',\n",
              "  'OCCUPATION_TYPE',\n",
              "  'MONTHS_IN_RESIDENCE',\n",
              "  'RESIDENCE_TYPE'],\n",
              " 'imputed_categorical': []}"
            ]
          },
          "metadata": {},
          "execution_count": 33
        }
      ]
    },
    {
      "cell_type": "markdown",
      "source": [
        "# Outlier handling"
      ],
      "metadata": {
        "id": "fYR21PLUMfRH"
      }
    },
    {
      "cell_type": "code",
      "source": [
        "def handle_outliers_config_numericals(df, config):\n",
        "    from collections import defaultdict\n",
        "\n",
        "    cfg = config.get(\"cap_outliers\", {})\n",
        "    if not cfg.get(\"enabled\", False):\n",
        "        print(\"⚠️ Outlier handling skipped (disabled in config).\")\n",
        "        return df, config\n",
        "\n",
        "    strategy = cfg.get(\"strategy\", \"cap\")\n",
        "    upper_q = cfg.get(\"upper_percentile\", 0.99)\n",
        "    lower_q = cfg.get(\"lower_percentile\", 0.01)\n",
        "\n",
        "    df_copy = df.copy()\n",
        "    summary = defaultdict(dict)\n",
        "\n",
        "    num_cols = config.get(\"numerical_features\", [])\n",
        "    print(f\"🔍 Detecting outliers in {len(num_cols)} numerical columns (from config) using strategy: '{strategy}'\\n\")\n",
        "\n",
        "    for col in num_cols:\n",
        "        if col not in df_copy.columns:\n",
        "            print(f\"⚠️ Skipping missing column: {col}\")\n",
        "            continue\n",
        "        if df_copy[col].isnull().all():\n",
        "            print(f\"⚠️ Skipping column with all missing values: {col}\")\n",
        "            continue\n",
        "\n",
        "        if strategy == \"cap\":\n",
        "            lower = df_copy[col].quantile(lower_q)\n",
        "            upper = df_copy[col].quantile(upper_q)\n",
        "            outliers_mask = (df_copy[col] < lower) | (df_copy[col] > upper)\n",
        "            count = outliers_mask.sum()\n",
        "            df_copy[col] = df_copy[col].clip(lower, upper)\n",
        "\n",
        "            summary[col] = {\n",
        "                \"strategy\": \"cap\",\n",
        "                \"lower_bound\": round(lower, 3),\n",
        "                \"upper_bound\": round(upper, 3),\n",
        "                \"outliers_capped\": int(count)\n",
        "            }\n",
        "\n",
        "        elif strategy == \"median\":\n",
        "            Q1 = df_copy[col].quantile(0.25)\n",
        "            Q3 = df_copy[col].quantile(0.75)\n",
        "            IQR = Q3 - Q1\n",
        "            lower_bound = Q1 - 1.5 * IQR\n",
        "            upper_bound = Q3 + 1.5 * IQR\n",
        "            median = df_copy[col].median()\n",
        "            outliers_mask = (df_copy[col] < lower_bound) | (df_copy[col] > upper_bound)\n",
        "            count = outliers_mask.sum()\n",
        "            df_copy.loc[outliers_mask, col] = median\n",
        "\n",
        "            summary[col] = {\n",
        "                \"strategy\": \"median\",\n",
        "                \"lower_bound\": round(lower_bound, 3),\n",
        "                \"upper_bound\": round(upper_bound, 3),\n",
        "                \"outliers_imputed\": int(count),\n",
        "                \"median_used\": round(median, 3)\n",
        "            }\n",
        "\n",
        "    print(\"\\n📊 Outlier Handling Summary:\")\n",
        "    for col, stats in summary.items():\n",
        "        print(f\"• {col}: {stats}\")\n",
        "\n",
        "    config[\"cap_outliers\"][\"status\"] = f\"Outliers handled with '{strategy}' strategy\"\n",
        "    config[\"cap_outliers\"][\"handled_columns\"] = list(summary.keys())\n",
        "    config[\"cap_outliers\"][\"summary\"] = dict(summary)\n",
        "\n",
        "    return df_copy, config\n"
      ],
      "metadata": {
        "id": "RtFo-03tOhBb"
      },
      "execution_count": null,
      "outputs": []
    },
    {
      "cell_type": "code",
      "source": [
        "df8, config_pakdd = handle_outliers_config_numericals(df7, config_pakdd)"
      ],
      "metadata": {
        "colab": {
          "base_uri": "https://localhost:8080/"
        },
        "id": "_klQ_ZFEMooT",
        "outputId": "f51008ff-89ee-4f23-ff74-c97ac6fd9be0"
      },
      "execution_count": null,
      "outputs": [
        {
          "output_type": "stream",
          "name": "stdout",
          "text": [
            "🔍 Detecting outliers in 17 numerical columns (from config) using strategy: 'cap'\n",
            "\n",
            "\n",
            "📊 Outlier Handling Summary:\n",
            "• PAYMENT_DAY: {'strategy': 'cap', 'lower_bound': np.float64(1.0), 'upper_bound': np.float64(25.0), 'outliers_capped': 0}\n",
            "• MARITAL_STATUS: {'strategy': 'cap', 'lower_bound': np.float64(1.0), 'upper_bound': np.float64(7.0), 'outliers_capped': 202}\n",
            "• QUANT_DEPENDANTS: {'strategy': 'cap', 'lower_bound': np.float64(0.0), 'upper_bound': np.float64(5.0), 'outliers_capped': 288}\n",
            "• NACIONALITY: {'strategy': 'cap', 'lower_bound': np.float64(0.0), 'upper_bound': np.float64(1.0), 'outliers_capped': 98}\n",
            "• RESIDENCE_TYPE: {'strategy': 'cap', 'lower_bound': np.float64(0.0), 'upper_bound': np.float64(5.0), 'outliers_capped': 0}\n",
            "• MONTHS_IN_RESIDENCE: {'strategy': 'cap', 'lower_bound': np.float64(0.0), 'upper_bound': np.float64(45.0), 'outliers_capped': 428}\n",
            "• FLAG_EMAIL: {'strategy': 'cap', 'lower_bound': np.float64(0.0), 'upper_bound': np.float64(1.0), 'outliers_capped': 0}\n",
            "• PERSONAL_MONTHLY_INCOME: {'strategy': 'cap', 'lower_bound': np.float64(205.0), 'upper_bound': np.float64(3678.219), 'outliers_capped': 998}\n",
            "• OTHER_INCOMES: {'strategy': 'cap', 'lower_bound': np.float64(0.0), 'upper_bound': np.float64(800.0), 'outliers_capped': 454}\n",
            "• FLAG_VISA: {'strategy': 'cap', 'lower_bound': np.float64(0.0), 'upper_bound': np.float64(1.0), 'outliers_capped': 0}\n",
            "• FLAG_MASTERCARD: {'strategy': 'cap', 'lower_bound': np.float64(0.0), 'upper_bound': np.float64(1.0), 'outliers_capped': 0}\n",
            "• QUANT_SPECIAL_BANKING_ACCOUNTS: {'strategy': 'cap', 'lower_bound': np.float64(0.0), 'upper_bound': np.float64(1.0), 'outliers_capped': 14}\n",
            "• PERSONAL_ASSETS_VALUE: {'strategy': 'cap', 'lower_bound': np.float64(0.0), 'upper_bound': np.float64(50000.0), 'outliers_capped': 496}\n",
            "• PROFESSION_CODE: {'strategy': 'cap', 'lower_bound': np.float64(0.0), 'upper_bound': np.float64(13.0), 'outliers_capped': 452}\n",
            "• OCCUPATION_TYPE: {'strategy': 'cap', 'lower_bound': np.float64(0.0), 'upper_bound': np.float64(5.0), 'outliers_capped': 0}\n",
            "• PRODUCT: {'strategy': 'cap', 'lower_bound': np.float64(1.0), 'upper_bound': np.float64(7.0), 'outliers_capped': 0}\n",
            "• AGE: {'strategy': 'cap', 'lower_bound': np.float64(18.0), 'upper_bound': np.float64(80.0), 'outliers_capped': 460}\n"
          ]
        }
      ]
    },
    {
      "cell_type": "markdown",
      "source": [
        "# Train Test split\n"
      ],
      "metadata": {
        "id": "k6iqtkkSP726"
      }
    },
    {
      "cell_type": "code",
      "source": [
        "df8.info()"
      ],
      "metadata": {
        "colab": {
          "base_uri": "https://localhost:8080/"
        },
        "id": "tAngdTWS6E_F",
        "outputId": "a324d135-22f5-449e-f24a-c86888d86f93"
      },
      "execution_count": null,
      "outputs": [
        {
          "output_type": "stream",
          "name": "stdout",
          "text": [
            "<class 'pandas.core.frame.DataFrame'>\n",
            "RangeIndex: 50000 entries, 0 to 49999\n",
            "Data columns (total 33 columns):\n",
            " #   Column                          Non-Null Count  Dtype  \n",
            "---  ------                          --------------  -----  \n",
            " 0   PAYMENT_DAY                     50000 non-null  int64  \n",
            " 1   APPLICATION_SUBMISSION_TYPE     50000 non-null  object \n",
            " 2   SEX                             50000 non-null  object \n",
            " 3   MARITAL_STATUS                  50000 non-null  int64  \n",
            " 4   QUANT_DEPENDANTS                50000 non-null  int64  \n",
            " 5   STATE_OF_BIRTH                  50000 non-null  object \n",
            " 6   CITY_OF_BIRTH                   50000 non-null  object \n",
            " 7   NACIONALITY                     50000 non-null  int64  \n",
            " 8   RESIDENCIAL_STATE               50000 non-null  object \n",
            " 9   RESIDENCIAL_CITY                50000 non-null  object \n",
            " 10  RESIDENCIAL_BOROUGH             50000 non-null  object \n",
            " 11  FLAG_RESIDENCIAL_PHONE          50000 non-null  object \n",
            " 12  RESIDENCIAL_PHONE_AREA_CODE     50000 non-null  object \n",
            " 13  RESIDENCE_TYPE                  50000 non-null  float64\n",
            " 14  MONTHS_IN_RESIDENCE             50000 non-null  float64\n",
            " 15  FLAG_EMAIL                      50000 non-null  int64  \n",
            " 16  PERSONAL_MONTHLY_INCOME         50000 non-null  float64\n",
            " 17  OTHER_INCOMES                   50000 non-null  float64\n",
            " 18  FLAG_VISA                       50000 non-null  int64  \n",
            " 19  FLAG_MASTERCARD                 50000 non-null  int64  \n",
            " 20  QUANT_SPECIAL_BANKING_ACCOUNTS  50000 non-null  int64  \n",
            " 21  PERSONAL_ASSETS_VALUE           50000 non-null  float64\n",
            " 22  COMPANY                         50000 non-null  object \n",
            " 23  PROFESSIONAL_STATE              50000 non-null  object \n",
            " 24  FLAG_PROFESSIONAL_PHONE         50000 non-null  object \n",
            " 25  PROFESSIONAL_PHONE_AREA_CODE    50000 non-null  object \n",
            " 26  PROFESSION_CODE                 50000 non-null  float64\n",
            " 27  OCCUPATION_TYPE                 50000 non-null  float64\n",
            " 28  PRODUCT                         50000 non-null  int64  \n",
            " 29  AGE                             50000 non-null  int64  \n",
            " 30  RESIDENCIAL_ZIP_3               50000 non-null  object \n",
            " 31  PROFESSIONAL_ZIP_3              50000 non-null  object \n",
            " 32  TARGET_LABEL_BAD                50000 non-null  int64  \n",
            "dtypes: float64(7), int64(11), object(15)\n",
            "memory usage: 12.6+ MB\n"
          ]
        }
      ]
    },
    {
      "cell_type": "code",
      "source": [
        "def extract_features_and_target(df, config):\n",
        "    target_col = config[\"target_column\"]\n",
        "    X = df.drop(columns=[target_col])\n",
        "    y = df[target_col]\n",
        "    return X, y"
      ],
      "metadata": {
        "id": "jZxhwdbs40-H"
      },
      "execution_count": null,
      "outputs": []
    },
    {
      "cell_type": "code",
      "source": [
        "X, y = extract_features_and_target(df8, config_pakdd)"
      ],
      "metadata": {
        "id": "yoGzQPzZ44aE"
      },
      "execution_count": null,
      "outputs": []
    },
    {
      "cell_type": "code",
      "source": [
        "from sklearn.model_selection import train_test_split\n",
        "\n",
        "def train_test_split_from_config(X, y, config):\n",
        "    test_size = config['split'].get('test_size', 0.2)\n",
        "    random_state = config['split'].get('random_state', 42)\n",
        "    stratify_flag = config['split'].get('stratify', False)\n",
        "\n",
        "    X_train, X_val, y_train, y_val = train_test_split(\n",
        "        X,\n",
        "        y,\n",
        "        test_size=test_size,\n",
        "        random_state=random_state,\n",
        "        stratify=y if stratify_flag else None\n",
        "    )\n",
        "    return X_train, X_val, y_train, y_val"
      ],
      "metadata": {
        "id": "diKprU061z4H"
      },
      "execution_count": null,
      "outputs": []
    },
    {
      "cell_type": "code",
      "source": [
        "X_train, X_val, y_train, y_val = train_test_split_from_config(X, y, config_pakdd)"
      ],
      "metadata": {
        "id": "1QCol4CY5_NE"
      },
      "execution_count": null,
      "outputs": []
    },
    {
      "cell_type": "markdown",
      "source": [
        "# Encoding"
      ],
      "metadata": {
        "id": "bQjJHtcd7RLi"
      }
    },
    {
      "cell_type": "markdown",
      "source": [
        "### Fit encoder"
      ],
      "metadata": {
        "id": "B3c_Ag7tb45J"
      }
    },
    {
      "cell_type": "code",
      "source": [
        "import pandas as pd\n",
        "from sklearn.preprocessing import OneHotEncoder, OrdinalEncoder\n",
        "from category_encoders import TargetEncoder, HashingEncoder, LeaveOneOutEncoder\n"
      ],
      "metadata": {
        "id": "xHI5PTXLcbml"
      },
      "execution_count": null,
      "outputs": []
    },
    {
      "cell_type": "code",
      "source": [
        "def fit_encoders(X, y, config):\n",
        "    encoding_cfg = config[\"encoding\"]\n",
        "    low_card_strategy = encoding_cfg[\"low_cardinality_strategy\"]\n",
        "    high_card_strategy = encoding_cfg[\"high_cardinality_strategy\"]\n",
        "    high_card_thresh = encoding_cfg.get(\"high_cardinality_threshold\", 10)\n",
        "\n",
        "    categorical_cols = X.select_dtypes(include=['object', 'category']).columns\n",
        "    high_card_cols = [col for col in categorical_cols if X[col].nunique() > high_card_thresh]\n",
        "    low_card_cols  = [col for col in categorical_cols if col not in high_card_cols]\n",
        "\n",
        "    encoders = {}\n",
        "\n",
        "    if low_card_cols:\n",
        "        if low_card_strategy == \"onehot\":\n",
        "            ohe = OneHotEncoder(handle_unknown='ignore', sparse_output=False)\n",
        "            ohe.fit(X[low_card_cols])\n",
        "            encoders[\"low\"] = ohe\n",
        "        elif low_card_strategy == \"ordinal\":\n",
        "            ord_enc = OrdinalEncoder()\n",
        "            ord_enc.fit(X[low_card_cols])\n",
        "            encoders[\"low\"] = ord_enc\n",
        "\n",
        "    if high_card_cols:\n",
        "        if high_card_strategy == \"target\":\n",
        "            tgt_enc = TargetEncoder()\n",
        "            tgt_enc.fit(X[high_card_cols], y)\n",
        "            encoders[\"high\"] = tgt_enc\n",
        "        elif high_card_strategy == \"hash\":\n",
        "            hash_enc = HashingEncoder(cols=high_card_cols)\n",
        "            hash_enc.fit(X[high_card_cols])  # fit even if stateless\n",
        "            encoders[\"high\"] = hash_enc\n",
        "        elif high_card_strategy == \"leave_one_out\":\n",
        "            loo_enc = LeaveOneOutEncoder()\n",
        "            loo_enc.fit(X[high_card_cols], y)\n",
        "            encoders[\"high\"] = loo_enc\n",
        "\n",
        "    encoders[\"high_card_cols\"] = high_card_cols\n",
        "    encoders[\"low_card_cols\"] = low_card_cols\n",
        "    return encoders\n"
      ],
      "metadata": {
        "id": "5MzBAdglb4YD"
      },
      "execution_count": null,
      "outputs": []
    },
    {
      "cell_type": "markdown",
      "source": [
        "### Transform encoder"
      ],
      "metadata": {
        "id": "W_i4pFrLb9SP"
      }
    },
    {
      "cell_type": "code",
      "source": [
        "def transform_encoders(X, encoders, config, y=None):\n",
        "    X_encoded = X.copy()\n",
        "    low_card_cols = encoders.get(\"low_card_cols\", [])\n",
        "    high_card_cols = encoders.get(\"high_card_cols\", [])\n",
        "\n",
        "    if low_card_cols:\n",
        "        low_enc = encoders[\"low\"]\n",
        "        if isinstance(low_enc, OneHotEncoder):\n",
        "            ohe_df = pd.DataFrame(low_enc.transform(X_encoded[low_card_cols]),\n",
        "                                  columns=low_enc.get_feature_names_out(low_card_cols),\n",
        "                                  index=X_encoded.index)\n",
        "            X_encoded = X_encoded.drop(columns=low_card_cols)\n",
        "            X_encoded = pd.concat([X_encoded, ohe_df], axis=1)\n",
        "        elif isinstance(low_enc, OrdinalEncoder):\n",
        "            X_encoded[low_card_cols] = low_enc.transform(X_encoded[low_card_cols])\n",
        "\n",
        "    if high_card_cols:\n",
        "        high_enc = encoders[\"high\"]\n",
        "        # Target / Leave-One-Out need y when transforming\n",
        "        if isinstance(high_enc, (TargetEncoder, LeaveOneOutEncoder)):\n",
        "            if y is None:\n",
        "                raise ValueError(\"Need y to transform with Target or Leave-One-Out encoder\")\n",
        "            X_encoded[high_card_cols] = high_enc.transform(X_encoded[high_card_cols], y)\n",
        "        else:\n",
        "            X_encoded[high_card_cols] = high_enc.transform(X_encoded[high_card_cols])\n",
        "\n",
        "    return X_encoded\n",
        "\n"
      ],
      "metadata": {
        "id": "0TH2_dA57Q5I"
      },
      "execution_count": null,
      "outputs": []
    },
    {
      "cell_type": "code",
      "source": [
        "# Fit on train\n",
        "encoders = fit_encoders(X_train, y_train, config_pakdd)\n",
        "\n",
        "# Transform train\n",
        "X_train_encoded = transform_encoders(X_train, encoders, config_pakdd, y_train)\n",
        "\n",
        "# Transform val\n",
        "X_val_encoded = transform_encoders(X_val, encoders, config_pakdd, y_val)\n"
      ],
      "metadata": {
        "id": "Ih_zHyR78Rqd"
      },
      "execution_count": null,
      "outputs": []
    },
    {
      "cell_type": "code",
      "source": [
        "X_train_encoded.info()\n",
        "X_val_encoded.info()"
      ],
      "metadata": {
        "colab": {
          "base_uri": "https://localhost:8080/"
        },
        "id": "uBo7dETA9Zdh",
        "outputId": "1fd1f933-aed7-4515-8b05-d748dfd0c0f3"
      },
      "execution_count": null,
      "outputs": [
        {
          "output_type": "stream",
          "name": "stdout",
          "text": [
            "<class 'pandas.core.frame.DataFrame'>\n",
            "Index: 40000 entries, 38056 to 21398\n",
            "Data columns (total 40 columns):\n",
            " #   Column                             Non-Null Count  Dtype  \n",
            "---  ------                             --------------  -----  \n",
            " 0   PAYMENT_DAY                        40000 non-null  int64  \n",
            " 1   MARITAL_STATUS                     40000 non-null  int64  \n",
            " 2   QUANT_DEPENDANTS                   40000 non-null  int64  \n",
            " 3   STATE_OF_BIRTH                     40000 non-null  float64\n",
            " 4   CITY_OF_BIRTH                      40000 non-null  float64\n",
            " 5   NACIONALITY                        40000 non-null  int64  \n",
            " 6   RESIDENCIAL_STATE                  40000 non-null  float64\n",
            " 7   RESIDENCIAL_CITY                   40000 non-null  float64\n",
            " 8   RESIDENCIAL_BOROUGH                40000 non-null  float64\n",
            " 9   RESIDENCIAL_PHONE_AREA_CODE        40000 non-null  float64\n",
            " 10  RESIDENCE_TYPE                     40000 non-null  float64\n",
            " 11  MONTHS_IN_RESIDENCE                40000 non-null  float64\n",
            " 12  FLAG_EMAIL                         40000 non-null  int64  \n",
            " 13  PERSONAL_MONTHLY_INCOME            40000 non-null  float64\n",
            " 14  OTHER_INCOMES                      40000 non-null  float64\n",
            " 15  FLAG_VISA                          40000 non-null  int64  \n",
            " 16  FLAG_MASTERCARD                    40000 non-null  int64  \n",
            " 17  QUANT_SPECIAL_BANKING_ACCOUNTS     40000 non-null  int64  \n",
            " 18  PERSONAL_ASSETS_VALUE              40000 non-null  float64\n",
            " 19  PROFESSIONAL_STATE                 40000 non-null  float64\n",
            " 20  PROFESSIONAL_PHONE_AREA_CODE       40000 non-null  float64\n",
            " 21  PROFESSION_CODE                    40000 non-null  float64\n",
            " 22  OCCUPATION_TYPE                    40000 non-null  float64\n",
            " 23  PRODUCT                            40000 non-null  int64  \n",
            " 24  AGE                                40000 non-null  int64  \n",
            " 25  RESIDENCIAL_ZIP_3                  40000 non-null  float64\n",
            " 26  PROFESSIONAL_ZIP_3                 40000 non-null  float64\n",
            " 27  APPLICATION_SUBMISSION_TYPE_0      40000 non-null  float64\n",
            " 28  APPLICATION_SUBMISSION_TYPE_Carga  40000 non-null  float64\n",
            " 29  APPLICATION_SUBMISSION_TYPE_Web    40000 non-null  float64\n",
            " 30  SEX_                               40000 non-null  float64\n",
            " 31  SEX_F                              40000 non-null  float64\n",
            " 32  SEX_M                              40000 non-null  float64\n",
            " 33  SEX_N                              40000 non-null  float64\n",
            " 34  FLAG_RESIDENCIAL_PHONE_N           40000 non-null  float64\n",
            " 35  FLAG_RESIDENCIAL_PHONE_Y           40000 non-null  float64\n",
            " 36  COMPANY_N                          40000 non-null  float64\n",
            " 37  COMPANY_Y                          40000 non-null  float64\n",
            " 38  FLAG_PROFESSIONAL_PHONE_N          40000 non-null  float64\n",
            " 39  FLAG_PROFESSIONAL_PHONE_Y          40000 non-null  float64\n",
            "dtypes: float64(30), int64(10)\n",
            "memory usage: 12.5 MB\n",
            "<class 'pandas.core.frame.DataFrame'>\n",
            "Index: 10000 entries, 45600 to 45824\n",
            "Data columns (total 40 columns):\n",
            " #   Column                             Non-Null Count  Dtype  \n",
            "---  ------                             --------------  -----  \n",
            " 0   PAYMENT_DAY                        10000 non-null  int64  \n",
            " 1   MARITAL_STATUS                     10000 non-null  int64  \n",
            " 2   QUANT_DEPENDANTS                   10000 non-null  int64  \n",
            " 3   STATE_OF_BIRTH                     10000 non-null  float64\n",
            " 4   CITY_OF_BIRTH                      10000 non-null  float64\n",
            " 5   NACIONALITY                        10000 non-null  int64  \n",
            " 6   RESIDENCIAL_STATE                  10000 non-null  float64\n",
            " 7   RESIDENCIAL_CITY                   10000 non-null  float64\n",
            " 8   RESIDENCIAL_BOROUGH                10000 non-null  float64\n",
            " 9   RESIDENCIAL_PHONE_AREA_CODE        10000 non-null  float64\n",
            " 10  RESIDENCE_TYPE                     10000 non-null  float64\n",
            " 11  MONTHS_IN_RESIDENCE                10000 non-null  float64\n",
            " 12  FLAG_EMAIL                         10000 non-null  int64  \n",
            " 13  PERSONAL_MONTHLY_INCOME            10000 non-null  float64\n",
            " 14  OTHER_INCOMES                      10000 non-null  float64\n",
            " 15  FLAG_VISA                          10000 non-null  int64  \n",
            " 16  FLAG_MASTERCARD                    10000 non-null  int64  \n",
            " 17  QUANT_SPECIAL_BANKING_ACCOUNTS     10000 non-null  int64  \n",
            " 18  PERSONAL_ASSETS_VALUE              10000 non-null  float64\n",
            " 19  PROFESSIONAL_STATE                 10000 non-null  float64\n",
            " 20  PROFESSIONAL_PHONE_AREA_CODE       10000 non-null  float64\n",
            " 21  PROFESSION_CODE                    10000 non-null  float64\n",
            " 22  OCCUPATION_TYPE                    10000 non-null  float64\n",
            " 23  PRODUCT                            10000 non-null  int64  \n",
            " 24  AGE                                10000 non-null  int64  \n",
            " 25  RESIDENCIAL_ZIP_3                  10000 non-null  float64\n",
            " 26  PROFESSIONAL_ZIP_3                 10000 non-null  float64\n",
            " 27  APPLICATION_SUBMISSION_TYPE_0      10000 non-null  float64\n",
            " 28  APPLICATION_SUBMISSION_TYPE_Carga  10000 non-null  float64\n",
            " 29  APPLICATION_SUBMISSION_TYPE_Web    10000 non-null  float64\n",
            " 30  SEX_                               10000 non-null  float64\n",
            " 31  SEX_F                              10000 non-null  float64\n",
            " 32  SEX_M                              10000 non-null  float64\n",
            " 33  SEX_N                              10000 non-null  float64\n",
            " 34  FLAG_RESIDENCIAL_PHONE_N           10000 non-null  float64\n",
            " 35  FLAG_RESIDENCIAL_PHONE_Y           10000 non-null  float64\n",
            " 36  COMPANY_N                          10000 non-null  float64\n",
            " 37  COMPANY_Y                          10000 non-null  float64\n",
            " 38  FLAG_PROFESSIONAL_PHONE_N          10000 non-null  float64\n",
            " 39  FLAG_PROFESSIONAL_PHONE_Y          10000 non-null  float64\n",
            "dtypes: float64(30), int64(10)\n",
            "memory usage: 3.1 MB\n"
          ]
        }
      ]
    },
    {
      "cell_type": "markdown",
      "source": [
        "# Scaling"
      ],
      "metadata": {
        "id": "mZd_nEV9ezy2"
      }
    },
    {
      "cell_type": "markdown",
      "source": [
        "### Fit scaler"
      ],
      "metadata": {
        "id": "G_GAL8LWe7nU"
      }
    },
    {
      "cell_type": "code",
      "source": [
        "from sklearn.preprocessing import StandardScaler, MinMaxScaler, RobustScaler\n",
        "\n",
        "def fit_scaler(X, config):\n",
        "    scaling_cfg = config[\"scaling\"]\n",
        "    strategy = scaling_cfg[\"strategy\"]\n",
        "    columns = scaling_cfg.get(\"columns\", [])\n",
        "\n",
        "    # Decide which columns to scale\n",
        "    if not columns:  # if empty, use all numeric columns\n",
        "        columns = X.select_dtypes(include=['float64', 'int64']).columns.tolist()\n",
        "\n",
        "    scaler = None\n",
        "    if strategy == \"standard\":\n",
        "        scaler = StandardScaler()\n",
        "    elif strategy == \"minmax\":\n",
        "        scaler = MinMaxScaler()\n",
        "    elif strategy == \"robust\":\n",
        "        scaler = RobustScaler()\n",
        "    elif strategy == \"none\":\n",
        "        return None, columns  # no scaling\n",
        "\n",
        "    scaler.fit(X[columns])\n",
        "    return scaler, columns\n"
      ],
      "metadata": {
        "id": "sIgD8ZKgdwpq"
      },
      "execution_count": null,
      "outputs": []
    },
    {
      "cell_type": "markdown",
      "source": [
        "### Transform scaler"
      ],
      "metadata": {
        "id": "3LDEjjyRe-o_"
      }
    },
    {
      "cell_type": "code",
      "source": [
        "def transform_scaler(X, scaler, columns):\n",
        "    if scaler is None:\n",
        "        return X\n",
        "    X_scaled = X.copy()\n",
        "    X_scaled[columns] = scaler.transform(X[columns])\n",
        "    return X_scaled\n"
      ],
      "metadata": {
        "id": "X0MjkkXye9Vd"
      },
      "execution_count": null,
      "outputs": []
    },
    {
      "cell_type": "code",
      "source": [
        "# Fit scaler on train data\n",
        "scaler, scaled_cols = fit_scaler(X_train_encoded, config_pakdd)\n",
        "\n",
        "# Transform train & val\n",
        "X_train_scaled = transform_scaler(X_train_encoded, scaler, scaled_cols)\n",
        "X_val_scaled   = transform_scaler(X_val_encoded, scaler, scaled_cols)"
      ],
      "metadata": {
        "id": "0LnCL83cfCZ7"
      },
      "execution_count": null,
      "outputs": []
    },
    {
      "cell_type": "markdown",
      "source": [
        "# Feature Selection"
      ],
      "metadata": {
        "id": "11dVlLWQkfmd"
      }
    },
    {
      "cell_type": "code",
      "source": [
        "from sklearn.feature_selection import VarianceThreshold, mutual_info_classif, RFE, RFECV\n",
        "from sklearn.ensemble import RandomForestClassifier\n",
        "from sklearn.base import clone\n",
        "from sklearn.metrics import get_scorer\n",
        "import numpy as np\n",
        "import matplotlib.pyplot as plt\n",
        "\n",
        "def select_features(X, y, config):\n",
        "    fs_cfg = config[\"feature_selection\"]\n",
        "    method = fs_cfg[\"method\"]\n",
        "    model_type = fs_cfg.get(\"model_type\", \"RandomForest\")\n",
        "    scoring = fs_cfg.get(\"scoring\", \"roc_auc\")\n",
        "\n",
        "    # Prepare model\n",
        "    if model_type == \"RandomForest\":\n",
        "        model = RandomForestClassifier(random_state=42)\n",
        "    elif model_type == \"XGB\":\n",
        "        from xgboost import XGBClassifier\n",
        "        model = XGBClassifier(random_state=42, use_label_encoder=False, eval_metric='logloss')\n",
        "    else:\n",
        "        raise ValueError(f\"Unsupported model_type: {model_type}\")\n",
        "\n",
        "    if method == \"variance\":\n",
        "        sel = VarianceThreshold(threshold=fs_cfg[\"threshold\"])\n",
        "        sel.fit(X)\n",
        "        selected_cols = X.columns[sel.get_support()]\n",
        "\n",
        "    elif method == \"mutual_info\":\n",
        "        scores = mutual_info_classif(X, y)\n",
        "        selected_cols = X.columns[scores > fs_cfg[\"threshold\"]]\n",
        "\n",
        "    elif method == \"model_top_n\":\n",
        "        model.fit(X, y)\n",
        "        importances = model.feature_importances_\n",
        "        sorted_idx = np.argsort(importances)[::-1]\n",
        "        top_n = fs_cfg.get(\"top_n\", 20)\n",
        "        selected_cols = X.columns[sorted_idx][:top_n]\n",
        "\n",
        "    elif method == \"rfe\":\n",
        "        top_n = fs_cfg.get(\"top_n\", 20)\n",
        "        rfe = RFE(estimator=model, n_features_to_select=top_n)\n",
        "        rfe.fit(X, y)\n",
        "        selected_cols = X.columns[rfe.support_]\n",
        "\n",
        "    elif method == \"rfecv\":\n",
        "        print(\"Running RFECV for feature selection...\")\n",
        "        scorer = scoring  # get_scorer(scoring) is not needed here, pass string\n",
        "        rfecv = RFECV(estimator=model, step=1, cv=5, scoring=scorer)\n",
        "        rfecv.fit(X, y)\n",
        "        selected_cols = X.columns[rfecv.support_]\n",
        "        print(f\"RFECV selected {len(selected_cols)} features\")\n",
        "\n",
        "        # Plot number of features vs cross-validation score\n",
        "        plt.figure(figsize=(8, 5))\n",
        "        plt.plot(range(1, len(rfecv.grid_scores_) + 1), rfecv.grid_scores_, marker='o')\n",
        "        plt.xlabel(\"Number of Selected Features\")\n",
        "        plt.ylabel(f\"Cross-Validation Score ({scoring})\")\n",
        "        plt.title(\"RFECV Feature Selection Curve\")\n",
        "        plt.grid(True)\n",
        "        plt.show()\n",
        "\n",
        "    elif method == \"none\":\n",
        "        selected_cols = X.columns.tolist()\n",
        "\n",
        "    else:\n",
        "        raise ValueError(f\"Unsupported feature selection method: {method}\")\n",
        "\n",
        "    print(f\"✅ Selected {len(selected_cols)} features using method: {method}\")\n",
        "    return selected_cols\n"
      ],
      "metadata": {
        "id": "jejV-6KKkiKT"
      },
      "execution_count": null,
      "outputs": []
    },
    {
      "cell_type": "code",
      "source": [
        "selected_features = select_features(X_train_scaled, y_train, config_pakdd)\n",
        "X_train_final = X_train_scaled[selected_features]\n",
        "X_val_final   = X_val_scaled[selected_features]"
      ],
      "metadata": {
        "colab": {
          "base_uri": "https://localhost:8080/"
        },
        "id": "V89zisl0qfdE",
        "outputId": "00313ae6-79bd-4324-c5e7-a468167e136c"
      },
      "execution_count": null,
      "outputs": [
        {
          "output_type": "stream",
          "name": "stderr",
          "text": [
            "/usr/local/lib/python3.11/dist-packages/xgboost/core.py:158: UserWarning: [04:32:35] WARNING: /workspace/src/learner.cc:740: \n",
            "Parameters: { \"use_label_encoder\" } are not used.\n",
            "\n",
            "  warnings.warn(smsg, UserWarning)\n"
          ]
        },
        {
          "output_type": "stream",
          "name": "stdout",
          "text": [
            "✅ Selected 40 features using method: model_top_n\n"
          ]
        }
      ]
    },
    {
      "cell_type": "markdown",
      "source": [
        "#Model building"
      ],
      "metadata": {
        "id": "Jqb1nd491qcj"
      }
    },
    {
      "cell_type": "markdown",
      "source": [
        "### Train model"
      ],
      "metadata": {
        "id": "htwbB6oYVlbl"
      }
    },
    {
      "cell_type": "code",
      "source": [
        "def train_model(X_train, y_train, config):\n",
        "    task = config.get(\"task\", \"classification\")\n",
        "    model_name = config[\"model\"][\"type\"]\n",
        "\n",
        "    # Default hyperparameters\n",
        "    default_params = {\n",
        "        \"RandomForest\": {\"n_estimators\":100, \"max_depth\":6, \"random_state\":42},\n",
        "        \"XGB\": {\"n_estimators\":100, \"max_depth\":6, \"learning_rate\":0.1, \"random_state\":42},\n",
        "        \"LogisticRegression\": {\"max_iter\":1000, \"random_state\":42},\n",
        "        \"LinearRegression\": {},\n",
        "    }\n",
        "\n",
        "    # User overrides\n",
        "    user_overrides = config.get(\"hyperparameters\", {}).get(model_name, {})\n",
        "    final_params = {**default_params.get(model_name, {}), **user_overrides}\n",
        "\n",
        "    # Build model\n",
        "    if task == \"classification\":\n",
        "        if model_name == \"RandomForest\":\n",
        "            model = RandomForestClassifier(**final_params)\n",
        "        elif model_name == \"XGB\":\n",
        "            model = XGBClassifier(**final_params)\n",
        "        elif model_name == \"LogisticRegression\":\n",
        "            model = LogisticRegression(**final_params)\n",
        "        else:\n",
        "            raise ValueError(f\"Unsupported classification model: {model_name}\")\n",
        "\n",
        "    elif task == \"regression\":\n",
        "        if model_name == \"RandomForest\":\n",
        "            model = RandomForestRegressor(**final_params)\n",
        "        elif model_name == \"XGB\":\n",
        "            model = XGBRegressor(**final_params)\n",
        "        elif model_name == \"LinearRegression\":\n",
        "            model = LinearRegression(**final_params)\n",
        "        else:\n",
        "            raise ValueError(f\"Unsupported regression model: {model_name}\")\n",
        "    else:\n",
        "        raise ValueError(f\"Unsupported task: {task}\")\n",
        "\n",
        "    print(f\"\\n🚀 Training {task} model: {model_name} with params: {final_params}\")\n",
        "    model.fit(X_train, y_train)\n",
        "    return model\n"
      ],
      "metadata": {
        "id": "FpgACM-p1st3"
      },
      "execution_count": null,
      "outputs": []
    },
    {
      "cell_type": "markdown",
      "source": [
        "### Evaluate model"
      ],
      "metadata": {
        "id": "pMmLFnSBVocH"
      }
    },
    {
      "cell_type": "code",
      "source": [
        "def evaluate_model(model, X_test, y_test, task=\"classification\"):\n",
        "    y_pred = model.predict(X_test)\n",
        "\n",
        "    print(\"\\n📊 Evaluation Metrics:\")\n",
        "    print(\"-\" * 40)\n",
        "\n",
        "    if task == \"classification\":\n",
        "        y_probs = model.predict_proba(X_test)[:,1] if hasattr(model, \"predict_proba\") else None\n",
        "        print(f\"Accuracy       : {accuracy_score(y_test, y_pred):.4f}\")\n",
        "        print(f\"Precision      : {precision_score(y_test, y_pred):.4f}\")\n",
        "        print(f\"Recall         : {recall_score(y_test, y_pred):.4f}\")\n",
        "        print(f\"F1 Score       : {f1_score(y_test, y_pred):.4f}\")\n",
        "        roc_auc = roc_auc_score(y_test, y_probs) if y_probs is not None else \"N/A\"\n",
        "        print(f\"ROC-AUC Score  : {roc_auc if roc_auc=='N/A' else f'{roc_auc:.4f}'}\")\n",
        "        print(\"\\nClassification Report:\\n\", classification_report(y_test, y_pred))\n",
        "        print(\"Confusion Matrix:\\n\", confusion_matrix(y_test, y_pred))\n",
        "\n",
        "    elif task == \"regression\":\n",
        "        mse = mean_squared_error(y_test, y_pred)\n",
        "        rmse = np.sqrt(mse)\n",
        "        mae = mean_absolute_error(y_test, y_pred)\n",
        "        r2 = r2_score(y_test, y_pred)\n",
        "        print(f\"Mean Squared Error (MSE): {mse:.4f}\")\n",
        "        print(f\"Root Mean Squared Error : {rmse:.4f}\")\n",
        "        print(f\"Mean Absolute Error     : {mae:.4f}\")\n",
        "        print(f\"R² Score               : {r2:.4f}\")"
      ],
      "metadata": {
        "id": "12WVDmFGVoAK"
      },
      "execution_count": null,
      "outputs": []
    },
    {
      "cell_type": "code",
      "source": [
        "'''rf_model = train_and_evaluate_model(\n",
        "    X_train_final, y_train,\n",
        "    X_val_final, y_val,\n",
        "    config_pakdd\n",
        ")'''"
      ],
      "metadata": {
        "colab": {
          "base_uri": "https://localhost:8080/"
        },
        "id": "Uf1eLp-rGfQW",
        "outputId": "c2e52044-3655-42ef-a373-2eda5af69235"
      },
      "execution_count": null,
      "outputs": [
        {
          "output_type": "stream",
          "name": "stdout",
          "text": [
            "\n",
            "🚀 Training classification model: RandomForest with params: {'n_estimators': 150, 'max_depth': 8, 'random_state': 42, 'class_weight': 'balanced'}\n",
            "\n",
            "📊 Evaluation Metrics:\n",
            "----------------------------------------\n",
            "Accuracy       : 0.5640\n",
            "Precision      : 0.3065\n",
            "Recall         : 0.5322\n",
            "F1 Score       : 0.3890\n",
            "ROC-AUC Score  : 0.5847\n",
            "\n",
            "Classification Report:\n",
            "               precision    recall  f1-score   support\n",
            "\n",
            "           0       0.78      0.58      0.66      7392\n",
            "           1       0.31      0.53      0.39      2608\n",
            "\n",
            "    accuracy                           0.56     10000\n",
            "   macro avg       0.54      0.55      0.53     10000\n",
            "weighted avg       0.65      0.56      0.59     10000\n",
            "\n",
            "Confusion Matrix:\n",
            " [[4252 3140]\n",
            " [1220 1388]]\n"
          ]
        }
      ]
    },
    {
      "cell_type": "code",
      "source": [
        "# Train the model\n",
        "task = config_pakdd.get(\"task\", \"classification\")\n",
        "xgb_model = train_model(X_train_final, y_train, config_pakdd)\n",
        "\n",
        "# Evaluate on validation set\n",
        "evaluate_model(xgb_model, X_val_final, y_val, task=task)"
      ],
      "metadata": {
        "colab": {
          "base_uri": "https://localhost:8080/"
        },
        "id": "InUc0mWTHpQu",
        "outputId": "78ab4e0e-1342-4c04-ef6e-a4306035a8f4"
      },
      "execution_count": null,
      "outputs": [
        {
          "output_type": "stream",
          "name": "stdout",
          "text": [
            "\n",
            "🚀 Training classification model: XGB with params: {'n_estimators': 100, 'max_depth': 6, 'learning_rate': 0.1, 'random_state': 42, 'use_label_encoder': False, 'eval_metric': 'logloss'}\n",
            "\n",
            "📊 Evaluation Metrics:\n",
            "----------------------------------------\n",
            "Accuracy       : 0.6983\n",
            "Precision      : 0.3579\n",
            "Recall         : 0.1975\n",
            "F1 Score       : 0.2545\n",
            "ROC-AUC Score  : 0.5819\n",
            "\n",
            "Classification Report:\n",
            "               precision    recall  f1-score   support\n",
            "\n",
            "           0       0.76      0.88      0.81      7392\n",
            "           1       0.36      0.20      0.25      2608\n",
            "\n",
            "    accuracy                           0.70     10000\n",
            "   macro avg       0.56      0.54      0.53     10000\n",
            "weighted avg       0.65      0.70      0.67     10000\n",
            "\n",
            "Confusion Matrix:\n",
            " [[6468  924]\n",
            " [2093  515]]\n"
          ]
        }
      ]
    },
    {
      "cell_type": "markdown",
      "source": [
        "# Cross Validation"
      ],
      "metadata": {
        "id": "4U6yOf2AI7QY"
      }
    },
    {
      "cell_type": "code",
      "source": [
        "from sklearn.model_selection import (\n",
        "    KFold, StratifiedKFold, ShuffleSplit, cross_val_score\n",
        ")\n",
        "\n",
        "def cross_validate_model(model, X, y, config):\n",
        "    cv_cfg = config.get(\"cross_validation\", {})\n",
        "    if not cv_cfg.get(\"enabled\", False):\n",
        "        print(\"⚙️ Cross-validation disabled.\")\n",
        "        return None\n",
        "\n",
        "    cv_type = cv_cfg.get(\"type\", \"kfold\")\n",
        "    n_splits = cv_cfg.get(\"n_splits\", 5)\n",
        "    random_state = cv_cfg.get(\"random_state\", 42)\n",
        "    scoring = cv_cfg.get(\"scoring\", \"roc_auc\")\n",
        "\n",
        "    # Choose CV strategy\n",
        "    if cv_type == \"kfold\":\n",
        "        cv = KFold(n_splits=n_splits, shuffle=True, random_state=random_state)\n",
        "    elif cv_type == \"stratifiedkfold\":\n",
        "        cv = StratifiedKFold(n_splits=n_splits, shuffle=True, random_state=random_state)\n",
        "    elif cv_type == \"shuffle split\":\n",
        "        cv = ShuffleSplit(n_splits=n_splits, test_size=0.2, random_state=random_state)\n",
        "    else:\n",
        "        raise ValueError(f\"Unsupported CV type: {cv_type}\")\n",
        "\n",
        "    print(f\"\\n🔍 Running cross-validation: {cv_type} with {n_splits} splits, scoring={scoring}\")\n",
        "\n",
        "    scores = cross_val_score(model, X, y, cv=cv, scoring=scoring)\n",
        "\n",
        "    print(f\"✅ Cross-validation scores: {np.round(scores, 4)}\")\n",
        "    print(f\"Mean score: {np.mean(scores):.4f} | Std: {np.std(scores):.4f}\")\n",
        "    return scores\n"
      ],
      "metadata": {
        "id": "NkUXxDO_I9Qy"
      },
      "execution_count": null,
      "outputs": []
    },
    {
      "cell_type": "code",
      "source": [
        "cross_validate_model(xgb_model, X_train_final, y_train, config_pakdd)"
      ],
      "metadata": {
        "colab": {
          "base_uri": "https://localhost:8080/"
        },
        "id": "Q09J67ZVJlnF",
        "outputId": "6d98a5a3-bd9a-49f1-811e-822f32cfa4de"
      },
      "execution_count": null,
      "outputs": [
        {
          "output_type": "stream",
          "name": "stdout",
          "text": [
            "\n",
            "🔍 Running cross-validation: stratifiedkfold with 5 splits, scoring=roc_auc\n"
          ]
        },
        {
          "output_type": "stream",
          "name": "stderr",
          "text": [
            "/usr/local/lib/python3.11/dist-packages/xgboost/core.py:158: UserWarning: [06:08:24] WARNING: /workspace/src/learner.cc:740: \n",
            "Parameters: { \"use_label_encoder\" } are not used.\n",
            "\n",
            "  warnings.warn(smsg, UserWarning)\n",
            "/usr/local/lib/python3.11/dist-packages/xgboost/core.py:158: UserWarning: [06:08:31] WARNING: /workspace/src/learner.cc:740: \n",
            "Parameters: { \"use_label_encoder\" } are not used.\n",
            "\n",
            "  warnings.warn(smsg, UserWarning)\n",
            "/usr/local/lib/python3.11/dist-packages/xgboost/core.py:158: UserWarning: [06:08:39] WARNING: /workspace/src/learner.cc:740: \n",
            "Parameters: { \"use_label_encoder\" } are not used.\n",
            "\n",
            "  warnings.warn(smsg, UserWarning)\n",
            "/usr/local/lib/python3.11/dist-packages/xgboost/core.py:158: UserWarning: [06:08:51] WARNING: /workspace/src/learner.cc:740: \n",
            "Parameters: { \"use_label_encoder\" } are not used.\n",
            "\n",
            "  warnings.warn(smsg, UserWarning)\n"
          ]
        },
        {
          "output_type": "stream",
          "name": "stdout",
          "text": [
            "✅ Cross-validation scores: [0.9052 0.9055 0.9074 0.9056 0.9096]\n",
            "Mean score: 0.9067 | Std: 0.0017\n"
          ]
        },
        {
          "output_type": "execute_result",
          "data": {
            "text/plain": [
              "array([0.90520309, 0.90551257, 0.90742965, 0.90556246, 0.90957342])"
            ]
          },
          "metadata": {},
          "execution_count": 78
        }
      ]
    },
    {
      "cell_type": "markdown",
      "source": [
        "# Hyperparameter tuning"
      ],
      "metadata": {
        "id": "9vEEn2N8Q2Wp"
      }
    },
    {
      "cell_type": "code",
      "source": [
        "from sklearn.model_selection import RandomizedSearchCV, GridSearchCV\n",
        "\n",
        "def tune_model(model, model_name, X_train, y_train, config):\n",
        "    tuning_cfg = config.get(\"tuning\", {})\n",
        "    if not tuning_cfg.get(\"enabled\", False):\n",
        "        print(\"⚙️ Hyperparameter tuning disabled; using given params.\")\n",
        "        return model\n",
        "\n",
        "    method = tuning_cfg.get(\"method\", \"random_search\")\n",
        "    cv = tuning_cfg.get(\"cv\", 5)\n",
        "    scoring = tuning_cfg.get(\"scoring\", \"roc_auc\")\n",
        "    n_iter = tuning_cfg.get(\"n_iter\", 10)\n",
        "\n",
        "    # ✅ Merge default & user-provided search space\n",
        "    search_space = tuning_cfg.get(\"search_space\", {}).get(model_name, {})\n",
        "    if not search_space:\n",
        "        print(f\"⚠️ No search space defined for {model_name}; skipping tuning.\")\n",
        "        return model\n",
        "\n",
        "    print(f\"\\n🔍 Starting hyperparameter tuning: {method} for model '{model_name}'\")\n",
        "    print(f\"Search space: {search_space}\")\n",
        "\n",
        "    if method == \"random_search\":\n",
        "        search = RandomizedSearchCV(\n",
        "            estimator=model,\n",
        "            param_distributions=search_space,\n",
        "            n_iter=n_iter,\n",
        "            scoring=scoring,\n",
        "            cv=cv,\n",
        "            random_state=42,\n",
        "            n_jobs=-1\n",
        "        )\n",
        "    elif method == \"grid_search\":\n",
        "        search = GridSearchCV(\n",
        "            estimator=model,\n",
        "            param_grid=search_space,\n",
        "            scoring=scoring,\n",
        "            cv=cv,\n",
        "            n_jobs=-1\n",
        "        )\n",
        "    else:\n",
        "        raise ValueError(f\"Unsupported tuning method: {method}\")\n",
        "\n",
        "    search.fit(X_train, y_train)\n",
        "    print(f\"✅ Best params found: {search.best_params_}\")\n",
        "    print(f\"📊 Best cross-validated score: {search.best_score_:.4f}\")\n",
        "    return search.best_estimator_\n"
      ],
      "metadata": {
        "id": "Xa5lcABKRL0w"
      },
      "execution_count": null,
      "outputs": []
    },
    {
      "cell_type": "code",
      "source": [
        "model_name = config_pakdd[\"model\"][\"type\"]\n",
        "# Tune hyperparameters\n",
        "final_model = tune_model(xgb_model,model_name , X_train_final, y_train, config_pakdd)\n",
        "\n",
        "# Then fit/predict as usual\n",
        "final_model.fit(X_train_final, y_train)"
      ],
      "metadata": {
        "colab": {
          "base_uri": "https://localhost:8080/",
          "height": 340
        },
        "id": "0hBxhwW5RPG6",
        "outputId": "1d39a02c-bc06-4cfc-eb73-d0b736c06d0d"
      },
      "execution_count": null,
      "outputs": [
        {
          "output_type": "stream",
          "name": "stdout",
          "text": [
            "\n",
            "🔍 Starting hyperparameter tuning: random_search for model 'XGB'\n",
            "Search space: {'n_estimators': [50, 100, 200], 'learning_rate': [0.01, 0.1, 0.2]}\n",
            "✅ Best params found: {'n_estimators': 100, 'learning_rate': 0.1}\n",
            "📊 Best cross-validated score: 0.9070\n"
          ]
        },
        {
          "output_type": "execute_result",
          "data": {
            "text/plain": [
              "XGBClassifier(base_score=None, booster=None, callbacks=None,\n",
              "              colsample_bylevel=None, colsample_bynode=None,\n",
              "              colsample_bytree=None, device=None, early_stopping_rounds=None,\n",
              "              enable_categorical=False, eval_metric='logloss',\n",
              "              feature_types=None, gamma=None, grow_policy=None,\n",
              "              importance_type=None, interaction_constraints=None,\n",
              "              learning_rate=0.1, max_bin=None, max_cat_threshold=None,\n",
              "              max_cat_to_onehot=None, max_delta_step=None, max_depth=6,\n",
              "              max_leaves=None, min_child_weight=None, missing=nan,\n",
              "              monotone_constraints=None, multi_strategy=None, n_estimators=100,\n",
              "              n_jobs=None, num_parallel_tree=None, random_state=42, ...)"
            ],
            "text/html": [
              "<style>#sk-container-id-2 {\n",
              "  /* Definition of color scheme common for light and dark mode */\n",
              "  --sklearn-color-text: #000;\n",
              "  --sklearn-color-text-muted: #666;\n",
              "  --sklearn-color-line: gray;\n",
              "  /* Definition of color scheme for unfitted estimators */\n",
              "  --sklearn-color-unfitted-level-0: #fff5e6;\n",
              "  --sklearn-color-unfitted-level-1: #f6e4d2;\n",
              "  --sklearn-color-unfitted-level-2: #ffe0b3;\n",
              "  --sklearn-color-unfitted-level-3: chocolate;\n",
              "  /* Definition of color scheme for fitted estimators */\n",
              "  --sklearn-color-fitted-level-0: #f0f8ff;\n",
              "  --sklearn-color-fitted-level-1: #d4ebff;\n",
              "  --sklearn-color-fitted-level-2: #b3dbfd;\n",
              "  --sklearn-color-fitted-level-3: cornflowerblue;\n",
              "\n",
              "  /* Specific color for light theme */\n",
              "  --sklearn-color-text-on-default-background: var(--sg-text-color, var(--theme-code-foreground, var(--jp-content-font-color1, black)));\n",
              "  --sklearn-color-background: var(--sg-background-color, var(--theme-background, var(--jp-layout-color0, white)));\n",
              "  --sklearn-color-border-box: var(--sg-text-color, var(--theme-code-foreground, var(--jp-content-font-color1, black)));\n",
              "  --sklearn-color-icon: #696969;\n",
              "\n",
              "  @media (prefers-color-scheme: dark) {\n",
              "    /* Redefinition of color scheme for dark theme */\n",
              "    --sklearn-color-text-on-default-background: var(--sg-text-color, var(--theme-code-foreground, var(--jp-content-font-color1, white)));\n",
              "    --sklearn-color-background: var(--sg-background-color, var(--theme-background, var(--jp-layout-color0, #111)));\n",
              "    --sklearn-color-border-box: var(--sg-text-color, var(--theme-code-foreground, var(--jp-content-font-color1, white)));\n",
              "    --sklearn-color-icon: #878787;\n",
              "  }\n",
              "}\n",
              "\n",
              "#sk-container-id-2 {\n",
              "  color: var(--sklearn-color-text);\n",
              "}\n",
              "\n",
              "#sk-container-id-2 pre {\n",
              "  padding: 0;\n",
              "}\n",
              "\n",
              "#sk-container-id-2 input.sk-hidden--visually {\n",
              "  border: 0;\n",
              "  clip: rect(1px 1px 1px 1px);\n",
              "  clip: rect(1px, 1px, 1px, 1px);\n",
              "  height: 1px;\n",
              "  margin: -1px;\n",
              "  overflow: hidden;\n",
              "  padding: 0;\n",
              "  position: absolute;\n",
              "  width: 1px;\n",
              "}\n",
              "\n",
              "#sk-container-id-2 div.sk-dashed-wrapped {\n",
              "  border: 1px dashed var(--sklearn-color-line);\n",
              "  margin: 0 0.4em 0.5em 0.4em;\n",
              "  box-sizing: border-box;\n",
              "  padding-bottom: 0.4em;\n",
              "  background-color: var(--sklearn-color-background);\n",
              "}\n",
              "\n",
              "#sk-container-id-2 div.sk-container {\n",
              "  /* jupyter's `normalize.less` sets `[hidden] { display: none; }`\n",
              "     but bootstrap.min.css set `[hidden] { display: none !important; }`\n",
              "     so we also need the `!important` here to be able to override the\n",
              "     default hidden behavior on the sphinx rendered scikit-learn.org.\n",
              "     See: https://github.com/scikit-learn/scikit-learn/issues/21755 */\n",
              "  display: inline-block !important;\n",
              "  position: relative;\n",
              "}\n",
              "\n",
              "#sk-container-id-2 div.sk-text-repr-fallback {\n",
              "  display: none;\n",
              "}\n",
              "\n",
              "div.sk-parallel-item,\n",
              "div.sk-serial,\n",
              "div.sk-item {\n",
              "  /* draw centered vertical line to link estimators */\n",
              "  background-image: linear-gradient(var(--sklearn-color-text-on-default-background), var(--sklearn-color-text-on-default-background));\n",
              "  background-size: 2px 100%;\n",
              "  background-repeat: no-repeat;\n",
              "  background-position: center center;\n",
              "}\n",
              "\n",
              "/* Parallel-specific style estimator block */\n",
              "\n",
              "#sk-container-id-2 div.sk-parallel-item::after {\n",
              "  content: \"\";\n",
              "  width: 100%;\n",
              "  border-bottom: 2px solid var(--sklearn-color-text-on-default-background);\n",
              "  flex-grow: 1;\n",
              "}\n",
              "\n",
              "#sk-container-id-2 div.sk-parallel {\n",
              "  display: flex;\n",
              "  align-items: stretch;\n",
              "  justify-content: center;\n",
              "  background-color: var(--sklearn-color-background);\n",
              "  position: relative;\n",
              "}\n",
              "\n",
              "#sk-container-id-2 div.sk-parallel-item {\n",
              "  display: flex;\n",
              "  flex-direction: column;\n",
              "}\n",
              "\n",
              "#sk-container-id-2 div.sk-parallel-item:first-child::after {\n",
              "  align-self: flex-end;\n",
              "  width: 50%;\n",
              "}\n",
              "\n",
              "#sk-container-id-2 div.sk-parallel-item:last-child::after {\n",
              "  align-self: flex-start;\n",
              "  width: 50%;\n",
              "}\n",
              "\n",
              "#sk-container-id-2 div.sk-parallel-item:only-child::after {\n",
              "  width: 0;\n",
              "}\n",
              "\n",
              "/* Serial-specific style estimator block */\n",
              "\n",
              "#sk-container-id-2 div.sk-serial {\n",
              "  display: flex;\n",
              "  flex-direction: column;\n",
              "  align-items: center;\n",
              "  background-color: var(--sklearn-color-background);\n",
              "  padding-right: 1em;\n",
              "  padding-left: 1em;\n",
              "}\n",
              "\n",
              "\n",
              "/* Toggleable style: style used for estimator/Pipeline/ColumnTransformer box that is\n",
              "clickable and can be expanded/collapsed.\n",
              "- Pipeline and ColumnTransformer use this feature and define the default style\n",
              "- Estimators will overwrite some part of the style using the `sk-estimator` class\n",
              "*/\n",
              "\n",
              "/* Pipeline and ColumnTransformer style (default) */\n",
              "\n",
              "#sk-container-id-2 div.sk-toggleable {\n",
              "  /* Default theme specific background. It is overwritten whether we have a\n",
              "  specific estimator or a Pipeline/ColumnTransformer */\n",
              "  background-color: var(--sklearn-color-background);\n",
              "}\n",
              "\n",
              "/* Toggleable label */\n",
              "#sk-container-id-2 label.sk-toggleable__label {\n",
              "  cursor: pointer;\n",
              "  display: flex;\n",
              "  width: 100%;\n",
              "  margin-bottom: 0;\n",
              "  padding: 0.5em;\n",
              "  box-sizing: border-box;\n",
              "  text-align: center;\n",
              "  align-items: start;\n",
              "  justify-content: space-between;\n",
              "  gap: 0.5em;\n",
              "}\n",
              "\n",
              "#sk-container-id-2 label.sk-toggleable__label .caption {\n",
              "  font-size: 0.6rem;\n",
              "  font-weight: lighter;\n",
              "  color: var(--sklearn-color-text-muted);\n",
              "}\n",
              "\n",
              "#sk-container-id-2 label.sk-toggleable__label-arrow:before {\n",
              "  /* Arrow on the left of the label */\n",
              "  content: \"▸\";\n",
              "  float: left;\n",
              "  margin-right: 0.25em;\n",
              "  color: var(--sklearn-color-icon);\n",
              "}\n",
              "\n",
              "#sk-container-id-2 label.sk-toggleable__label-arrow:hover:before {\n",
              "  color: var(--sklearn-color-text);\n",
              "}\n",
              "\n",
              "/* Toggleable content - dropdown */\n",
              "\n",
              "#sk-container-id-2 div.sk-toggleable__content {\n",
              "  max-height: 0;\n",
              "  max-width: 0;\n",
              "  overflow: hidden;\n",
              "  text-align: left;\n",
              "  /* unfitted */\n",
              "  background-color: var(--sklearn-color-unfitted-level-0);\n",
              "}\n",
              "\n",
              "#sk-container-id-2 div.sk-toggleable__content.fitted {\n",
              "  /* fitted */\n",
              "  background-color: var(--sklearn-color-fitted-level-0);\n",
              "}\n",
              "\n",
              "#sk-container-id-2 div.sk-toggleable__content pre {\n",
              "  margin: 0.2em;\n",
              "  border-radius: 0.25em;\n",
              "  color: var(--sklearn-color-text);\n",
              "  /* unfitted */\n",
              "  background-color: var(--sklearn-color-unfitted-level-0);\n",
              "}\n",
              "\n",
              "#sk-container-id-2 div.sk-toggleable__content.fitted pre {\n",
              "  /* unfitted */\n",
              "  background-color: var(--sklearn-color-fitted-level-0);\n",
              "}\n",
              "\n",
              "#sk-container-id-2 input.sk-toggleable__control:checked~div.sk-toggleable__content {\n",
              "  /* Expand drop-down */\n",
              "  max-height: 200px;\n",
              "  max-width: 100%;\n",
              "  overflow: auto;\n",
              "}\n",
              "\n",
              "#sk-container-id-2 input.sk-toggleable__control:checked~label.sk-toggleable__label-arrow:before {\n",
              "  content: \"▾\";\n",
              "}\n",
              "\n",
              "/* Pipeline/ColumnTransformer-specific style */\n",
              "\n",
              "#sk-container-id-2 div.sk-label input.sk-toggleable__control:checked~label.sk-toggleable__label {\n",
              "  color: var(--sklearn-color-text);\n",
              "  background-color: var(--sklearn-color-unfitted-level-2);\n",
              "}\n",
              "\n",
              "#sk-container-id-2 div.sk-label.fitted input.sk-toggleable__control:checked~label.sk-toggleable__label {\n",
              "  background-color: var(--sklearn-color-fitted-level-2);\n",
              "}\n",
              "\n",
              "/* Estimator-specific style */\n",
              "\n",
              "/* Colorize estimator box */\n",
              "#sk-container-id-2 div.sk-estimator input.sk-toggleable__control:checked~label.sk-toggleable__label {\n",
              "  /* unfitted */\n",
              "  background-color: var(--sklearn-color-unfitted-level-2);\n",
              "}\n",
              "\n",
              "#sk-container-id-2 div.sk-estimator.fitted input.sk-toggleable__control:checked~label.sk-toggleable__label {\n",
              "  /* fitted */\n",
              "  background-color: var(--sklearn-color-fitted-level-2);\n",
              "}\n",
              "\n",
              "#sk-container-id-2 div.sk-label label.sk-toggleable__label,\n",
              "#sk-container-id-2 div.sk-label label {\n",
              "  /* The background is the default theme color */\n",
              "  color: var(--sklearn-color-text-on-default-background);\n",
              "}\n",
              "\n",
              "/* On hover, darken the color of the background */\n",
              "#sk-container-id-2 div.sk-label:hover label.sk-toggleable__label {\n",
              "  color: var(--sklearn-color-text);\n",
              "  background-color: var(--sklearn-color-unfitted-level-2);\n",
              "}\n",
              "\n",
              "/* Label box, darken color on hover, fitted */\n",
              "#sk-container-id-2 div.sk-label.fitted:hover label.sk-toggleable__label.fitted {\n",
              "  color: var(--sklearn-color-text);\n",
              "  background-color: var(--sklearn-color-fitted-level-2);\n",
              "}\n",
              "\n",
              "/* Estimator label */\n",
              "\n",
              "#sk-container-id-2 div.sk-label label {\n",
              "  font-family: monospace;\n",
              "  font-weight: bold;\n",
              "  display: inline-block;\n",
              "  line-height: 1.2em;\n",
              "}\n",
              "\n",
              "#sk-container-id-2 div.sk-label-container {\n",
              "  text-align: center;\n",
              "}\n",
              "\n",
              "/* Estimator-specific */\n",
              "#sk-container-id-2 div.sk-estimator {\n",
              "  font-family: monospace;\n",
              "  border: 1px dotted var(--sklearn-color-border-box);\n",
              "  border-radius: 0.25em;\n",
              "  box-sizing: border-box;\n",
              "  margin-bottom: 0.5em;\n",
              "  /* unfitted */\n",
              "  background-color: var(--sklearn-color-unfitted-level-0);\n",
              "}\n",
              "\n",
              "#sk-container-id-2 div.sk-estimator.fitted {\n",
              "  /* fitted */\n",
              "  background-color: var(--sklearn-color-fitted-level-0);\n",
              "}\n",
              "\n",
              "/* on hover */\n",
              "#sk-container-id-2 div.sk-estimator:hover {\n",
              "  /* unfitted */\n",
              "  background-color: var(--sklearn-color-unfitted-level-2);\n",
              "}\n",
              "\n",
              "#sk-container-id-2 div.sk-estimator.fitted:hover {\n",
              "  /* fitted */\n",
              "  background-color: var(--sklearn-color-fitted-level-2);\n",
              "}\n",
              "\n",
              "/* Specification for estimator info (e.g. \"i\" and \"?\") */\n",
              "\n",
              "/* Common style for \"i\" and \"?\" */\n",
              "\n",
              ".sk-estimator-doc-link,\n",
              "a:link.sk-estimator-doc-link,\n",
              "a:visited.sk-estimator-doc-link {\n",
              "  float: right;\n",
              "  font-size: smaller;\n",
              "  line-height: 1em;\n",
              "  font-family: monospace;\n",
              "  background-color: var(--sklearn-color-background);\n",
              "  border-radius: 1em;\n",
              "  height: 1em;\n",
              "  width: 1em;\n",
              "  text-decoration: none !important;\n",
              "  margin-left: 0.5em;\n",
              "  text-align: center;\n",
              "  /* unfitted */\n",
              "  border: var(--sklearn-color-unfitted-level-1) 1pt solid;\n",
              "  color: var(--sklearn-color-unfitted-level-1);\n",
              "}\n",
              "\n",
              ".sk-estimator-doc-link.fitted,\n",
              "a:link.sk-estimator-doc-link.fitted,\n",
              "a:visited.sk-estimator-doc-link.fitted {\n",
              "  /* fitted */\n",
              "  border: var(--sklearn-color-fitted-level-1) 1pt solid;\n",
              "  color: var(--sklearn-color-fitted-level-1);\n",
              "}\n",
              "\n",
              "/* On hover */\n",
              "div.sk-estimator:hover .sk-estimator-doc-link:hover,\n",
              ".sk-estimator-doc-link:hover,\n",
              "div.sk-label-container:hover .sk-estimator-doc-link:hover,\n",
              ".sk-estimator-doc-link:hover {\n",
              "  /* unfitted */\n",
              "  background-color: var(--sklearn-color-unfitted-level-3);\n",
              "  color: var(--sklearn-color-background);\n",
              "  text-decoration: none;\n",
              "}\n",
              "\n",
              "div.sk-estimator.fitted:hover .sk-estimator-doc-link.fitted:hover,\n",
              ".sk-estimator-doc-link.fitted:hover,\n",
              "div.sk-label-container:hover .sk-estimator-doc-link.fitted:hover,\n",
              ".sk-estimator-doc-link.fitted:hover {\n",
              "  /* fitted */\n",
              "  background-color: var(--sklearn-color-fitted-level-3);\n",
              "  color: var(--sklearn-color-background);\n",
              "  text-decoration: none;\n",
              "}\n",
              "\n",
              "/* Span, style for the box shown on hovering the info icon */\n",
              ".sk-estimator-doc-link span {\n",
              "  display: none;\n",
              "  z-index: 9999;\n",
              "  position: relative;\n",
              "  font-weight: normal;\n",
              "  right: .2ex;\n",
              "  padding: .5ex;\n",
              "  margin: .5ex;\n",
              "  width: min-content;\n",
              "  min-width: 20ex;\n",
              "  max-width: 50ex;\n",
              "  color: var(--sklearn-color-text);\n",
              "  box-shadow: 2pt 2pt 4pt #999;\n",
              "  /* unfitted */\n",
              "  background: var(--sklearn-color-unfitted-level-0);\n",
              "  border: .5pt solid var(--sklearn-color-unfitted-level-3);\n",
              "}\n",
              "\n",
              ".sk-estimator-doc-link.fitted span {\n",
              "  /* fitted */\n",
              "  background: var(--sklearn-color-fitted-level-0);\n",
              "  border: var(--sklearn-color-fitted-level-3);\n",
              "}\n",
              "\n",
              ".sk-estimator-doc-link:hover span {\n",
              "  display: block;\n",
              "}\n",
              "\n",
              "/* \"?\"-specific style due to the `<a>` HTML tag */\n",
              "\n",
              "#sk-container-id-2 a.estimator_doc_link {\n",
              "  float: right;\n",
              "  font-size: 1rem;\n",
              "  line-height: 1em;\n",
              "  font-family: monospace;\n",
              "  background-color: var(--sklearn-color-background);\n",
              "  border-radius: 1rem;\n",
              "  height: 1rem;\n",
              "  width: 1rem;\n",
              "  text-decoration: none;\n",
              "  /* unfitted */\n",
              "  color: var(--sklearn-color-unfitted-level-1);\n",
              "  border: var(--sklearn-color-unfitted-level-1) 1pt solid;\n",
              "}\n",
              "\n",
              "#sk-container-id-2 a.estimator_doc_link.fitted {\n",
              "  /* fitted */\n",
              "  border: var(--sklearn-color-fitted-level-1) 1pt solid;\n",
              "  color: var(--sklearn-color-fitted-level-1);\n",
              "}\n",
              "\n",
              "/* On hover */\n",
              "#sk-container-id-2 a.estimator_doc_link:hover {\n",
              "  /* unfitted */\n",
              "  background-color: var(--sklearn-color-unfitted-level-3);\n",
              "  color: var(--sklearn-color-background);\n",
              "  text-decoration: none;\n",
              "}\n",
              "\n",
              "#sk-container-id-2 a.estimator_doc_link.fitted:hover {\n",
              "  /* fitted */\n",
              "  background-color: var(--sklearn-color-fitted-level-3);\n",
              "}\n",
              "</style><div id=\"sk-container-id-2\" class=\"sk-top-container\"><div class=\"sk-text-repr-fallback\"><pre>XGBClassifier(base_score=None, booster=None, callbacks=None,\n",
              "              colsample_bylevel=None, colsample_bynode=None,\n",
              "              colsample_bytree=None, device=None, early_stopping_rounds=None,\n",
              "              enable_categorical=False, eval_metric=&#x27;logloss&#x27;,\n",
              "              feature_types=None, gamma=None, grow_policy=None,\n",
              "              importance_type=None, interaction_constraints=None,\n",
              "              learning_rate=0.1, max_bin=None, max_cat_threshold=None,\n",
              "              max_cat_to_onehot=None, max_delta_step=None, max_depth=6,\n",
              "              max_leaves=None, min_child_weight=None, missing=nan,\n",
              "              monotone_constraints=None, multi_strategy=None, n_estimators=100,\n",
              "              n_jobs=None, num_parallel_tree=None, random_state=42, ...)</pre><b>In a Jupyter environment, please rerun this cell to show the HTML representation or trust the notebook. <br />On GitHub, the HTML representation is unable to render, please try loading this page with nbviewer.org.</b></div><div class=\"sk-container\" hidden><div class=\"sk-item\"><div class=\"sk-estimator fitted sk-toggleable\"><input class=\"sk-toggleable__control sk-hidden--visually\" id=\"sk-estimator-id-2\" type=\"checkbox\" checked><label for=\"sk-estimator-id-2\" class=\"sk-toggleable__label fitted sk-toggleable__label-arrow\"><div><div>XGBClassifier</div></div><div><span class=\"sk-estimator-doc-link fitted\">i<span>Fitted</span></span></div></label><div class=\"sk-toggleable__content fitted\"><pre>XGBClassifier(base_score=None, booster=None, callbacks=None,\n",
              "              colsample_bylevel=None, colsample_bynode=None,\n",
              "              colsample_bytree=None, device=None, early_stopping_rounds=None,\n",
              "              enable_categorical=False, eval_metric=&#x27;logloss&#x27;,\n",
              "              feature_types=None, gamma=None, grow_policy=None,\n",
              "              importance_type=None, interaction_constraints=None,\n",
              "              learning_rate=0.1, max_bin=None, max_cat_threshold=None,\n",
              "              max_cat_to_onehot=None, max_delta_step=None, max_depth=6,\n",
              "              max_leaves=None, min_child_weight=None, missing=nan,\n",
              "              monotone_constraints=None, multi_strategy=None, n_estimators=100,\n",
              "              n_jobs=None, num_parallel_tree=None, random_state=42, ...)</pre></div> </div></div></div></div>"
            ]
          },
          "metadata": {},
          "execution_count": 111
        }
      ]
    },
    {
      "cell_type": "code",
      "source": [
        "evaluate_model(final_model,X_val_final, y_val,task=\"classification\")"
      ],
      "metadata": {
        "colab": {
          "base_uri": "https://localhost:8080/"
        },
        "id": "wHrUpa6tdSQp",
        "outputId": "1145c746-e47e-4eb3-bcdd-03fe25162003"
      },
      "execution_count": null,
      "outputs": [
        {
          "output_type": "stream",
          "name": "stdout",
          "text": [
            "\n",
            "📊 Evaluation Metrics:\n",
            "----------------------------------------\n",
            "Accuracy       : 0.6983\n",
            "Precision      : 0.3579\n",
            "Recall         : 0.1975\n",
            "F1 Score       : 0.2545\n",
            "ROC-AUC Score  : 0.5819\n",
            "\n",
            "Classification Report:\n",
            "               precision    recall  f1-score   support\n",
            "\n",
            "           0       0.76      0.88      0.81      7392\n",
            "           1       0.36      0.20      0.25      2608\n",
            "\n",
            "    accuracy                           0.70     10000\n",
            "   macro avg       0.56      0.54      0.53     10000\n",
            "weighted avg       0.65      0.70      0.67     10000\n",
            "\n",
            "Confusion Matrix:\n",
            " [[6468  924]\n",
            " [2093  515]]\n"
          ]
        }
      ]
    },
    {
      "cell_type": "markdown",
      "source": [
        "# Model explainability using SHAP"
      ],
      "metadata": {
        "id": "ae9YU_rULAug"
      }
    },
    {
      "cell_type": "code",
      "source": [
        "import shap\n",
        "import matplotlib.pyplot as plt\n",
        "\n",
        "def explain_model_with_shap(model, X_train, X_test, feature_names=None, max_display=10):\n",
        "    print(\"\\n🔍 Running SHAP analysis for model interpretability...\")\n",
        "\n",
        "    # Use TreeExplainer for tree-based models\n",
        "    explainer = shap.TreeExplainer(model)\n",
        "    shap_values = explainer.shap_values(X_test)\n",
        "\n",
        "    # If model is multiclass classifier, shap_values will be a list\n",
        "    if isinstance(shap_values, list):\n",
        "        shap_values_to_plot = shap_values[0]  # usually first class\n",
        "    else:\n",
        "        shap_values_to_plot = shap_values\n",
        "\n",
        "    # ✅ Summary plot\n",
        "    shap.summary_plot(shap_values_to_plot, X_test, feature_names=feature_names, max_display=max_display)\n",
        "    # ✅ Bar plot\n",
        "    shap.summary_plot(shap_values_to_plot, X_test, feature_names=feature_names, plot_type='bar', max_display=max_display)\n"
      ],
      "metadata": {
        "id": "AO7A50q7MqCU"
      },
      "execution_count": null,
      "outputs": []
    },
    {
      "cell_type": "code",
      "source": [
        "explain_model_with_shap(\n",
        "    model=xgb_model,\n",
        "    X_train=X_train_final,\n",
        "    X_test=X_val_final,\n",
        "    feature_names=X_train_final.columns\n",
        ")"
      ],
      "metadata": {
        "colab": {
          "base_uri": "https://localhost:8080/",
          "height": 1000
        },
        "id": "1-Hl2xE6LZgu",
        "outputId": "ef2499a1-c175-4176-dcb4-df981e58d480"
      },
      "execution_count": null,
      "outputs": [
        {
          "output_type": "stream",
          "name": "stdout",
          "text": [
            "\n",
            "🔍 Running SHAP analysis for model interpretability...\n"
          ]
        },
        {
          "output_type": "display_data",
          "data": {
            "text/plain": [
              "<Figure size 800x550 with 2 Axes>"
            ],
            "image/png": "[encoded data removed]"
          },
          "metadata": {}
        },
        {
          "output_type": "display_data",
          "data": {
            "text/plain": [
              "<Figure size 800x550 with 1 Axes>"
            ],
            "image/png": "[encoded data removed]"
          },
          "metadata": {}
        }
      ]
    },
    {
      "cell_type": "markdown",
      "source": [
        "# Bias and Fairness check"
      ],
      "metadata": {
        "id": "Ovmi_9N3NNNr"
      }
    },
    {
      "cell_type": "code",
      "source": [
        "from fairlearn.metrics import MetricFrame, demographic_parity_difference, equalized_odds_difference\n",
        "from sklearn.metrics import accuracy_score, precision_score, recall_score\n",
        "\n",
        "def evaluate_fairness(y_true, y_pred, X_test, config):\n",
        "    fairness_cfg = config.get(\"fairness\", {})\n",
        "    if not fairness_cfg.get(\"enabled\", False):\n",
        "        print(\"⚙️ Fairness evaluation disabled.\")\n",
        "        return\n",
        "\n",
        "    sensitive_features_list = fairness_cfg.get(\"sensitive_features\", [])\n",
        "    print(\"\\n⚖️ Bias & Fairness Metrics:\")\n",
        "    print(\"-\" * 50)\n",
        "\n",
        "    for feat in sensitive_features_list:\n",
        "        if feat not in X_test.columns:\n",
        "            print(f\"\\n⚠️ Skipping '{feat}' (not in data)\")\n",
        "            continue\n",
        "\n",
        "        print(f\"\\n📊 Fairness metrics for sensitive feature: '{feat}'\")\n",
        "        sf = X_test[feat]\n",
        "\n",
        "        # MetricFrame: computes metrics per group\n",
        "        frame = MetricFrame(\n",
        "            metrics={\n",
        "                'accuracy': accuracy_score,\n",
        "                'precision': precision_score,\n",
        "                'recall': recall_score\n",
        "            },\n",
        "            y_true=y_true,\n",
        "            y_pred=y_pred,\n",
        "            sensitive_features=sf\n",
        "        )\n",
        "        print(\"Per-group metrics:\\n\", frame.by_group)\n",
        "\n",
        "        # Group fairness disparities\n",
        "        dpd = demographic_parity_difference(y_true, y_pred, sensitive_features=sf)\n",
        "        eod = equalized_odds_difference(y_true, y_pred, sensitive_features=sf)\n",
        "\n",
        "        print(f\"Demographic Parity Difference : {dpd:.4f}\")\n",
        "        print(f\"Equalized Odds Difference     : {eod:.4f}\")\n"
      ],
      "metadata": {
        "id": "h91dLSIENQCt"
      },
      "execution_count": null,
      "outputs": []
    },
    {
      "cell_type": "code",
      "source": [
        "y_pred = xgb_model.predict(X_val_final)\n",
        "\n",
        "evaluate_fairness(\n",
        "    y_true=y_val,\n",
        "    y_pred=y_pred,\n",
        "    X_test=X_val_final,\n",
        "    config=config_pakdd\n",
        ")"
      ],
      "metadata": {
        "colab": {
          "base_uri": "https://localhost:8080/"
        },
        "id": "tplMK3lcNxRn",
        "outputId": "5a945d58-8c62-4445-b662-59413cde64d3"
      },
      "execution_count": null,
      "outputs": [
        {
          "output_type": "stream",
          "name": "stdout",
          "text": [
            "\n",
            "⚖️ Bias & Fairness Metrics:\n",
            "--------------------------------------------------\n",
            "\n",
            "⚠️ Skipping 'SEX' (not in data)\n",
            "\n",
            "📊 Fairness metrics for sensitive feature: 'STATE_OF_BIRTH'\n",
            "Per-group metrics:\n",
            "                 accuracy  precision    recall\n",
            "STATE_OF_BIRTH                               \n",
            "-2.835218       0.762821   0.142857  0.031250\n",
            "-1.606934       0.700521   0.370370  0.198020\n",
            "-1.562260       0.746098   0.336207  0.189320\n",
            "-1.109722       0.729299   0.250000  0.115942\n",
            "-1.056668       0.687747   0.368932  0.180952\n",
            "-0.906980       0.666667   0.366667  0.154930\n",
            "-0.720263       0.812500   0.750000  0.375000\n",
            "-0.383500       0.666667   0.666667  0.666667\n",
            "-0.090260       0.667910   0.340426  0.216216\n",
            " 0.144138       0.669231   0.428571  0.146341\n",
            " 0.145352       0.686275   0.250000  0.166667\n",
            " 0.148363       0.681633   0.366667  0.202206\n",
            " 0.304952       0.637681   0.227273  0.131579\n",
            " 0.321268       0.717714   0.394958  0.211712\n",
            " 0.454238       0.684693   0.347826  0.189831\n",
            " 0.485825       0.866667   1.000000  0.333333\n",
            " 0.547068       0.715217   0.242424  0.164948\n",
            " 0.557383       0.684300   0.343195  0.182965\n",
            " 0.563803       0.701705   0.387755  0.202128\n",
            " 0.611378       0.711712   0.379310  0.268293\n",
            " 0.634052       0.702128   0.377358  0.202020\n",
            " 0.821531       0.722222   0.526316  0.476190\n",
            " 0.921859       0.687500   0.500000  0.300000\n",
            " 1.530413       0.649547   0.327273  0.185567\n",
            " 1.802845       0.711656   0.382353  0.333333\n",
            " 2.039607       0.676056   0.357143  0.263158\n",
            " 2.053178       0.584270   0.285714  0.129032\n",
            " 2.915750       0.689655   0.529412  0.473684\n",
            "Demographic Parity Difference : 0.4551\n",
            "Equalized Odds Difference     : 0.6354\n",
            "\n",
            "📊 Fairness metrics for sensitive feature: 'AGE'\n"
          ]
        },
        {
          "output_type": "stream",
          "name": "stderr",
          "text": [
            "/usr/local/lib/python3.11/dist-packages/sklearn/metrics/_classification.py:1565: UndefinedMetricWarning: Precision is ill-defined and being set to 0.0 due to no predicted samples. Use `zero_division` parameter to control this behavior.\n",
            "  _warn_prf(average, modifier, f\"{metric.capitalize()} is\", len(result))\n",
            "/usr/local/lib/python3.11/dist-packages/sklearn/metrics/_classification.py:1565: UndefinedMetricWarning: Precision is ill-defined and being set to 0.0 due to no predicted samples. Use `zero_division` parameter to control this behavior.\n",
            "  _warn_prf(average, modifier, f\"{metric.capitalize()} is\", len(result))\n"
          ]
        },
        {
          "output_type": "stream",
          "name": "stdout",
          "text": [
            "Per-group metrics:\n",
            "            accuracy  precision    recall\n",
            "AGE                                     \n",
            "-1.697602  0.504274   0.365854  0.319149\n",
            "-1.630274  0.637097   0.451613  0.333333\n",
            "-1.562946  0.565217   0.400000  0.222222\n",
            "-1.495618  0.587719   0.407407  0.261905\n",
            "-1.428290  0.648438   0.541667  0.276596\n",
            "...             ...        ...       ...\n",
            " 2.207423  0.828571   0.800000  0.444444\n",
            " 2.274751  0.875000   0.000000  0.000000\n",
            " 2.342079  0.720000   1.000000  0.125000\n",
            " 2.409407  0.695652   0.000000  0.000000\n",
            " 2.476735  0.677966   0.588235  0.243902\n",
            "\n",
            "[63 rows x 3 columns]\n",
            "Demographic Parity Difference : 0.3504\n",
            "Equalized Odds Difference     : 0.4444\n",
            "\n",
            "📊 Fairness metrics for sensitive feature: 'RESIDENCIAL_BOROUGH'\n"
          ]
        },
        {
          "output_type": "stream",
          "name": "stderr",
          "text": [
            "/usr/local/lib/python3.11/dist-packages/sklearn/metrics/_classification.py:1565: UndefinedMetricWarning: Precision is ill-defined and being set to 0.0 due to no predicted samples. Use `zero_division` parameter to control this behavior.\n",
            "  _warn_prf(average, modifier, f\"{metric.capitalize()} is\", len(result))\n",
            "/usr/local/lib/python3.11/dist-packages/sklearn/metrics/_classification.py:1565: UndefinedMetricWarning: Precision is ill-defined and being set to 0.0 due to no predicted samples. Use `zero_division` parameter to control this behavior.\n",
            "  _warn_prf(average, modifier, f\"{metric.capitalize()} is\", len(result))\n",
            "/usr/local/lib/python3.11/dist-packages/sklearn/metrics/_classification.py:1565: UndefinedMetricWarning: Precision is ill-defined and being set to 0.0 due to no predicted samples. Use `zero_division` parameter to control this behavior.\n",
            "  _warn_prf(average, modifier, f\"{metric.capitalize()} is\", len(result))\n",
            "/usr/local/lib/python3.11/dist-packages/sklearn/metrics/_classification.py:1565: UndefinedMetricWarning: Precision is ill-defined and being set to 0.0 due to no predicted samples. Use `zero_division` parameter to control this behavior.\n",
            "  _warn_prf(average, modifier, f\"{metric.capitalize()} is\", len(result))\n",
            "/usr/local/lib/python3.11/dist-packages/sklearn/metrics/_classification.py:1565: UndefinedMetricWarning: Precision is ill-defined and being set to 0.0 due to no predicted samples. Use `zero_division` parameter to control this behavior.\n",
            "  _warn_prf(average, modifier, f\"{metric.capitalize()} is\", len(result))\n",
            "/usr/local/lib/python3.11/dist-packages/sklearn/metrics/_classification.py:1565: UndefinedMetricWarning: Precision is ill-defined and being set to 0.0 due to no predicted samples. Use `zero_division` parameter to control this behavior.\n",
            "  _warn_prf(average, modifier, f\"{metric.capitalize()} is\", len(result))\n",
            "/usr/local/lib/python3.11/dist-packages/sklearn/metrics/_classification.py:1565: UndefinedMetricWarning: Precision is ill-defined and being set to 0.0 due to no predicted samples. Use `zero_division` parameter to control this behavior.\n",
            "  _warn_prf(average, modifier, f\"{metric.capitalize()} is\", len(result))\n",
            "/usr/local/lib/python3.11/dist-packages/sklearn/metrics/_classification.py:1565: UndefinedMetricWarning: Precision is ill-defined and being set to 0.0 due to no predicted samples. Use `zero_division` parameter to control this behavior.\n",
            "  _warn_prf(average, modifier, f\"{metric.capitalize()} is\", len(result))\n",
            "/usr/local/lib/python3.11/dist-packages/sklearn/metrics/_classification.py:1565: UndefinedMetricWarning: Precision is ill-defined and being set to 0.0 due to no predicted samples. Use `zero_division` parameter to control this behavior.\n",
            "  _warn_prf(average, modifier, f\"{metric.capitalize()} is\", len(result))\n",
            "/usr/local/lib/python3.11/dist-packages/sklearn/metrics/_classification.py:1565: UndefinedMetricWarning: Precision is ill-defined and being set to 0.0 due to no predicted samples. Use `zero_division` parameter to control this behavior.\n",
            "  _warn_prf(average, modifier, f\"{metric.capitalize()} is\", len(result))\n",
            "/usr/local/lib/python3.11/dist-packages/sklearn/metrics/_classification.py:1565: UndefinedMetricWarning: Precision is ill-defined and being set to 0.0 due to no predicted samples. Use `zero_division` parameter to control this behavior.\n",
            "  _warn_prf(average, modifier, f\"{metric.capitalize()} is\", len(result))\n",
            "/usr/local/lib/python3.11/dist-packages/sklearn/metrics/_classification.py:1565: UndefinedMetricWarning: Precision is ill-defined and being set to 0.0 due to no predicted samples. Use `zero_division` parameter to control this behavior.\n",
            "  _warn_prf(average, modifier, f\"{metric.capitalize()} is\", len(result))\n",
            "/usr/local/lib/python3.11/dist-packages/sklearn/metrics/_classification.py:1565: UndefinedMetricWarning: Precision is ill-defined and being set to 0.0 due to no predicted samples. Use `zero_division` parameter to control this behavior.\n",
            "  _warn_prf(average, modifier, f\"{metric.capitalize()} is\", len(result))\n",
            "/usr/local/lib/python3.11/dist-packages/sklearn/metrics/_classification.py:1565: UndefinedMetricWarning: Precision is ill-defined and being set to 0.0 due to no predicted samples. Use `zero_division` parameter to control this behavior.\n",
            "  _warn_prf(average, modifier, f\"{metric.capitalize()} is\", len(result))\n",
            "/usr/local/lib/python3.11/dist-packages/sklearn/metrics/_classification.py:1565: UndefinedMetricWarning: Recall is ill-defined and being set to 0.0 due to no true samples. Use `zero_division` parameter to control this behavior.\n",
            "  _warn_prf(average, modifier, f\"{metric.capitalize()} is\", len(result))\n",
            "/usr/local/lib/python3.11/dist-packages/sklearn/metrics/_classification.py:1565: UndefinedMetricWarning: Precision is ill-defined and being set to 0.0 due to no predicted samples. Use `zero_division` parameter to control this behavior.\n",
            "  _warn_prf(average, modifier, f\"{metric.capitalize()} is\", len(result))\n",
            "/usr/local/lib/python3.11/dist-packages/sklearn/metrics/_classification.py:1565: UndefinedMetricWarning: Recall is ill-defined and being set to 0.0 due to no true samples. Use `zero_division` parameter to control this behavior.\n",
            "  _warn_prf(average, modifier, f\"{metric.capitalize()} is\", len(result))\n",
            "/usr/local/lib/python3.11/dist-packages/sklearn/metrics/_classification.py:1565: UndefinedMetricWarning: Precision is ill-defined and being set to 0.0 due to no predicted samples. Use `zero_division` parameter to control this behavior.\n",
            "  _warn_prf(average, modifier, f\"{metric.capitalize()} is\", len(result))\n",
            "/usr/local/lib/python3.11/dist-packages/sklearn/metrics/_classification.py:1565: UndefinedMetricWarning: Precision is ill-defined and being set to 0.0 due to no predicted samples. Use `zero_division` parameter to control this behavior.\n",
            "  _warn_prf(average, modifier, f\"{metric.capitalize()} is\", len(result))\n",
            "/usr/local/lib/python3.11/dist-packages/sklearn/metrics/_classification.py:1565: UndefinedMetricWarning: Precision is ill-defined and being set to 0.0 due to no predicted samples. Use `zero_division` parameter to control this behavior.\n",
            "  _warn_prf(average, modifier, f\"{metric.capitalize()} is\", len(result))\n",
            "/usr/local/lib/python3.11/dist-packages/sklearn/metrics/_classification.py:1565: UndefinedMetricWarning: Precision is ill-defined and being set to 0.0 due to no predicted samples. Use `zero_division` parameter to control this behavior.\n",
            "  _warn_prf(average, modifier, f\"{metric.capitalize()} is\", len(result))\n",
            "/usr/local/lib/python3.11/dist-packages/sklearn/metrics/_classification.py:1565: UndefinedMetricWarning: Precision is ill-defined and being set to 0.0 due to no predicted samples. Use `zero_division` parameter to control this behavior.\n",
            "  _warn_prf(average, modifier, f\"{metric.capitalize()} is\", len(result))\n",
            "/usr/local/lib/python3.11/dist-packages/sklearn/metrics/_classification.py:1565: UndefinedMetricWarning: Precision is ill-defined and being set to 0.0 due to no predicted samples. Use `zero_division` parameter to control this behavior.\n",
            "  _warn_prf(average, modifier, f\"{metric.capitalize()} is\", len(result))\n",
            "/usr/local/lib/python3.11/dist-packages/sklearn/metrics/_classification.py:1565: UndefinedMetricWarning: Precision is ill-defined and being set to 0.0 due to no predicted samples. Use `zero_division` parameter to control this behavior.\n",
            "  _warn_prf(average, modifier, f\"{metric.capitalize()} is\", len(result))\n",
            "/usr/local/lib/python3.11/dist-packages/sklearn/metrics/_classification.py:1565: UndefinedMetricWarning: Recall is ill-defined and being set to 0.0 due to no true samples. Use `zero_division` parameter to control this behavior.\n",
            "  _warn_prf(average, modifier, f\"{metric.capitalize()} is\", len(result))\n",
            "/usr/local/lib/python3.11/dist-packages/sklearn/metrics/_classification.py:1565: UndefinedMetricWarning: Precision is ill-defined and being set to 0.0 due to no predicted samples. Use `zero_division` parameter to control this behavior.\n",
            "  _warn_prf(average, modifier, f\"{metric.capitalize()} is\", len(result))\n",
            "/usr/local/lib/python3.11/dist-packages/sklearn/metrics/_classification.py:1565: UndefinedMetricWarning: Precision is ill-defined and being set to 0.0 due to no predicted samples. Use `zero_division` parameter to control this behavior.\n",
            "  _warn_prf(average, modifier, f\"{metric.capitalize()} is\", len(result))\n",
            "/usr/local/lib/python3.11/dist-packages/sklearn/metrics/_classification.py:1565: UndefinedMetricWarning: Precision is ill-defined and being set to 0.0 due to no predicted samples. Use `zero_division` parameter to control this behavior.\n",
            "  _warn_prf(average, modifier, f\"{metric.capitalize()} is\", len(result))\n",
            "/usr/local/lib/python3.11/dist-packages/sklearn/metrics/_classification.py:1565: UndefinedMetricWarning: Recall is ill-defined and being set to 0.0 due to no true samples. Use `zero_division` parameter to control this behavior.\n",
            "  _warn_prf(average, modifier, f\"{metric.capitalize()} is\", len(result))\n",
            "/usr/local/lib/python3.11/dist-packages/sklearn/metrics/_classification.py:1565: UndefinedMetricWarning: Precision is ill-defined and being set to 0.0 due to no predicted samples. Use `zero_division` parameter to control this behavior.\n",
            "  _warn_prf(average, modifier, f\"{metric.capitalize()} is\", len(result))\n",
            "/usr/local/lib/python3.11/dist-packages/sklearn/metrics/_classification.py:1565: UndefinedMetricWarning: Recall is ill-defined and being set to 0.0 due to no true samples. Use `zero_division` parameter to control this behavior.\n",
            "  _warn_prf(average, modifier, f\"{metric.capitalize()} is\", len(result))\n",
            "/usr/local/lib/python3.11/dist-packages/sklearn/metrics/_classification.py:1565: UndefinedMetricWarning: Precision is ill-defined and being set to 0.0 due to no predicted samples. Use `zero_division` parameter to control this behavior.\n",
            "  _warn_prf(average, modifier, f\"{metric.capitalize()} is\", len(result))\n",
            "/usr/local/lib/python3.11/dist-packages/sklearn/metrics/_classification.py:1565: UndefinedMetricWarning: Precision is ill-defined and being set to 0.0 due to no predicted samples. Use `zero_division` parameter to control this behavior.\n",
            "  _warn_prf(average, modifier, f\"{metric.capitalize()} is\", len(result))\n",
            "/usr/local/lib/python3.11/dist-packages/sklearn/metrics/_classification.py:1565: UndefinedMetricWarning: Precision is ill-defined and being set to 0.0 due to no predicted samples. Use `zero_division` parameter to control this behavior.\n",
            "  _warn_prf(average, modifier, f\"{metric.capitalize()} is\", len(result))\n",
            "/usr/local/lib/python3.11/dist-packages/sklearn/metrics/_classification.py:1565: UndefinedMetricWarning: Recall is ill-defined and being set to 0.0 due to no true samples. Use `zero_division` parameter to control this behavior.\n",
            "  _warn_prf(average, modifier, f\"{metric.capitalize()} is\", len(result))\n",
            "/usr/local/lib/python3.11/dist-packages/sklearn/metrics/_classification.py:1565: UndefinedMetricWarning: Precision is ill-defined and being set to 0.0 due to no predicted samples. Use `zero_division` parameter to control this behavior.\n",
            "  _warn_prf(average, modifier, f\"{metric.capitalize()} is\", len(result))\n",
            "/usr/local/lib/python3.11/dist-packages/sklearn/metrics/_classification.py:1565: UndefinedMetricWarning: Precision is ill-defined and being set to 0.0 due to no predicted samples. Use `zero_division` parameter to control this behavior.\n",
            "  _warn_prf(average, modifier, f\"{metric.capitalize()} is\", len(result))\n",
            "/usr/local/lib/python3.11/dist-packages/sklearn/metrics/_classification.py:1565: UndefinedMetricWarning: Precision is ill-defined and being set to 0.0 due to no predicted samples. Use `zero_division` parameter to control this behavior.\n",
            "  _warn_prf(average, modifier, f\"{metric.capitalize()} is\", len(result))\n",
            "/usr/local/lib/python3.11/dist-packages/sklearn/metrics/_classification.py:1565: UndefinedMetricWarning: Precision is ill-defined and being set to 0.0 due to no predicted samples. Use `zero_division` parameter to control this behavior.\n",
            "  _warn_prf(average, modifier, f\"{metric.capitalize()} is\", len(result))\n",
            "/usr/local/lib/python3.11/dist-packages/sklearn/metrics/_classification.py:1565: UndefinedMetricWarning: Precision is ill-defined and being set to 0.0 due to no predicted samples. Use `zero_division` parameter to control this behavior.\n",
            "  _warn_prf(average, modifier, f\"{metric.capitalize()} is\", len(result))\n",
            "/usr/local/lib/python3.11/dist-packages/sklearn/metrics/_classification.py:1565: UndefinedMetricWarning: Precision is ill-defined and being set to 0.0 due to no predicted samples. Use `zero_division` parameter to control this behavior.\n",
            "  _warn_prf(average, modifier, f\"{metric.capitalize()} is\", len(result))\n",
            "/usr/local/lib/python3.11/dist-packages/sklearn/metrics/_classification.py:1565: UndefinedMetricWarning: Precision is ill-defined and being set to 0.0 due to no predicted samples. Use `zero_division` parameter to control this behavior.\n",
            "  _warn_prf(average, modifier, f\"{metric.capitalize()} is\", len(result))\n",
            "/usr/local/lib/python3.11/dist-packages/sklearn/metrics/_classification.py:1565: UndefinedMetricWarning: Precision is ill-defined and being set to 0.0 due to no predicted samples. Use `zero_division` parameter to control this behavior.\n",
            "  _warn_prf(average, modifier, f\"{metric.capitalize()} is\", len(result))\n",
            "/usr/local/lib/python3.11/dist-packages/sklearn/metrics/_classification.py:1565: UndefinedMetricWarning: Precision is ill-defined and being set to 0.0 due to no predicted samples. Use `zero_division` parameter to control this behavior.\n",
            "  _warn_prf(average, modifier, f\"{metric.capitalize()} is\", len(result))\n",
            "/usr/local/lib/python3.11/dist-packages/sklearn/metrics/_classification.py:1565: UndefinedMetricWarning: Recall is ill-defined and being set to 0.0 due to no true samples. Use `zero_division` parameter to control this behavior.\n",
            "  _warn_prf(average, modifier, f\"{metric.capitalize()} is\", len(result))\n",
            "/usr/local/lib/python3.11/dist-packages/sklearn/metrics/_classification.py:1565: UndefinedMetricWarning: Precision is ill-defined and being set to 0.0 due to no predicted samples. Use `zero_division` parameter to control this behavior.\n",
            "  _warn_prf(average, modifier, f\"{metric.capitalize()} is\", len(result))\n",
            "/usr/local/lib/python3.11/dist-packages/sklearn/metrics/_classification.py:1565: UndefinedMetricWarning: Precision is ill-defined and being set to 0.0 due to no predicted samples. Use `zero_division` parameter to control this behavior.\n",
            "  _warn_prf(average, modifier, f\"{metric.capitalize()} is\", len(result))\n",
            "/usr/local/lib/python3.11/dist-packages/sklearn/metrics/_classification.py:1565: UndefinedMetricWarning: Precision is ill-defined and being set to 0.0 due to no predicted samples. Use `zero_division` parameter to control this behavior.\n",
            "  _warn_prf(average, modifier, f\"{metric.capitalize()} is\", len(result))\n",
            "/usr/local/lib/python3.11/dist-packages/sklearn/metrics/_classification.py:1565: UndefinedMetricWarning: Precision is ill-defined and being set to 0.0 due to no predicted samples. Use `zero_division` parameter to control this behavior.\n",
            "  _warn_prf(average, modifier, f\"{metric.capitalize()} is\", len(result))\n",
            "/usr/local/lib/python3.11/dist-packages/sklearn/metrics/_classification.py:1565: UndefinedMetricWarning: Precision is ill-defined and being set to 0.0 due to no predicted samples. Use `zero_division` parameter to control this behavior.\n",
            "  _warn_prf(average, modifier, f\"{metric.capitalize()} is\", len(result))\n",
            "/usr/local/lib/python3.11/dist-packages/sklearn/metrics/_classification.py:1565: UndefinedMetricWarning: Precision is ill-defined and being set to 0.0 due to no predicted samples. Use `zero_division` parameter to control this behavior.\n",
            "  _warn_prf(average, modifier, f\"{metric.capitalize()} is\", len(result))\n",
            "/usr/local/lib/python3.11/dist-packages/sklearn/metrics/_classification.py:1565: UndefinedMetricWarning: Precision is ill-defined and being set to 0.0 due to no predicted samples. Use `zero_division` parameter to control this behavior.\n",
            "  _warn_prf(average, modifier, f\"{metric.capitalize()} is\", len(result))\n",
            "/usr/local/lib/python3.11/dist-packages/sklearn/metrics/_classification.py:1565: UndefinedMetricWarning: Recall is ill-defined and being set to 0.0 due to no true samples. Use `zero_division` parameter to control this behavior.\n",
            "  _warn_prf(average, modifier, f\"{metric.capitalize()} is\", len(result))\n",
            "/usr/local/lib/python3.11/dist-packages/sklearn/metrics/_classification.py:1565: UndefinedMetricWarning: Recall is ill-defined and being set to 0.0 due to no true samples. Use `zero_division` parameter to control this behavior.\n",
            "  _warn_prf(average, modifier, f\"{metric.capitalize()} is\", len(result))\n",
            "/usr/local/lib/python3.11/dist-packages/sklearn/metrics/_classification.py:1565: UndefinedMetricWarning: Precision is ill-defined and being set to 0.0 due to no predicted samples. Use `zero_division` parameter to control this behavior.\n",
            "  _warn_prf(average, modifier, f\"{metric.capitalize()} is\", len(result))\n",
            "/usr/local/lib/python3.11/dist-packages/sklearn/metrics/_classification.py:1565: UndefinedMetricWarning: Precision is ill-defined and being set to 0.0 due to no predicted samples. Use `zero_division` parameter to control this behavior.\n",
            "  _warn_prf(average, modifier, f\"{metric.capitalize()} is\", len(result))\n",
            "/usr/local/lib/python3.11/dist-packages/sklearn/metrics/_classification.py:1565: UndefinedMetricWarning: Precision is ill-defined and being set to 0.0 due to no predicted samples. Use `zero_division` parameter to control this behavior.\n",
            "  _warn_prf(average, modifier, f\"{metric.capitalize()} is\", len(result))\n",
            "/usr/local/lib/python3.11/dist-packages/sklearn/metrics/_classification.py:1565: UndefinedMetricWarning: Precision is ill-defined and being set to 0.0 due to no predicted samples. Use `zero_division` parameter to control this behavior.\n",
            "  _warn_prf(average, modifier, f\"{metric.capitalize()} is\", len(result))\n",
            "/usr/local/lib/python3.11/dist-packages/sklearn/metrics/_classification.py:1565: UndefinedMetricWarning: Precision is ill-defined and being set to 0.0 due to no predicted samples. Use `zero_division` parameter to control this behavior.\n",
            "  _warn_prf(average, modifier, f\"{metric.capitalize()} is\", len(result))\n",
            "/usr/local/lib/python3.11/dist-packages/sklearn/metrics/_classification.py:1565: UndefinedMetricWarning: Precision is ill-defined and being set to 0.0 due to no predicted samples. Use `zero_division` parameter to control this behavior.\n",
            "  _warn_prf(average, modifier, f\"{metric.capitalize()} is\", len(result))\n",
            "/usr/local/lib/python3.11/dist-packages/sklearn/metrics/_classification.py:1565: UndefinedMetricWarning: Precision is ill-defined and being set to 0.0 due to no predicted samples. Use `zero_division` parameter to control this behavior.\n",
            "  _warn_prf(average, modifier, f\"{metric.capitalize()} is\", len(result))\n",
            "/usr/local/lib/python3.11/dist-packages/sklearn/metrics/_classification.py:1565: UndefinedMetricWarning: Precision is ill-defined and being set to 0.0 due to no predicted samples. Use `zero_division` parameter to control this behavior.\n",
            "  _warn_prf(average, modifier, f\"{metric.capitalize()} is\", len(result))\n",
            "/usr/local/lib/python3.11/dist-packages/sklearn/metrics/_classification.py:1565: UndefinedMetricWarning: Precision is ill-defined and being set to 0.0 due to no predicted samples. Use `zero_division` parameter to control this behavior.\n",
            "  _warn_prf(average, modifier, f\"{metric.capitalize()} is\", len(result))\n",
            "/usr/local/lib/python3.11/dist-packages/sklearn/metrics/_classification.py:1565: UndefinedMetricWarning: Precision is ill-defined and being set to 0.0 due to no predicted samples. Use `zero_division` parameter to control this behavior.\n",
            "  _warn_prf(average, modifier, f\"{metric.capitalize()} is\", len(result))\n",
            "/usr/local/lib/python3.11/dist-packages/sklearn/metrics/_classification.py:1565: UndefinedMetricWarning: Precision is ill-defined and being set to 0.0 due to no predicted samples. Use `zero_division` parameter to control this behavior.\n",
            "  _warn_prf(average, modifier, f\"{metric.capitalize()} is\", len(result))\n",
            "/usr/local/lib/python3.11/dist-packages/sklearn/metrics/_classification.py:1565: UndefinedMetricWarning: Precision is ill-defined and being set to 0.0 due to no predicted samples. Use `zero_division` parameter to control this behavior.\n",
            "  _warn_prf(average, modifier, f\"{metric.capitalize()} is\", len(result))\n",
            "/usr/local/lib/python3.11/dist-packages/sklearn/metrics/_classification.py:1565: UndefinedMetricWarning: Precision is ill-defined and being set to 0.0 due to no predicted samples. Use `zero_division` parameter to control this behavior.\n",
            "  _warn_prf(average, modifier, f\"{metric.capitalize()} is\", len(result))\n",
            "/usr/local/lib/python3.11/dist-packages/sklearn/metrics/_classification.py:1565: UndefinedMetricWarning: Precision is ill-defined and being set to 0.0 due to no predicted samples. Use `zero_division` parameter to control this behavior.\n",
            "  _warn_prf(average, modifier, f\"{metric.capitalize()} is\", len(result))\n",
            "/usr/local/lib/python3.11/dist-packages/sklearn/metrics/_classification.py:1565: UndefinedMetricWarning: Precision is ill-defined and being set to 0.0 due to no predicted samples. Use `zero_division` parameter to control this behavior.\n",
            "  _warn_prf(average, modifier, f\"{metric.capitalize()} is\", len(result))\n",
            "/usr/local/lib/python3.11/dist-packages/sklearn/metrics/_classification.py:1565: UndefinedMetricWarning: Precision is ill-defined and being set to 0.0 due to no predicted samples. Use `zero_division` parameter to control this behavior.\n",
            "  _warn_prf(average, modifier, f\"{metric.capitalize()} is\", len(result))\n",
            "/usr/local/lib/python3.11/dist-packages/sklearn/metrics/_classification.py:1565: UndefinedMetricWarning: Precision is ill-defined and being set to 0.0 due to no predicted samples. Use `zero_division` parameter to control this behavior.\n",
            "  _warn_prf(average, modifier, f\"{metric.capitalize()} is\", len(result))\n",
            "/usr/local/lib/python3.11/dist-packages/sklearn/metrics/_classification.py:1565: UndefinedMetricWarning: Precision is ill-defined and being set to 0.0 due to no predicted samples. Use `zero_division` parameter to control this behavior.\n",
            "  _warn_prf(average, modifier, f\"{metric.capitalize()} is\", len(result))\n",
            "/usr/local/lib/python3.11/dist-packages/sklearn/metrics/_classification.py:1565: UndefinedMetricWarning: Precision is ill-defined and being set to 0.0 due to no predicted samples. Use `zero_division` parameter to control this behavior.\n",
            "  _warn_prf(average, modifier, f\"{metric.capitalize()} is\", len(result))\n",
            "/usr/local/lib/python3.11/dist-packages/sklearn/metrics/_classification.py:1565: UndefinedMetricWarning: Precision is ill-defined and being set to 0.0 due to no predicted samples. Use `zero_division` parameter to control this behavior.\n",
            "  _warn_prf(average, modifier, f\"{metric.capitalize()} is\", len(result))\n",
            "/usr/local/lib/python3.11/dist-packages/sklearn/metrics/_classification.py:1565: UndefinedMetricWarning: Precision is ill-defined and being set to 0.0 due to no predicted samples. Use `zero_division` parameter to control this behavior.\n",
            "  _warn_prf(average, modifier, f\"{metric.capitalize()} is\", len(result))\n",
            "/usr/local/lib/python3.11/dist-packages/sklearn/metrics/_classification.py:1565: UndefinedMetricWarning: Precision is ill-defined and being set to 0.0 due to no predicted samples. Use `zero_division` parameter to control this behavior.\n",
            "  _warn_prf(average, modifier, f\"{metric.capitalize()} is\", len(result))\n",
            "/usr/local/lib/python3.11/dist-packages/sklearn/metrics/_classification.py:1565: UndefinedMetricWarning: Precision is ill-defined and being set to 0.0 due to no predicted samples. Use `zero_division` parameter to control this behavior.\n",
            "  _warn_prf(average, modifier, f\"{metric.capitalize()} is\", len(result))\n",
            "/usr/local/lib/python3.11/dist-packages/sklearn/metrics/_classification.py:1565: UndefinedMetricWarning: Precision is ill-defined and being set to 0.0 due to no predicted samples. Use `zero_division` parameter to control this behavior.\n",
            "  _warn_prf(average, modifier, f\"{metric.capitalize()} is\", len(result))\n",
            "/usr/local/lib/python3.11/dist-packages/sklearn/metrics/_classification.py:1565: UndefinedMetricWarning: Recall is ill-defined and being set to 0.0 due to no true samples. Use `zero_division` parameter to control this behavior.\n",
            "  _warn_prf(average, modifier, f\"{metric.capitalize()} is\", len(result))\n",
            "/usr/local/lib/python3.11/dist-packages/sklearn/metrics/_classification.py:1565: UndefinedMetricWarning: Precision is ill-defined and being set to 0.0 due to no predicted samples. Use `zero_division` parameter to control this behavior.\n",
            "  _warn_prf(average, modifier, f\"{metric.capitalize()} is\", len(result))\n",
            "/usr/local/lib/python3.11/dist-packages/sklearn/metrics/_classification.py:1565: UndefinedMetricWarning: Precision is ill-defined and being set to 0.0 due to no predicted samples. Use `zero_division` parameter to control this behavior.\n",
            "  _warn_prf(average, modifier, f\"{metric.capitalize()} is\", len(result))\n",
            "/usr/local/lib/python3.11/dist-packages/sklearn/metrics/_classification.py:1565: UndefinedMetricWarning: Precision is ill-defined and being set to 0.0 due to no predicted samples. Use `zero_division` parameter to control this behavior.\n",
            "  _warn_prf(average, modifier, f\"{metric.capitalize()} is\", len(result))\n",
            "/usr/local/lib/python3.11/dist-packages/sklearn/metrics/_classification.py:1565: UndefinedMetricWarning: Precision is ill-defined and being set to 0.0 due to no predicted samples. Use `zero_division` parameter to control this behavior.\n",
            "  _warn_prf(average, modifier, f\"{metric.capitalize()} is\", len(result))\n",
            "/usr/local/lib/python3.11/dist-packages/sklearn/metrics/_classification.py:1565: UndefinedMetricWarning: Precision is ill-defined and being set to 0.0 due to no predicted samples. Use `zero_division` parameter to control this behavior.\n",
            "  _warn_prf(average, modifier, f\"{metric.capitalize()} is\", len(result))\n",
            "/usr/local/lib/python3.11/dist-packages/sklearn/metrics/_classification.py:1565: UndefinedMetricWarning: Precision is ill-defined and being set to 0.0 due to no predicted samples. Use `zero_division` parameter to control this behavior.\n",
            "  _warn_prf(average, modifier, f\"{metric.capitalize()} is\", len(result))\n",
            "/usr/local/lib/python3.11/dist-packages/sklearn/metrics/_classification.py:1565: UndefinedMetricWarning: Precision is ill-defined and being set to 0.0 due to no predicted samples. Use `zero_division` parameter to control this behavior.\n",
            "  _warn_prf(average, modifier, f\"{metric.capitalize()} is\", len(result))\n",
            "/usr/local/lib/python3.11/dist-packages/sklearn/metrics/_classification.py:1565: UndefinedMetricWarning: Precision is ill-defined and being set to 0.0 due to no predicted samples. Use `zero_division` parameter to control this behavior.\n",
            "  _warn_prf(average, modifier, f\"{metric.capitalize()} is\", len(result))\n",
            "/usr/local/lib/python3.11/dist-packages/sklearn/metrics/_classification.py:1565: UndefinedMetricWarning: Precision is ill-defined and being set to 0.0 due to no predicted samples. Use `zero_division` parameter to control this behavior.\n",
            "  _warn_prf(average, modifier, f\"{metric.capitalize()} is\", len(result))\n",
            "/usr/local/lib/python3.11/dist-packages/sklearn/metrics/_classification.py:1565: UndefinedMetricWarning: Precision is ill-defined and being set to 0.0 due to no predicted samples. Use `zero_division` parameter to control this behavior.\n",
            "  _warn_prf(average, modifier, f\"{metric.capitalize()} is\", len(result))\n",
            "/usr/local/lib/python3.11/dist-packages/sklearn/metrics/_classification.py:1565: UndefinedMetricWarning: Precision is ill-defined and being set to 0.0 due to no predicted samples. Use `zero_division` parameter to control this behavior.\n",
            "  _warn_prf(average, modifier, f\"{metric.capitalize()} is\", len(result))\n",
            "/usr/local/lib/python3.11/dist-packages/sklearn/metrics/_classification.py:1565: UndefinedMetricWarning: Precision is ill-defined and being set to 0.0 due to no predicted samples. Use `zero_division` parameter to control this behavior.\n",
            "  _warn_prf(average, modifier, f\"{metric.capitalize()} is\", len(result))\n"
          ]
        },
        {
          "output_type": "stream",
          "name": "stdout",
          "text": [
            "Per-group metrics:\n",
            "                      accuracy  precision    recall\n",
            "RESIDENCIAL_BOROUGH                               \n",
            "-3.339158            0.847458       0.00  0.000000\n",
            "-2.846459            0.818182       0.00  0.000000\n",
            "-2.747531            0.850000       0.00  0.000000\n",
            "-2.733069            0.920000       0.00  0.000000\n",
            "-2.522816            0.750000       0.00  0.000000\n",
            "...                       ...        ...       ...\n",
            " 2.622541            0.500000       0.50  0.500000\n",
            " 2.639647            0.555556       0.50  1.000000\n",
            " 3.315692            0.285714       0.20  0.500000\n",
            " 4.003706            0.714286       0.75  0.900000\n",
            " 4.238000            0.500000       0.50  0.333333\n",
            "\n",
            "[301 rows x 3 columns]\n",
            "Demographic Parity Difference : 1.0000\n",
            "Equalized Odds Difference     : 1.0000\n"
          ]
        }
      ]
    },
    {
      "cell_type": "markdown",
      "source": [
        "# Mitigating bias and optimizing for sensitive features"
      ],
      "metadata": {
        "id": "Zmq-X5R0Oit2"
      }
    },
    {
      "cell_type": "code",
      "source": [
        "from fairlearn.postprocessing import ThresholdOptimizer\n",
        "\n",
        "def mitigate_bias_with_threshold_optimizer(model, X_train, y_train, X_val, sensitive_features_train, sensitive_features_val, config):\n",
        "    mitigation_cfg = config.get(\"fairness\", {}).get(\"mitigation\", {})\n",
        "    if not mitigation_cfg.get(\"enabled\", False):\n",
        "        print(\"⚙️ Bias mitigation disabled.\")\n",
        "        return model\n",
        "\n",
        "    method = mitigation_cfg.get(\"method\", \"threshold_optimizer\")\n",
        "    constraints = mitigation_cfg.get(\"constraints\", \"demographic_parity\")\n",
        "\n",
        "    if method != \"threshold_optimizer\":\n",
        "        print(f\"⚠️ Method '{method}' not supported in this function.\")\n",
        "        return model\n",
        "\n",
        "    print(f\"\\n⚖️ Applying ThresholdOptimizer for fairness constraint: '{constraints}'\")\n",
        "\n",
        "    # ThresholdOptimizer needs probabilities\n",
        "    model_prob = model\n",
        "\n",
        "    # Must call predict_proba inside ThresholdOptimizer\n",
        "    postproc = ThresholdOptimizer(\n",
        "        estimator=model_prob,\n",
        "        constraints=constraints,\n",
        "        prefit=True\n",
        "    )\n",
        "\n",
        "    # Fit post-processor on validation set\n",
        "    postproc.fit(\n",
        "        X_val,\n",
        "        y_val,\n",
        "        sensitive_features=sensitive_features_val\n",
        "    )\n",
        "\n",
        "    print(\"✅ Bias mitigation complete. Use 'predict' method of returned object for predictions.\")\n",
        "    return postproc\n"
      ],
      "metadata": {
        "id": "eR3rW85EOmzo"
      },
      "execution_count": null,
      "outputs": []
    },
    {
      "cell_type": "code",
      "source": [
        "sf_train = X_train_final[\"AGE\"]      # or whichever sensitive feature to optimize for\n",
        "sf_val = X_val_final[\"AGE\"]\n",
        "\n",
        "# Apply mitigation\n",
        "fair_model = mitigate_bias_with_threshold_optimizer(\n",
        "    xgb_model,\n",
        "    X_train_final, y_train,\n",
        "    X_val_final, sf_train, sf_val,\n",
        "    config_pakdd\n",
        ")\n",
        "\n",
        "# Then predict:\n",
        "y_pred = fair_model.predict(X_val_final, sensitive_features=sf_val)\n",
        "\n",
        "# Evaluate fairness again\n",
        "evaluate_fairness(y_true=y_val, y_pred=y_pred, X_test=X_val_final, config=config_pakdd)"
      ],
      "metadata": {
        "colab": {
          "base_uri": "https://localhost:8080/"
        },
        "id": "3skpgZ-SOyfj",
        "outputId": "786ba1b0-a01d-4967-d023-cde59948433e"
      },
      "execution_count": null,
      "outputs": [
        {
          "output_type": "stream",
          "name": "stdout",
          "text": [
            "\n",
            "⚖️ Applying ThresholdOptimizer for fairness constraint: 'demographic_parity'\n",
            "✅ Bias mitigation complete. Use 'predict' method of returned object for predictions.\n",
            "\n",
            "⚖️ Bias & Fairness Metrics:\n",
            "--------------------------------------------------\n",
            "\n",
            "⚠️ Skipping 'SEX' (not in data)\n",
            "\n",
            "📊 Fairness metrics for sensitive feature: 'STATE_OF_BIRTH'\n",
            "Per-group metrics:\n",
            "                 accuracy  precision    recall\n",
            "STATE_OF_BIRTH                               \n",
            "-2.835218       0.794872   0.000000  0.000000\n",
            "-1.606934       0.744792   1.000000  0.029703\n",
            "-1.562260       0.787721   0.666667  0.019417\n",
            "-1.109722       0.783439   1.000000  0.014493\n",
            "-1.056668       0.731225   0.800000  0.038095\n",
            "-0.906980       0.713080   1.000000  0.042254\n",
            "-0.720263       0.750000   0.000000  0.000000\n",
            "-0.383500       0.500000   0.000000  0.000000\n",
            "-0.090260       0.720149   0.000000  0.000000\n",
            " 0.144138       0.676923   0.000000  0.000000\n",
            " 0.145352       0.764706   0.000000  0.000000\n",
            " 0.148363       0.722449   0.500000  0.014706\n",
            " 0.304952       0.717391   0.333333  0.026316\n",
            " 0.321268       0.750857   0.700000  0.031532\n",
            " 0.454238       0.728689   0.454545  0.016949\n",
            " 0.485825       0.800000   0.000000  0.000000\n",
            " 0.547068       0.786957   0.333333  0.010309\n",
            " 0.557383       0.732935   0.611111  0.034700\n",
            " 0.563803       0.732955   0.500000  0.010638\n",
            " 0.611378       0.753754   0.000000  0.000000\n",
            " 0.634052       0.734043   0.333333  0.010101\n",
            " 0.821531       0.694444   0.000000  0.000000\n",
            " 0.921859       0.687500   0.000000  0.000000\n",
            " 1.530413       0.712991   0.625000  0.051546\n",
            " 1.802845       0.748466   0.000000  0.000000\n",
            " 2.039607       0.746479   1.000000  0.052632\n",
            " 2.053178       0.651685   0.000000  0.000000\n",
            " 2.915750       0.689655   1.000000  0.052632\n",
            "Demographic Parity Difference : 0.0242\n",
            "Equalized Odds Difference     : 0.0526\n",
            "\n",
            "📊 Fairness metrics for sensitive feature: 'AGE'\n",
            "Per-group metrics:\n",
            "            accuracy  precision    recall\n",
            "AGE                                     \n",
            "-1.697602  0.598291        0.0  0.000000\n",
            "-1.630274  0.661290        0.5  0.023810\n",
            "-1.562946  0.615942        1.0  0.018519\n",
            "-1.495618  0.640351        1.0  0.023810\n",
            "-1.428290  0.625000        0.0  0.000000\n",
            "...             ...        ...       ...\n",
            " 2.207423  0.742857        0.0  0.000000\n",
            " 2.274751  0.875000        0.0  0.000000\n",
            " 2.342079  0.720000        1.0  0.125000\n",
            " 2.409407  0.695652        0.0  0.000000\n",
            " 2.476735  0.669492        1.0  0.048780\n",
            "\n",
            "[63 rows x 3 columns]\n",
            "Demographic Parity Difference : 0.0400\n",
            "Equalized Odds Difference     : 0.1250\n",
            "\n",
            "📊 Fairness metrics for sensitive feature: 'RESIDENCIAL_BOROUGH'\n",
            "Per-group metrics:\n",
            "                      accuracy  precision  recall\n",
            "RESIDENCIAL_BOROUGH                             \n",
            "-3.339158            0.847458        0.0     0.0\n",
            "-2.846459            0.818182        0.0     0.0\n",
            "-2.747531            0.850000        0.0     0.0\n",
            "-2.733069            0.920000        0.0     0.0\n",
            "-2.522816            0.750000        0.0     0.0\n",
            "...                       ...        ...     ...\n",
            " 2.622541            0.500000        0.0     0.0\n",
            " 2.639647            0.555556        0.0     0.0\n",
            " 3.315692            0.714286        0.0     0.0\n",
            " 4.003706            0.357143        1.0     0.1\n",
            " 4.238000            0.500000        0.0     0.0\n",
            "\n",
            "[301 rows x 3 columns]\n",
            "Demographic Parity Difference : 0.3333\n",
            "Equalized Odds Difference     : 0.5217\n"
          ]
        }
      ]
    }
  ]
}