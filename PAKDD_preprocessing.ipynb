{
 "cells": [
  {
   "cell_type": "code",
   "execution_count": 1,
   "id": "4b6e7ed2-8291-4733-a47c-382188cb5d86",
   "metadata": {},
   "outputs": [
    {
     "name": "stdout",
     "output_type": "stream",
     "text": [
      "Requirement already satisfied: evidently in c:\\users\\asus smart\\anaconda3\\lib\\site-packages (0.7.9)\n",
      "Requirement already satisfied: plotly<6,>=5.10.0 in c:\\users\\asus smart\\anaconda3\\lib\\site-packages (from evidently) (5.24.1)\n",
      "Requirement already satisfied: statsmodels>=0.12.2 in c:\\users\\asus smart\\anaconda3\\lib\\site-packages (from evidently) (0.14.2)\n",
      "Requirement already satisfied: scikit-learn>=1.0.1 in c:\\users\\asus smart\\anaconda3\\lib\\site-packages (from evidently) (1.6.1)\n",
      "Requirement already satisfied: pandas>=1.3.5 in c:\\users\\asus smart\\anaconda3\\lib\\site-packages (from pandas[parquet]>=1.3.5->evidently) (2.3.0)\n",
      "Requirement already satisfied: numpy>=1.22.0 in c:\\users\\asus smart\\anaconda3\\lib\\site-packages (from evidently) (1.26.4)\n",
      "Requirement already satisfied: nltk>=3.6.7 in c:\\users\\asus smart\\anaconda3\\lib\\site-packages (from evidently) (3.9.1)\n",
      "Requirement already satisfied: scipy>=1.10.0 in c:\\users\\asus smart\\anaconda3\\lib\\site-packages (from evidently) (1.13.1)\n",
      "Requirement already satisfied: requests>=2.32.0 in c:\\users\\asus smart\\anaconda3\\lib\\site-packages (from evidently) (2.32.3)\n",
      "Requirement already satisfied: PyYAML>=5.4 in c:\\users\\asus smart\\anaconda3\\lib\\site-packages (from evidently) (6.0.1)\n",
      "Requirement already satisfied: pydantic>=1.10.16 in c:\\users\\asus smart\\anaconda3\\lib\\site-packages (from evidently) (2.8.2)\n",
      "Requirement already satisfied: litestar>=2.8.3 in c:\\users\\asus smart\\anaconda3\\lib\\site-packages (from evidently) (2.16.0)\n",
      "Requirement already satisfied: typing-inspect>=0.9.0 in c:\\users\\asus smart\\anaconda3\\lib\\site-packages (from evidently) (0.9.0)\n",
      "Requirement already satisfied: uvicorn>=0.22.0 in c:\\users\\asus smart\\anaconda3\\lib\\site-packages (from uvicorn[standard]>=0.22.0->evidently) (0.34.3)\n",
      "Requirement already satisfied: watchdog>=3.0.0 in c:\\users\\asus smart\\anaconda3\\lib\\site-packages (from evidently) (4.0.1)\n",
      "Requirement already satisfied: typer>=0.3 in c:\\users\\asus smart\\anaconda3\\lib\\site-packages (from evidently) (0.16.0)\n",
      "Requirement already satisfied: rich>=13 in c:\\users\\asus smart\\anaconda3\\lib\\site-packages (from evidently) (13.7.1)\n",
      "Requirement already satisfied: iterative-telemetry>=0.0.5 in c:\\users\\asus smart\\anaconda3\\lib\\site-packages (from evidently) (0.0.10)\n",
      "Requirement already satisfied: dynaconf>=3.2.4 in c:\\users\\asus smart\\anaconda3\\lib\\site-packages (from evidently) (3.2.11)\n",
      "Requirement already satisfied: certifi>=2024.7.4 in c:\\users\\asus smart\\anaconda3\\lib\\site-packages (from evidently) (2024.8.30)\n",
      "Requirement already satisfied: urllib3>=1.26.19 in c:\\users\\asus smart\\anaconda3\\lib\\site-packages (from evidently) (2.2.3)\n",
      "Requirement already satisfied: fsspec>=2024.6.1 in c:\\users\\asus smart\\anaconda3\\lib\\site-packages (from evidently) (2024.6.1)\n",
      "Requirement already satisfied: ujson>=5.4.0 in c:\\users\\asus smart\\anaconda3\\lib\\site-packages (from evidently) (5.10.0)\n",
      "Requirement already satisfied: deprecation>=2.1.0 in c:\\users\\asus smart\\anaconda3\\lib\\site-packages (from evidently) (2.1.0)\n",
      "Requirement already satisfied: uuid6>=2024.7.10 in c:\\users\\asus smart\\anaconda3\\lib\\site-packages (from evidently) (2025.0.0)\n",
      "Requirement already satisfied: cryptography>=43.0.1 in c:\\users\\asus smart\\anaconda3\\lib\\site-packages (from evidently) (45.0.4)\n",
      "Requirement already satisfied: cffi>=1.14 in c:\\users\\asus smart\\anaconda3\\lib\\site-packages (from cryptography>=43.0.1->evidently) (1.17.1)\n",
      "Requirement already satisfied: packaging in c:\\users\\asus smart\\anaconda3\\lib\\site-packages (from deprecation>=2.1.0->evidently) (24.1)\n",
      "Requirement already satisfied: appdirs in c:\\users\\asus smart\\anaconda3\\lib\\site-packages (from iterative-telemetry>=0.0.5->evidently) (1.4.4)\n",
      "Requirement already satisfied: filelock in c:\\users\\asus smart\\anaconda3\\lib\\site-packages (from iterative-telemetry>=0.0.5->evidently) (3.13.1)\n",
      "Requirement already satisfied: distro in c:\\users\\asus smart\\anaconda3\\lib\\site-packages (from iterative-telemetry>=0.0.5->evidently) (1.9.0)\n",
      "Requirement already satisfied: anyio>=3 in c:\\users\\asus smart\\anaconda3\\lib\\site-packages (from litestar>=2.8.3->evidently) (4.2.0)\n",
      "Requirement already satisfied: click in c:\\users\\asus smart\\anaconda3\\lib\\site-packages (from litestar>=2.8.3->evidently) (8.1.7)\n",
      "Requirement already satisfied: httpx>=0.22 in c:\\users\\asus smart\\anaconda3\\lib\\site-packages (from litestar>=2.8.3->evidently) (0.27.0)\n",
      "Requirement already satisfied: litestar-htmx>=0.4.0 in c:\\users\\asus smart\\anaconda3\\lib\\site-packages (from litestar>=2.8.3->evidently) (0.5.0)\n",
      "Requirement already satisfied: msgspec>=0.18.2 in c:\\users\\asus smart\\anaconda3\\lib\\site-packages (from litestar>=2.8.3->evidently) (0.19.0)\n",
      "Requirement already satisfied: multidict>=6.0.2 in c:\\users\\asus smart\\anaconda3\\lib\\site-packages (from litestar>=2.8.3->evidently) (6.0.4)\n",
      "Requirement already satisfied: multipart>=1.2.0 in c:\\users\\asus smart\\anaconda3\\lib\\site-packages (from litestar>=2.8.3->evidently) (1.2.1)\n",
      "Requirement already satisfied: polyfactory>=2.6.3 in c:\\users\\asus smart\\anaconda3\\lib\\site-packages (from litestar>=2.8.3->evidently) (2.21.0)\n",
      "Requirement already satisfied: rich-click in c:\\users\\asus smart\\anaconda3\\lib\\site-packages (from litestar>=2.8.3->evidently) (1.8.9)\n",
      "Requirement already satisfied: typing-extensions in c:\\users\\asus smart\\anaconda3\\lib\\site-packages (from litestar>=2.8.3->evidently) (4.11.0)\n",
      "Requirement already satisfied: joblib in c:\\users\\asus smart\\anaconda3\\lib\\site-packages (from nltk>=3.6.7->evidently) (1.5.1)\n",
      "Requirement already satisfied: regex>=2021.8.3 in c:\\users\\asus smart\\anaconda3\\lib\\site-packages (from nltk>=3.6.7->evidently) (2024.9.11)\n",
      "Requirement already satisfied: tqdm in c:\\users\\asus smart\\anaconda3\\lib\\site-packages (from nltk>=3.6.7->evidently) (4.66.5)\n",
      "Requirement already satisfied: python-dateutil>=2.8.2 in c:\\users\\asus smart\\anaconda3\\lib\\site-packages (from pandas>=1.3.5->pandas[parquet]>=1.3.5->evidently) (2.9.0.post0)\n",
      "Requirement already satisfied: pytz>=2020.1 in c:\\users\\asus smart\\anaconda3\\lib\\site-packages (from pandas>=1.3.5->pandas[parquet]>=1.3.5->evidently) (2024.1)\n",
      "Requirement already satisfied: tzdata>=2022.7 in c:\\users\\asus smart\\anaconda3\\lib\\site-packages (from pandas>=1.3.5->pandas[parquet]>=1.3.5->evidently) (2023.3)\n",
      "Requirement already satisfied: pyarrow>=10.0.1 in c:\\users\\asus smart\\anaconda3\\lib\\site-packages (from pandas[parquet]>=1.3.5->evidently) (16.1.0)\n",
      "Requirement already satisfied: tenacity>=6.2.0 in c:\\users\\asus smart\\anaconda3\\lib\\site-packages (from plotly<6,>=5.10.0->evidently) (8.2.3)\n",
      "Requirement already satisfied: annotated-types>=0.4.0 in c:\\users\\asus smart\\anaconda3\\lib\\site-packages (from pydantic>=1.10.16->evidently) (0.6.0)\n",
      "Requirement already satisfied: pydantic-core==2.20.1 in c:\\users\\asus smart\\anaconda3\\lib\\site-packages (from pydantic>=1.10.16->evidently) (2.20.1)\n",
      "Requirement already satisfied: charset-normalizer<4,>=2 in c:\\users\\asus smart\\anaconda3\\lib\\site-packages (from requests>=2.32.0->evidently) (3.3.2)\n",
      "Requirement already satisfied: idna<4,>=2.5 in c:\\users\\asus smart\\anaconda3\\lib\\site-packages (from requests>=2.32.0->evidently) (3.7)\n",
      "Requirement already satisfied: markdown-it-py>=2.2.0 in c:\\users\\asus smart\\anaconda3\\lib\\site-packages (from rich>=13->evidently) (2.2.0)\n",
      "Requirement already satisfied: pygments<3.0.0,>=2.13.0 in c:\\users\\asus smart\\anaconda3\\lib\\site-packages (from rich>=13->evidently) (2.15.1)\n",
      "Requirement already satisfied: threadpoolctl>=3.1.0 in c:\\users\\asus smart\\anaconda3\\lib\\site-packages (from scikit-learn>=1.0.1->evidently) (3.5.0)\n",
      "Requirement already satisfied: patsy>=0.5.6 in c:\\users\\asus smart\\anaconda3\\lib\\site-packages (from statsmodels>=0.12.2->evidently) (0.5.6)\n",
      "Requirement already satisfied: shellingham>=1.3.0 in c:\\users\\asus smart\\anaconda3\\lib\\site-packages (from typer>=0.3->evidently) (1.5.4)\n",
      "Requirement already satisfied: mypy-extensions>=0.3.0 in c:\\users\\asus smart\\anaconda3\\lib\\site-packages (from typing-inspect>=0.9.0->evidently) (1.0.0)\n",
      "Requirement already satisfied: h11>=0.8 in c:\\users\\asus smart\\anaconda3\\lib\\site-packages (from uvicorn>=0.22.0->uvicorn[standard]>=0.22.0->evidently) (0.14.0)\n",
      "Requirement already satisfied: colorama>=0.4 in c:\\users\\asus smart\\anaconda3\\lib\\site-packages (from uvicorn[standard]>=0.22.0->evidently) (0.4.6)\n",
      "Requirement already satisfied: httptools>=0.6.3 in c:\\users\\asus smart\\anaconda3\\lib\\site-packages (from uvicorn[standard]>=0.22.0->evidently) (0.6.4)\n",
      "Requirement already satisfied: python-dotenv>=0.13 in c:\\users\\asus smart\\anaconda3\\lib\\site-packages (from uvicorn[standard]>=0.22.0->evidently) (0.21.0)\n",
      "Requirement already satisfied: watchfiles>=0.13 in c:\\users\\asus smart\\anaconda3\\lib\\site-packages (from uvicorn[standard]>=0.22.0->evidently) (1.1.0)\n",
      "Requirement already satisfied: websockets>=10.4 in c:\\users\\asus smart\\anaconda3\\lib\\site-packages (from uvicorn[standard]>=0.22.0->evidently) (15.0.1)\n",
      "Requirement already satisfied: sniffio>=1.1 in c:\\users\\asus smart\\anaconda3\\lib\\site-packages (from anyio>=3->litestar>=2.8.3->evidently) (1.3.0)\n",
      "Requirement already satisfied: pycparser in c:\\users\\asus smart\\anaconda3\\lib\\site-packages (from cffi>=1.14->cryptography>=43.0.1->evidently) (2.21)\n",
      "Requirement already satisfied: httpcore==1.* in c:\\users\\asus smart\\anaconda3\\lib\\site-packages (from httpx>=0.22->litestar>=2.8.3->evidently) (1.0.2)\n",
      "Requirement already satisfied: mdurl~=0.1 in c:\\users\\asus smart\\anaconda3\\lib\\site-packages (from markdown-it-py>=2.2.0->rich>=13->evidently) (0.1.0)\n",
      "Requirement already satisfied: six in c:\\users\\asus smart\\anaconda3\\lib\\site-packages (from patsy>=0.5.6->statsmodels>=0.12.2->evidently) (1.16.0)\n",
      "Requirement already satisfied: faker>=5.0.0 in c:\\users\\asus smart\\anaconda3\\lib\\site-packages (from polyfactory>=2.6.3->litestar>=2.8.3->evidently) (37.4.0)\n",
      "Note: you may need to restart the kernel to use updated packages.\n"
     ]
    }
   ],
   "source": [
    "%pip install evidently"
   ]
  },
  {
   "cell_type": "code",
   "execution_count": 2,
   "id": "eccb8fb8-98c1-420d-b916-b41992ca7d3e",
   "metadata": {},
   "outputs": [
    {
     "name": "stdout",
     "output_type": "stream",
     "text": [
      "Requirement already satisfied: evidently in c:\\users\\asus smart\\anaconda3\\lib\\site-packages (0.7.9)\n",
      "Requirement already satisfied: plotly<6,>=5.10.0 in c:\\users\\asus smart\\anaconda3\\lib\\site-packages (from evidently) (5.24.1)\n",
      "Requirement already satisfied: statsmodels>=0.12.2 in c:\\users\\asus smart\\anaconda3\\lib\\site-packages (from evidently) (0.14.2)\n",
      "Requirement already satisfied: scikit-learn>=1.0.1 in c:\\users\\asus smart\\anaconda3\\lib\\site-packages (from evidently) (1.6.1)\n",
      "Requirement already satisfied: pandas>=1.3.5 in c:\\users\\asus smart\\anaconda3\\lib\\site-packages (from pandas[parquet]>=1.3.5->evidently) (2.3.0)\n",
      "Requirement already satisfied: numpy>=1.22.0 in c:\\users\\asus smart\\anaconda3\\lib\\site-packages (from evidently) (1.26.4)\n",
      "Requirement already satisfied: nltk>=3.6.7 in c:\\users\\asus smart\\anaconda3\\lib\\site-packages (from evidently) (3.9.1)\n",
      "Requirement already satisfied: scipy>=1.10.0 in c:\\users\\asus smart\\anaconda3\\lib\\site-packages (from evidently) (1.13.1)\n",
      "Requirement already satisfied: requests>=2.32.0 in c:\\users\\asus smart\\anaconda3\\lib\\site-packages (from evidently) (2.32.3)\n",
      "Requirement already satisfied: PyYAML>=5.4 in c:\\users\\asus smart\\anaconda3\\lib\\site-packages (from evidently) (6.0.1)\n",
      "Requirement already satisfied: pydantic>=1.10.16 in c:\\users\\asus smart\\anaconda3\\lib\\site-packages (from evidently) (2.8.2)\n",
      "Requirement already satisfied: litestar>=2.8.3 in c:\\users\\asus smart\\anaconda3\\lib\\site-packages (from evidently) (2.16.0)\n",
      "Requirement already satisfied: typing-inspect>=0.9.0 in c:\\users\\asus smart\\anaconda3\\lib\\site-packages (from evidently) (0.9.0)\n",
      "Requirement already satisfied: uvicorn>=0.22.0 in c:\\users\\asus smart\\anaconda3\\lib\\site-packages (from uvicorn[standard]>=0.22.0->evidently) (0.34.3)\n",
      "Requirement already satisfied: watchdog>=3.0.0 in c:\\users\\asus smart\\anaconda3\\lib\\site-packages (from evidently) (4.0.1)\n",
      "Requirement already satisfied: typer>=0.3 in c:\\users\\asus smart\\anaconda3\\lib\\site-packages (from evidently) (0.16.0)\n",
      "Requirement already satisfied: rich>=13 in c:\\users\\asus smart\\anaconda3\\lib\\site-packages (from evidently) (13.7.1)\n",
      "Requirement already satisfied: iterative-telemetry>=0.0.5 in c:\\users\\asus smart\\anaconda3\\lib\\site-packages (from evidently) (0.0.10)\n",
      "Requirement already satisfied: dynaconf>=3.2.4 in c:\\users\\asus smart\\anaconda3\\lib\\site-packages (from evidently) (3.2.11)\n",
      "Requirement already satisfied: certifi>=2024.7.4 in c:\\users\\asus smart\\anaconda3\\lib\\site-packages (from evidently) (2024.8.30)\n",
      "Requirement already satisfied: urllib3>=1.26.19 in c:\\users\\asus smart\\anaconda3\\lib\\site-packages (from evidently) (2.2.3)\n",
      "Requirement already satisfied: fsspec>=2024.6.1 in c:\\users\\asus smart\\anaconda3\\lib\\site-packages (from evidently) (2024.6.1)\n",
      "Requirement already satisfied: ujson>=5.4.0 in c:\\users\\asus smart\\anaconda3\\lib\\site-packages (from evidently) (5.10.0)\n",
      "Requirement already satisfied: deprecation>=2.1.0 in c:\\users\\asus smart\\anaconda3\\lib\\site-packages (from evidently) (2.1.0)\n",
      "Requirement already satisfied: uuid6>=2024.7.10 in c:\\users\\asus smart\\anaconda3\\lib\\site-packages (from evidently) (2025.0.0)\n",
      "Requirement already satisfied: cryptography>=43.0.1 in c:\\users\\asus smart\\anaconda3\\lib\\site-packages (from evidently) (45.0.4)\n",
      "Requirement already satisfied: cffi>=1.14 in c:\\users\\asus smart\\anaconda3\\lib\\site-packages (from cryptography>=43.0.1->evidently) (1.17.1)\n",
      "Requirement already satisfied: packaging in c:\\users\\asus smart\\anaconda3\\lib\\site-packages (from deprecation>=2.1.0->evidently) (24.1)\n",
      "Requirement already satisfied: appdirs in c:\\users\\asus smart\\anaconda3\\lib\\site-packages (from iterative-telemetry>=0.0.5->evidently) (1.4.4)\n",
      "Requirement already satisfied: filelock in c:\\users\\asus smart\\anaconda3\\lib\\site-packages (from iterative-telemetry>=0.0.5->evidently) (3.13.1)\n",
      "Requirement already satisfied: distro in c:\\users\\asus smart\\anaconda3\\lib\\site-packages (from iterative-telemetry>=0.0.5->evidently) (1.9.0)\n",
      "Requirement already satisfied: anyio>=3 in c:\\users\\asus smart\\anaconda3\\lib\\site-packages (from litestar>=2.8.3->evidently) (4.2.0)\n",
      "Requirement already satisfied: click in c:\\users\\asus smart\\anaconda3\\lib\\site-packages (from litestar>=2.8.3->evidently) (8.1.7)\n",
      "Requirement already satisfied: httpx>=0.22 in c:\\users\\asus smart\\anaconda3\\lib\\site-packages (from litestar>=2.8.3->evidently) (0.27.0)\n",
      "Requirement already satisfied: litestar-htmx>=0.4.0 in c:\\users\\asus smart\\anaconda3\\lib\\site-packages (from litestar>=2.8.3->evidently) (0.5.0)\n",
      "Requirement already satisfied: msgspec>=0.18.2 in c:\\users\\asus smart\\anaconda3\\lib\\site-packages (from litestar>=2.8.3->evidently) (0.19.0)\n",
      "Requirement already satisfied: multidict>=6.0.2 in c:\\users\\asus smart\\anaconda3\\lib\\site-packages (from litestar>=2.8.3->evidently) (6.0.4)\n",
      "Requirement already satisfied: multipart>=1.2.0 in c:\\users\\asus smart\\anaconda3\\lib\\site-packages (from litestar>=2.8.3->evidently) (1.2.1)\n",
      "Requirement already satisfied: polyfactory>=2.6.3 in c:\\users\\asus smart\\anaconda3\\lib\\site-packages (from litestar>=2.8.3->evidently) (2.21.0)\n",
      "Requirement already satisfied: rich-click in c:\\users\\asus smart\\anaconda3\\lib\\site-packages (from litestar>=2.8.3->evidently) (1.8.9)\n",
      "Requirement already satisfied: typing-extensions in c:\\users\\asus smart\\anaconda3\\lib\\site-packages (from litestar>=2.8.3->evidently) (4.11.0)\n",
      "Requirement already satisfied: joblib in c:\\users\\asus smart\\anaconda3\\lib\\site-packages (from nltk>=3.6.7->evidently) (1.5.1)\n",
      "Requirement already satisfied: regex>=2021.8.3 in c:\\users\\asus smart\\anaconda3\\lib\\site-packages (from nltk>=3.6.7->evidently) (2024.9.11)\n",
      "Requirement already satisfied: tqdm in c:\\users\\asus smart\\anaconda3\\lib\\site-packages (from nltk>=3.6.7->evidently) (4.66.5)\n",
      "Requirement already satisfied: python-dateutil>=2.8.2 in c:\\users\\asus smart\\anaconda3\\lib\\site-packages (from pandas>=1.3.5->pandas[parquet]>=1.3.5->evidently) (2.9.0.post0)\n",
      "Requirement already satisfied: pytz>=2020.1 in c:\\users\\asus smart\\anaconda3\\lib\\site-packages (from pandas>=1.3.5->pandas[parquet]>=1.3.5->evidently) (2024.1)\n",
      "Requirement already satisfied: tzdata>=2022.7 in c:\\users\\asus smart\\anaconda3\\lib\\site-packages (from pandas>=1.3.5->pandas[parquet]>=1.3.5->evidently) (2023.3)\n",
      "Requirement already satisfied: pyarrow>=10.0.1 in c:\\users\\asus smart\\anaconda3\\lib\\site-packages (from pandas[parquet]>=1.3.5->evidently) (16.1.0)\n",
      "Requirement already satisfied: tenacity>=6.2.0 in c:\\users\\asus smart\\anaconda3\\lib\\site-packages (from plotly<6,>=5.10.0->evidently) (8.2.3)\n",
      "Requirement already satisfied: annotated-types>=0.4.0 in c:\\users\\asus smart\\anaconda3\\lib\\site-packages (from pydantic>=1.10.16->evidently) (0.6.0)\n",
      "Requirement already satisfied: pydantic-core==2.20.1 in c:\\users\\asus smart\\anaconda3\\lib\\site-packages (from pydantic>=1.10.16->evidently) (2.20.1)\n",
      "Requirement already satisfied: charset-normalizer<4,>=2 in c:\\users\\asus smart\\anaconda3\\lib\\site-packages (from requests>=2.32.0->evidently) (3.3.2)\n",
      "Requirement already satisfied: idna<4,>=2.5 in c:\\users\\asus smart\\anaconda3\\lib\\site-packages (from requests>=2.32.0->evidently) (3.7)\n",
      "Requirement already satisfied: markdown-it-py>=2.2.0 in c:\\users\\asus smart\\anaconda3\\lib\\site-packages (from rich>=13->evidently) (2.2.0)\n",
      "Requirement already satisfied: pygments<3.0.0,>=2.13.0 in c:\\users\\asus smart\\anaconda3\\lib\\site-packages (from rich>=13->evidently) (2.15.1)\n",
      "Requirement already satisfied: threadpoolctl>=3.1.0 in c:\\users\\asus smart\\anaconda3\\lib\\site-packages (from scikit-learn>=1.0.1->evidently) (3.5.0)\n",
      "Requirement already satisfied: patsy>=0.5.6 in c:\\users\\asus smart\\anaconda3\\lib\\site-packages (from statsmodels>=0.12.2->evidently) (0.5.6)\n",
      "Requirement already satisfied: shellingham>=1.3.0 in c:\\users\\asus smart\\anaconda3\\lib\\site-packages (from typer>=0.3->evidently) (1.5.4)\n",
      "Requirement already satisfied: mypy-extensions>=0.3.0 in c:\\users\\asus smart\\anaconda3\\lib\\site-packages (from typing-inspect>=0.9.0->evidently) (1.0.0)\n",
      "Requirement already satisfied: h11>=0.8 in c:\\users\\asus smart\\anaconda3\\lib\\site-packages (from uvicorn>=0.22.0->uvicorn[standard]>=0.22.0->evidently) (0.14.0)\n",
      "Requirement already satisfied: colorama>=0.4 in c:\\users\\asus smart\\anaconda3\\lib\\site-packages (from uvicorn[standard]>=0.22.0->evidently) (0.4.6)\n",
      "Requirement already satisfied: httptools>=0.6.3 in c:\\users\\asus smart\\anaconda3\\lib\\site-packages (from uvicorn[standard]>=0.22.0->evidently) (0.6.4)\n",
      "Requirement already satisfied: python-dotenv>=0.13 in c:\\users\\asus smart\\anaconda3\\lib\\site-packages (from uvicorn[standard]>=0.22.0->evidently) (0.21.0)\n",
      "Requirement already satisfied: watchfiles>=0.13 in c:\\users\\asus smart\\anaconda3\\lib\\site-packages (from uvicorn[standard]>=0.22.0->evidently) (1.1.0)\n",
      "Requirement already satisfied: websockets>=10.4 in c:\\users\\asus smart\\anaconda3\\lib\\site-packages (from uvicorn[standard]>=0.22.0->evidently) (15.0.1)\n",
      "Requirement already satisfied: sniffio>=1.1 in c:\\users\\asus smart\\anaconda3\\lib\\site-packages (from anyio>=3->litestar>=2.8.3->evidently) (1.3.0)\n",
      "Requirement already satisfied: pycparser in c:\\users\\asus smart\\anaconda3\\lib\\site-packages (from cffi>=1.14->cryptography>=43.0.1->evidently) (2.21)\n",
      "Requirement already satisfied: httpcore==1.* in c:\\users\\asus smart\\anaconda3\\lib\\site-packages (from httpx>=0.22->litestar>=2.8.3->evidently) (1.0.2)\n",
      "Requirement already satisfied: mdurl~=0.1 in c:\\users\\asus smart\\anaconda3\\lib\\site-packages (from markdown-it-py>=2.2.0->rich>=13->evidently) (0.1.0)\n",
      "Requirement already satisfied: six in c:\\users\\asus smart\\anaconda3\\lib\\site-packages (from patsy>=0.5.6->statsmodels>=0.12.2->evidently) (1.16.0)\n",
      "Requirement already satisfied: faker>=5.0.0 in c:\\users\\asus smart\\anaconda3\\lib\\site-packages (from polyfactory>=2.6.3->litestar>=2.8.3->evidently) (37.4.0)\n",
      "Note: you may need to restart the kernel to use updated packages.\n"
     ]
    }
   ],
   "source": [
    "%pip install --upgrade evidently"
   ]
  },
  {
   "cell_type": "code",
   "execution_count": 3,
   "id": "40272f53-cef5-474f-9c6a-1a84e7c84abc",
   "metadata": {},
   "outputs": [
    {
     "name": "stdout",
     "output_type": "stream",
     "text": [
      "Requirement already satisfied: fairlearn in c:\\users\\asus smart\\anaconda3\\lib\\site-packages (0.12.0)\n",
      "Requirement already satisfied: numpy>=1.24.4 in c:\\users\\asus smart\\anaconda3\\lib\\site-packages (from fairlearn) (1.26.4)\n",
      "Requirement already satisfied: pandas>=2.0.3 in c:\\users\\asus smart\\anaconda3\\lib\\site-packages (from fairlearn) (2.3.0)\n",
      "Requirement already satisfied: scikit-learn>=1.2.1 in c:\\users\\asus smart\\anaconda3\\lib\\site-packages (from fairlearn) (1.6.1)\n",
      "Requirement already satisfied: scipy>=1.9.3 in c:\\users\\asus smart\\anaconda3\\lib\\site-packages (from fairlearn) (1.13.1)\n",
      "Requirement already satisfied: python-dateutil>=2.8.2 in c:\\users\\asus smart\\anaconda3\\lib\\site-packages (from pandas>=2.0.3->fairlearn) (2.9.0.post0)\n",
      "Requirement already satisfied: pytz>=2020.1 in c:\\users\\asus smart\\anaconda3\\lib\\site-packages (from pandas>=2.0.3->fairlearn) (2024.1)\n",
      "Requirement already satisfied: tzdata>=2022.7 in c:\\users\\asus smart\\anaconda3\\lib\\site-packages (from pandas>=2.0.3->fairlearn) (2023.3)\n",
      "Requirement already satisfied: joblib>=1.2.0 in c:\\users\\asus smart\\anaconda3\\lib\\site-packages (from scikit-learn>=1.2.1->fairlearn) (1.5.1)\n",
      "Requirement already satisfied: threadpoolctl>=3.1.0 in c:\\users\\asus smart\\anaconda3\\lib\\site-packages (from scikit-learn>=1.2.1->fairlearn) (3.5.0)\n",
      "Requirement already satisfied: six>=1.5 in c:\\users\\asus smart\\anaconda3\\lib\\site-packages (from python-dateutil>=2.8.2->pandas>=2.0.3->fairlearn) (1.16.0)\n",
      "Note: you may need to restart the kernel to use updated packages.\n"
     ]
    }
   ],
   "source": [
    "%pip install fairlearn"
   ]
  },
  {
   "cell_type": "code",
   "execution_count": 4,
   "id": "09d0f657-042c-4a6f-b552-b956a49a1c63",
   "metadata": {},
   "outputs": [],
   "source": [
    "from fairlearn.metrics import MetricFrame, selection_rate, demographic_parity_difference, equalized_odds_difference\n",
    "from sklearn.metrics import accuracy_score, precision_score, recall_score"
   ]
  },
  {
   "cell_type": "code",
   "execution_count": 5,
   "id": "df600c79-9ed8-4754-8917-91492d26872b",
   "metadata": {},
   "outputs": [
    {
     "name": "stdout",
     "output_type": "stream",
     "text": [
      "Requirement already satisfied: lightgbm in c:\\users\\asus smart\\anaconda3\\lib\\site-packages (4.6.0)\n",
      "Requirement already satisfied: numpy>=1.17.0 in c:\\users\\asus smart\\anaconda3\\lib\\site-packages (from lightgbm) (1.26.4)\n",
      "Requirement already satisfied: scipy in c:\\users\\asus smart\\anaconda3\\lib\\site-packages (from lightgbm) (1.13.1)\n",
      "Note: you may need to restart the kernel to use updated packages.\n"
     ]
    }
   ],
   "source": [
    "%pip install -U lightgbm\n"
   ]
  },
  {
   "cell_type": "code",
   "execution_count": 6,
   "id": "5e49d887-8db5-498f-b3e8-cea44638e7f4",
   "metadata": {},
   "outputs": [
    {
     "name": "stdout",
     "output_type": "stream",
     "text": [
      "Requirement already satisfied: catboost in c:\\users\\asus smart\\anaconda3\\lib\\site-packages (1.2.8)Note: you may need to restart the kernel to use updated packages.\n",
      "\n",
      "Requirement already satisfied: graphviz in c:\\users\\asus smart\\anaconda3\\lib\\site-packages (from catboost) (0.21)\n",
      "Requirement already satisfied: matplotlib in c:\\users\\asus smart\\anaconda3\\lib\\site-packages (from catboost) (3.9.2)\n",
      "Requirement already satisfied: numpy<3.0,>=1.16.0 in c:\\users\\asus smart\\anaconda3\\lib\\site-packages (from catboost) (1.26.4)\n",
      "Requirement already satisfied: pandas>=0.24 in c:\\users\\asus smart\\anaconda3\\lib\\site-packages (from catboost) (2.3.0)\n",
      "Requirement already satisfied: scipy in c:\\users\\asus smart\\anaconda3\\lib\\site-packages (from catboost) (1.13.1)\n",
      "Requirement already satisfied: plotly in c:\\users\\asus smart\\anaconda3\\lib\\site-packages (from catboost) (5.24.1)\n",
      "Requirement already satisfied: six in c:\\users\\asus smart\\anaconda3\\lib\\site-packages (from catboost) (1.16.0)\n",
      "Requirement already satisfied: python-dateutil>=2.8.2 in c:\\users\\asus smart\\anaconda3\\lib\\site-packages (from pandas>=0.24->catboost) (2.9.0.post0)\n",
      "Requirement already satisfied: pytz>=2020.1 in c:\\users\\asus smart\\anaconda3\\lib\\site-packages (from pandas>=0.24->catboost) (2024.1)\n",
      "Requirement already satisfied: tzdata>=2022.7 in c:\\users\\asus smart\\anaconda3\\lib\\site-packages (from pandas>=0.24->catboost) (2023.3)\n",
      "Requirement already satisfied: contourpy>=1.0.1 in c:\\users\\asus smart\\anaconda3\\lib\\site-packages (from matplotlib->catboost) (1.2.0)\n",
      "Requirement already satisfied: cycler>=0.10 in c:\\users\\asus smart\\anaconda3\\lib\\site-packages (from matplotlib->catboost) (0.11.0)\n",
      "Requirement already satisfied: fonttools>=4.22.0 in c:\\users\\asus smart\\anaconda3\\lib\\site-packages (from matplotlib->catboost) (4.51.0)\n",
      "Requirement already satisfied: kiwisolver>=1.3.1 in c:\\users\\asus smart\\anaconda3\\lib\\site-packages (from matplotlib->catboost) (1.4.4)\n",
      "Requirement already satisfied: packaging>=20.0 in c:\\users\\asus smart\\anaconda3\\lib\\site-packages (from matplotlib->catboost) (24.1)\n",
      "Requirement already satisfied: pillow>=8 in c:\\users\\asus smart\\anaconda3\\lib\\site-packages (from matplotlib->catboost) (10.4.0)\n",
      "Requirement already satisfied: pyparsing>=2.3.1 in c:\\users\\asus smart\\anaconda3\\lib\\site-packages (from matplotlib->catboost) (3.1.2)\n",
      "Requirement already satisfied: tenacity>=6.2.0 in c:\\users\\asus smart\\anaconda3\\lib\\site-packages (from plotly->catboost) (8.2.3)\n"
     ]
    }
   ],
   "source": [
    "%pip install catboost"
   ]
  },
  {
   "cell_type": "code",
   "execution_count": 7,
   "id": "faa6976f-4ac1-41aa-a13c-737fc113ba92",
   "metadata": {},
   "outputs": [
    {
     "name": "stdout",
     "output_type": "stream",
     "text": [
      "Requirement already satisfied: shap in c:\\users\\asus smart\\anaconda3\\lib\\site-packages (0.48.0)\n",
      "Requirement already satisfied: numpy in c:\\users\\asus smart\\anaconda3\\lib\\site-packages (from shap) (1.26.4)\n",
      "Requirement already satisfied: scipy in c:\\users\\asus smart\\anaconda3\\lib\\site-packages (from shap) (1.13.1)\n",
      "Requirement already satisfied: scikit-learn in c:\\users\\asus smart\\anaconda3\\lib\\site-packages (from shap) (1.6.1)\n",
      "Requirement already satisfied: pandas in c:\\users\\asus smart\\anaconda3\\lib\\site-packages (from shap) (2.3.0)\n",
      "Requirement already satisfied: tqdm>=4.27.0 in c:\\users\\asus smart\\anaconda3\\lib\\site-packages (from shap) (4.66.5)\n",
      "Requirement already satisfied: packaging>20.9 in c:\\users\\asus smart\\anaconda3\\lib\\site-packages (from shap) (24.1)\n",
      "Requirement already satisfied: slicer==0.0.8 in c:\\users\\asus smart\\anaconda3\\lib\\site-packages (from shap) (0.0.8)\n",
      "Requirement already satisfied: numba>=0.54 in c:\\users\\asus smart\\anaconda3\\lib\\site-packages (from shap) (0.60.0)\n",
      "Requirement already satisfied: cloudpickle in c:\\users\\asus smart\\anaconda3\\lib\\site-packages (from shap) (3.0.0)\n",
      "Requirement already satisfied: typing-extensions in c:\\users\\asus smart\\anaconda3\\lib\\site-packages (from shap) (4.11.0)\n",
      "Requirement already satisfied: llvmlite<0.44,>=0.43.0dev0 in c:\\users\\asus smart\\anaconda3\\lib\\site-packages (from numba>=0.54->shap) (0.43.0)\n",
      "Requirement already satisfied: colorama in c:\\users\\asus smart\\anaconda3\\lib\\site-packages (from tqdm>=4.27.0->shap) (0.4.6)\n",
      "Requirement already satisfied: python-dateutil>=2.8.2 in c:\\users\\asus smart\\anaconda3\\lib\\site-packages (from pandas->shap) (2.9.0.post0)\n",
      "Requirement already satisfied: pytz>=2020.1 in c:\\users\\asus smart\\anaconda3\\lib\\site-packages (from pandas->shap) (2024.1)\n",
      "Requirement already satisfied: tzdata>=2022.7 in c:\\users\\asus smart\\anaconda3\\lib\\site-packages (from pandas->shap) (2023.3)\n",
      "Requirement already satisfied: joblib>=1.2.0 in c:\\users\\asus smart\\anaconda3\\lib\\site-packages (from scikit-learn->shap) (1.5.1)\n",
      "Requirement already satisfied: threadpoolctl>=3.1.0 in c:\\users\\asus smart\\anaconda3\\lib\\site-packages (from scikit-learn->shap) (3.5.0)\n",
      "Requirement already satisfied: six>=1.5 in c:\\users\\asus smart\\anaconda3\\lib\\site-packages (from python-dateutil>=2.8.2->pandas->shap) (1.16.0)\n",
      "Note: you may need to restart the kernel to use updated packages.\n"
     ]
    }
   ],
   "source": [
    "%pip install shap"
   ]
  },
  {
   "cell_type": "code",
   "execution_count": 8,
   "id": "e6d940c4-6f9b-473b-9b42-5fab3654f44e",
   "metadata": {},
   "outputs": [
    {
     "name": "stdout",
     "output_type": "stream",
     "text": [
      "Requirement already satisfied: xgboost in c:\\users\\asus smart\\anaconda3\\lib\\site-packages (3.0.2)\n",
      "Requirement already satisfied: numpy in c:\\users\\asus smart\\anaconda3\\lib\\site-packages (from xgboost) (1.26.4)\n",
      "Requirement already satisfied: scipy in c:\\users\\asus smart\\anaconda3\\lib\\site-packages (from xgboost) (1.13.1)\n",
      "Note: you may need to restart the kernel to use updated packages.\n"
     ]
    }
   ],
   "source": [
    "%pip install xgboost"
   ]
  },
  {
   "cell_type": "code",
   "execution_count": 9,
   "id": "93880b85-1b27-4128-9d7d-f468652ac707",
   "metadata": {},
   "outputs": [
    {
     "name": "stdout",
     "output_type": "stream",
     "text": [
      "Requirement already satisfied: category_encoders in c:\\users\\asus smart\\anaconda3\\lib\\site-packages (2.8.1)\n",
      "Requirement already satisfied: numpy>=1.14.0 in c:\\users\\asus smart\\anaconda3\\lib\\site-packages (from category_encoders) (1.26.4)\n",
      "Requirement already satisfied: pandas>=1.0.5 in c:\\users\\asus smart\\anaconda3\\lib\\site-packages (from category_encoders) (2.3.0)\n",
      "Requirement already satisfied: patsy>=0.5.1 in c:\\users\\asus smart\\anaconda3\\lib\\site-packages (from category_encoders) (0.5.6)\n",
      "Requirement already satisfied: scikit-learn>=1.6.0 in c:\\users\\asus smart\\anaconda3\\lib\\site-packages (from category_encoders) (1.6.1)\n",
      "Requirement already satisfied: scipy>=1.0.0 in c:\\users\\asus smart\\anaconda3\\lib\\site-packages (from category_encoders) (1.13.1)\n",
      "Requirement already satisfied: statsmodels>=0.9.0 in c:\\users\\asus smart\\anaconda3\\lib\\site-packages (from category_encoders) (0.14.2)\n",
      "Requirement already satisfied: python-dateutil>=2.8.2 in c:\\users\\asus smart\\anaconda3\\lib\\site-packages (from pandas>=1.0.5->category_encoders) (2.9.0.post0)\n",
      "Requirement already satisfied: pytz>=2020.1 in c:\\users\\asus smart\\anaconda3\\lib\\site-packages (from pandas>=1.0.5->category_encoders) (2024.1)\n",
      "Requirement already satisfied: tzdata>=2022.7 in c:\\users\\asus smart\\anaconda3\\lib\\site-packages (from pandas>=1.0.5->category_encoders) (2023.3)\n",
      "Requirement already satisfied: six in c:\\users\\asus smart\\anaconda3\\lib\\site-packages (from patsy>=0.5.1->category_encoders) (1.16.0)\n",
      "Requirement already satisfied: joblib>=1.2.0 in c:\\users\\asus smart\\anaconda3\\lib\\site-packages (from scikit-learn>=1.6.0->category_encoders) (1.5.1)\n",
      "Requirement already satisfied: threadpoolctl>=3.1.0 in c:\\users\\asus smart\\anaconda3\\lib\\site-packages (from scikit-learn>=1.6.0->category_encoders) (3.5.0)\n",
      "Requirement already satisfied: packaging>=21.3 in c:\\users\\asus smart\\anaconda3\\lib\\site-packages (from statsmodels>=0.9.0->category_encoders) (24.1)\n",
      "Note: you may need to restart the kernel to use updated packages.\n"
     ]
    }
   ],
   "source": [
    "%pip install category_encoders"
   ]
  },
  {
   "cell_type": "code",
   "execution_count": 10,
   "id": "6eb703cb-d8db-4dee-b12e-aa67a8995065",
   "metadata": {},
   "outputs": [
    {
     "name": "stdout",
     "output_type": "stream",
     "text": [
      "Requirement already satisfied: scikit-learn in c:\\users\\asus smart\\anaconda3\\lib\\site-packages (1.6.1)\n",
      "Collecting scikit-learn\n",
      "  Using cached scikit_learn-1.7.0-cp312-cp312-win_amd64.whl.metadata (14 kB)\n",
      "Requirement already satisfied: imbalanced-learn in c:\\users\\asus smart\\anaconda3\\lib\\site-packages (0.13.0)\n",
      "Requirement already satisfied: numpy>=1.22.0 in c:\\users\\asus smart\\anaconda3\\lib\\site-packages (from scikit-learn) (1.26.4)\n",
      "Requirement already satisfied: scipy>=1.8.0 in c:\\users\\asus smart\\anaconda3\\lib\\site-packages (from scikit-learn) (1.13.1)\n",
      "Requirement already satisfied: joblib>=1.2.0 in c:\\users\\asus smart\\anaconda3\\lib\\site-packages (from scikit-learn) (1.5.1)\n",
      "Requirement already satisfied: threadpoolctl>=3.1.0 in c:\\users\\asus smart\\anaconda3\\lib\\site-packages (from scikit-learn) (3.5.0)\n",
      "Requirement already satisfied: sklearn-compat<1,>=0.1 in c:\\users\\asus smart\\anaconda3\\lib\\site-packages (from imbalanced-learn) (0.1.3)\n"
     ]
    }
   ],
   "source": [
    "!pip install --upgrade scikit-learn imbalanced-learn"
   ]
  },
  {
   "cell_type": "code",
   "execution_count": 11,
   "id": "11a171f4-ec27-48e7-b0c6-fe5faaee880f",
   "metadata": {},
   "outputs": [],
   "source": [
    "import pandas as pd\n",
    "import numpy as np\n",
    "import matplotlib.pyplot as plt\n",
    "\n",
    "pd.set_option('display.max_columns', None)\n",
    "pd.set_option('display.expand_frame_repr', False)"
   ]
  },
  {
   "cell_type": "code",
   "execution_count": 12,
   "id": "43178684-e1d6-45e7-83d3-6b0b1128bdc5",
   "metadata": {},
   "outputs": [
    {
     "name": "stderr",
     "output_type": "stream",
     "text": [
      "C:\\Users\\ASUS SMART\\AppData\\Local\\Temp\\ipykernel_12980\\4242702065.py:1: DtypeWarning: Columns (51,52) have mixed types. Specify dtype option on import or set low_memory=False.\n",
      "  df=pd.read_csv('PAKDD_Modelling_data.csv')\n"
     ]
    },
    {
     "data": {
      "text/html": [
       "<div>\n",
       "<style scoped>\n",
       "    .dataframe tbody tr th:only-of-type {\n",
       "        vertical-align: middle;\n",
       "    }\n",
       "\n",
       "    .dataframe tbody tr th {\n",
       "        vertical-align: top;\n",
       "    }\n",
       "\n",
       "    .dataframe thead th {\n",
       "        text-align: right;\n",
       "    }\n",
       "</style>\n",
       "<table border=\"1\" class=\"dataframe\">\n",
       "  <thead>\n",
       "    <tr style=\"text-align: right;\">\n",
       "      <th></th>\n",
       "      <th>ID_CLIENT</th>\n",
       "      <th>CLERK_TYPE</th>\n",
       "      <th>PAYMENT_DAY</th>\n",
       "      <th>APPLICATION_SUBMISSION_TYPE</th>\n",
       "      <th>QUANT_ADDITIONAL_CARDS</th>\n",
       "      <th>POSTAL_ADDRESS_TYPE</th>\n",
       "      <th>SEX</th>\n",
       "      <th>MARITAL_STATUS</th>\n",
       "      <th>QUANT_DEPENDANTS</th>\n",
       "      <th>EDUCATION_LEVEL</th>\n",
       "      <th>STATE_OF_BIRTH</th>\n",
       "      <th>CITY_OF_BIRTH</th>\n",
       "      <th>NACIONALITY</th>\n",
       "      <th>RESIDENCIAL_STATE</th>\n",
       "      <th>RESIDENCIAL_CITY</th>\n",
       "      <th>RESIDENCIAL_BOROUGH</th>\n",
       "      <th>FLAG_RESIDENCIAL_PHONE</th>\n",
       "      <th>RESIDENCIAL_PHONE_AREA_CODE</th>\n",
       "      <th>RESIDENCE_TYPE</th>\n",
       "      <th>MONTHS_IN_RESIDENCE</th>\n",
       "      <th>FLAG_MOBILE_PHONE</th>\n",
       "      <th>FLAG_EMAIL</th>\n",
       "      <th>PERSONAL_MONTHLY_INCOME</th>\n",
       "      <th>OTHER_INCOMES</th>\n",
       "      <th>FLAG_VISA</th>\n",
       "      <th>FLAG_MASTERCARD</th>\n",
       "      <th>FLAG_DINERS</th>\n",
       "      <th>FLAG_AMERICAN_EXPRESS</th>\n",
       "      <th>FLAG_OTHER_CARDS</th>\n",
       "      <th>QUANT_BANKING_ACCOUNTS</th>\n",
       "      <th>QUANT_SPECIAL_BANKING_ACCOUNTS</th>\n",
       "      <th>PERSONAL_ASSETS_VALUE</th>\n",
       "      <th>QUANT_CARS</th>\n",
       "      <th>COMPANY</th>\n",
       "      <th>PROFESSIONAL_STATE</th>\n",
       "      <th>PROFESSIONAL_CITY</th>\n",
       "      <th>PROFESSIONAL_BOROUGH</th>\n",
       "      <th>FLAG_PROFESSIONAL_PHONE</th>\n",
       "      <th>PROFESSIONAL_PHONE_AREA_CODE</th>\n",
       "      <th>MONTHS_IN_THE_JOB</th>\n",
       "      <th>PROFESSION_CODE</th>\n",
       "      <th>OCCUPATION_TYPE</th>\n",
       "      <th>MATE_PROFESSION_CODE</th>\n",
       "      <th>MATE_EDUCATION_LEVEL</th>\n",
       "      <th>FLAG_HOME_ADDRESS_DOCUMENT</th>\n",
       "      <th>FLAG_RG</th>\n",
       "      <th>FLAG_CPF</th>\n",
       "      <th>FLAG_INCOME_PROOF</th>\n",
       "      <th>PRODUCT</th>\n",
       "      <th>FLAG_ACSP_RECORD</th>\n",
       "      <th>AGE</th>\n",
       "      <th>RESIDENCIAL_ZIP_3</th>\n",
       "      <th>PROFESSIONAL_ZIP_3</th>\n",
       "      <th>TARGET_LABEL_BAD</th>\n",
       "    </tr>\n",
       "  </thead>\n",
       "  <tbody>\n",
       "    <tr>\n",
       "      <th>0</th>\n",
       "      <td>1</td>\n",
       "      <td>C</td>\n",
       "      <td>5</td>\n",
       "      <td>Web</td>\n",
       "      <td>0</td>\n",
       "      <td>1</td>\n",
       "      <td>F</td>\n",
       "      <td>6</td>\n",
       "      <td>1</td>\n",
       "      <td>0</td>\n",
       "      <td>RN</td>\n",
       "      <td>Assu</td>\n",
       "      <td>1</td>\n",
       "      <td>RN</td>\n",
       "      <td>Santana do Matos</td>\n",
       "      <td>Centro</td>\n",
       "      <td>Y</td>\n",
       "      <td>105</td>\n",
       "      <td>1.0</td>\n",
       "      <td>15.0</td>\n",
       "      <td>N</td>\n",
       "      <td>1</td>\n",
       "      <td>900.0</td>\n",
       "      <td>0.0</td>\n",
       "      <td>1</td>\n",
       "      <td>1</td>\n",
       "      <td>0</td>\n",
       "      <td>0</td>\n",
       "      <td>0</td>\n",
       "      <td>0</td>\n",
       "      <td>0</td>\n",
       "      <td>0.0</td>\n",
       "      <td>0</td>\n",
       "      <td>N</td>\n",
       "      <td></td>\n",
       "      <td>NaN</td>\n",
       "      <td>NaN</td>\n",
       "      <td>N</td>\n",
       "      <td></td>\n",
       "      <td>0</td>\n",
       "      <td>9.0</td>\n",
       "      <td>4.0</td>\n",
       "      <td>NaN</td>\n",
       "      <td>NaN</td>\n",
       "      <td>0</td>\n",
       "      <td>0</td>\n",
       "      <td>0</td>\n",
       "      <td>0</td>\n",
       "      <td>1</td>\n",
       "      <td>N</td>\n",
       "      <td>32</td>\n",
       "      <td>595</td>\n",
       "      <td>595</td>\n",
       "      <td>1</td>\n",
       "    </tr>\n",
       "    <tr>\n",
       "      <th>1</th>\n",
       "      <td>2</td>\n",
       "      <td>C</td>\n",
       "      <td>15</td>\n",
       "      <td>Carga</td>\n",
       "      <td>0</td>\n",
       "      <td>1</td>\n",
       "      <td>F</td>\n",
       "      <td>2</td>\n",
       "      <td>0</td>\n",
       "      <td>0</td>\n",
       "      <td>RJ</td>\n",
       "      <td>rio de janeiro</td>\n",
       "      <td>1</td>\n",
       "      <td>RJ</td>\n",
       "      <td>RIO DE JANEIRO</td>\n",
       "      <td>CAMPO GRANDE</td>\n",
       "      <td>Y</td>\n",
       "      <td>20</td>\n",
       "      <td>1.0</td>\n",
       "      <td>1.0</td>\n",
       "      <td>N</td>\n",
       "      <td>1</td>\n",
       "      <td>750.0</td>\n",
       "      <td>0.0</td>\n",
       "      <td>0</td>\n",
       "      <td>0</td>\n",
       "      <td>0</td>\n",
       "      <td>0</td>\n",
       "      <td>0</td>\n",
       "      <td>0</td>\n",
       "      <td>0</td>\n",
       "      <td>0.0</td>\n",
       "      <td>0</td>\n",
       "      <td>Y</td>\n",
       "      <td></td>\n",
       "      <td>NaN</td>\n",
       "      <td>NaN</td>\n",
       "      <td>N</td>\n",
       "      <td></td>\n",
       "      <td>0</td>\n",
       "      <td>11.0</td>\n",
       "      <td>4.0</td>\n",
       "      <td>11.0</td>\n",
       "      <td>NaN</td>\n",
       "      <td>0</td>\n",
       "      <td>0</td>\n",
       "      <td>0</td>\n",
       "      <td>0</td>\n",
       "      <td>1</td>\n",
       "      <td>N</td>\n",
       "      <td>34</td>\n",
       "      <td>230</td>\n",
       "      <td>230</td>\n",
       "      <td>1</td>\n",
       "    </tr>\n",
       "    <tr>\n",
       "      <th>2</th>\n",
       "      <td>3</td>\n",
       "      <td>C</td>\n",
       "      <td>5</td>\n",
       "      <td>Web</td>\n",
       "      <td>0</td>\n",
       "      <td>1</td>\n",
       "      <td>F</td>\n",
       "      <td>2</td>\n",
       "      <td>0</td>\n",
       "      <td>0</td>\n",
       "      <td>RN</td>\n",
       "      <td>GARANHUNS</td>\n",
       "      <td>1</td>\n",
       "      <td>RN</td>\n",
       "      <td>Parnamirim</td>\n",
       "      <td>Boa Esperanca</td>\n",
       "      <td>Y</td>\n",
       "      <td>105</td>\n",
       "      <td>1.0</td>\n",
       "      <td>NaN</td>\n",
       "      <td>N</td>\n",
       "      <td>1</td>\n",
       "      <td>500.0</td>\n",
       "      <td>0.0</td>\n",
       "      <td>0</td>\n",
       "      <td>0</td>\n",
       "      <td>0</td>\n",
       "      <td>0</td>\n",
       "      <td>0</td>\n",
       "      <td>0</td>\n",
       "      <td>0</td>\n",
       "      <td>0.0</td>\n",
       "      <td>0</td>\n",
       "      <td>N</td>\n",
       "      <td></td>\n",
       "      <td>NaN</td>\n",
       "      <td>NaN</td>\n",
       "      <td>N</td>\n",
       "      <td></td>\n",
       "      <td>0</td>\n",
       "      <td>11.0</td>\n",
       "      <td>NaN</td>\n",
       "      <td>NaN</td>\n",
       "      <td>NaN</td>\n",
       "      <td>0</td>\n",
       "      <td>0</td>\n",
       "      <td>0</td>\n",
       "      <td>0</td>\n",
       "      <td>1</td>\n",
       "      <td>N</td>\n",
       "      <td>27</td>\n",
       "      <td>591</td>\n",
       "      <td>591</td>\n",
       "      <td>0</td>\n",
       "    </tr>\n",
       "    <tr>\n",
       "      <th>3</th>\n",
       "      <td>4</td>\n",
       "      <td>C</td>\n",
       "      <td>20</td>\n",
       "      <td>Web</td>\n",
       "      <td>0</td>\n",
       "      <td>1</td>\n",
       "      <td>F</td>\n",
       "      <td>2</td>\n",
       "      <td>0</td>\n",
       "      <td>0</td>\n",
       "      <td>PE</td>\n",
       "      <td>CABO</td>\n",
       "      <td>1</td>\n",
       "      <td>PE</td>\n",
       "      <td>CABO</td>\n",
       "      <td>PONTE DOS CARVALHOS</td>\n",
       "      <td>N</td>\n",
       "      <td></td>\n",
       "      <td>NaN</td>\n",
       "      <td>NaN</td>\n",
       "      <td>N</td>\n",
       "      <td>1</td>\n",
       "      <td>500.0</td>\n",
       "      <td>0.0</td>\n",
       "      <td>0</td>\n",
       "      <td>0</td>\n",
       "      <td>0</td>\n",
       "      <td>0</td>\n",
       "      <td>0</td>\n",
       "      <td>0</td>\n",
       "      <td>0</td>\n",
       "      <td>0.0</td>\n",
       "      <td>0</td>\n",
       "      <td>N</td>\n",
       "      <td></td>\n",
       "      <td>NaN</td>\n",
       "      <td>NaN</td>\n",
       "      <td>N</td>\n",
       "      <td></td>\n",
       "      <td>0</td>\n",
       "      <td>NaN</td>\n",
       "      <td>NaN</td>\n",
       "      <td>NaN</td>\n",
       "      <td>NaN</td>\n",
       "      <td>0</td>\n",
       "      <td>0</td>\n",
       "      <td>0</td>\n",
       "      <td>0</td>\n",
       "      <td>1</td>\n",
       "      <td>N</td>\n",
       "      <td>61</td>\n",
       "      <td>545</td>\n",
       "      <td>545</td>\n",
       "      <td>0</td>\n",
       "    </tr>\n",
       "    <tr>\n",
       "      <th>4</th>\n",
       "      <td>5</td>\n",
       "      <td>C</td>\n",
       "      <td>10</td>\n",
       "      <td>Web</td>\n",
       "      <td>0</td>\n",
       "      <td>1</td>\n",
       "      <td>M</td>\n",
       "      <td>2</td>\n",
       "      <td>0</td>\n",
       "      <td>0</td>\n",
       "      <td>RJ</td>\n",
       "      <td>RIO DE JANEIRO</td>\n",
       "      <td>1</td>\n",
       "      <td>RJ</td>\n",
       "      <td>Rio de Janeiro</td>\n",
       "      <td>Santa Cruz</td>\n",
       "      <td>Y</td>\n",
       "      <td>20</td>\n",
       "      <td>1.0</td>\n",
       "      <td>12.0</td>\n",
       "      <td>N</td>\n",
       "      <td>1</td>\n",
       "      <td>1200.0</td>\n",
       "      <td>0.0</td>\n",
       "      <td>0</td>\n",
       "      <td>0</td>\n",
       "      <td>0</td>\n",
       "      <td>0</td>\n",
       "      <td>0</td>\n",
       "      <td>0</td>\n",
       "      <td>0</td>\n",
       "      <td>0.0</td>\n",
       "      <td>0</td>\n",
       "      <td>N</td>\n",
       "      <td></td>\n",
       "      <td>NaN</td>\n",
       "      <td>NaN</td>\n",
       "      <td>N</td>\n",
       "      <td></td>\n",
       "      <td>0</td>\n",
       "      <td>9.0</td>\n",
       "      <td>5.0</td>\n",
       "      <td>NaN</td>\n",
       "      <td>NaN</td>\n",
       "      <td>0</td>\n",
       "      <td>0</td>\n",
       "      <td>0</td>\n",
       "      <td>0</td>\n",
       "      <td>1</td>\n",
       "      <td>N</td>\n",
       "      <td>48</td>\n",
       "      <td>235</td>\n",
       "      <td>235</td>\n",
       "      <td>1</td>\n",
       "    </tr>\n",
       "  </tbody>\n",
       "</table>\n",
       "</div>"
      ],
      "text/plain": [
       "   ID_CLIENT CLERK_TYPE  PAYMENT_DAY APPLICATION_SUBMISSION_TYPE  QUANT_ADDITIONAL_CARDS  POSTAL_ADDRESS_TYPE SEX  MARITAL_STATUS  QUANT_DEPENDANTS  EDUCATION_LEVEL STATE_OF_BIRTH   CITY_OF_BIRTH  NACIONALITY RESIDENCIAL_STATE  RESIDENCIAL_CITY  RESIDENCIAL_BOROUGH FLAG_RESIDENCIAL_PHONE RESIDENCIAL_PHONE_AREA_CODE  RESIDENCE_TYPE  MONTHS_IN_RESIDENCE FLAG_MOBILE_PHONE  FLAG_EMAIL  PERSONAL_MONTHLY_INCOME  OTHER_INCOMES  FLAG_VISA  FLAG_MASTERCARD  FLAG_DINERS  FLAG_AMERICAN_EXPRESS  FLAG_OTHER_CARDS  QUANT_BANKING_ACCOUNTS  QUANT_SPECIAL_BANKING_ACCOUNTS  PERSONAL_ASSETS_VALUE  QUANT_CARS COMPANY PROFESSIONAL_STATE PROFESSIONAL_CITY PROFESSIONAL_BOROUGH FLAG_PROFESSIONAL_PHONE PROFESSIONAL_PHONE_AREA_CODE  MONTHS_IN_THE_JOB  PROFESSION_CODE  OCCUPATION_TYPE  MATE_PROFESSION_CODE  MATE_EDUCATION_LEVEL  FLAG_HOME_ADDRESS_DOCUMENT  FLAG_RG  FLAG_CPF  FLAG_INCOME_PROOF  PRODUCT FLAG_ACSP_RECORD  AGE RESIDENCIAL_ZIP_3 PROFESSIONAL_ZIP_3  TARGET_LABEL_BAD\n",
       "0          1          C            5                         Web                       0                    1   F               6                 1                0             RN            Assu            1                RN  Santana do Matos               Centro                      Y                         105             1.0                 15.0                 N           1                    900.0            0.0          1                1            0                      0                 0                       0                               0                    0.0           0       N                                  NaN                  NaN                       N                                               0              9.0              4.0                   NaN                   NaN                           0        0         0                  0        1                N   32               595                595                 1\n",
       "1          2          C           15                       Carga                       0                    1   F               2                 0                0             RJ  rio de janeiro            1                RJ    RIO DE JANEIRO         CAMPO GRANDE                      Y                          20             1.0                  1.0                 N           1                    750.0            0.0          0                0            0                      0                 0                       0                               0                    0.0           0       Y                                  NaN                  NaN                       N                                               0             11.0              4.0                  11.0                   NaN                           0        0         0                  0        1                N   34               230                230                 1\n",
       "2          3          C            5                         Web                       0                    1   F               2                 0                0             RN       GARANHUNS            1                RN        Parnamirim        Boa Esperanca                      Y                         105             1.0                  NaN                 N           1                    500.0            0.0          0                0            0                      0                 0                       0                               0                    0.0           0       N                                  NaN                  NaN                       N                                               0             11.0              NaN                   NaN                   NaN                           0        0         0                  0        1                N   27               591                591                 0\n",
       "3          4          C           20                         Web                       0                    1   F               2                 0                0             PE            CABO            1                PE              CABO  PONTE DOS CARVALHOS                      N                                         NaN                  NaN                 N           1                    500.0            0.0          0                0            0                      0                 0                       0                               0                    0.0           0       N                                  NaN                  NaN                       N                                               0              NaN              NaN                   NaN                   NaN                           0        0         0                  0        1                N   61               545                545                 0\n",
       "4          5          C           10                         Web                       0                    1   M               2                 0                0             RJ  RIO DE JANEIRO            1                RJ    Rio de Janeiro           Santa Cruz                      Y                          20             1.0                 12.0                 N           1                   1200.0            0.0          0                0            0                      0                 0                       0                               0                    0.0           0       N                                  NaN                  NaN                       N                                               0              9.0              5.0                   NaN                   NaN                           0        0         0                  0        1                N   48               235                235                 1"
      ]
     },
     "execution_count": 12,
     "metadata": {},
     "output_type": "execute_result"
    }
   ],
   "source": [
    "df=pd.read_csv('PAKDD_Modelling_data.csv')\n",
    "df.head()"
   ]
  },
  {
   "cell_type": "markdown",
   "id": "dee01e66-9427-478f-9fc7-b7edca62f46b",
   "metadata": {},
   "source": [
    "## Dropping columns"
   ]
  },
  {
   "cell_type": "code",
   "execution_count": 14,
   "id": "86a3ec0b-1b6e-4cbf-bd6b-859d29c9abcc",
   "metadata": {},
   "outputs": [
    {
     "data": {
      "text/plain": [
       "(50000, 45)"
      ]
     },
     "execution_count": 14,
     "metadata": {},
     "output_type": "execute_result"
    }
   ],
   "source": [
    "# dropping constant columns\n",
    "df1=df.drop(columns=['CLERK_TYPE', 'QUANT_ADDITIONAL_CARDS', 'EDUCATION_LEVEL', 'FLAG_MOBILE_PHONE', 'FLAG_HOME_ADDRESS_DOCUMENT', 'FLAG_RG', 'FLAG_CPF', 'FLAG_INCOME_PROOF', 'FLAG_ACSP_RECORD'])\n",
    "df1.shape"
   ]
  },
  {
   "cell_type": "code",
   "execution_count": 15,
   "id": "57aeaf4f-2748-4f7a-accb-98c4b98ab06b",
   "metadata": {},
   "outputs": [
    {
     "data": {
      "text/plain": [
       "(50000, 40)"
      ]
     },
     "execution_count": 15,
     "metadata": {},
     "output_type": "execute_result"
    }
   ],
   "source": [
    "#dropping columns with >60% missing values\n",
    "df2=df1.drop(columns=['MATE_EDUCATION_LEVEL', 'MATE_PROFESSION_CODE', 'PROFESSIONAL_BOROUGH', 'PROFESSIONAL_CITY','ID_CLIENT'])\n",
    "df2.shape"
   ]
  },
  {
   "cell_type": "code",
   "execution_count": 16,
   "id": "8f852d68-4795-485d-be83-6ab4a8bbc432",
   "metadata": {},
   "outputs": [],
   "source": [
    "#separating numerical and categorical columns based on datatype\n",
    "numerical_df = df2.select_dtypes(include=['int64', 'float64'])\n",
    "categorical_df = df2.select_dtypes(exclude=['int64', 'float64'])"
   ]
  },
  {
   "cell_type": "code",
   "execution_count": 17,
   "id": "11cfb7e9-49d5-4400-a792-70ad729583bb",
   "metadata": {},
   "outputs": [
    {
     "data": {
      "text/plain": [
       "(50000, 25)"
      ]
     },
     "execution_count": 17,
     "metadata": {},
     "output_type": "execute_result"
    }
   ],
   "source": [
    "numerical_df.shape"
   ]
  },
  {
   "cell_type": "code",
   "execution_count": 18,
   "id": "b013acc9-e08c-422b-b811-deb355adbdf9",
   "metadata": {},
   "outputs": [],
   "source": [
    "#dropping numerical columns with less tha 1% variation\n",
    "numerical_df1 = numerical_df.drop(columns=[\n",
    "    'FLAG_DINERS',\n",
    "    'MONTHS_IN_THE_JOB',\n",
    "    'FLAG_AMERICAN_EXPRESS',\n",
    "    'FLAG_OTHER_CARDS',\n",
    "    'POSTAL_ADDRESS_TYPE'\n",
    "])\n"
   ]
  },
  {
   "cell_type": "code",
   "execution_count": 19,
   "id": "6eb4379a-6a99-4798-82bd-65eacc0b7a18",
   "metadata": {},
   "outputs": [
    {
     "data": {
      "text/plain": [
       "(50000, 20)"
      ]
     },
     "execution_count": 19,
     "metadata": {},
     "output_type": "execute_result"
    }
   ],
   "source": [
    "numerical_df1.shape"
   ]
  },
  {
   "cell_type": "code",
   "execution_count": 20,
   "id": "cf4a05bb-3c40-4af6-97f0-209f3d7a214a",
   "metadata": {},
   "outputs": [
    {
     "data": {
      "text/plain": [
       "(50000, 19)"
      ]
     },
     "execution_count": 20,
     "metadata": {},
     "output_type": "execute_result"
    }
   ],
   "source": [
    "#dropping column based on high correlation\n",
    "numerical_df2=numerical_df1.drop(columns=['QUANT_BANKING_ACCOUNTS'])\n",
    "numerical_df2.shape"
   ]
  },
  {
   "cell_type": "code",
   "execution_count": 21,
   "id": "db765e2b-42ef-4ac5-924b-99170a3f24af",
   "metadata": {},
   "outputs": [
    {
     "data": {
      "text/plain": [
       "'import seaborn as sns\\nimport matplotlib.pyplot as plt\\n\\n# Compute the correlation matrix\\ncorr_matrix = numerical_df2.corr()\\n\\n# Set the figure size and style\\nplt.figure(figsize=(14, 10))\\nsns.heatmap(corr_matrix, annot=True, fmt=\".2f\", cmap=\"coolwarm\", square=True, cbar_kws={\"shrink\": .8})\\n\\nplt.title(\"Correlation Matrix of numerical_df2\", fontsize=16)\\nplt.xticks(rotation=45, ha=\\'right\\')\\nplt.tight_layout()\\nplt.show()'"
      ]
     },
     "execution_count": 21,
     "metadata": {},
     "output_type": "execute_result"
    }
   ],
   "source": [
    "'''import seaborn as sns\n",
    "import matplotlib.pyplot as plt\n",
    "\n",
    "# Compute the correlation matrix\n",
    "corr_matrix = numerical_df2.corr()\n",
    "\n",
    "# Set the figure size and style\n",
    "plt.figure(figsize=(14, 10))\n",
    "sns.heatmap(corr_matrix, annot=True, fmt=\".2f\", cmap=\"coolwarm\", square=True, cbar_kws={\"shrink\": .8})\n",
    "\n",
    "plt.title(\"Correlation Matrix of numerical_df2\", fontsize=16)\n",
    "plt.xticks(rotation=45, ha='right')\n",
    "plt.tight_layout()\n",
    "plt.show()'''"
   ]
  },
  {
   "cell_type": "code",
   "execution_count": 22,
   "id": "d7fac71e-9eef-4873-a49c-9d41706779f4",
   "metadata": {},
   "outputs": [
    {
     "data": {
      "text/plain": [
       "\"categorical_df1=categorical_df.drop(columns=['PROFESSIONAL_PHONE_AREA_CODE','RESIDENCIAL_ZIP_3','RESIDENCIAL_PHONE_AREA_CODE'])\""
      ]
     },
     "execution_count": 22,
     "metadata": {},
     "output_type": "execute_result"
    }
   ],
   "source": [
    "# dropping columns based on high association\n",
    "'''categorical_df1=categorical_df.drop(columns=['PROFESSIONAL_PHONE_AREA_CODE','RESIDENCIAL_ZIP_3','RESIDENCIAL_PHONE_AREA_CODE'])'''"
   ]
  },
  {
   "cell_type": "code",
   "execution_count": 23,
   "id": "ced95596-eb3e-4009-98e4-f76d7a1fd937",
   "metadata": {},
   "outputs": [],
   "source": [
    "categorical_df1=categorical_df.drop(columns=['PROFESSIONAL_PHONE_AREA_CODE'])"
   ]
  },
  {
   "cell_type": "code",
   "execution_count": 24,
   "id": "28a87945-c900-48f3-b9b3-13d3296fc71b",
   "metadata": {},
   "outputs": [
    {
     "data": {
      "text/plain": [
       "(50000, 14)"
      ]
     },
     "execution_count": 24,
     "metadata": {},
     "output_type": "execute_result"
    }
   ],
   "source": [
    "categorical_df1.shape"
   ]
  },
  {
   "cell_type": "code",
   "execution_count": 25,
   "id": "d0c3585b-9627-4f1c-81dc-a7ca818a3cc7",
   "metadata": {},
   "outputs": [
    {
     "data": {
      "text/plain": [
       "'import pandas as pd\\nimport numpy as np\\nimport scipy.stats as stats\\n\\ndef cramers_v(x, y):\\n    confusion_matrix = pd.crosstab(x, y)\\n    chi2 = stats.chi2_contingency(confusion_matrix)[0]\\n    n = confusion_matrix.sum().sum()\\n    phi2 = chi2 / n\\n    r, k = confusion_matrix.shape\\n    phi2corr = max(0, phi2 - ((k-1)*(r-1)) / (n-1))\\n    rcorr = r - ((r-1)**2)/(n-1)\\n    kcorr = k - ((k-1)**2)/(n-1)\\n    return np.sqrt(phi2corr / min((kcorr-1), (rcorr-1)))\\n\\ncat_cols = categorical_df1.columns\\ncramers_results = pd.DataFrame(index=cat_cols, columns=cat_cols)\\n\\nfor col1 in cat_cols:\\n    for col2 in cat_cols:\\n        cramers_results.loc[col1, col2] = cramers_v(categorical_df1[col1], categorical_df1[col2])\\n\\ncramers_results = cramers_results.astype(float)\\n\\nplt.figure(figsize=(12, 10))\\nsns.heatmap(cramers_results, cmap=\\'coolwarm\\', annot=True, fmt=\".2f\", square=True, cbar_kws={\\'label\\': \"Cramér\\'s V\"})\\nplt.title(\"Cramér\\'s V Correlation Between Categorical Variables\", fontsize=16)\\nplt.xticks(rotation=45, ha=\\'right\\')\\nplt.yticks(rotation=0)\\nplt.tight_layout()\\nplt.show()\\n'"
      ]
     },
     "execution_count": 25,
     "metadata": {},
     "output_type": "execute_result"
    }
   ],
   "source": [
    "'''import pandas as pd\n",
    "import numpy as np\n",
    "import scipy.stats as stats\n",
    "\n",
    "def cramers_v(x, y):\n",
    "    confusion_matrix = pd.crosstab(x, y)\n",
    "    chi2 = stats.chi2_contingency(confusion_matrix)[0]\n",
    "    n = confusion_matrix.sum().sum()\n",
    "    phi2 = chi2 / n\n",
    "    r, k = confusion_matrix.shape\n",
    "    phi2corr = max(0, phi2 - ((k-1)*(r-1)) / (n-1))\n",
    "    rcorr = r - ((r-1)**2)/(n-1)\n",
    "    kcorr = k - ((k-1)**2)/(n-1)\n",
    "    return np.sqrt(phi2corr / min((kcorr-1), (rcorr-1)))\n",
    "\n",
    "cat_cols = categorical_df1.columns\n",
    "cramers_results = pd.DataFrame(index=cat_cols, columns=cat_cols)\n",
    "\n",
    "for col1 in cat_cols:\n",
    "    for col2 in cat_cols:\n",
    "        cramers_results.loc[col1, col2] = cramers_v(categorical_df1[col1], categorical_df1[col2])\n",
    "\n",
    "cramers_results = cramers_results.astype(float)\n",
    "\n",
    "plt.figure(figsize=(12, 10))\n",
    "sns.heatmap(cramers_results, cmap='coolwarm', annot=True, fmt=\".2f\", square=True, cbar_kws={'label': \"Cramér's V\"})\n",
    "plt.title(\"Cramér's V Correlation Between Categorical Variables\", fontsize=16)\n",
    "plt.xticks(rotation=45, ha='right')\n",
    "plt.yticks(rotation=0)\n",
    "plt.tight_layout()\n",
    "plt.show()\n",
    "'''\n"
   ]
  },
  {
   "cell_type": "code",
   "execution_count": 26,
   "id": "51924ad7-db4f-49e7-86f2-d85415f8902a",
   "metadata": {},
   "outputs": [],
   "source": [
    "#dropping column based on domain knowledge\n",
    "categorical_df2=categorical_df1.drop(columns=['PROFESSIONAL_ZIP_3'])"
   ]
  },
  {
   "cell_type": "code",
   "execution_count": 27,
   "id": "cb85228f-0fe0-46ae-83d3-7199e0236d79",
   "metadata": {},
   "outputs": [
    {
     "data": {
      "text/plain": [
       "\"categorical_df3=categorical_df2.drop(columns=['PROFESSIONAL_STATE','APPLICATION_SUBMISSION_TYPE'])\\ncategorical_df3.shape\""
      ]
     },
     "execution_count": 27,
     "metadata": {},
     "output_type": "execute_result"
    }
   ],
   "source": [
    "#dropping columns based on high missing values\n",
    "'''categorical_df3=categorical_df2.drop(columns=['PROFESSIONAL_STATE','APPLICATION_SUBMISSION_TYPE'])\n",
    "categorical_df3.shape'''"
   ]
  },
  {
   "cell_type": "code",
   "execution_count": 28,
   "id": "ebce7c22-e112-41e6-8dcf-d93a7da076fe",
   "metadata": {},
   "outputs": [
    {
     "data": {
      "text/plain": [
       "\"categorical_df3=categorical_df3.drop(columns=['STATE_OF_BIRTH'])\""
      ]
     },
     "execution_count": 28,
     "metadata": {},
     "output_type": "execute_result"
    }
   ],
   "source": [
    "#dropping STATE_OF_BIRTH because of low predictive power compared to CITY_OF_BIRTH\n",
    "'''categorical_df3=categorical_df3.drop(columns=['STATE_OF_BIRTH'])'''"
   ]
  },
  {
   "cell_type": "code",
   "execution_count": 29,
   "id": "f0e6970c-ee52-4ccf-b84e-f3575df7afa2",
   "metadata": {},
   "outputs": [],
   "source": [
    "categorical_df3=categorical_df2.drop(columns=['PROFESSIONAL_STATE'])"
   ]
  },
  {
   "cell_type": "code",
   "execution_count": 30,
   "id": "a3242d7b-f1c1-4018-84c9-0d26b39bf612",
   "metadata": {},
   "outputs": [
    {
     "name": "stdout",
     "output_type": "stream",
     "text": [
      "(50000, 12)\n",
      "(50000, 19)\n",
      "<class 'pandas.core.frame.DataFrame'>\n",
      "RangeIndex: 50000 entries, 0 to 49999\n",
      "Data columns (total 12 columns):\n",
      " #   Column                       Non-Null Count  Dtype \n",
      "---  ------                       --------------  ----- \n",
      " 0   APPLICATION_SUBMISSION_TYPE  50000 non-null  object\n",
      " 1   SEX                          50000 non-null  object\n",
      " 2   STATE_OF_BIRTH               50000 non-null  object\n",
      " 3   CITY_OF_BIRTH                50000 non-null  object\n",
      " 4   RESIDENCIAL_STATE            50000 non-null  object\n",
      " 5   RESIDENCIAL_CITY             50000 non-null  object\n",
      " 6   RESIDENCIAL_BOROUGH          50000 non-null  object\n",
      " 7   FLAG_RESIDENCIAL_PHONE       50000 non-null  object\n",
      " 8   RESIDENCIAL_PHONE_AREA_CODE  50000 non-null  object\n",
      " 9   COMPANY                      50000 non-null  object\n",
      " 10  FLAG_PROFESSIONAL_PHONE      50000 non-null  object\n",
      " 11  RESIDENCIAL_ZIP_3            50000 non-null  object\n",
      "dtypes: object(12)\n",
      "memory usage: 4.6+ MB\n"
     ]
    }
   ],
   "source": [
    "print(categorical_df3.shape)\n",
    "print(numerical_df2.shape)\n",
    "categorical_df3.info()"
   ]
  },
  {
   "cell_type": "code",
   "execution_count": 31,
   "id": "54e997bc-bbf3-451d-b120-88c387f03025",
   "metadata": {},
   "outputs": [],
   "source": [
    "# numerical columns that behave as categorical-\n",
    "# 1. PAYMENT_DAY 2. MARITAL_STATUS 3. NACIONALITY 4. FLAG_EMAIL 5. FLAG_VISA 6. FLAG_MASTERCARD 7.RESIDENCE_TYPE 8. PROFESSION_CODE \n",
    "# transfering these form numerical_df to categorical_df\n",
    "# List of columns to transfer\n",
    "cols_to_transfer = [\n",
    "    'PAYMENT_DAY', 'MARITAL_STATUS', 'NACIONALITY',\n",
    "    'FLAG_EMAIL', 'FLAG_VISA', 'FLAG_MASTERCARD',\n",
    "    'RESIDENCE_TYPE', 'PROFESSION_CODE'\n",
    "]\n",
    "\n",
    "# Transfer the columns\n",
    "categorical_df3[cols_to_transfer] = numerical_df2[cols_to_transfer]\n",
    "\n",
    "# Drop the columns from numerical_df\n",
    "numerical_df2 = numerical_df2.drop(columns=cols_to_transfer)\n"
   ]
  },
  {
   "cell_type": "code",
   "execution_count": 32,
   "id": "bfa081b8-3f39-452f-8a46-0b7de8d1979a",
   "metadata": {},
   "outputs": [
    {
     "data": {
      "text/plain": [
       "(50000, 11)"
      ]
     },
     "execution_count": 32,
     "metadata": {},
     "output_type": "execute_result"
    }
   ],
   "source": [
    "numerical_df2.shape"
   ]
  },
  {
   "cell_type": "code",
   "execution_count": 33,
   "id": "020ec175-9492-4776-8a0a-f89cc34449ed",
   "metadata": {},
   "outputs": [
    {
     "data": {
      "text/plain": [
       "(50000, 20)"
      ]
     },
     "execution_count": 33,
     "metadata": {},
     "output_type": "execute_result"
    }
   ],
   "source": [
    "categorical_df3.shape"
   ]
  },
  {
   "cell_type": "code",
   "execution_count": 34,
   "id": "295a81c1-c53d-4e91-9c22-d221be8ed7b6",
   "metadata": {},
   "outputs": [
    {
     "name": "stdout",
     "output_type": "stream",
     "text": [
      "\n",
      "--- APPLICATION_SUBMISSION_TYPE ---\n",
      "APPLICATION_SUBMISSION_TYPE\n",
      "Web      28206\n",
      "0        19461\n",
      "Carga     2333\n",
      "Name: count, dtype: int64\n",
      "\n",
      "--- SEX ---\n",
      "SEX\n",
      "F    30805\n",
      "M    19130\n",
      "N       48\n",
      "        17\n",
      "Name: count, dtype: int64\n",
      "\n",
      "--- STATE_OF_BIRTH ---\n",
      "STATE_OF_BIRTH\n",
      "BA    5717\n",
      "SP    5695\n",
      "RS    5017\n",
      "CE    4786\n",
      "PE    4098\n",
      "MG    3776\n",
      "      2064\n",
      "RN    2008\n",
      "PR    1971\n",
      "RJ    1826\n",
      "PA    1692\n",
      "AL    1645\n",
      "PB    1609\n",
      "MA    1416\n",
      "GO    1143\n",
      "MT     849\n",
      "SC     707\n",
      "PI     675\n",
      "ES     638\n",
      "MS     496\n",
      "AC     474\n",
      "SE     356\n",
      "AM     354\n",
      "DF     310\n",
      "TO     244\n",
      "AP     236\n",
      "RO     155\n",
      "RR      42\n",
      "XX       1\n",
      "Name: count, dtype: int64\n",
      "\n",
      "--- CITY_OF_BIRTH ---\n",
      "CITY_OF_BIRTH\n",
      "                      2064\n",
      "RIO DE JANEIRO        1184\n",
      "RECIFE                 781\n",
      "SAO PAULO              781\n",
      "FORTALEZA              765\n",
      "                      ... \n",
      "urania                   1\n",
      "ESP STO TURVO            1\n",
      "Varzea de Palma          1\n",
      "STA IZABEL DO PARA       1\n",
      "PIQUET CARNEIRO CE       1\n",
      "Name: count, Length: 9910, dtype: int64\n",
      "\n",
      "--- RESIDENCIAL_STATE ---\n",
      "RESIDENCIAL_STATE\n",
      "SP    8773\n",
      "RS    5261\n",
      "BA    4991\n",
      "CE    4619\n",
      "PE    3670\n",
      "MG    3085\n",
      "PA    2247\n",
      "RJ    2143\n",
      "RN    2027\n",
      "GO    1694\n",
      "PR    1523\n",
      "AL    1467\n",
      "PB    1361\n",
      "MT    1301\n",
      "MA     761\n",
      "DF     700\n",
      "MS     698\n",
      "ES     688\n",
      "SC     668\n",
      "AP     493\n",
      "AM     402\n",
      "PI     374\n",
      "RO     363\n",
      "SE     273\n",
      "AC     227\n",
      "TO     130\n",
      "RR      61\n",
      "Name: count, dtype: int64\n",
      "\n",
      "--- RESIDENCIAL_CITY ---\n",
      "RESIDENCIAL_CITY\n",
      "Sao Paulo               894\n",
      "FORTALEZA               876\n",
      "Fortaleza               714\n",
      "MACEIO                  651\n",
      "PELOTAS                 624\n",
      "                       ... \n",
      "MEDEIROS N ETO            1\n",
      "PARECI NOVO               1\n",
      "CAPIM GROSSO              1\n",
      "pauloa fonso              1\n",
      "conselheiro lafaiete      1\n",
      "Name: count, Length: 3529, dtype: int64\n",
      "\n",
      "--- RESIDENCIAL_BOROUGH ---\n",
      "RESIDENCIAL_BOROUGH\n",
      "CENTRO                                   4169\n",
      "Centro                                    425\n",
      "ZONA RURAL                                372\n",
      "centro                                    347\n",
      "Fragata                                   237\n",
      "                                         ... \n",
      "RUROPOLIS CAMELA                            1\n",
      "MATIEL                                      1\n",
      "NOVA CANAA                                  1\n",
      "Jardim San Rerssore (Caucaia do alto)       1\n",
      "jardim vida nova                            1\n",
      "Name: count, Length: 14511, dtype: int64\n",
      "\n",
      "--- FLAG_RESIDENCIAL_PHONE ---\n",
      "FLAG_RESIDENCIAL_PHONE\n",
      "Y    41809\n",
      "N     8191\n",
      "Name: count, dtype: int64\n",
      "\n",
      "--- RESIDENCIAL_PHONE_AREA_CODE ---\n",
      "RESIDENCIAL_PHONE_AREA_CODE\n",
      "       8212\n",
      "5      4558\n",
      "97     2865\n",
      "107    2830\n",
      "54     2297\n",
      "       ... \n",
      "82        1\n",
      "35        1\n",
      "79        1\n",
      "121       1\n",
      "36        1\n",
      "Name: count, Length: 102, dtype: int64\n",
      "\n",
      "--- COMPANY ---\n",
      "COMPANY\n",
      "N    27959\n",
      "Y    22041\n",
      "Name: count, dtype: int64\n",
      "\n",
      "--- FLAG_PROFESSIONAL_PHONE ---\n",
      "FLAG_PROFESSIONAL_PHONE\n",
      "N    36510\n",
      "Y    13490\n",
      "Name: count, dtype: int64\n",
      "\n",
      "--- RESIDENCIAL_ZIP_3 ---\n",
      "RESIDENCIAL_ZIP_3\n",
      "960    721\n",
      "591    547\n",
      "570    508\n",
      "628    459\n",
      "456    444\n",
      "      ... \n",
      "470      1\n",
      "430      1\n",
      "675      1\n",
      "991      1\n",
      "802      1\n",
      "Name: count, Length: 1481, dtype: int64\n",
      "\n",
      "--- PAYMENT_DAY ---\n",
      "PAYMENT_DAY\n",
      "10    20422\n",
      "15     8750\n",
      "5      7347\n",
      "25     7026\n",
      "20     4694\n",
      "1      1761\n",
      "Name: count, dtype: int64\n",
      "\n",
      "--- MARITAL_STATUS ---\n",
      "MARITAL_STATUS\n",
      "2    25967\n",
      "1    15286\n",
      "4     4206\n",
      "6     1877\n",
      "5     1296\n",
      "3      632\n",
      "7      534\n",
      "0      202\n",
      "Name: count, dtype: int64\n",
      "\n",
      "--- NACIONALITY ---\n",
      "NACIONALITY\n",
      "1    47884\n",
      "0     2018\n",
      "2       98\n",
      "Name: count, dtype: int64\n",
      "\n",
      "--- FLAG_EMAIL ---\n",
      "FLAG_EMAIL\n",
      "1    40114\n",
      "0     9886\n",
      "Name: count, dtype: int64\n",
      "\n",
      "--- FLAG_VISA ---\n",
      "FLAG_VISA\n",
      "0    44428\n",
      "1     5572\n",
      "Name: count, dtype: int64\n",
      "\n",
      "--- FLAG_MASTERCARD ---\n",
      "FLAG_MASTERCARD\n",
      "0    45127\n",
      "1     4873\n",
      "Name: count, dtype: int64\n",
      "\n",
      "--- RESIDENCE_TYPE ---\n",
      "RESIDENCE_TYPE\n",
      "1.0    41572\n",
      "2.0     3884\n",
      "5.0     1983\n",
      "NaN     1349\n",
      "0.0      760\n",
      "4.0      311\n",
      "3.0      141\n",
      "Name: count, dtype: int64\n",
      "\n",
      "--- PROFESSION_CODE ---\n",
      "PROFESSION_CODE\n",
      "9.0     30092\n",
      "NaN      7756\n",
      "11.0     3545\n",
      "0.0      3540\n",
      "2.0      2827\n",
      "12.0      489\n",
      "10.0      425\n",
      "16.0      344\n",
      "13.0      313\n",
      "7.0       216\n",
      "8.0       144\n",
      "6.0       136\n",
      "15.0       63\n",
      "17.0       35\n",
      "4.0        27\n",
      "3.0        18\n",
      "5.0        12\n",
      "14.0        9\n",
      "1.0         8\n",
      "18.0        1\n",
      "Name: count, dtype: int64\n"
     ]
    }
   ],
   "source": [
    "for col in categorical_df3.columns:\n",
    "    print(f\"\\n--- {col} ---\")\n",
    "    print(categorical_df3[col].value_counts(dropna=False))\n"
   ]
  },
  {
   "cell_type": "code",
   "execution_count": 35,
   "id": "79f5ffbd-6de6-47e9-8d1c-d6fe4b6e68e9",
   "metadata": {},
   "outputs": [
    {
     "name": "stdout",
     "output_type": "stream",
     "text": [
      "      QUANT_DEPENDANTS\n",
      "0.95               3.0\n",
      "0.99               5.0\n"
     ]
    }
   ],
   "source": [
    "# List of features you want to analyze\n",
    "features = ['QUANT_DEPENDANTS']  # <-- replace/add your features\n",
    "\n",
    "# Compute the 95th and 99th percentiles\n",
    "percentiles = numerical_df2[features].quantile([0.95, 0.99])\n",
    "\n",
    "# Display the result\n",
    "print(percentiles)\n"
   ]
  },
  {
   "cell_type": "markdown",
   "id": "f5ac1dfe-536a-4d18-802c-561697d9f234",
   "metadata": {},
   "source": [
    "## Handling missing values"
   ]
  },
  {
   "cell_type": "code",
   "execution_count": 37,
   "id": "067fa1af-e7b5-4e98-942d-6b31eda46c18",
   "metadata": {},
   "outputs": [
    {
     "data": {
      "text/plain": [
       "PERSONAL_ASSETS_VALUE\n",
       "0.0         47609\n",
       "30000.0       222\n",
       "25000.0       198\n",
       "50000.0       196\n",
       "15000.0       185\n",
       "            ...  \n",
       "140000.0        1\n",
       "27000.0         1\n",
       "18500.0         1\n",
       "8900.0          1\n",
       "10500.0         1\n",
       "Name: count, Length: 153, dtype: int64"
      ]
     },
     "execution_count": 37,
     "metadata": {},
     "output_type": "execute_result"
    }
   ],
   "source": [
    "numerical_df2['PERSONAL_ASSETS_VALUE'].value_counts()"
   ]
  },
  {
   "cell_type": "code",
   "execution_count": 38,
   "id": "e00209e9-3708-49cd-9ba3-665bb6986b0c",
   "metadata": {},
   "outputs": [
    {
     "data": {
      "text/plain": [
       "OTHER_INCOMES\n",
       "0.0       47227\n",
       "350.0       359\n",
       "200.0       150\n",
       "300.0       143\n",
       "400.0       136\n",
       "          ...  \n",
       "1155.0        1\n",
       "494.0         1\n",
       "1720.0        1\n",
       "477.0         1\n",
       "367.0         1\n",
       "Name: count, Length: 615, dtype: int64"
      ]
     },
     "execution_count": 38,
     "metadata": {},
     "output_type": "execute_result"
    }
   ],
   "source": [
    "numerical_df2['OTHER_INCOMES'].value_counts()"
   ]
  },
  {
   "cell_type": "code",
   "execution_count": 39,
   "id": "45ed37a0-dc47-4238-8cf8-1f8988eb5ec1",
   "metadata": {},
   "outputs": [],
   "source": [
    "\n",
    "numerical_df2['PERSONAL_ASSETS_LOG'] = np.log1p(numerical_df2['PERSONAL_ASSETS_VALUE'])\n",
    "numerical_df2['OTHER_INCOMES_LOG'] = np.log1p(numerical_df2['OTHER_INCOMES'])"
   ]
  },
  {
   "cell_type": "code",
   "execution_count": 40,
   "id": "6e313c73-4d2a-48ce-b33b-883e17942a18",
   "metadata": {},
   "outputs": [
    {
     "data": {
      "text/plain": [
       "PERSONAL_ASSETS_LOG\n",
       "0.000000     47609\n",
       "10.308986      222\n",
       "10.126671      198\n",
       "10.819798      196\n",
       "9.615872       185\n",
       "             ...  \n",
       "11.849405        1\n",
       "10.203629        1\n",
       "9.825580         1\n",
       "9.093919         1\n",
       "9.259226         1\n",
       "Name: count, Length: 153, dtype: int64"
      ]
     },
     "execution_count": 40,
     "metadata": {},
     "output_type": "execute_result"
    }
   ],
   "source": [
    "numerical_df2['PERSONAL_ASSETS_LOG'].value_counts()"
   ]
  },
  {
   "cell_type": "code",
   "execution_count": 41,
   "id": "f55171e6-41f4-41e2-947d-c65310573b3a",
   "metadata": {},
   "outputs": [
    {
     "name": "stdout",
     "output_type": "stream",
     "text": [
      "PERSONAL_ASSETS_LOG: Mutual Information Score = 0.001\n",
      "OTHER_INCOMES_LOG: Mutual Information Score = 0.000\n",
      "AGE: Mutual Information Score = 0.009\n"
     ]
    }
   ],
   "source": [
    "from sklearn.feature_selection import mutual_info_classif\n",
    "\n",
    "X = numerical_df2[['PERSONAL_ASSETS_LOG', 'OTHER_INCOMES_LOG','AGE']]\n",
    "y = df['TARGET_LABEL_BAD']  # your actual target\n",
    "\n",
    "mi = mutual_info_classif(X, y)\n",
    "for col, score in zip(X.columns, mi):\n",
    "    print(f\"{col}: Mutual Information Score = {score:.3f}\")"
   ]
  },
  {
   "cell_type": "code",
   "execution_count": 42,
   "id": "49b69d5f-29f6-4489-8ddd-25d2dc35ee3c",
   "metadata": {},
   "outputs": [],
   "source": [
    "#creating a binary flag for these two features since most of the values in them are 0\n",
    "numerical_df2['HAS_PERSONAL_ASSETS'] = (numerical_df2['PERSONAL_ASSETS_VALUE'] > 0).astype(int)\n",
    "numerical_df2['HAS_OTHER_INCOME'] = (numerical_df2['OTHER_INCOMES'] > 0).astype(int)"
   ]
  },
  {
   "cell_type": "code",
   "execution_count": 43,
   "id": "38dc1601-c5c8-4204-ab70-214233ab64f5",
   "metadata": {},
   "outputs": [],
   "source": [
    "numerical_df2.drop(columns=['PERSONAL_ASSETS_VALUE', 'OTHER_INCOMES',\n",
    "                            'PERSONAL_ASSETS_LOG', 'OTHER_INCOMES_LOG'], inplace=True)"
   ]
  },
  {
   "cell_type": "code",
   "execution_count": 44,
   "id": "7931eca2-58e4-4ad3-91cd-3ed0a462751e",
   "metadata": {},
   "outputs": [
    {
     "data": {
      "text/plain": [
       "(50000, 11)"
      ]
     },
     "execution_count": 44,
     "metadata": {},
     "output_type": "execute_result"
    }
   ],
   "source": [
    "numerical_df2.shape"
   ]
  },
  {
   "cell_type": "code",
   "execution_count": 45,
   "id": "da5fd767-a19f-4777-a103-cf2fe7e293b6",
   "metadata": {},
   "outputs": [],
   "source": [
    "# Transfer the flags to categorical_df3\n",
    "categorical_df3['HAS_PERSONAL_ASSETS'] = numerical_df2['HAS_PERSONAL_ASSETS']\n",
    "categorical_df3['HAS_OTHER_INCOME'] = numerical_df2['HAS_OTHER_INCOME']\n",
    "categorical_df3['OCCUPATION_TYPE'] = numerical_df2['OCCUPATION_TYPE']\n",
    "# Then drop from numerical_df2\n",
    "numerical_df2.drop(columns=['HAS_PERSONAL_ASSETS', 'HAS_OTHER_INCOME','OCCUPATION_TYPE'], inplace=True)\n"
   ]
  },
  {
   "cell_type": "code",
   "execution_count": 46,
   "id": "97d86e3a-7e44-4608-afbf-dc904ab67a7d",
   "metadata": {},
   "outputs": [],
   "source": [
    "categorical_df3['PRODUCT'] = numerical_df2['PRODUCT']\n",
    "numerical_df2.drop(columns=['PRODUCT'], inplace=True)"
   ]
  },
  {
   "cell_type": "code",
   "execution_count": 47,
   "id": "1b504795-c683-4ad4-bb8c-d74805a8b637",
   "metadata": {},
   "outputs": [
    {
     "data": {
      "text/plain": [
       "(50000, 7)"
      ]
     },
     "execution_count": 47,
     "metadata": {},
     "output_type": "execute_result"
    }
   ],
   "source": [
    "numerical_df2.shape"
   ]
  },
  {
   "cell_type": "code",
   "execution_count": 48,
   "id": "1f1014e0-262b-4db6-a03b-b359987bd9bb",
   "metadata": {},
   "outputs": [],
   "source": [
    "#impute with median- 1. MONTHS_IN_RESIDENCE \n",
    "numerical_df2['MONTHS_IN_RESIDENCE'] = numerical_df2['MONTHS_IN_RESIDENCE'].fillna(numerical_df2['MONTHS_IN_RESIDENCE'].median())\n"
   ]
  },
  {
   "cell_type": "code",
   "execution_count": 49,
   "id": "32c0c2a0-b279-4ceb-a508-1bd0185e31bc",
   "metadata": {},
   "outputs": [
    {
     "data": {
      "text/plain": [
       "QUANT_DEPENDANTS                  0\n",
       "MONTHS_IN_RESIDENCE               0\n",
       "PERSONAL_MONTHLY_INCOME           0\n",
       "QUANT_SPECIAL_BANKING_ACCOUNTS    0\n",
       "QUANT_CARS                        0\n",
       "AGE                               0\n",
       "TARGET_LABEL_BAD                  0\n",
       "dtype: int64"
      ]
     },
     "execution_count": 49,
     "metadata": {},
     "output_type": "execute_result"
    }
   ],
   "source": [
    "numerical_df2.isnull().sum()"
   ]
  },
  {
   "cell_type": "code",
   "execution_count": 50,
   "id": "c9175da6-7725-4d25-9339-6be77c1be15f",
   "metadata": {},
   "outputs": [
    {
     "data": {
      "text/plain": [
       "APPLICATION_SUBMISSION_TYPE       0\n",
       "SEX                               0\n",
       "STATE_OF_BIRTH                    0\n",
       "CITY_OF_BIRTH                     0\n",
       "RESIDENCIAL_STATE                 0\n",
       "RESIDENCIAL_CITY                  0\n",
       "RESIDENCIAL_BOROUGH               0\n",
       "FLAG_RESIDENCIAL_PHONE            0\n",
       "RESIDENCIAL_PHONE_AREA_CODE       0\n",
       "COMPANY                           0\n",
       "FLAG_PROFESSIONAL_PHONE           0\n",
       "RESIDENCIAL_ZIP_3                 0\n",
       "PAYMENT_DAY                       0\n",
       "MARITAL_STATUS                    0\n",
       "NACIONALITY                       0\n",
       "FLAG_EMAIL                        0\n",
       "FLAG_VISA                         0\n",
       "FLAG_MASTERCARD                   0\n",
       "RESIDENCE_TYPE                 1349\n",
       "PROFESSION_CODE                7756\n",
       "HAS_PERSONAL_ASSETS               0\n",
       "HAS_OTHER_INCOME                  0\n",
       "OCCUPATION_TYPE                7313\n",
       "PRODUCT                           0\n",
       "dtype: int64"
      ]
     },
     "execution_count": 50,
     "metadata": {},
     "output_type": "execute_result"
    }
   ],
   "source": [
    "categorical_df3.isnull().sum()"
   ]
  },
  {
   "cell_type": "code",
   "execution_count": 51,
   "id": "27177820-5d45-408e-9aae-89aedca83310",
   "metadata": {},
   "outputs": [],
   "source": [
    "# imputing 'SEX' with mode \n",
    "categorical_df3['SEX'] = categorical_df3['SEX'].replace(['N', ' '], 'F')\n"
   ]
  },
  {
   "cell_type": "code",
   "execution_count": 52,
   "id": "f85ba0ee-c367-4c62-a5b2-4b2e09cfa3e1",
   "metadata": {},
   "outputs": [
    {
     "data": {
      "text/plain": [
       "SEX\n",
       "F    30870\n",
       "M    19130\n",
       "Name: count, dtype: int64"
      ]
     },
     "execution_count": 52,
     "metadata": {},
     "output_type": "execute_result"
    }
   ],
   "source": [
    "categorical_df3['SEX'].value_counts()"
   ]
  },
  {
   "cell_type": "markdown",
   "id": "2fbd0908-a598-4951-a756-e8f1424d58c9",
   "metadata": {},
   "source": [
    "### Checking correlation of categorical features with Target label\n",
    "1. Target encoding\n",
    "2. Frequency encoding\n",
    "3. grouping categories "
   ]
  },
  {
   "cell_type": "code",
   "execution_count": 54,
   "id": "b15d91c2-e42d-4364-83f4-e39167f9eedc",
   "metadata": {},
   "outputs": [
    {
     "name": "stdout",
     "output_type": "stream",
     "text": [
      "                              Cramers_V\n",
      "RESIDENCIAL_BOROUGH            0.560843\n",
      "CITY_OF_BIRTH                  0.451380\n",
      "PROFESSIONAL_BOROUGH           0.342068\n",
      "RESIDENCIAL_CITY               0.306520\n",
      "PROFESSIONAL_CITY              0.233801\n",
      "PROFESSIONAL_ZIP_3             0.186856\n",
      "RESIDENCIAL_ZIP_3              0.186856\n",
      "RESIDENCIAL_PHONE_AREA_CODE    0.107847\n",
      "PROFESSIONAL_PHONE_AREA_CODE   0.072736\n",
      "FLAG_RESIDENCIAL_PHONE         0.060689\n",
      "RESIDENCIAL_STATE              0.054302\n",
      "STATE_OF_BIRTH                 0.050151\n",
      "PROFESSIONAL_STATE             0.043669\n",
      "SEX                            0.024006\n",
      "APPLICATION_SUBMISSION_TYPE    0.021853\n",
      "FLAG_PROFESSIONAL_PHONE        0.015808\n",
      "COMPANY                        0.008236\n"
     ]
    }
   ],
   "source": [
    "from scipy.stats import chi2_contingency\n",
    "import pandas as pd\n",
    "import numpy as np\n",
    "\n",
    "# Cramér’s V computation function\n",
    "def cramers_v(x, y):\n",
    "    confusion_matrix = pd.crosstab(x, y)\n",
    "    chi2 = chi2_contingency(confusion_matrix)[0]\n",
    "    n = confusion_matrix.sum().sum()\n",
    "    phi2 = chi2 / n\n",
    "    r, k = confusion_matrix.shape\n",
    "    return np.sqrt(phi2 / min(k - 1, r - 1))\n",
    "\n",
    "# Filter categorical columns only (exclude numeric types)\n",
    "categorical_cols = df.select_dtypes(include=['object', 'category'], exclude=['number']).columns.tolist()\n",
    "\n",
    "# Compute Cramér’s V against the target\n",
    "cramers_v_scores = {}\n",
    "\n",
    "for col in categorical_cols:\n",
    "    if df[col].nunique() > 1:\n",
    "        try:\n",
    "            v = cramers_v(df[col].astype(str), df['TARGET_LABEL_BAD'])\n",
    "            cramers_v_scores[col] = v\n",
    "        except:\n",
    "            continue\n",
    "\n",
    "# Create and display sorted DataFrame\n",
    "cramers_v_df = pd.DataFrame.from_dict(cramers_v_scores, orient='index', columns=['Cramers_V'])\n",
    "cramers_v_df = cramers_v_df.sort_values(by='Cramers_V', ascending=False)\n",
    "\n",
    "print(cramers_v_df)\n"
   ]
  },
  {
   "cell_type": "code",
   "execution_count": 55,
   "id": "24f0441e-7eaf-4df8-83e7-45d66564f414",
   "metadata": {},
   "outputs": [],
   "source": [
    "#Replacing the blank values with nan\n",
    "categorical_df3['CITY_OF_BIRTH'] = categorical_df3['CITY_OF_BIRTH'].replace(' ', np.nan)"
   ]
  },
  {
   "cell_type": "code",
   "execution_count": 56,
   "id": "1f38d495-91e0-4007-bdf8-fbac0d344413",
   "metadata": {},
   "outputs": [],
   "source": [
    "#Replacing the blank values with nan\n",
    "categorical_df3['STATE_OF_BIRTH'] = categorical_df3['STATE_OF_BIRTH'].replace(' ', np.nan)"
   ]
  },
  {
   "cell_type": "code",
   "execution_count": 57,
   "id": "46c8bfb9-7729-497d-8ee5-12622af1f814",
   "metadata": {},
   "outputs": [],
   "source": [
    "#Replacing the undefined value'2' in NACIONALITY with Mode\n",
    "categorical_df3['NACIONALITY'] = categorical_df3['NACIONALITY'].replace(2,1)"
   ]
  },
  {
   "cell_type": "markdown",
   "id": "a857482c-b845-488a-aad0-efce0d368e1f",
   "metadata": {},
   "source": [
    "### Missing values in categorical columns-\n",
    "2. CITY_OF_BIRTH - Nan (2064)\n",
    "3. RESIDENCE_TYPE - Nan (1349)- Impute with mode\n",
    "4. PROFESSION_CODE - NaN (7756)\n",
    "5. OCCUPATION_TYPE - nAN (7313)"
   ]
  },
  {
   "cell_type": "code",
   "execution_count": 59,
   "id": "50198792-4b3d-4c29-a4a1-98c9097da8c1",
   "metadata": {},
   "outputs": [],
   "source": [
    "# Convert selected numeric-looking categorical columns to strings\n",
    "categorical_columns_to_string = ['OCCUPATION_TYPE', 'PROFESSION_CODE','PAYMENT_DAY','MARITAL_STATUS']\n",
    "\n",
    "for col in categorical_columns_to_string:\n",
    "    categorical_df3[col] = categorical_df3[col].astype(str)"
   ]
  },
  {
   "cell_type": "code",
   "execution_count": 60,
   "id": "68a3c1b6-7804-4beb-9a80-212e7092335d",
   "metadata": {},
   "outputs": [
    {
     "name": "stdout",
     "output_type": "stream",
     "text": [
      "APPLICATION_SUBMISSION_TYPE     object\n",
      "SEX                             object\n",
      "STATE_OF_BIRTH                  object\n",
      "CITY_OF_BIRTH                   object\n",
      "RESIDENCIAL_STATE               object\n",
      "RESIDENCIAL_CITY                object\n",
      "RESIDENCIAL_BOROUGH             object\n",
      "FLAG_RESIDENCIAL_PHONE          object\n",
      "RESIDENCIAL_PHONE_AREA_CODE     object\n",
      "COMPANY                         object\n",
      "FLAG_PROFESSIONAL_PHONE         object\n",
      "RESIDENCIAL_ZIP_3               object\n",
      "PAYMENT_DAY                     object\n",
      "MARITAL_STATUS                  object\n",
      "NACIONALITY                      int64\n",
      "FLAG_EMAIL                       int64\n",
      "FLAG_VISA                        int64\n",
      "FLAG_MASTERCARD                  int64\n",
      "RESIDENCE_TYPE                 float64\n",
      "PROFESSION_CODE                 object\n",
      "HAS_PERSONAL_ASSETS              int32\n",
      "HAS_OTHER_INCOME                 int32\n",
      "OCCUPATION_TYPE                 object\n",
      "PRODUCT                          int64\n",
      "dtype: object\n"
     ]
    }
   ],
   "source": [
    "print(categorical_df3.dtypes)"
   ]
  },
  {
   "cell_type": "code",
   "execution_count": 61,
   "id": "acc9d4db-ebe1-40f2-91a0-e7bfde6a89f8",
   "metadata": {},
   "outputs": [],
   "source": [
    "#converting Y/N binary categorical columns to 0/1\n",
    "binary_cols = ['COMPANY', 'FLAG_PROFESSIONAL_PHONE','FLAG_RESIDENCIAL_PHONE']\n",
    "\n",
    "for col in binary_cols:\n",
    "    categorical_df3[col] = categorical_df3[col].map({'Y': 1, 'N': 0})\n"
   ]
  },
  {
   "cell_type": "code",
   "execution_count": 62,
   "id": "329fc0ec-bcef-4c59-afff-c6c4b79ed482",
   "metadata": {},
   "outputs": [
    {
     "name": "stderr",
     "output_type": "stream",
     "text": [
      "C:\\Users\\ASUS SMART\\AppData\\Local\\Temp\\ipykernel_12980\\3737392204.py:1: FutureWarning: Downcasting behavior in `replace` is deprecated and will be removed in a future version. To retain the old behavior, explicitly call `result.infer_objects(copy=False)`. To opt-in to the future behavior, set `pd.set_option('future.no_silent_downcasting', True)`\n",
      "  categorical_df3['SEX'] = categorical_df3['SEX'].replace({'M': 1, 'F': 0}).infer_objects(copy=False)\n"
     ]
    }
   ],
   "source": [
    "categorical_df3['SEX'] = categorical_df3['SEX'].replace({'M': 1, 'F': 0}).infer_objects(copy=False)"
   ]
  },
  {
   "cell_type": "code",
   "execution_count": 63,
   "id": "43442166-a8ef-4cb5-987e-f07a909e1dbd",
   "metadata": {},
   "outputs": [
    {
     "name": "stdout",
     "output_type": "stream",
     "text": [
      "Identified binary columns in categorical_df3: ['SEX', 'FLAG_RESIDENCIAL_PHONE', 'COMPANY', 'FLAG_PROFESSIONAL_PHONE', 'NACIONALITY', 'FLAG_EMAIL', 'FLAG_VISA', 'FLAG_MASTERCARD', 'HAS_PERSONAL_ASSETS', 'HAS_OTHER_INCOME']\n"
     ]
    }
   ],
   "source": [
    "# transferring binary columns to nuemrcial_df2\n",
    "binary_columns = []\n",
    "for col in categorical_df3.columns:\n",
    "    unique_values = categorical_df3[col].dropna().unique()\n",
    "    if len(unique_values) == 2:\n",
    "        binary_columns.append(col)\n",
    "\n",
    "print(f\"Identified binary columns in categorical_df3: {binary_columns}\")\n",
    "\n",
    "for col in binary_columns:\n",
    "    numerical_df2[col] = categorical_df3[col].astype(int) # Or .astype(float) depending on your needs\n",
    "categorical_df3 = categorical_df3.drop(columns=binary_columns)\n",
    "\n"
   ]
  },
  {
   "cell_type": "code",
   "execution_count": 64,
   "id": "56e640ea-0bf5-4b1f-a8b3-4fea4efaf926",
   "metadata": {},
   "outputs": [
    {
     "name": "stderr",
     "output_type": "stream",
     "text": [
      "C:\\Users\\ASUS SMART\\AppData\\Local\\Temp\\ipykernel_12980\\3578069658.py:1: FutureWarning: A value is trying to be set on a copy of a DataFrame or Series through chained assignment using an inplace method.\n",
      "The behavior will change in pandas 3.0. This inplace method will never work because the intermediate object on which we are setting values always behaves as a copy.\n",
      "\n",
      "For example, when doing 'df[col].method(value, inplace=True)', try using 'df.method({col: value}, inplace=True)' or df[col] = df[col].method(value) instead, to perform the operation inplace on the original object.\n",
      "\n",
      "\n",
      "  categorical_df3['PROFESSION_CODE'].replace(['NaN', '', 'nan'], np.nan, inplace=True)\n",
      "C:\\Users\\ASUS SMART\\AppData\\Local\\Temp\\ipykernel_12980\\3578069658.py:2: FutureWarning: A value is trying to be set on a copy of a DataFrame or Series through chained assignment using an inplace method.\n",
      "The behavior will change in pandas 3.0. This inplace method will never work because the intermediate object on which we are setting values always behaves as a copy.\n",
      "\n",
      "For example, when doing 'df[col].method(value, inplace=True)', try using 'df.method({col: value}, inplace=True)' or df[col] = df[col].method(value) instead, to perform the operation inplace on the original object.\n",
      "\n",
      "\n",
      "  categorical_df3['OCCUPATION_TYPE'].replace(['NaN', '', 'nan'], np.nan, inplace=True)\n"
     ]
    }
   ],
   "source": [
    "\n",
    "categorical_df3['PROFESSION_CODE'].replace(['NaN', '', 'nan'], np.nan, inplace=True)\n",
    "categorical_df3['OCCUPATION_TYPE'].replace(['NaN', '', 'nan'], np.nan, inplace=True)\n"
   ]
  },
  {
   "cell_type": "code",
   "execution_count": 65,
   "id": "34833707-8723-4f39-8f16-8e46aa631409",
   "metadata": {},
   "outputs": [],
   "source": [
    "#Low cadinality columns - PAYMENT_DAY, MARITAL_STATUS, RESIDENCE_TYPE, PROFESSION_CODE, OCCUPATION_TYPE \n",
    "# impute missing values with mode - RESIDENCE_TYPE, PROFESSION_CODE, OCCUPATION_TYPE \n",
    "from sklearn.impute import SimpleImputer\n",
    "\n",
    "cat_cols_basic = ['RESIDENCE_TYPE', 'PROFESSION_CODE', 'OCCUPATION_TYPE']\n",
    "mode_imputer = SimpleImputer(strategy='most_frequent')\n",
    "categorical_df3[cat_cols_basic] = mode_imputer.fit_transform(categorical_df3[cat_cols_basic])\n",
    "\n"
   ]
  },
  {
   "cell_type": "code",
   "execution_count": 66,
   "id": "6f56657f-da6a-47ed-9ecb-b204a09edcd5",
   "metadata": {},
   "outputs": [],
   "source": [
    "#high cardinality columns\n",
    "# replacing NaNs by missing category\n",
    "categorical_df3['CITY_OF_BIRTH'] = categorical_df3['CITY_OF_BIRTH'].fillna('Missing')\n",
    "categorical_df3['RESIDENCIAL_CITY'] = categorical_df3['RESIDENCIAL_CITY'].fillna('Missing')\n",
    "categorical_df3['RESIDENCIAL_BOROUGH'] = categorical_df3['RESIDENCIAL_BOROUGH'].fillna('Missing')\n",
    "categorical_df3['STATE_OF_BIRTH'] = categorical_df3['STATE_OF_BIRTH'].fillna('Missing')"
   ]
  },
  {
   "cell_type": "code",
   "execution_count": 67,
   "id": "da5eb7c0-cc9a-49bf-ae71-08c44a375f19",
   "metadata": {},
   "outputs": [
    {
     "name": "stdout",
     "output_type": "stream",
     "text": [
      "\n",
      "--- APPLICATION_SUBMISSION_TYPE ---\n",
      "APPLICATION_SUBMISSION_TYPE\n",
      "Web      28206\n",
      "0        19461\n",
      "Carga     2333\n",
      "Name: count, dtype: int64\n",
      "\n",
      "--- STATE_OF_BIRTH ---\n",
      "STATE_OF_BIRTH\n",
      "BA         5717\n",
      "SP         5695\n",
      "RS         5017\n",
      "CE         4786\n",
      "PE         4098\n",
      "MG         3776\n",
      "Missing    2064\n",
      "RN         2008\n",
      "PR         1971\n",
      "RJ         1826\n",
      "PA         1692\n",
      "AL         1645\n",
      "PB         1609\n",
      "MA         1416\n",
      "GO         1143\n",
      "MT          849\n",
      "SC          707\n",
      "PI          675\n",
      "ES          638\n",
      "MS          496\n",
      "AC          474\n",
      "SE          356\n",
      "AM          354\n",
      "DF          310\n",
      "TO          244\n",
      "AP          236\n",
      "RO          155\n",
      "RR           42\n",
      "XX            1\n",
      "Name: count, dtype: int64\n",
      "\n",
      "--- CITY_OF_BIRTH ---\n",
      "CITY_OF_BIRTH\n",
      "Missing               2064\n",
      "RIO DE JANEIRO        1184\n",
      "RECIFE                 781\n",
      "SAO PAULO              781\n",
      "FORTALEZA              765\n",
      "                      ... \n",
      "urania                   1\n",
      "ESP STO TURVO            1\n",
      "Varzea de Palma          1\n",
      "STA IZABEL DO PARA       1\n",
      "PIQUET CARNEIRO CE       1\n",
      "Name: count, Length: 9910, dtype: int64\n",
      "\n",
      "--- RESIDENCIAL_STATE ---\n",
      "RESIDENCIAL_STATE\n",
      "SP    8773\n",
      "RS    5261\n",
      "BA    4991\n",
      "CE    4619\n",
      "PE    3670\n",
      "MG    3085\n",
      "PA    2247\n",
      "RJ    2143\n",
      "RN    2027\n",
      "GO    1694\n",
      "PR    1523\n",
      "AL    1467\n",
      "PB    1361\n",
      "MT    1301\n",
      "MA     761\n",
      "DF     700\n",
      "MS     698\n",
      "ES     688\n",
      "SC     668\n",
      "AP     493\n",
      "AM     402\n",
      "PI     374\n",
      "RO     363\n",
      "SE     273\n",
      "AC     227\n",
      "TO     130\n",
      "RR      61\n",
      "Name: count, dtype: int64\n",
      "\n",
      "--- RESIDENCIAL_CITY ---\n",
      "RESIDENCIAL_CITY\n",
      "Sao Paulo               894\n",
      "FORTALEZA               876\n",
      "Fortaleza               714\n",
      "MACEIO                  651\n",
      "PELOTAS                 624\n",
      "                       ... \n",
      "MEDEIROS N ETO            1\n",
      "PARECI NOVO               1\n",
      "CAPIM GROSSO              1\n",
      "pauloa fonso              1\n",
      "conselheiro lafaiete      1\n",
      "Name: count, Length: 3529, dtype: int64\n",
      "\n",
      "--- RESIDENCIAL_BOROUGH ---\n",
      "RESIDENCIAL_BOROUGH\n",
      "CENTRO                                   4169\n",
      "Centro                                    425\n",
      "ZONA RURAL                                372\n",
      "centro                                    347\n",
      "Fragata                                   237\n",
      "                                         ... \n",
      "RUROPOLIS CAMELA                            1\n",
      "MATIEL                                      1\n",
      "NOVA CANAA                                  1\n",
      "Jardim San Rerssore (Caucaia do alto)       1\n",
      "jardim vida nova                            1\n",
      "Name: count, Length: 14511, dtype: int64\n",
      "\n",
      "--- RESIDENCIAL_PHONE_AREA_CODE ---\n",
      "RESIDENCIAL_PHONE_AREA_CODE\n",
      "       8212\n",
      "5      4558\n",
      "97     2865\n",
      "107    2830\n",
      "54     2297\n",
      "       ... \n",
      "82        1\n",
      "35        1\n",
      "79        1\n",
      "121       1\n",
      "36        1\n",
      "Name: count, Length: 102, dtype: int64\n",
      "\n",
      "--- RESIDENCIAL_ZIP_3 ---\n",
      "RESIDENCIAL_ZIP_3\n",
      "960    721\n",
      "591    547\n",
      "570    508\n",
      "628    459\n",
      "456    444\n",
      "      ... \n",
      "470      1\n",
      "430      1\n",
      "675      1\n",
      "991      1\n",
      "802      1\n",
      "Name: count, Length: 1481, dtype: int64\n",
      "\n",
      "--- PAYMENT_DAY ---\n",
      "PAYMENT_DAY\n",
      "10    20422\n",
      "15     8750\n",
      "5      7347\n",
      "25     7026\n",
      "20     4694\n",
      "1      1761\n",
      "Name: count, dtype: int64\n",
      "\n",
      "--- MARITAL_STATUS ---\n",
      "MARITAL_STATUS\n",
      "2    25967\n",
      "1    15286\n",
      "4     4206\n",
      "6     1877\n",
      "5     1296\n",
      "3      632\n",
      "7      534\n",
      "0      202\n",
      "Name: count, dtype: int64\n",
      "\n",
      "--- RESIDENCE_TYPE ---\n",
      "RESIDENCE_TYPE\n",
      "1.0    42921\n",
      "2.0     3884\n",
      "5.0     1983\n",
      "0.0      760\n",
      "4.0      311\n",
      "3.0      141\n",
      "Name: count, dtype: int64\n",
      "\n",
      "--- PROFESSION_CODE ---\n",
      "PROFESSION_CODE\n",
      "9.0     37848\n",
      "11.0     3545\n",
      "0.0      3540\n",
      "2.0      2827\n",
      "12.0      489\n",
      "10.0      425\n",
      "16.0      344\n",
      "13.0      313\n",
      "7.0       216\n",
      "8.0       144\n",
      "6.0       136\n",
      "15.0       63\n",
      "17.0       35\n",
      "4.0        27\n",
      "3.0        18\n",
      "5.0        12\n",
      "14.0        9\n",
      "1.0         8\n",
      "18.0        1\n",
      "Name: count, dtype: int64\n",
      "\n",
      "--- OCCUPATION_TYPE ---\n",
      "OCCUPATION_TYPE\n",
      "2.0    24260\n",
      "1.0     8742\n",
      "4.0     7000\n",
      "5.0     6891\n",
      "0.0     2788\n",
      "3.0      319\n",
      "Name: count, dtype: int64\n",
      "\n",
      "--- PRODUCT ---\n",
      "PRODUCT\n",
      "1    42690\n",
      "2     6015\n",
      "7     1295\n",
      "Name: count, dtype: int64\n"
     ]
    }
   ],
   "source": [
    "for col in categorical_df3.columns:\n",
    "    print(f\"\\n--- {col} ---\")\n",
    "    print(categorical_df3[col].value_counts(dropna=False))"
   ]
  },
  {
   "cell_type": "code",
   "execution_count": 68,
   "id": "3381daa4-c898-4122-bbae-3474c953aebd",
   "metadata": {},
   "outputs": [
    {
     "data": {
      "text/plain": [
       "APPLICATION_SUBMISSION_TYPE    0\n",
       "STATE_OF_BIRTH                 0\n",
       "CITY_OF_BIRTH                  0\n",
       "RESIDENCIAL_STATE              0\n",
       "RESIDENCIAL_CITY               0\n",
       "RESIDENCIAL_BOROUGH            0\n",
       "RESIDENCIAL_PHONE_AREA_CODE    0\n",
       "RESIDENCIAL_ZIP_3              0\n",
       "PAYMENT_DAY                    0\n",
       "MARITAL_STATUS                 0\n",
       "RESIDENCE_TYPE                 0\n",
       "PROFESSION_CODE                0\n",
       "OCCUPATION_TYPE                0\n",
       "PRODUCT                        0\n",
       "dtype: int64"
      ]
     },
     "execution_count": 68,
     "metadata": {},
     "output_type": "execute_result"
    }
   ],
   "source": [
    "categorical_df3.isnull().sum()"
   ]
  },
  {
   "cell_type": "code",
   "execution_count": 69,
   "id": "abaf5f65-1bb9-4716-b49d-c98f89b941b4",
   "metadata": {},
   "outputs": [
    {
     "data": {
      "text/plain": [
       "QUANT_DEPENDANTS                  0\n",
       "MONTHS_IN_RESIDENCE               0\n",
       "PERSONAL_MONTHLY_INCOME           0\n",
       "QUANT_SPECIAL_BANKING_ACCOUNTS    0\n",
       "QUANT_CARS                        0\n",
       "AGE                               0\n",
       "TARGET_LABEL_BAD                  0\n",
       "SEX                               0\n",
       "FLAG_RESIDENCIAL_PHONE            0\n",
       "COMPANY                           0\n",
       "FLAG_PROFESSIONAL_PHONE           0\n",
       "NACIONALITY                       0\n",
       "FLAG_EMAIL                        0\n",
       "FLAG_VISA                         0\n",
       "FLAG_MASTERCARD                   0\n",
       "HAS_PERSONAL_ASSETS               0\n",
       "HAS_OTHER_INCOME                  0\n",
       "dtype: int64"
      ]
     },
     "execution_count": 69,
     "metadata": {},
     "output_type": "execute_result"
    }
   ],
   "source": [
    "numerical_df2.isnull().sum()"
   ]
  },
  {
   "cell_type": "markdown",
   "id": "0678bc48-4982-4d84-9158-71d2099ec7b4",
   "metadata": {},
   "source": [
    "## Outlier handling\n",
    "Capping at 99%"
   ]
  },
  {
   "cell_type": "code",
   "execution_count": 71,
   "id": "9fd3fa10-ffc9-4320-847a-9a3cd37656cb",
   "metadata": {},
   "outputs": [],
   "source": [
    "#QUANT_DEPENDANTS, MONTHS_IN_RESIDENCE, PERSONAL_MONTHLY_INCOME\n",
    "# List of columns to cap\n",
    "cap_columns = ['QUANT_DEPENDANTS', 'MONTHS_IN_RESIDENCE', 'PERSONAL_MONTHLY_INCOME']\n",
    "\n",
    "# Cap each column at its 99th percentile\n",
    "for col in cap_columns:\n",
    "    upper_limit = numerical_df2[col].quantile(0.99)\n",
    "    numerical_df2[col] = numerical_df2[col].clip(upper=upper_limit)\n"
   ]
  },
  {
   "cell_type": "code",
   "execution_count": 72,
   "id": "79505073-2ec9-4c21-b62a-6ea2fa96f4ee",
   "metadata": {},
   "outputs": [
    {
     "data": {
      "image/png": "[encoded data removed]",
      "text/plain": [
       "<Figure size 1800x500 with 3 Axes>"
      ]
     },
     "metadata": {},
     "output_type": "display_data"
    }
   ],
   "source": [
    "\n",
    "import matplotlib.pyplot as plt\n",
    "import seaborn as sns\n",
    "cap_columns = ['QUANT_DEPENDANTS', 'MONTHS_IN_RESIDENCE', 'PERSONAL_MONTHLY_INCOME']\n",
    "df_plot = numerical_df2[cap_columns]\n",
    "\n",
    "# Set the style for seaborn\n",
    "sns.set(style=\"whitegrid\")\n",
    "\n",
    "# Create subplots\n",
    "fig, axes = plt.subplots(1, 3, figsize=(18, 5))\n",
    "\n",
    "# Plot barplots for each column\n",
    "for i, col in enumerate(cap_columns):\n",
    "    sns.histplot(df_plot[col], bins=30, ax=axes[i], kde=False)\n",
    "    axes[i].set_title(f'Distribution of {col}')\n",
    "    axes[i].set_xlabel(col)\n",
    "    axes[i].set_ylabel('Frequency')\n",
    "\n",
    "plt.tight_layout()\n",
    "plt.show()"
   ]
  },
  {
   "cell_type": "markdown",
   "id": "1ec08b28-a064-45fc-9b5a-ab0caf3b0e6a",
   "metadata": {},
   "source": [
    "##  FINAL PREPROCESSING PIPELINE"
   ]
  },
  {
   "cell_type": "code",
   "execution_count": 93,
   "id": "21a0a119-b87b-430f-99d4-73420bc32f3b",
   "metadata": {},
   "outputs": [],
   "source": [
    "from sklearn.ensemble import VotingClassifier\n",
    "from sklearn.linear_model import LogisticRegression\n",
    "from sklearn.ensemble import RandomForestClassifier\n",
    "from xgboost import XGBClassifier\n"
   ]
  },
  {
   "cell_type": "code",
   "execution_count": 74,
   "id": "d0d5d30e-c69f-47d8-9ddc-2ce554a96a3a",
   "metadata": {},
   "outputs": [],
   "source": [
    "target_encode_cols = ['CITY_OF_BIRTH', 'RESIDENCIAL_CITY', 'RESIDENCIAL_BOROUGH', 'RESIDENCIAL_STATE', 'STATE_OF_BIRTH','RESIDENCIAL_ZIP_3','RESIDENCIAL_PHONE_AREA_CODE']\n",
    "onehot_encode_cols = ['PROFESSION_CODE', 'MARITAL_STATUS', 'RESIDENCE_TYPE', 'PAYMENT_DAY','OCCUPATION_TYPE','PRODUCT','APPLICATION_SUBMISSION_TYPE']\n"
   ]
  },
  {
   "cell_type": "code",
   "execution_count": 84,
   "id": "f1eeda43-c245-4240-9d08-9cfae25a84ad",
   "metadata": {},
   "outputs": [],
   "source": [
    "cat_cols = categorical_df3.columns.tolist()\n",
    "num_cols = numerical_df2.drop(columns=['TARGET_LABEL_BAD']).columns.tolist()\n",
    "target_col = 'TARGET_LABEL_BAD'"
   ]
  },
  {
   "cell_type": "markdown",
   "id": "fd407e6d-4e74-4301-a79f-1ddf7b461350",
   "metadata": {},
   "source": [
    "Function for model evaluation"
   ]
  },
  {
   "cell_type": "code",
   "execution_count": 76,
   "id": "7231ced5-4d7a-49b4-9cc8-9deb4904c250",
   "metadata": {},
   "outputs": [],
   "source": [
    "from sklearn.metrics import (\n",
    "    accuracy_score, precision_score, recall_score, f1_score,\n",
    "    roc_auc_score, classification_report, confusion_matrix\n",
    ")\n",
    "\n",
    "def evaluate_model(model, X_test, y_test):\n",
    "    # Predictions\n",
    "    y_pred = model.predict(X_test)\n",
    "    \n",
    "    # If model supports predict_proba, use it for ROC AUC\n",
    "    if hasattr(model, \"predict_proba\"):\n",
    "        y_proba = model.predict_proba(X_test)[:, 1]\n",
    "    else:\n",
    "        y_proba = None\n",
    "\n",
    "    # Metrics\n",
    "    acc = accuracy_score(y_test, y_pred)\n",
    "    prec = precision_score(y_test, y_pred, zero_division=0)\n",
    "    rec = recall_score(y_test, y_pred, zero_division=0)\n",
    "    f1 = f1_score(y_test, y_pred, zero_division=0)\n",
    "    roc_auc = roc_auc_score(y_test, y_proba) if y_proba is not None else \"N/A\"\n",
    "\n",
    "    # Print Summary\n",
    "    print(\"✅ Classification Metrics\")\n",
    "    print(\"----------------------------------------\")\n",
    "    print(f\"Accuracy       : {acc:.4f}\")\n",
    "    print(f\"Precision      : {prec:.4f}\")\n",
    "    print(f\"Recall         : {rec:.4f}\")\n",
    "    print(f\"F1 Score       : {f1:.4f}\")\n",
    "    print(f\"ROC-AUC Score  : {roc_auc:.4f}\" if roc_auc != \"N/A\" else \"ROC-AUC Score  : N/A\")\n",
    "\n",
    "    print(\"\\n✅ Classification Report\")\n",
    "    print(\"----------------------------------------\")\n",
    "    print(classification_report(y_test, y_pred))\n",
    "\n",
    "    print(\"✅ Confusion Matrix\")\n",
    "    print(\"----------------------------------------\")\n",
    "    print(confusion_matrix(y_test, y_pred))\n"
   ]
  },
  {
   "cell_type": "markdown",
   "id": "cbe539cf-4073-4f2c-a6f9-d02b109f5d3b",
   "metadata": {},
   "source": [
    "### Train test split"
   ]
  },
  {
   "cell_type": "code",
   "execution_count": 111,
   "id": "c0ac8e2b-5b9a-4fc5-ba59-22421f24e114",
   "metadata": {},
   "outputs": [],
   "source": [
    "from sklearn.model_selection import train_test_split\n",
    "X_full = pd.concat([numerical_df2[num_cols], categorical_df3[cat_cols]], axis=1)\n",
    "y = numerical_df2[target_col]\n",
    "\n",
    "X_train, X_test, y_train, y_test = train_test_split(\n",
    "    X_full, y, test_size=0.2, stratify=y, random_state=42\n",
    ")\n",
    "# Reset index after splitting\n",
    "X_train_cat = X_train[cat_cols].reset_index(drop=True)\n",
    "X_test_cat = X_test[cat_cols].reset_index(drop=True)\n",
    "y_train = y_train.reset_index(drop=True)\n",
    "y_test = y_test.reset_index(drop=True)  # optional if needed later"
   ]
  },
  {
   "cell_type": "markdown",
   "id": "5dc9448e-8843-47c3-a1a6-54e4ba2f46fb",
   "metadata": {},
   "source": [
    "### 1. Defining 3 separate pipelines, one for numerical and other two for different types of categorical based on cardinality"
   ]
  },
  {
   "cell_type": "code",
   "execution_count": 114,
   "id": "4fc84617-e133-4e51-98dc-05b6e4b86943",
   "metadata": {},
   "outputs": [],
   "source": [
    "from sklearn.pipeline import Pipeline\n",
    "from sklearn.compose import ColumnTransformer\n",
    "from category_encoders import TargetEncoder\n",
    "from sklearn.preprocessing import OneHotEncoder, StandardScaler\n",
    "from sklearn.impute import SimpleImputer\n",
    "\n",
    "# 1. Define preprocessing pipelines\n",
    "\n",
    "# Numerical pipeline\n",
    "num_pipeline = Pipeline([\n",
    "    ('imputer', SimpleImputer(strategy='median')),\n",
    "    ('scaler', StandardScaler())\n",
    "])\n",
    "\n",
    "# Target encoding pipeline\n",
    "target_enc_pipeline = Pipeline([\n",
    "    ('imputer', SimpleImputer(strategy='most_frequent')),\n",
    "    ('target', TargetEncoder())\n",
    "])\n",
    "\n",
    "# One-hot encoding pipeline\n",
    "ohe_pipeline = Pipeline([\n",
    "    ('imputer', SimpleImputer(strategy='most_frequent')),\n",
    "    ('ohe', OneHotEncoder(handle_unknown='ignore', sparse_output=False))\n",
    "])\n"
   ]
  },
  {
   "cell_type": "code",
   "execution_count": 116,
   "id": "d4fad206-d082-4128-a626-177f74447c9a",
   "metadata": {},
   "outputs": [],
   "source": [
    "preprocessor = ColumnTransformer(transformers=[\n",
    "    ('num', num_pipeline, num_cols),\n",
    "    ('target', target_enc_pipeline, target_encode_cols),\n",
    "    ('ohe', ohe_pipeline, onehot_encode_cols)\n",
    "])\n"
   ]
  },
  {
   "cell_type": "code",
   "execution_count": 118,
   "id": "f5befd9b-c1a5-4ec7-979b-ca532b987722",
   "metadata": {},
   "outputs": [
    {
     "data": {
      "text/plain": [
       "\"cat_cols = categorical_df3.columns.tolist()\\nnum_cols = numerical_df2.drop(columns=['TARGET_LABEL_BAD']).columns.tolist()\\ntarget_col = 'TARGET_LABEL_BAD'\\n\""
      ]
     },
     "execution_count": 118,
     "metadata": {},
     "output_type": "execute_result"
    }
   ],
   "source": [
    "'''cat_cols = categorical_df3.columns.tolist()\n",
    "num_cols = numerical_df2.drop(columns=['TARGET_LABEL_BAD']).columns.tolist()\n",
    "target_col = 'TARGET_LABEL_BAD'\n",
    "'''\n"
   ]
  },
  {
   "cell_type": "code",
   "execution_count": 120,
   "id": "86ab68a1-3114-4e20-96b5-e0de3f250e66",
   "metadata": {},
   "outputs": [
    {
     "data": {
      "text/plain": [
       "'X_full = pd.concat([numerical_df2[num_cols], categorical_df3[cat_cols]], axis=1)\\ny = numerical_df2[target_col]\\n'"
      ]
     },
     "execution_count": 120,
     "metadata": {},
     "output_type": "execute_result"
    }
   ],
   "source": [
    "'''X_full = pd.concat([numerical_df2[num_cols], categorical_df3[cat_cols]], axis=1)\n",
    "y = numerical_df2[target_col]\n",
    "'''"
   ]
  },
  {
   "cell_type": "code",
   "execution_count": 122,
   "id": "da21dd9a-ade4-4483-a819-71408b271f1f",
   "metadata": {},
   "outputs": [
    {
     "data": {
      "text/plain": [
       "'from sklearn.model_selection import train_test_split\\n\\nX_train, X_test, y_train, y_test = train_test_split(\\n    X_full, y, test_size=0.2, stratify=y, random_state=42\\n)\\n# Reset index after splitting\\nX_train_cat = X_train[cat_cols].reset_index(drop=True)\\nX_test_cat = X_test[cat_cols].reset_index(drop=True)\\ny_train = y_train.reset_index(drop=True)\\ny_test = y_test.reset_index(drop=True)  # optional if needed later\\n'"
      ]
     },
     "execution_count": 122,
     "metadata": {},
     "output_type": "execute_result"
    }
   ],
   "source": [
    "'''from sklearn.model_selection import train_test_split\n",
    "\n",
    "X_train, X_test, y_train, y_test = train_test_split(\n",
    "    X_full, y, test_size=0.2, stratify=y, random_state=42\n",
    ")\n",
    "# Reset index after splitting\n",
    "X_train_cat = X_train[cat_cols].reset_index(drop=True)\n",
    "X_test_cat = X_test[cat_cols].reset_index(drop=True)\n",
    "y_train = y_train.reset_index(drop=True)\n",
    "y_test = y_test.reset_index(drop=True)  # optional if needed later\n",
    "'''"
   ]
  },
  {
   "cell_type": "code",
   "execution_count": 124,
   "id": "1a3df4fe-c6fc-4248-ae4b-29c1f881244f",
   "metadata": {},
   "outputs": [
    {
     "data": {
      "text/plain": [
       "\"from sklearn.impute import SimpleImputer\\nimport pandas as pd\\nimport numpy as np\\n\\n# Numerical imputation\\nnum_imputer = SimpleImputer(strategy='median')\\nX_train_num = pd.DataFrame(num_imputer.fit_transform(X_train[num_cols]), columns=num_cols)\\nX_test_num = pd.DataFrame(num_imputer.transform(X_test[num_cols]), columns=num_cols)\\n\\n# Categorical imputation\\ncat_imputer = SimpleImputer(strategy='most_frequent')\\nX_train_cat = pd.DataFrame(cat_imputer.fit_transform(X_train[cat_cols]), columns=cat_cols)\\nX_test_cat = pd.DataFrame(cat_imputer.transform(X_test[cat_cols]), columns=cat_cols)\\n\""
      ]
     },
     "execution_count": 124,
     "metadata": {},
     "output_type": "execute_result"
    }
   ],
   "source": [
    "'''from sklearn.impute import SimpleImputer\n",
    "import pandas as pd\n",
    "import numpy as np\n",
    "\n",
    "# Numerical imputation\n",
    "num_imputer = SimpleImputer(strategy='median')\n",
    "X_train_num = pd.DataFrame(num_imputer.fit_transform(X_train[num_cols]), columns=num_cols)\n",
    "X_test_num = pd.DataFrame(num_imputer.transform(X_test[num_cols]), columns=num_cols)\n",
    "\n",
    "# Categorical imputation\n",
    "cat_imputer = SimpleImputer(strategy='most_frequent')\n",
    "X_train_cat = pd.DataFrame(cat_imputer.fit_transform(X_train[cat_cols]), columns=cat_cols)\n",
    "X_test_cat = pd.DataFrame(cat_imputer.transform(X_test[cat_cols]), columns=cat_cols)\n",
    "'''"
   ]
  },
  {
   "cell_type": "code",
   "execution_count": 126,
   "id": "bd54346e-27fc-4120-a62f-789f88d4a2f9",
   "metadata": {},
   "outputs": [
    {
     "data": {
      "text/plain": [
       "'import category_encoders as ce\\n\\nencoder = ce.TargetEncoder(cols=cat_cols)\\nX_train_cat_encoded = encoder.fit_transform(X_train_cat, y_train)\\nX_test_cat_encoded = encoder.transform(X_test_cat)\\n'"
      ]
     },
     "execution_count": 126,
     "metadata": {},
     "output_type": "execute_result"
    }
   ],
   "source": [
    "'''import category_encoders as ce\n",
    "\n",
    "encoder = ce.TargetEncoder(cols=cat_cols)\n",
    "X_train_cat_encoded = encoder.fit_transform(X_train_cat, y_train)\n",
    "X_test_cat_encoded = encoder.transform(X_test_cat)\n",
    "'''"
   ]
  },
  {
   "cell_type": "code",
   "execution_count": 128,
   "id": "a9268e1a-6a6d-4ff7-be78-28e1853b6e87",
   "metadata": {},
   "outputs": [
    {
     "data": {
      "text/plain": [
       "\"import category_encoders as ce\\nfrom sklearn.preprocessing import OneHotEncoder\\n\\n# 1. Define columns by encoding strategy\\ntarget_encode_cols = ['CITY_OF_BIRTH', 'RESIDENCIAL_CITY', 'RESIDENCIAL_BOROUGH', 'RESIDENCIAL_STATE', 'STATE_OF_BIRTH','RESIDENCIAL_ZIP_3','RESIDENCIAL_PHONE_AREA_CODE']\\nonehot_encode_cols = ['PROFESSION_CODE', 'MARITAL_STATUS', 'RESIDENCE_TYPE', 'PAYMENT_DAY','OCCUPATION_TYPE','PRODUCT','APPLICATION_SUBMISSION_TYPE']\\n\\n# 2. Target Encoding\\ntarget_encoder = ce.TargetEncoder(cols=target_encode_cols)\\nX_train_target_encoded = target_encoder.fit_transform(X_train_cat[target_encode_cols], y_train)\\nX_test_target_encoded = target_encoder.transform(X_test_cat[target_encode_cols])\\n\\n# 3. One-Hot Encoding\\nohe = OneHotEncoder(handle_unknown='ignore', sparse_output=False)\\nX_train_ohe = pd.DataFrame(\\n    ohe.fit_transform(X_train_cat[onehot_encode_cols]),\\n    columns=ohe.get_feature_names_out(onehot_encode_cols),\\n    index=X_train_cat.index\\n)\\nX_test_ohe = pd.DataFrame(\\n    ohe.transform(X_test_cat[onehot_encode_cols]),\\n    columns=ohe.get_feature_names_out(onehot_encode_cols),\\n    index=X_test_cat.index\\n)\\n\\n# 4. Combine Encoded Features\\nX_train_cat_encoded = pd.concat([X_train_target_encoded, X_train_ohe], axis=1)\\nX_test_cat_encoded = pd.concat([X_test_target_encoded, X_test_ohe], axis=1)\\n\""
      ]
     },
     "execution_count": 128,
     "metadata": {},
     "output_type": "execute_result"
    }
   ],
   "source": [
    "'''import category_encoders as ce\n",
    "from sklearn.preprocessing import OneHotEncoder\n",
    "\n",
    "# 1. Define columns by encoding strategy\n",
    "target_encode_cols = ['CITY_OF_BIRTH', 'RESIDENCIAL_CITY', 'RESIDENCIAL_BOROUGH', 'RESIDENCIAL_STATE', 'STATE_OF_BIRTH','RESIDENCIAL_ZIP_3','RESIDENCIAL_PHONE_AREA_CODE']\n",
    "onehot_encode_cols = ['PROFESSION_CODE', 'MARITAL_STATUS', 'RESIDENCE_TYPE', 'PAYMENT_DAY','OCCUPATION_TYPE','PRODUCT','APPLICATION_SUBMISSION_TYPE']\n",
    "\n",
    "# 2. Target Encoding\n",
    "target_encoder = ce.TargetEncoder(cols=target_encode_cols)\n",
    "X_train_target_encoded = target_encoder.fit_transform(X_train_cat[target_encode_cols], y_train)\n",
    "X_test_target_encoded = target_encoder.transform(X_test_cat[target_encode_cols])\n",
    "\n",
    "# 3. One-Hot Encoding\n",
    "ohe = OneHotEncoder(handle_unknown='ignore', sparse_output=False)\n",
    "X_train_ohe = pd.DataFrame(\n",
    "    ohe.fit_transform(X_train_cat[onehot_encode_cols]),\n",
    "    columns=ohe.get_feature_names_out(onehot_encode_cols),\n",
    "    index=X_train_cat.index\n",
    ")\n",
    "X_test_ohe = pd.DataFrame(\n",
    "    ohe.transform(X_test_cat[onehot_encode_cols]),\n",
    "    columns=ohe.get_feature_names_out(onehot_encode_cols),\n",
    "    index=X_test_cat.index\n",
    ")\n",
    "\n",
    "# 4. Combine Encoded Features\n",
    "X_train_cat_encoded = pd.concat([X_train_target_encoded, X_train_ohe], axis=1)\n",
    "X_test_cat_encoded = pd.concat([X_test_target_encoded, X_test_ohe], axis=1)\n",
    "'''"
   ]
  },
  {
   "cell_type": "code",
   "execution_count": 130,
   "id": "0b3e7173-33f4-4cea-b182-5bc802195149",
   "metadata": {},
   "outputs": [
    {
     "data": {
      "text/plain": [
       "'X_train_final = pd.concat([X_train_num, X_train_cat_encoded], axis=1)\\nX_test_final = pd.concat([X_test_num, X_test_cat_encoded], axis=1)\\n'"
      ]
     },
     "execution_count": 130,
     "metadata": {},
     "output_type": "execute_result"
    }
   ],
   "source": [
    "'''X_train_final = pd.concat([X_train_num, X_train_cat_encoded], axis=1)\n",
    "X_test_final = pd.concat([X_test_num, X_test_cat_encoded], axis=1)\n",
    "'''"
   ]
  },
  {
   "cell_type": "code",
   "execution_count": 132,
   "id": "3feeffdd-982f-4971-b0cb-79a64bbff60a",
   "metadata": {},
   "outputs": [
    {
     "ename": "SyntaxError",
     "evalue": "incomplete input (2794887035.py, line 6)",
     "output_type": "error",
     "traceback": [
      "\u001b[1;36m  Cell \u001b[1;32mIn[132], line 6\u001b[1;36m\u001b[0m\n\u001b[1;33m    ''''''\u001b[0m\n\u001b[1;37m       ^\u001b[0m\n\u001b[1;31mSyntaxError\u001b[0m\u001b[1;31m:\u001b[0m incomplete input\n"
     ]
    }
   ],
   "source": [
    "'''from sklearn.preprocessing import MinMaxScaler, StandardScaler\n",
    "\n",
    "scaler =StandardScaler()\n",
    "X_train_final[num_cols] = scaler.fit_transform(X_train_final[num_cols])\n",
    "X_test_final[num_cols] = scaler.transform(X_test_final[num_cols])\n",
    "'''"
   ]
  },
  {
   "cell_type": "code",
   "execution_count": 134,
   "id": "1dba8ffd-8c64-45b9-845c-c7517bb279c4",
   "metadata": {},
   "outputs": [],
   "source": [
    "import evidently"
   ]
  },
  {
   "cell_type": "markdown",
   "id": "54fbfc10-14ac-42fd-9d61-cc1781da0468",
   "metadata": {},
   "source": [
    "### Using Selectk Best"
   ]
  },
  {
   "cell_type": "code",
   "execution_count": null,
   "id": "bfdb059d-582c-46cd-92a8-5880d723cc7f",
   "metadata": {},
   "outputs": [],
   "source": [
    "'''from sklearn.feature_selection import SelectKBest, mutual_info_classif\n",
    "\n",
    "selector = SelectKBest(score_func=mutual_info_classif, k=50)  # select top 50\n",
    "X_train_selected = selector.fit_transform(X_train_final, y_train)\n",
    "X_test_selected = selector.transform(X_test_final)\n",
    "\n",
    "# Optional: get selected feature names\n",
    "selected_features = X_train_final.columns[selector.get_support()]'''\n"
   ]
  },
  {
   "cell_type": "markdown",
   "id": "a8137eb3-eca1-4fb4-a1d6-43e1d183be32",
   "metadata": {},
   "source": [
    "## Baseline model(logistic reg)"
   ]
  },
  {
   "cell_type": "code",
   "execution_count": 146,
   "id": "7be002f3-8c50-4891-89dc-c0b9f0bc3f5d",
   "metadata": {},
   "outputs": [],
   "source": [
    "from sklearn.feature_selection import SelectKBest, mutual_info_classif\n",
    "from sklearn.pipeline import Pipeline\n",
    "from sklearn.model_selection import StratifiedKFold, cross_val_score\n",
    "logreg_pipeline = Pipeline([\n",
    "    ('preprocessor', preprocessor),  # does imputation + encoding\n",
    "    ('feature_selection', SelectKBest(score_func=mutual_info_classif, k=55)),  # choose k as needed\n",
    "    ('classifier', LogisticRegression(max_iter=1000, random_state=42))\n",
    "])"
   ]
  },
  {
   "cell_type": "code",
   "execution_count": 150,
   "id": "07252631-865e-4563-8d1a-689649d18dc8",
   "metadata": {},
   "outputs": [
    {
     "name": "stdout",
     "output_type": "stream",
     "text": [
      "Cross-validated ROC-AUC: 0.5930970291481346\n"
     ]
    }
   ],
   "source": [
    "\n",
    "cv = StratifiedKFold(n_splits=5, shuffle=True, random_state=42)\n",
    "cv_scores = cross_val_score(logreg_pipeline, X_train, y_train, cv=cv, scoring='roc_auc')\n",
    "print(\"Cross-validated ROC-AUC:\", cv_scores.mean())\n"
   ]
  },
  {
   "cell_type": "code",
   "execution_count": 151,
   "id": "d422627c-a1b1-4380-9cda-19396dd3437a",
   "metadata": {},
   "outputs": [
    {
     "name": "stdout",
     "output_type": "stream",
     "text": [
      "✅ Classification Metrics\n",
      "----------------------------------------\n",
      "Accuracy       : 0.7057\n",
      "Precision      : 0.3646\n",
      "Recall         : 0.1729\n",
      "F1 Score       : 0.2346\n",
      "ROC-AUC Score  : 0.5938\n",
      "\n",
      "✅ Classification Report\n",
      "----------------------------------------\n",
      "              precision    recall  f1-score   support\n",
      "\n",
      "           0       0.75      0.89      0.82      7392\n",
      "           1       0.36      0.17      0.23      2608\n",
      "\n",
      "    accuracy                           0.71     10000\n",
      "   macro avg       0.56      0.53      0.53     10000\n",
      "weighted avg       0.65      0.71      0.67     10000\n",
      "\n",
      "✅ Confusion Matrix\n",
      "----------------------------------------\n",
      "[[6606  786]\n",
      " [2157  451]]\n"
     ]
    }
   ],
   "source": [
    "logreg_pipeline.fit(X_train, y_train)\n",
    "evaluate_model(logreg_pipeline, X_test, y_test)  # use your previous function\n"
   ]
  },
  {
   "cell_type": "markdown",
   "id": "d14567f8-5b21-4156-b455-5596a1dab600",
   "metadata": {},
   "source": [
    "Baseline model had good ROC-AUC score but compromised severely on balancing minority class"
   ]
  },
  {
   "cell_type": "markdown",
   "id": "de533d12-fa40-4ccc-be9a-b4b752c2b70b",
   "metadata": {},
   "source": [
    "There is imbalance for class 1 causing a drop of Precision and recall"
   ]
  },
  {
   "cell_type": "markdown",
   "id": "ca5a2465-8cae-4d0b-9506-43e241108890",
   "metadata": {},
   "source": [
    "### Logistic Regression with SMOTE"
   ]
  },
  {
   "cell_type": "code",
   "execution_count": 152,
   "id": "b4b06b1c-433d-4175-bb63-a5c2efd73f26",
   "metadata": {},
   "outputs": [],
   "source": [
    "from imblearn.pipeline import Pipeline as ImbPipeline\n",
    "from imblearn.over_sampling import SMOTE\n",
    "from sklearn.linear_model import LogisticRegression\n",
    "from sklearn.feature_selection import SelectKBest, mutual_info_classif\n",
    "from sklearn.model_selection import StratifiedKFold, cross_val_score\n"
   ]
  },
  {
   "cell_type": "code",
   "execution_count": 153,
   "id": "671ce8b3-2a10-480c-8fcc-d64801d9453c",
   "metadata": {},
   "outputs": [],
   "source": [
    "smote_pipeline = ImbPipeline([\n",
    "    ('preprocessor', preprocessor),  # your imputation + encoding steps\n",
    "    ('feature_selection', SelectKBest(score_func=mutual_info_classif, k=40)),\n",
    "    ('smote', SMOTE(random_state=42)),\n",
    "    ('classifier', LogisticRegression(max_iter=1000, random_state=42))\n",
    "])\n"
   ]
  },
  {
   "cell_type": "code",
   "execution_count": 154,
   "id": "cb5e6e93-ce66-4b88-a627-28a053ac9400",
   "metadata": {},
   "outputs": [
    {
     "name": "stdout",
     "output_type": "stream",
     "text": [
      "✅ Cross-validated ROC-AUC with SMOTE\n",
      "----------------------------------------\n",
      "Mean ROC-AUC : 0.5866\n",
      "Std Dev      : 0.0068\n"
     ]
    }
   ],
   "source": [
    "cv = StratifiedKFold(n_splits=5, shuffle=True, random_state=42)\n",
    "\n",
    "cv_scores = cross_val_score(smote_pipeline, X_train, y_train, cv=cv, scoring='roc_auc', n_jobs=-1)\n",
    "print(\"✅ Cross-validated ROC-AUC with SMOTE\")\n",
    "print(\"-\" * 40)\n",
    "print(f\"Mean ROC-AUC : {cv_scores.mean():.4f}\")\n",
    "print(f\"Std Dev      : {cv_scores.std():.4f}\")\n"
   ]
  },
  {
   "cell_type": "code",
   "execution_count": 155,
   "id": "a2f9e4b0-f293-4129-83d3-2400f30a95c7",
   "metadata": {},
   "outputs": [
    {
     "name": "stdout",
     "output_type": "stream",
     "text": [
      "✅ Classification Metrics\n",
      "----------------------------------------\n",
      "Accuracy       : 0.6216\n",
      "Precision      : 0.3210\n",
      "Recall         : 0.4041\n",
      "F1 Score       : 0.3578\n",
      "ROC-AUC Score  : 0.5807\n",
      "\n",
      "✅ Classification Report\n",
      "----------------------------------------\n",
      "              precision    recall  f1-score   support\n",
      "\n",
      "           0       0.77      0.70      0.73      7392\n",
      "           1       0.32      0.40      0.36      2608\n",
      "\n",
      "    accuracy                           0.62     10000\n",
      "   macro avg       0.54      0.55      0.54     10000\n",
      "weighted avg       0.65      0.62      0.63     10000\n",
      "\n",
      "✅ Confusion Matrix\n",
      "----------------------------------------\n",
      "[[5162 2230]\n",
      " [1554 1054]]\n"
     ]
    }
   ],
   "source": [
    "smote_pipeline.fit(X_train, y_train)\n",
    "\n",
    "y_pred = smote_pipeline.predict(X_test)\n",
    "y_prob = smote_pipeline.predict_proba(X_test)[:, 1]\n",
    "\n",
    "evaluate_model(smote_pipeline, X_test, y_test)  # your previous `evaluate_model()` function\n"
   ]
  },
  {
   "cell_type": "markdown",
   "id": "60d8bd1b-3c46-4e5b-91a0-a22816029aee",
   "metadata": {},
   "source": [
    "Smote technique proved successful in balancing the dataset without compromising much on ROC-AUC but compromising on accuracy"
   ]
  },
  {
   "cell_type": "markdown",
   "id": "33d981d9-18c5-4293-8602-135aa9781906",
   "metadata": {},
   "source": [
    "### SMOTE with random forest "
   ]
  },
  {
   "cell_type": "code",
   "execution_count": 158,
   "id": "6d6fb467-a1c4-4262-8637-7bdbaa229c01",
   "metadata": {},
   "outputs": [],
   "source": [
    "smote_rf_pipeline = ImbPipeline([\n",
    "    ('preprocessor', preprocessor),\n",
    "    ('feature_selection', SelectKBest(score_func=mutual_info_classif, k=40)),\n",
    "    ('smote', SMOTE(random_state=42)),\n",
    "    ('classifier', RandomForestClassifier(n_estimators=100, max_depth=6, class_weight='balanced', random_state=42))\n",
    "])"
   ]
  },
  {
   "cell_type": "code",
   "execution_count": 159,
   "id": "33164529-7675-4ac6-b828-b037cda54ee0",
   "metadata": {},
   "outputs": [
    {
     "name": "stdout",
     "output_type": "stream",
     "text": [
      "SMOTE + Random Forest ROC-AUC: 0.5749068858008826\n"
     ]
    }
   ],
   "source": [
    "from sklearn.model_selection import cross_val_score, StratifiedKFold\n",
    "\n",
    "cv = StratifiedKFold(n_splits=5, shuffle=True, random_state=42)\n",
    "\n",
    "scores = cross_val_score(smote_rf_pipeline, X_train, y_train, cv=cv, scoring='roc_auc', n_jobs=-1)\n",
    "\n",
    "print(\"SMOTE + Random Forest ROC-AUC:\", scores.mean())\n"
   ]
  },
  {
   "cell_type": "code",
   "execution_count": 160,
   "id": "83c64983-3e86-4fe9-9233-16b07d2c2ebd",
   "metadata": {},
   "outputs": [
    {
     "name": "stdout",
     "output_type": "stream",
     "text": [
      "✅ Classification Metrics\n",
      "----------------------------------------\n",
      "Accuracy       : 0.5678\n",
      "Precision      : 0.3048\n",
      "Recall         : 0.5130\n",
      "F1 Score       : 0.3824\n",
      "ROC-AUC Score  : 0.5828\n",
      "\n",
      "✅ Classification Report\n",
      "----------------------------------------\n",
      "              precision    recall  f1-score   support\n",
      "\n",
      "           0       0.77      0.59      0.67      7392\n",
      "           1       0.30      0.51      0.38      2608\n",
      "\n",
      "    accuracy                           0.57     10000\n",
      "   macro avg       0.54      0.55      0.52     10000\n",
      "weighted avg       0.65      0.57      0.59     10000\n",
      "\n",
      "✅ Confusion Matrix\n",
      "----------------------------------------\n",
      "[[4340 3052]\n",
      " [1270 1338]]\n"
     ]
    }
   ],
   "source": [
    "smote_rf_pipeline.fit(X_train, y_train)\n",
    "\n",
    "y_pred = smote_rf_pipeline.predict(X_test)\n",
    "y_prob = smote_rf_pipeline.predict_proba(X_test)[:, 1]\n",
    "\n",
    "evaluate_model(smote_rf_pipeline, X_test, y_test)\n"
   ]
  },
  {
   "cell_type": "markdown",
   "id": "cdd28053-5511-4e6d-ab39-40315d9368fa",
   "metadata": {},
   "source": [
    "SMOTE didn't work well with Random forest classifier"
   ]
  },
  {
   "cell_type": "markdown",
   "id": "018551ab-b86c-4237-a670-ce19d09038f5",
   "metadata": {},
   "source": [
    "### Bias detection for sensitive features"
   ]
  },
  {
   "cell_type": "code",
   "execution_count": 163,
   "id": "9a4981e0-20ac-492a-9787-4493fbbc2c3a",
   "metadata": {},
   "outputs": [],
   "source": [
    "from fairlearn.metrics import MetricFrame, selection_rate, demographic_parity_difference, equalized_odds_difference\n",
    "from sklearn.metrics import accuracy_score, precision_score, recall_score\n",
    "import matplotlib.pyplot as plt\n",
    "import seaborn as sns\n",
    "\n",
    "# 🔁 Reusable bias dashboard function\n",
    "def bias_dashboard(y_true, y_pred, sensitive_feature, feature_name=\"Sensitive Attribute\"):\n",
    "    frame = MetricFrame(\n",
    "        metrics={\n",
    "            'accuracy': accuracy_score,\n",
    "            'precision': precision_score,\n",
    "            'recall': recall_score,\n",
    "            'selection_rate': selection_rate\n",
    "        },\n",
    "        y_true=y_true,\n",
    "        y_pred=y_pred,\n",
    "        sensitive_features=sensitive_feature\n",
    "    )\n",
    "\n",
    "    # Summary printout\n",
    "    print(f\"\\n📊 Bias Dashboard for {feature_name}\")\n",
    "    print(\"=\" * 50)\n",
    "    print(\"Group-wise Metrics:\\n\", frame.by_group)\n",
    "    print(\"Overall Metrics:\\n\", frame.overall)\n",
    "    print(\"\\nDisparity Metrics:\")\n",
    "    print(\"  Demographic Parity Difference:\", round(demographic_parity_difference(y_true, y_pred, sensitive_features=sensitive_feature), 4))\n",
    "    print(\"  Equalized Odds Difference     :\", round(equalized_odds_difference(y_true, y_pred, sensitive_features=sensitive_feature), 4))\n",
    "\n",
    "    # 📊 Plot the group-wise metrics\n",
    "    fig, axes = plt.subplots(1, 4, figsize=(18, 5))\n",
    "    for i, metric in enumerate(frame.by_group.columns):\n",
    "        sns.barplot(\n",
    "            x=frame.by_group.index.astype(str),\n",
    "            y=frame.by_group[metric].values,\n",
    "            ax=axes[i],\n",
    "            palette='Set2'\n",
    "        )\n",
    "        axes[i].set_title(f'{metric} by {feature_name}')\n",
    "        axes[i].set_xlabel(feature_name)\n",
    "        axes[i].set_ylabel(metric)\n",
    "        axes[i].tick_params(axis='x', rotation=45)\n",
    "\n",
    "    plt.tight_layout()\n",
    "    plt.show()\n"
   ]
  },
  {
   "cell_type": "code",
   "execution_count": 167,
   "id": "6c24aa6a-cef6-420d-bb74-87c761f8a48c",
   "metadata": {},
   "outputs": [
    {
     "name": "stdout",
     "output_type": "stream",
     "text": [
      "\n",
      "📊 Bias Dashboard for SEX\n",
      "==================================================\n",
      "Group-wise Metrics:\n",
      "      accuracy  precision    recall  selection_rate\n",
      "SEX                                               \n",
      "0    0.570897   0.303558  0.532823        0.445775\n",
      "1    0.562794   0.306846  0.483157        0.428048\n",
      "Overall Metrics:\n",
      " accuracy          0.567800\n",
      "precision         0.304784\n",
      "recall            0.513037\n",
      "selection_rate    0.439000\n",
      "dtype: float64\n",
      "\n",
      "Disparity Metrics:\n",
      "  Demographic Parity Difference: 0.0177\n",
      "  Equalized Odds Difference     : 0.0497\n"
     ]
    },
    {
     "name": "stderr",
     "output_type": "stream",
     "text": [
      "C:\\Users\\ASUS SMART\\AppData\\Local\\Temp\\ipykernel_12980\\521299116.py:32: FutureWarning: \n",
      "\n",
      "Passing `palette` without assigning `hue` is deprecated and will be removed in v0.14.0. Assign the `x` variable to `hue` and set `legend=False` for the same effect.\n",
      "\n",
      "  sns.barplot(\n",
      "C:\\Users\\ASUS SMART\\AppData\\Local\\Temp\\ipykernel_12980\\521299116.py:32: FutureWarning: \n",
      "\n",
      "Passing `palette` without assigning `hue` is deprecated and will be removed in v0.14.0. Assign the `x` variable to `hue` and set `legend=False` for the same effect.\n",
      "\n",
      "  sns.barplot(\n",
      "C:\\Users\\ASUS SMART\\AppData\\Local\\Temp\\ipykernel_12980\\521299116.py:32: FutureWarning: \n",
      "\n",
      "Passing `palette` without assigning `hue` is deprecated and will be removed in v0.14.0. Assign the `x` variable to `hue` and set `legend=False` for the same effect.\n",
      "\n",
      "  sns.barplot(\n",
      "C:\\Users\\ASUS SMART\\AppData\\Local\\Temp\\ipykernel_12980\\521299116.py:32: FutureWarning: \n",
      "\n",
      "Passing `palette` without assigning `hue` is deprecated and will be removed in v0.14.0. Assign the `x` variable to `hue` and set `legend=False` for the same effect.\n",
      "\n",
      "  sns.barplot(\n"
     ]
    },
    {
     "data": {
      "image/png": "[encoded data removed]",
      "text/plain": [
       "<Figure size 1800x500 with 4 Axes>"
      ]
     },
     "metadata": {},
     "output_type": "display_data"
    },
    {
     "name": "stdout",
     "output_type": "stream",
     "text": [
      "\n",
      "📊 Bias Dashboard for STATE_OF_BIRTH\n",
      "==================================================\n",
      "Group-wise Metrics:\n",
      "                 accuracy  precision    recall  selection_rate\n",
      "STATE_OF_BIRTH                                               \n",
      "AC              0.606742   0.454545  0.645161        0.494382\n",
      "AL              0.468278   0.311005  0.670103        0.631420\n",
      "AM              0.625000   0.428571  0.857143        0.583333\n",
      "AP              0.866667   0.800000  0.444444        0.111111\n",
      "BA              0.564620   0.307692  0.488136        0.428964\n",
      "CE              0.542857   0.321862  0.584559        0.504082\n",
      "DF              0.465517   0.350000  0.736842        0.689655\n",
      "ES              0.565217   0.296296  0.421053        0.391304\n",
      "GO              0.565401   0.300000  0.338028        0.337553\n",
      "MA              0.570896   0.315315  0.472973        0.414179\n",
      "MG              0.578393   0.321429  0.471429        0.405797\n",
      "MS              0.562500   0.357143  0.500000        0.437500\n",
      "MT              0.435583   0.221053  0.538462        0.582822\n",
      "Missing         0.493478   0.238462  0.639175        0.565217\n",
      "PA              0.546547   0.268456  0.487805        0.447447\n",
      "PB              0.630573   0.247312  0.333333        0.296178\n",
      "PE              0.564571   0.298734  0.531532        0.451429\n",
      "PI              0.630769   0.428571  0.512195        0.376923\n",
      "PR              0.585938   0.289855  0.396040        0.359375\n",
      "RJ              0.539773   0.321053  0.648936        0.539773\n",
      "RN              0.462766   0.251208  0.525253        0.550532\n",
      "RO              0.718750   0.444444  0.500000        0.281250\n",
      "RR              0.666667   0.600000  1.000000        0.833333\n",
      "RS              0.664932   0.300000  0.422330        0.301769\n",
      "SC              0.679487   0.235294  0.250000        0.217949\n",
      "SE              0.408451   0.244444  0.578947        0.633803\n",
      "SP              0.579352   0.329457  0.536278        0.440273\n",
      "TO              0.568627   0.222222  0.333333        0.352941\n",
      "Overall Metrics:\n",
      " accuracy          0.567800\n",
      "precision         0.304784\n",
      "recall            0.513037\n",
      "selection_rate    0.439000\n",
      "dtype: float64\n",
      "\n",
      "Disparity Metrics:\n",
      "  Demographic Parity Difference: 0.7222\n",
      "  Equalized Odds Difference     : 0.75\n"
     ]
    },
    {
     "name": "stderr",
     "output_type": "stream",
     "text": [
      "C:\\Users\\ASUS SMART\\AppData\\Local\\Temp\\ipykernel_12980\\521299116.py:32: FutureWarning: \n",
      "\n",
      "Passing `palette` without assigning `hue` is deprecated and will be removed in v0.14.0. Assign the `x` variable to `hue` and set `legend=False` for the same effect.\n",
      "\n",
      "  sns.barplot(\n",
      "C:\\Users\\ASUS SMART\\AppData\\Local\\Temp\\ipykernel_12980\\521299116.py:32: FutureWarning: \n",
      "\n",
      "Passing `palette` without assigning `hue` is deprecated and will be removed in v0.14.0. Assign the `x` variable to `hue` and set `legend=False` for the same effect.\n",
      "\n",
      "  sns.barplot(\n",
      "C:\\Users\\ASUS SMART\\AppData\\Local\\Temp\\ipykernel_12980\\521299116.py:32: FutureWarning: \n",
      "\n",
      "Passing `palette` without assigning `hue` is deprecated and will be removed in v0.14.0. Assign the `x` variable to `hue` and set `legend=False` for the same effect.\n",
      "\n",
      "  sns.barplot(\n",
      "C:\\Users\\ASUS SMART\\AppData\\Local\\Temp\\ipykernel_12980\\521299116.py:32: FutureWarning: \n",
      "\n",
      "Passing `palette` without assigning `hue` is deprecated and will be removed in v0.14.0. Assign the `x` variable to `hue` and set `legend=False` for the same effect.\n",
      "\n",
      "  sns.barplot(\n"
     ]
    },
    {
     "data": {
      "image/png": "[encoded data removed]",
      "text/plain": [
       "<Figure size 1800x500 with 4 Axes>"
      ]
     },
     "metadata": {},
     "output_type": "display_data"
    },
    {
     "name": "stdout",
     "output_type": "stream",
     "text": [
      "\n",
      "📊 Bias Dashboard for RESIDENCIAL_STATE\n",
      "==================================================\n",
      "Group-wise Metrics:\n",
      "                    accuracy  precision    recall  selection_rate\n",
      "RESIDENCIAL_STATE                                               \n",
      "AC                 0.543478   0.434783  0.555556        0.500000\n",
      "AL                 0.470383   0.326316  0.720930        0.662021\n",
      "AM                 0.592105   0.404255  0.863636        0.618421\n",
      "AP                 0.742268   0.360000  0.500000        0.257732\n",
      "BA                 0.566316   0.317422  0.513514        0.441053\n",
      "CE                 0.542066   0.319915  0.580769        0.502662\n",
      "DF                 0.507246   0.388889  0.729167        0.652174\n",
      "ES                 0.545455   0.259259  0.358974        0.377622\n",
      "GO                 0.554054   0.278481  0.463158        0.427027\n",
      "MA                 0.671233   0.412698  0.702703        0.431507\n",
      "MG                 0.548544   0.288462  0.443787        0.420712\n",
      "MS                 0.607407   0.368421  0.552632        0.422222\n",
      "MT                 0.468000   0.218045  0.500000        0.532000\n",
      "PA                 0.549763   0.281915  0.490741        0.445498\n",
      "PB                 0.629213   0.173913  0.222222        0.258427\n",
      "PE                 0.537371   0.297521  0.509434        0.467784\n",
      "PI                 0.640625   0.416667  0.238095        0.187500\n",
      "PR                 0.629139   0.340206  0.407407        0.321192\n",
      "RJ                 0.530837   0.297872  0.593220        0.517621\n",
      "RN                 0.472149   0.269608  0.523810        0.541114\n",
      "RO                 0.675676   0.285714  0.400000        0.283784\n",
      "RR                 0.666667   0.500000  1.000000        0.666667\n",
      "RS                 0.656405   0.287066  0.431280        0.314796\n",
      "SC                 0.692857   0.285714  0.258065        0.200000\n",
      "SE                 0.410714   0.270270  0.625000        0.660714\n",
      "SP                 0.571271   0.313043  0.527197        0.443038\n",
      "TO                 0.567568   0.200000  0.428571        0.405405\n",
      "Overall Metrics:\n",
      " accuracy          0.567800\n",
      "precision         0.304784\n",
      "recall            0.513037\n",
      "selection_rate    0.439000\n",
      "dtype: float64\n",
      "\n",
      "Disparity Metrics:\n",
      "  Demographic Parity Difference: 0.4792\n",
      "  Equalized Odds Difference     : 0.7778\n"
     ]
    },
    {
     "name": "stderr",
     "output_type": "stream",
     "text": [
      "C:\\Users\\ASUS SMART\\AppData\\Local\\Temp\\ipykernel_12980\\521299116.py:32: FutureWarning: \n",
      "\n",
      "Passing `palette` without assigning `hue` is deprecated and will be removed in v0.14.0. Assign the `x` variable to `hue` and set `legend=False` for the same effect.\n",
      "\n",
      "  sns.barplot(\n",
      "C:\\Users\\ASUS SMART\\AppData\\Local\\Temp\\ipykernel_12980\\521299116.py:32: FutureWarning: \n",
      "\n",
      "Passing `palette` without assigning `hue` is deprecated and will be removed in v0.14.0. Assign the `x` variable to `hue` and set `legend=False` for the same effect.\n",
      "\n",
      "  sns.barplot(\n",
      "C:\\Users\\ASUS SMART\\AppData\\Local\\Temp\\ipykernel_12980\\521299116.py:32: FutureWarning: \n",
      "\n",
      "Passing `palette` without assigning `hue` is deprecated and will be removed in v0.14.0. Assign the `x` variable to `hue` and set `legend=False` for the same effect.\n",
      "\n",
      "  sns.barplot(\n",
      "C:\\Users\\ASUS SMART\\AppData\\Local\\Temp\\ipykernel_12980\\521299116.py:32: FutureWarning: \n",
      "\n",
      "Passing `palette` without assigning `hue` is deprecated and will be removed in v0.14.0. Assign the `x` variable to `hue` and set `legend=False` for the same effect.\n",
      "\n",
      "  sns.barplot(\n"
     ]
    },
    {
     "data": {
      "image/png": "[encoded data removed]",
      "text/plain": [
       "<Figure size 1800x500 with 4 Axes>"
      ]
     },
     "metadata": {},
     "output_type": "display_data"
    }
   ],
   "source": [
    "bias_dashboard(y_test, y_pred, X_test['SEX'], \"SEX\")\n",
    "bias_dashboard(y_test, y_pred, X_test['STATE_OF_BIRTH'], \"STATE_OF_BIRTH\")\n",
    "bias_dashboard(y_test, y_pred, X_test['RESIDENCIAL_STATE'], \"RESIDENCIAL_STATE\")\n",
    "# bias in STATE_OF_BIRTH and RESIDENCIAL_STATE"
   ]
  },
  {
   "cell_type": "markdown",
   "id": "0c551c78-b46b-45c5-bd1c-23cebb447021",
   "metadata": {},
   "source": [
    "Hence, bias is high for STATE_OF_BIRTH and RESIDENCIAL_STATE columns. It is fine for SEX column"
   ]
  },
  {
   "cell_type": "markdown",
   "id": "9970bdf2-04e1-422d-a7c3-d7e215ee826c",
   "metadata": {},
   "source": [
    "### Hyperparameter tuning"
   ]
  },
  {
   "cell_type": "code",
   "execution_count": null,
   "id": "0b2b2595-deae-40ff-91e9-27cadeb11065",
   "metadata": {},
   "outputs": [],
   "source": [
    "'''from sklearn.model_selection import GridSearchCV, StratifiedKFold\n",
    "xgb_base = XGBClassifier(\n",
    "    objective='binary:logistic',\n",
    "    use_label_encoder=False,\n",
    "    eval_metric='logloss',\n",
    "    random_state=42,\n",
    "    n_jobs=-1\n",
    ")\n",
    "\n",
    "# Step 2: Define hyperparameter grid\n",
    "param_grid = {\n",
    "    'n_estimators': [100, 200],\n",
    "    'max_depth': [4, 5, 6],\n",
    "    'learning_rate': [0.05, 0.1],\n",
    "    'subsample': [0.7, 0.8],\n",
    "    'colsample_bytree': [0.7, 0.8],\n",
    "    'scale_pos_weight': [1, len(y_train_smote[y_train_smote == 0]) / len(y_train_smote[y_train_smote == 1])]\n",
    "}\n",
    "\n",
    "# Step 3: Define CV strategy\n",
    "cv = StratifiedKFold(n_splits=5, shuffle=True, random_state=42)\n",
    "\n",
    "# Step 4: Run grid search\n",
    "grid_search = GridSearchCV(\n",
    "    estimator=xgb_base,\n",
    "    param_grid=param_grid,\n",
    "    scoring='roc_auc',\n",
    "    cv=cv,\n",
    "    n_jobs=-1,\n",
    "    verbose=2\n",
    ")\n",
    "\n",
    "grid_search.fit(X_train_smote, y_train_smote)\n",
    "\n",
    "# Step 5: Best model evaluation\n",
    "best_xgb = grid_search.best_estimator_\n",
    "\n",
    "# Predict\n",
    "xgb_preds = best_xgb.predict(X_test_selected_55)\n",
    "xgb_probs = best_xgb.predict_proba(X_test_selected_55)[:, 1]\n",
    "\n",
    "# Evaluation\n",
    "print(\"🚀 Tuned XGBoost Results\")\n",
    "print(\"-\" * 40)\n",
    "print(f\"Best Parameters: {grid_search.best_params_}\\n\")\n",
    "print(f\"Accuracy       : {accuracy_score(y_test, xgb_preds):.4f}\")\n",
    "print(f\"Precision      : {precision_score(y_test, xgb_preds):.4f}\")\n",
    "print(f\"Recall         : {recall_score(y_test, xgb_preds):.4f}\")\n",
    "print(f\"F1 Score       : {f1_score(y_test, xgb_preds):.4f}\")\n",
    "print(f\"ROC-AUC Score  : {roc_auc_score(y_test, xgb_probs):.4f}\\n\")\n",
    "\n",
    "print(\"Classification Report:\\n\", classification_report(y_test, xgb_preds))\n",
    "print(\"Confusion Matrix:\\n\", confusion_matrix(y_test, xgb_preds))'''"
   ]
  },
  {
   "cell_type": "markdown",
   "id": "eb5c2712-1ca2-44bf-8836-24f231a6906d",
   "metadata": {},
   "source": [
    "### Best XGB model"
   ]
  },
  {
   "cell_type": "code",
   "execution_count": 169,
   "id": "0e3a1696-df92-4769-82af-164071f0876e",
   "metadata": {},
   "outputs": [],
   "source": [
    "xgb_best_model = XGBClassifier(\n",
    "    colsample_bytree=0.8,\n",
    "    learning_rate=0.1,\n",
    "    max_depth=6,\n",
    "    n_estimators=200,  \n",
    "    subsample=0.8,\n",
    "    random_state=42,\n",
    "    use_label_encoder=False,\n",
    "    eval_metric='logloss'\n",
    ")\n",
    "\n"
   ]
  },
  {
   "cell_type": "code",
   "execution_count": 171,
   "id": "f5d5b2b8-c4ac-41be-bbba-d9f5fa40ac6e",
   "metadata": {},
   "outputs": [],
   "source": [
    "final_xgb_pipeline = Pipeline([\n",
    "    ('preprocessor', preprocessor),  # you already defined this ColumnTransformer\n",
    "    ('feature_selection', SelectKBest(score_func=mutual_info_classif, k=55)),  # or whatever value worked best\n",
    "    ('classifier', xgb_best_model)  # your tuned model\n",
    "])\n"
   ]
  },
  {
   "cell_type": "code",
   "execution_count": 173,
   "id": "c607eb96-f56f-498d-b325-2bb676ff57e7",
   "metadata": {},
   "outputs": [
    {
     "name": "stderr",
     "output_type": "stream",
     "text": [
      "C:\\Users\\ASUS SMART\\anaconda3\\Lib\\site-packages\\xgboost\\training.py:183: UserWarning: [05:30:49] WARNING: C:\\actions-runner\\_work\\xgboost\\xgboost\\src\\learner.cc:738: \n",
      "Parameters: { \"use_label_encoder\" } are not used.\n",
      "\n",
      "  bst.update(dtrain, iteration=i, fobj=obj)\n"
     ]
    },
    {
     "data": {
      "text/html": [
       "<style>#sk-container-id-1 {\n",
       "  /* Definition of color scheme common for light and dark mode */\n",
       "  --sklearn-color-text: #000;\n",
       "  --sklearn-color-text-muted: #666;\n",
       "  --sklearn-color-line: gray;\n",
       "  /* Definition of color scheme for unfitted estimators */\n",
       "  --sklearn-color-unfitted-level-0: #fff5e6;\n",
       "  --sklearn-color-unfitted-level-1: #f6e4d2;\n",
       "  --sklearn-color-unfitted-level-2: #ffe0b3;\n",
       "  --sklearn-color-unfitted-level-3: chocolate;\n",
       "  /* Definition of color scheme for fitted estimators */\n",
       "  --sklearn-color-fitted-level-0: #f0f8ff;\n",
       "  --sklearn-color-fitted-level-1: #d4ebff;\n",
       "  --sklearn-color-fitted-level-2: #b3dbfd;\n",
       "  --sklearn-color-fitted-level-3: cornflowerblue;\n",
       "\n",
       "  /* Specific color for light theme */\n",
       "  --sklearn-color-text-on-default-background: var(--sg-text-color, var(--theme-code-foreground, var(--jp-content-font-color1, black)));\n",
       "  --sklearn-color-background: var(--sg-background-color, var(--theme-background, var(--jp-layout-color0, white)));\n",
       "  --sklearn-color-border-box: var(--sg-text-color, var(--theme-code-foreground, var(--jp-content-font-color1, black)));\n",
       "  --sklearn-color-icon: #696969;\n",
       "\n",
       "  @media (prefers-color-scheme: dark) {\n",
       "    /* Redefinition of color scheme for dark theme */\n",
       "    --sklearn-color-text-on-default-background: var(--sg-text-color, var(--theme-code-foreground, var(--jp-content-font-color1, white)));\n",
       "    --sklearn-color-background: var(--sg-background-color, var(--theme-background, var(--jp-layout-color0, #111)));\n",
       "    --sklearn-color-border-box: var(--sg-text-color, var(--theme-code-foreground, var(--jp-content-font-color1, white)));\n",
       "    --sklearn-color-icon: #878787;\n",
       "  }\n",
       "}\n",
       "\n",
       "#sk-container-id-1 {\n",
       "  color: var(--sklearn-color-text);\n",
       "}\n",
       "\n",
       "#sk-container-id-1 pre {\n",
       "  padding: 0;\n",
       "}\n",
       "\n",
       "#sk-container-id-1 input.sk-hidden--visually {\n",
       "  border: 0;\n",
       "  clip: rect(1px 1px 1px 1px);\n",
       "  clip: rect(1px, 1px, 1px, 1px);\n",
       "  height: 1px;\n",
       "  margin: -1px;\n",
       "  overflow: hidden;\n",
       "  padding: 0;\n",
       "  position: absolute;\n",
       "  width: 1px;\n",
       "}\n",
       "\n",
       "#sk-container-id-1 div.sk-dashed-wrapped {\n",
       "  border: 1px dashed var(--sklearn-color-line);\n",
       "  margin: 0 0.4em 0.5em 0.4em;\n",
       "  box-sizing: border-box;\n",
       "  padding-bottom: 0.4em;\n",
       "  background-color: var(--sklearn-color-background);\n",
       "}\n",
       "\n",
       "#sk-container-id-1 div.sk-container {\n",
       "  /* jupyter's `normalize.less` sets `[hidden] { display: none; }`\n",
       "     but bootstrap.min.css set `[hidden] { display: none !important; }`\n",
       "     so we also need the `!important` here to be able to override the\n",
       "     default hidden behavior on the sphinx rendered scikit-learn.org.\n",
       "     See: https://github.com/scikit-learn/scikit-learn/issues/21755 */\n",
       "  display: inline-block !important;\n",
       "  position: relative;\n",
       "}\n",
       "\n",
       "#sk-container-id-1 div.sk-text-repr-fallback {\n",
       "  display: none;\n",
       "}\n",
       "\n",
       "div.sk-parallel-item,\n",
       "div.sk-serial,\n",
       "div.sk-item {\n",
       "  /* draw centered vertical line to link estimators */\n",
       "  background-image: linear-gradient(var(--sklearn-color-text-on-default-background), var(--sklearn-color-text-on-default-background));\n",
       "  background-size: 2px 100%;\n",
       "  background-repeat: no-repeat;\n",
       "  background-position: center center;\n",
       "}\n",
       "\n",
       "/* Parallel-specific style estimator block */\n",
       "\n",
       "#sk-container-id-1 div.sk-parallel-item::after {\n",
       "  content: \"\";\n",
       "  width: 100%;\n",
       "  border-bottom: 2px solid var(--sklearn-color-text-on-default-background);\n",
       "  flex-grow: 1;\n",
       "}\n",
       "\n",
       "#sk-container-id-1 div.sk-parallel {\n",
       "  display: flex;\n",
       "  align-items: stretch;\n",
       "  justify-content: center;\n",
       "  background-color: var(--sklearn-color-background);\n",
       "  position: relative;\n",
       "}\n",
       "\n",
       "#sk-container-id-1 div.sk-parallel-item {\n",
       "  display: flex;\n",
       "  flex-direction: column;\n",
       "}\n",
       "\n",
       "#sk-container-id-1 div.sk-parallel-item:first-child::after {\n",
       "  align-self: flex-end;\n",
       "  width: 50%;\n",
       "}\n",
       "\n",
       "#sk-container-id-1 div.sk-parallel-item:last-child::after {\n",
       "  align-self: flex-start;\n",
       "  width: 50%;\n",
       "}\n",
       "\n",
       "#sk-container-id-1 div.sk-parallel-item:only-child::after {\n",
       "  width: 0;\n",
       "}\n",
       "\n",
       "/* Serial-specific style estimator block */\n",
       "\n",
       "#sk-container-id-1 div.sk-serial {\n",
       "  display: flex;\n",
       "  flex-direction: column;\n",
       "  align-items: center;\n",
       "  background-color: var(--sklearn-color-background);\n",
       "  padding-right: 1em;\n",
       "  padding-left: 1em;\n",
       "}\n",
       "\n",
       "\n",
       "/* Toggleable style: style used for estimator/Pipeline/ColumnTransformer box that is\n",
       "clickable and can be expanded/collapsed.\n",
       "- Pipeline and ColumnTransformer use this feature and define the default style\n",
       "- Estimators will overwrite some part of the style using the `sk-estimator` class\n",
       "*/\n",
       "\n",
       "/* Pipeline and ColumnTransformer style (default) */\n",
       "\n",
       "#sk-container-id-1 div.sk-toggleable {\n",
       "  /* Default theme specific background. It is overwritten whether we have a\n",
       "  specific estimator or a Pipeline/ColumnTransformer */\n",
       "  background-color: var(--sklearn-color-background);\n",
       "}\n",
       "\n",
       "/* Toggleable label */\n",
       "#sk-container-id-1 label.sk-toggleable__label {\n",
       "  cursor: pointer;\n",
       "  display: flex;\n",
       "  width: 100%;\n",
       "  margin-bottom: 0;\n",
       "  padding: 0.5em;\n",
       "  box-sizing: border-box;\n",
       "  text-align: center;\n",
       "  align-items: start;\n",
       "  justify-content: space-between;\n",
       "  gap: 0.5em;\n",
       "}\n",
       "\n",
       "#sk-container-id-1 label.sk-toggleable__label .caption {\n",
       "  font-size: 0.6rem;\n",
       "  font-weight: lighter;\n",
       "  color: var(--sklearn-color-text-muted);\n",
       "}\n",
       "\n",
       "#sk-container-id-1 label.sk-toggleable__label-arrow:before {\n",
       "  /* Arrow on the left of the label */\n",
       "  content: \"▸\";\n",
       "  float: left;\n",
       "  margin-right: 0.25em;\n",
       "  color: var(--sklearn-color-icon);\n",
       "}\n",
       "\n",
       "#sk-container-id-1 label.sk-toggleable__label-arrow:hover:before {\n",
       "  color: var(--sklearn-color-text);\n",
       "}\n",
       "\n",
       "/* Toggleable content - dropdown */\n",
       "\n",
       "#sk-container-id-1 div.sk-toggleable__content {\n",
       "  max-height: 0;\n",
       "  max-width: 0;\n",
       "  overflow: hidden;\n",
       "  text-align: left;\n",
       "  /* unfitted */\n",
       "  background-color: var(--sklearn-color-unfitted-level-0);\n",
       "}\n",
       "\n",
       "#sk-container-id-1 div.sk-toggleable__content.fitted {\n",
       "  /* fitted */\n",
       "  background-color: var(--sklearn-color-fitted-level-0);\n",
       "}\n",
       "\n",
       "#sk-container-id-1 div.sk-toggleable__content pre {\n",
       "  margin: 0.2em;\n",
       "  border-radius: 0.25em;\n",
       "  color: var(--sklearn-color-text);\n",
       "  /* unfitted */\n",
       "  background-color: var(--sklearn-color-unfitted-level-0);\n",
       "}\n",
       "\n",
       "#sk-container-id-1 div.sk-toggleable__content.fitted pre {\n",
       "  /* unfitted */\n",
       "  background-color: var(--sklearn-color-fitted-level-0);\n",
       "}\n",
       "\n",
       "#sk-container-id-1 input.sk-toggleable__control:checked~div.sk-toggleable__content {\n",
       "  /* Expand drop-down */\n",
       "  max-height: 200px;\n",
       "  max-width: 100%;\n",
       "  overflow: auto;\n",
       "}\n",
       "\n",
       "#sk-container-id-1 input.sk-toggleable__control:checked~label.sk-toggleable__label-arrow:before {\n",
       "  content: \"▾\";\n",
       "}\n",
       "\n",
       "/* Pipeline/ColumnTransformer-specific style */\n",
       "\n",
       "#sk-container-id-1 div.sk-label input.sk-toggleable__control:checked~label.sk-toggleable__label {\n",
       "  color: var(--sklearn-color-text);\n",
       "  background-color: var(--sklearn-color-unfitted-level-2);\n",
       "}\n",
       "\n",
       "#sk-container-id-1 div.sk-label.fitted input.sk-toggleable__control:checked~label.sk-toggleable__label {\n",
       "  background-color: var(--sklearn-color-fitted-level-2);\n",
       "}\n",
       "\n",
       "/* Estimator-specific style */\n",
       "\n",
       "/* Colorize estimator box */\n",
       "#sk-container-id-1 div.sk-estimator input.sk-toggleable__control:checked~label.sk-toggleable__label {\n",
       "  /* unfitted */\n",
       "  background-color: var(--sklearn-color-unfitted-level-2);\n",
       "}\n",
       "\n",
       "#sk-container-id-1 div.sk-estimator.fitted input.sk-toggleable__control:checked~label.sk-toggleable__label {\n",
       "  /* fitted */\n",
       "  background-color: var(--sklearn-color-fitted-level-2);\n",
       "}\n",
       "\n",
       "#sk-container-id-1 div.sk-label label.sk-toggleable__label,\n",
       "#sk-container-id-1 div.sk-label label {\n",
       "  /* The background is the default theme color */\n",
       "  color: var(--sklearn-color-text-on-default-background);\n",
       "}\n",
       "\n",
       "/* On hover, darken the color of the background */\n",
       "#sk-container-id-1 div.sk-label:hover label.sk-toggleable__label {\n",
       "  color: var(--sklearn-color-text);\n",
       "  background-color: var(--sklearn-color-unfitted-level-2);\n",
       "}\n",
       "\n",
       "/* Label box, darken color on hover, fitted */\n",
       "#sk-container-id-1 div.sk-label.fitted:hover label.sk-toggleable__label.fitted {\n",
       "  color: var(--sklearn-color-text);\n",
       "  background-color: var(--sklearn-color-fitted-level-2);\n",
       "}\n",
       "\n",
       "/* Estimator label */\n",
       "\n",
       "#sk-container-id-1 div.sk-label label {\n",
       "  font-family: monospace;\n",
       "  font-weight: bold;\n",
       "  display: inline-block;\n",
       "  line-height: 1.2em;\n",
       "}\n",
       "\n",
       "#sk-container-id-1 div.sk-label-container {\n",
       "  text-align: center;\n",
       "}\n",
       "\n",
       "/* Estimator-specific */\n",
       "#sk-container-id-1 div.sk-estimator {\n",
       "  font-family: monospace;\n",
       "  border: 1px dotted var(--sklearn-color-border-box);\n",
       "  border-radius: 0.25em;\n",
       "  box-sizing: border-box;\n",
       "  margin-bottom: 0.5em;\n",
       "  /* unfitted */\n",
       "  background-color: var(--sklearn-color-unfitted-level-0);\n",
       "}\n",
       "\n",
       "#sk-container-id-1 div.sk-estimator.fitted {\n",
       "  /* fitted */\n",
       "  background-color: var(--sklearn-color-fitted-level-0);\n",
       "}\n",
       "\n",
       "/* on hover */\n",
       "#sk-container-id-1 div.sk-estimator:hover {\n",
       "  /* unfitted */\n",
       "  background-color: var(--sklearn-color-unfitted-level-2);\n",
       "}\n",
       "\n",
       "#sk-container-id-1 div.sk-estimator.fitted:hover {\n",
       "  /* fitted */\n",
       "  background-color: var(--sklearn-color-fitted-level-2);\n",
       "}\n",
       "\n",
       "/* Specification for estimator info (e.g. \"i\" and \"?\") */\n",
       "\n",
       "/* Common style for \"i\" and \"?\" */\n",
       "\n",
       ".sk-estimator-doc-link,\n",
       "a:link.sk-estimator-doc-link,\n",
       "a:visited.sk-estimator-doc-link {\n",
       "  float: right;\n",
       "  font-size: smaller;\n",
       "  line-height: 1em;\n",
       "  font-family: monospace;\n",
       "  background-color: var(--sklearn-color-background);\n",
       "  border-radius: 1em;\n",
       "  height: 1em;\n",
       "  width: 1em;\n",
       "  text-decoration: none !important;\n",
       "  margin-left: 0.5em;\n",
       "  text-align: center;\n",
       "  /* unfitted */\n",
       "  border: var(--sklearn-color-unfitted-level-1) 1pt solid;\n",
       "  color: var(--sklearn-color-unfitted-level-1);\n",
       "}\n",
       "\n",
       ".sk-estimator-doc-link.fitted,\n",
       "a:link.sk-estimator-doc-link.fitted,\n",
       "a:visited.sk-estimator-doc-link.fitted {\n",
       "  /* fitted */\n",
       "  border: var(--sklearn-color-fitted-level-1) 1pt solid;\n",
       "  color: var(--sklearn-color-fitted-level-1);\n",
       "}\n",
       "\n",
       "/* On hover */\n",
       "div.sk-estimator:hover .sk-estimator-doc-link:hover,\n",
       ".sk-estimator-doc-link:hover,\n",
       "div.sk-label-container:hover .sk-estimator-doc-link:hover,\n",
       ".sk-estimator-doc-link:hover {\n",
       "  /* unfitted */\n",
       "  background-color: var(--sklearn-color-unfitted-level-3);\n",
       "  color: var(--sklearn-color-background);\n",
       "  text-decoration: none;\n",
       "}\n",
       "\n",
       "div.sk-estimator.fitted:hover .sk-estimator-doc-link.fitted:hover,\n",
       ".sk-estimator-doc-link.fitted:hover,\n",
       "div.sk-label-container:hover .sk-estimator-doc-link.fitted:hover,\n",
       ".sk-estimator-doc-link.fitted:hover {\n",
       "  /* fitted */\n",
       "  background-color: var(--sklearn-color-fitted-level-3);\n",
       "  color: var(--sklearn-color-background);\n",
       "  text-decoration: none;\n",
       "}\n",
       "\n",
       "/* Span, style for the box shown on hovering the info icon */\n",
       ".sk-estimator-doc-link span {\n",
       "  display: none;\n",
       "  z-index: 9999;\n",
       "  position: relative;\n",
       "  font-weight: normal;\n",
       "  right: .2ex;\n",
       "  padding: .5ex;\n",
       "  margin: .5ex;\n",
       "  width: min-content;\n",
       "  min-width: 20ex;\n",
       "  max-width: 50ex;\n",
       "  color: var(--sklearn-color-text);\n",
       "  box-shadow: 2pt 2pt 4pt #999;\n",
       "  /* unfitted */\n",
       "  background: var(--sklearn-color-unfitted-level-0);\n",
       "  border: .5pt solid var(--sklearn-color-unfitted-level-3);\n",
       "}\n",
       "\n",
       ".sk-estimator-doc-link.fitted span {\n",
       "  /* fitted */\n",
       "  background: var(--sklearn-color-fitted-level-0);\n",
       "  border: var(--sklearn-color-fitted-level-3);\n",
       "}\n",
       "\n",
       ".sk-estimator-doc-link:hover span {\n",
       "  display: block;\n",
       "}\n",
       "\n",
       "/* \"?\"-specific style due to the `<a>` HTML tag */\n",
       "\n",
       "#sk-container-id-1 a.estimator_doc_link {\n",
       "  float: right;\n",
       "  font-size: 1rem;\n",
       "  line-height: 1em;\n",
       "  font-family: monospace;\n",
       "  background-color: var(--sklearn-color-background);\n",
       "  border-radius: 1rem;\n",
       "  height: 1rem;\n",
       "  width: 1rem;\n",
       "  text-decoration: none;\n",
       "  /* unfitted */\n",
       "  color: var(--sklearn-color-unfitted-level-1);\n",
       "  border: var(--sklearn-color-unfitted-level-1) 1pt solid;\n",
       "}\n",
       "\n",
       "#sk-container-id-1 a.estimator_doc_link.fitted {\n",
       "  /* fitted */\n",
       "  border: var(--sklearn-color-fitted-level-1) 1pt solid;\n",
       "  color: var(--sklearn-color-fitted-level-1);\n",
       "}\n",
       "\n",
       "/* On hover */\n",
       "#sk-container-id-1 a.estimator_doc_link:hover {\n",
       "  /* unfitted */\n",
       "  background-color: var(--sklearn-color-unfitted-level-3);\n",
       "  color: var(--sklearn-color-background);\n",
       "  text-decoration: none;\n",
       "}\n",
       "\n",
       "#sk-container-id-1 a.estimator_doc_link.fitted:hover {\n",
       "  /* fitted */\n",
       "  background-color: var(--sklearn-color-fitted-level-3);\n",
       "}\n",
       "</style><div id=\"sk-container-id-1\" class=\"sk-top-container\"><div class=\"sk-text-repr-fallback\"><pre>Pipeline(steps=[(&#x27;preprocessor&#x27;,\n",
       "                 ColumnTransformer(transformers=[(&#x27;num&#x27;,\n",
       "                                                  Pipeline(steps=[(&#x27;imputer&#x27;,\n",
       "                                                                   SimpleImputer(strategy=&#x27;median&#x27;)),\n",
       "                                                                  (&#x27;scaler&#x27;,\n",
       "                                                                   StandardScaler())]),\n",
       "                                                  [&#x27;QUANT_DEPENDANTS&#x27;,\n",
       "                                                   &#x27;MONTHS_IN_RESIDENCE&#x27;,\n",
       "                                                   &#x27;PERSONAL_MONTHLY_INCOME&#x27;,\n",
       "                                                   &#x27;QUANT_SPECIAL_BANKING_ACCOUNTS&#x27;,\n",
       "                                                   &#x27;QUANT_CARS&#x27;, &#x27;AGE&#x27;, &#x27;SEX&#x27;,\n",
       "                                                   &#x27;FLAG_RESIDENCIAL_PHONE&#x27;,\n",
       "                                                   &#x27;COMPANY&#x27;,\n",
       "                                                   &#x27;FLAG_PROFESSIONAL_PHONE&#x27;,\n",
       "                                                   &#x27;...\n",
       "                               feature_types=None, feature_weights=None,\n",
       "                               gamma=None, grow_policy=None,\n",
       "                               importance_type=None,\n",
       "                               interaction_constraints=None, learning_rate=0.1,\n",
       "                               max_bin=None, max_cat_threshold=None,\n",
       "                               max_cat_to_onehot=None, max_delta_step=None,\n",
       "                               max_depth=6, max_leaves=None,\n",
       "                               min_child_weight=None, missing=nan,\n",
       "                               monotone_constraints=None, multi_strategy=None,\n",
       "                               n_estimators=200, n_jobs=None,\n",
       "                               num_parallel_tree=None, ...))])</pre><b>In a Jupyter environment, please rerun this cell to show the HTML representation or trust the notebook. <br />On GitHub, the HTML representation is unable to render, please try loading this page with nbviewer.org.</b></div><div class=\"sk-container\" hidden><div class=\"sk-item sk-dashed-wrapped\"><div class=\"sk-label-container\"><div class=\"sk-label fitted sk-toggleable\"><input class=\"sk-toggleable__control sk-hidden--visually\" id=\"sk-estimator-id-1\" type=\"checkbox\" ><label for=\"sk-estimator-id-1\" class=\"sk-toggleable__label fitted sk-toggleable__label-arrow\"><div><div>Pipeline</div></div><div><a class=\"sk-estimator-doc-link fitted\" rel=\"noreferrer\" target=\"_blank\" href=\"https://scikit-learn.org/1.6/modules/generated/sklearn.pipeline.Pipeline.html\">?<span>Documentation for Pipeline</span></a><span class=\"sk-estimator-doc-link fitted\">i<span>Fitted</span></span></div></label><div class=\"sk-toggleable__content fitted\"><pre>Pipeline(steps=[(&#x27;preprocessor&#x27;,\n",
       "                 ColumnTransformer(transformers=[(&#x27;num&#x27;,\n",
       "                                                  Pipeline(steps=[(&#x27;imputer&#x27;,\n",
       "                                                                   SimpleImputer(strategy=&#x27;median&#x27;)),\n",
       "                                                                  (&#x27;scaler&#x27;,\n",
       "                                                                   StandardScaler())]),\n",
       "                                                  [&#x27;QUANT_DEPENDANTS&#x27;,\n",
       "                                                   &#x27;MONTHS_IN_RESIDENCE&#x27;,\n",
       "                                                   &#x27;PERSONAL_MONTHLY_INCOME&#x27;,\n",
       "                                                   &#x27;QUANT_SPECIAL_BANKING_ACCOUNTS&#x27;,\n",
       "                                                   &#x27;QUANT_CARS&#x27;, &#x27;AGE&#x27;, &#x27;SEX&#x27;,\n",
       "                                                   &#x27;FLAG_RESIDENCIAL_PHONE&#x27;,\n",
       "                                                   &#x27;COMPANY&#x27;,\n",
       "                                                   &#x27;FLAG_PROFESSIONAL_PHONE&#x27;,\n",
       "                                                   &#x27;...\n",
       "                               feature_types=None, feature_weights=None,\n",
       "                               gamma=None, grow_policy=None,\n",
       "                               importance_type=None,\n",
       "                               interaction_constraints=None, learning_rate=0.1,\n",
       "                               max_bin=None, max_cat_threshold=None,\n",
       "                               max_cat_to_onehot=None, max_delta_step=None,\n",
       "                               max_depth=6, max_leaves=None,\n",
       "                               min_child_weight=None, missing=nan,\n",
       "                               monotone_constraints=None, multi_strategy=None,\n",
       "                               n_estimators=200, n_jobs=None,\n",
       "                               num_parallel_tree=None, ...))])</pre></div> </div></div><div class=\"sk-serial\"><div class=\"sk-item sk-dashed-wrapped\"><div class=\"sk-label-container\"><div class=\"sk-label fitted sk-toggleable\"><input class=\"sk-toggleable__control sk-hidden--visually\" id=\"sk-estimator-id-2\" type=\"checkbox\" ><label for=\"sk-estimator-id-2\" class=\"sk-toggleable__label fitted sk-toggleable__label-arrow\"><div><div>preprocessor: ColumnTransformer</div></div><div><a class=\"sk-estimator-doc-link fitted\" rel=\"noreferrer\" target=\"_blank\" href=\"https://scikit-learn.org/1.6/modules/generated/sklearn.compose.ColumnTransformer.html\">?<span>Documentation for preprocessor: ColumnTransformer</span></a></div></label><div class=\"sk-toggleable__content fitted\"><pre>ColumnTransformer(transformers=[(&#x27;num&#x27;,\n",
       "                                 Pipeline(steps=[(&#x27;imputer&#x27;,\n",
       "                                                  SimpleImputer(strategy=&#x27;median&#x27;)),\n",
       "                                                 (&#x27;scaler&#x27;, StandardScaler())]),\n",
       "                                 [&#x27;QUANT_DEPENDANTS&#x27;, &#x27;MONTHS_IN_RESIDENCE&#x27;,\n",
       "                                  &#x27;PERSONAL_MONTHLY_INCOME&#x27;,\n",
       "                                  &#x27;QUANT_SPECIAL_BANKING_ACCOUNTS&#x27;,\n",
       "                                  &#x27;QUANT_CARS&#x27;, &#x27;AGE&#x27;, &#x27;SEX&#x27;,\n",
       "                                  &#x27;FLAG_RESIDENCIAL_PHONE&#x27;, &#x27;COMPANY&#x27;,\n",
       "                                  &#x27;FLAG_PROFESSIONAL_PHONE&#x27;, &#x27;NACIONALITY&#x27;,\n",
       "                                  &#x27;FLAG_EMAIL&#x27;, &#x27;FLAG_...\n",
       "                                  &#x27;RESIDENCIAL_BOROUGH&#x27;, &#x27;RESIDENCIAL_STATE&#x27;,\n",
       "                                  &#x27;STATE_OF_BIRTH&#x27;, &#x27;RESIDENCIAL_ZIP_3&#x27;,\n",
       "                                  &#x27;RESIDENCIAL_PHONE_AREA_CODE&#x27;]),\n",
       "                                (&#x27;ohe&#x27;,\n",
       "                                 Pipeline(steps=[(&#x27;imputer&#x27;,\n",
       "                                                  SimpleImputer(strategy=&#x27;most_frequent&#x27;)),\n",
       "                                                 (&#x27;ohe&#x27;,\n",
       "                                                  OneHotEncoder(handle_unknown=&#x27;ignore&#x27;,\n",
       "                                                                sparse_output=False))]),\n",
       "                                 [&#x27;PROFESSION_CODE&#x27;, &#x27;MARITAL_STATUS&#x27;,\n",
       "                                  &#x27;RESIDENCE_TYPE&#x27;, &#x27;PAYMENT_DAY&#x27;,\n",
       "                                  &#x27;OCCUPATION_TYPE&#x27;, &#x27;PRODUCT&#x27;,\n",
       "                                  &#x27;APPLICATION_SUBMISSION_TYPE&#x27;])])</pre></div> </div></div><div class=\"sk-parallel\"><div class=\"sk-parallel-item\"><div class=\"sk-item\"><div class=\"sk-label-container\"><div class=\"sk-label fitted sk-toggleable\"><input class=\"sk-toggleable__control sk-hidden--visually\" id=\"sk-estimator-id-3\" type=\"checkbox\" ><label for=\"sk-estimator-id-3\" class=\"sk-toggleable__label fitted sk-toggleable__label-arrow\"><div><div>num</div></div></label><div class=\"sk-toggleable__content fitted\"><pre>[&#x27;QUANT_DEPENDANTS&#x27;, &#x27;MONTHS_IN_RESIDENCE&#x27;, &#x27;PERSONAL_MONTHLY_INCOME&#x27;, &#x27;QUANT_SPECIAL_BANKING_ACCOUNTS&#x27;, &#x27;QUANT_CARS&#x27;, &#x27;AGE&#x27;, &#x27;SEX&#x27;, &#x27;FLAG_RESIDENCIAL_PHONE&#x27;, &#x27;COMPANY&#x27;, &#x27;FLAG_PROFESSIONAL_PHONE&#x27;, &#x27;NACIONALITY&#x27;, &#x27;FLAG_EMAIL&#x27;, &#x27;FLAG_VISA&#x27;, &#x27;FLAG_MASTERCARD&#x27;, &#x27;HAS_PERSONAL_ASSETS&#x27;, &#x27;HAS_OTHER_INCOME&#x27;]</pre></div> </div></div><div class=\"sk-serial\"><div class=\"sk-item\"><div class=\"sk-serial\"><div class=\"sk-item\"><div class=\"sk-estimator fitted sk-toggleable\"><input class=\"sk-toggleable__control sk-hidden--visually\" id=\"sk-estimator-id-4\" type=\"checkbox\" ><label for=\"sk-estimator-id-4\" class=\"sk-toggleable__label fitted sk-toggleable__label-arrow\"><div><div>SimpleImputer</div></div><div><a class=\"sk-estimator-doc-link fitted\" rel=\"noreferrer\" target=\"_blank\" href=\"https://scikit-learn.org/1.6/modules/generated/sklearn.impute.SimpleImputer.html\">?<span>Documentation for SimpleImputer</span></a></div></label><div class=\"sk-toggleable__content fitted\"><pre>SimpleImputer(strategy=&#x27;median&#x27;)</pre></div> </div></div><div class=\"sk-item\"><div class=\"sk-estimator fitted sk-toggleable\"><input class=\"sk-toggleable__control sk-hidden--visually\" id=\"sk-estimator-id-5\" type=\"checkbox\" ><label for=\"sk-estimator-id-5\" class=\"sk-toggleable__label fitted sk-toggleable__label-arrow\"><div><div>StandardScaler</div></div><div><a class=\"sk-estimator-doc-link fitted\" rel=\"noreferrer\" target=\"_blank\" href=\"https://scikit-learn.org/1.6/modules/generated/sklearn.preprocessing.StandardScaler.html\">?<span>Documentation for StandardScaler</span></a></div></label><div class=\"sk-toggleable__content fitted\"><pre>StandardScaler()</pre></div> </div></div></div></div></div></div></div><div class=\"sk-parallel-item\"><div class=\"sk-item\"><div class=\"sk-label-container\"><div class=\"sk-label fitted sk-toggleable\"><input class=\"sk-toggleable__control sk-hidden--visually\" id=\"sk-estimator-id-6\" type=\"checkbox\" ><label for=\"sk-estimator-id-6\" class=\"sk-toggleable__label fitted sk-toggleable__label-arrow\"><div><div>target</div></div></label><div class=\"sk-toggleable__content fitted\"><pre>[&#x27;CITY_OF_BIRTH&#x27;, &#x27;RESIDENCIAL_CITY&#x27;, &#x27;RESIDENCIAL_BOROUGH&#x27;, &#x27;RESIDENCIAL_STATE&#x27;, &#x27;STATE_OF_BIRTH&#x27;, &#x27;RESIDENCIAL_ZIP_3&#x27;, &#x27;RESIDENCIAL_PHONE_AREA_CODE&#x27;]</pre></div> </div></div><div class=\"sk-serial\"><div class=\"sk-item\"><div class=\"sk-serial\"><div class=\"sk-item\"><div class=\"sk-estimator fitted sk-toggleable\"><input class=\"sk-toggleable__control sk-hidden--visually\" id=\"sk-estimator-id-7\" type=\"checkbox\" ><label for=\"sk-estimator-id-7\" class=\"sk-toggleable__label fitted sk-toggleable__label-arrow\"><div><div>SimpleImputer</div></div><div><a class=\"sk-estimator-doc-link fitted\" rel=\"noreferrer\" target=\"_blank\" href=\"https://scikit-learn.org/1.6/modules/generated/sklearn.impute.SimpleImputer.html\">?<span>Documentation for SimpleImputer</span></a></div></label><div class=\"sk-toggleable__content fitted\"><pre>SimpleImputer(strategy=&#x27;most_frequent&#x27;)</pre></div> </div></div><div class=\"sk-item\"><div class=\"sk-estimator fitted sk-toggleable\"><input class=\"sk-toggleable__control sk-hidden--visually\" id=\"sk-estimator-id-8\" type=\"checkbox\" ><label for=\"sk-estimator-id-8\" class=\"sk-toggleable__label fitted sk-toggleable__label-arrow\"><div><div>TargetEncoder</div></div></label><div class=\"sk-toggleable__content fitted\"><pre>TargetEncoder()</pre></div> </div></div></div></div></div></div></div><div class=\"sk-parallel-item\"><div class=\"sk-item\"><div class=\"sk-label-container\"><div class=\"sk-label fitted sk-toggleable\"><input class=\"sk-toggleable__control sk-hidden--visually\" id=\"sk-estimator-id-9\" type=\"checkbox\" ><label for=\"sk-estimator-id-9\" class=\"sk-toggleable__label fitted sk-toggleable__label-arrow\"><div><div>ohe</div></div></label><div class=\"sk-toggleable__content fitted\"><pre>[&#x27;PROFESSION_CODE&#x27;, &#x27;MARITAL_STATUS&#x27;, &#x27;RESIDENCE_TYPE&#x27;, &#x27;PAYMENT_DAY&#x27;, &#x27;OCCUPATION_TYPE&#x27;, &#x27;PRODUCT&#x27;, &#x27;APPLICATION_SUBMISSION_TYPE&#x27;]</pre></div> </div></div><div class=\"sk-serial\"><div class=\"sk-item\"><div class=\"sk-serial\"><div class=\"sk-item\"><div class=\"sk-estimator fitted sk-toggleable\"><input class=\"sk-toggleable__control sk-hidden--visually\" id=\"sk-estimator-id-10\" type=\"checkbox\" ><label for=\"sk-estimator-id-10\" class=\"sk-toggleable__label fitted sk-toggleable__label-arrow\"><div><div>SimpleImputer</div></div><div><a class=\"sk-estimator-doc-link fitted\" rel=\"noreferrer\" target=\"_blank\" href=\"https://scikit-learn.org/1.6/modules/generated/sklearn.impute.SimpleImputer.html\">?<span>Documentation for SimpleImputer</span></a></div></label><div class=\"sk-toggleable__content fitted\"><pre>SimpleImputer(strategy=&#x27;most_frequent&#x27;)</pre></div> </div></div><div class=\"sk-item\"><div class=\"sk-estimator fitted sk-toggleable\"><input class=\"sk-toggleable__control sk-hidden--visually\" id=\"sk-estimator-id-11\" type=\"checkbox\" ><label for=\"sk-estimator-id-11\" class=\"sk-toggleable__label fitted sk-toggleable__label-arrow\"><div><div>OneHotEncoder</div></div><div><a class=\"sk-estimator-doc-link fitted\" rel=\"noreferrer\" target=\"_blank\" href=\"https://scikit-learn.org/1.6/modules/generated/sklearn.preprocessing.OneHotEncoder.html\">?<span>Documentation for OneHotEncoder</span></a></div></label><div class=\"sk-toggleable__content fitted\"><pre>OneHotEncoder(handle_unknown=&#x27;ignore&#x27;, sparse_output=False)</pre></div> </div></div></div></div></div></div></div></div></div><div class=\"sk-item\"><div class=\"sk-estimator fitted sk-toggleable\"><input class=\"sk-toggleable__control sk-hidden--visually\" id=\"sk-estimator-id-12\" type=\"checkbox\" ><label for=\"sk-estimator-id-12\" class=\"sk-toggleable__label fitted sk-toggleable__label-arrow\"><div><div>SelectKBest</div></div><div><a class=\"sk-estimator-doc-link fitted\" rel=\"noreferrer\" target=\"_blank\" href=\"https://scikit-learn.org/1.6/modules/generated/sklearn.feature_selection.SelectKBest.html\">?<span>Documentation for SelectKBest</span></a></div></label><div class=\"sk-toggleable__content fitted\"><pre>SelectKBest(k=55,\n",
       "            score_func=&lt;function mutual_info_classif at 0x000001AB54F9E840&gt;)</pre></div> </div></div><div class=\"sk-item\"><div class=\"sk-estimator fitted sk-toggleable\"><input class=\"sk-toggleable__control sk-hidden--visually\" id=\"sk-estimator-id-13\" type=\"checkbox\" ><label for=\"sk-estimator-id-13\" class=\"sk-toggleable__label fitted sk-toggleable__label-arrow\"><div><div>XGBClassifier</div></div><div><a class=\"sk-estimator-doc-link fitted\" rel=\"noreferrer\" target=\"_blank\" href=\"https://xgboost.readthedocs.io/en/release_3.0.0/python/python_api.html#xgboost.XGBClassifier\">?<span>Documentation for XGBClassifier</span></a></div></label><div class=\"sk-toggleable__content fitted\"><pre>XGBClassifier(base_score=None, booster=None, callbacks=None,\n",
       "              colsample_bylevel=None, colsample_bynode=None,\n",
       "              colsample_bytree=0.8, device=None, early_stopping_rounds=None,\n",
       "              enable_categorical=False, eval_metric=&#x27;logloss&#x27;,\n",
       "              feature_types=None, feature_weights=None, gamma=None,\n",
       "              grow_policy=None, importance_type=None,\n",
       "              interaction_constraints=None, learning_rate=0.1, max_bin=None,\n",
       "              max_cat_threshold=None, max_cat_to_onehot=None,\n",
       "              max_delta_step=None, max_depth=6, max_leaves=None,\n",
       "              min_child_weight=None, missing=nan, monotone_constraints=None,\n",
       "              multi_strategy=None, n_estimators=200, n_jobs=None,\n",
       "              num_parallel_tree=None, ...)</pre></div> </div></div></div></div></div></div>"
      ],
      "text/plain": [
       "Pipeline(steps=[('preprocessor',\n",
       "                 ColumnTransformer(transformers=[('num',\n",
       "                                                  Pipeline(steps=[('imputer',\n",
       "                                                                   SimpleImputer(strategy='median')),\n",
       "                                                                  ('scaler',\n",
       "                                                                   StandardScaler())]),\n",
       "                                                  ['QUANT_DEPENDANTS',\n",
       "                                                   'MONTHS_IN_RESIDENCE',\n",
       "                                                   'PERSONAL_MONTHLY_INCOME',\n",
       "                                                   'QUANT_SPECIAL_BANKING_ACCOUNTS',\n",
       "                                                   'QUANT_CARS', 'AGE', 'SEX',\n",
       "                                                   'FLAG_RESIDENCIAL_PHONE',\n",
       "                                                   'COMPANY',\n",
       "                                                   'FLAG_PROFESSIONAL_PHONE',\n",
       "                                                   '...\n",
       "                               feature_types=None, feature_weights=None,\n",
       "                               gamma=None, grow_policy=None,\n",
       "                               importance_type=None,\n",
       "                               interaction_constraints=None, learning_rate=0.1,\n",
       "                               max_bin=None, max_cat_threshold=None,\n",
       "                               max_cat_to_onehot=None, max_delta_step=None,\n",
       "                               max_depth=6, max_leaves=None,\n",
       "                               min_child_weight=None, missing=nan,\n",
       "                               monotone_constraints=None, multi_strategy=None,\n",
       "                               n_estimators=200, n_jobs=None,\n",
       "                               num_parallel_tree=None, ...))])"
      ]
     },
     "execution_count": 173,
     "metadata": {},
     "output_type": "execute_result"
    }
   ],
   "source": [
    "final_xgb_pipeline.fit(X_train, y_train)"
   ]
  },
  {
   "cell_type": "code",
   "execution_count": 175,
   "id": "a90469c9-4e67-44cb-b8d6-70d9af2f8e30",
   "metadata": {},
   "outputs": [
    {
     "name": "stdout",
     "output_type": "stream",
     "text": [
      "🚀 Final XGBoost Pipeline Results\n",
      "----------------------------------------\n",
      "Accuracy       : 0.6992\n",
      "Precision      : 0.3684\n",
      "Recall         : 0.2147\n",
      "F1 Score       : 0.2713\n",
      "ROC-AUC Score  : 0.5855\n",
      "\n",
      "✅ Classification Report\n",
      "----------------------------------------\n",
      "              precision    recall  f1-score   support\n",
      "\n",
      "           0       0.76      0.87      0.81      7392\n",
      "           1       0.37      0.21      0.27      2608\n",
      "\n",
      "    accuracy                           0.70     10000\n",
      "   macro avg       0.56      0.54      0.54     10000\n",
      "weighted avg       0.66      0.70      0.67     10000\n",
      "\n",
      "✅ Confusion Matrix\n",
      "----------------------------------------\n",
      "[[6432  960]\n",
      " [2048  560]]\n"
     ]
    }
   ],
   "source": [
    "y_pred = final_xgb_pipeline.predict(X_test)\n",
    "y_prob = final_xgb_pipeline.predict_proba(X_test)[:, 1]\n",
    "\n",
    "from sklearn.metrics import accuracy_score, precision_score, recall_score, f1_score, roc_auc_score, classification_report, confusion_matrix\n",
    "\n",
    "print(\"🚀 Final XGBoost Pipeline Results\")\n",
    "print(\"-\" * 40)\n",
    "print(f\"Accuracy       : {accuracy_score(y_test, y_pred):.4f}\")\n",
    "print(f\"Precision      : {precision_score(y_test, y_pred):.4f}\")\n",
    "print(f\"Recall         : {recall_score(y_test, y_pred):.4f}\")\n",
    "print(f\"F1 Score       : {f1_score(y_test, y_pred):.4f}\")\n",
    "print(f\"ROC-AUC Score  : {roc_auc_score(y_test, y_prob):.4f}\\n\")\n",
    "\n",
    "print(\"✅ Classification Report\")\n",
    "print(\"-\" * 40)\n",
    "print(classification_report(y_test, y_pred))\n",
    "\n",
    "print(\"✅ Confusion Matrix\")\n",
    "print(\"-\" * 40)\n",
    "print(confusion_matrix(y_test, y_pred))\n"
   ]
  },
  {
   "cell_type": "markdown",
   "id": "219e7b0d-07ba-4f38-84e1-7b8cacfc2862",
   "metadata": {},
   "source": [
    "## Feature selection using XGB Model"
   ]
  },
  {
   "cell_type": "code",
   "execution_count": 190,
   "id": "45dc3b15-7d2f-4588-9bc6-9fa2400ea67d",
   "metadata": {},
   "outputs": [
    {
     "ename": "KeyboardInterrupt",
     "evalue": "",
     "output_type": "error",
     "traceback": [
      "\u001b[1;31m---------------------------------------------------------------------------\u001b[0m",
      "\u001b[1;31mKeyboardInterrupt\u001b[0m                         Traceback (most recent call last)",
      "Cell \u001b[1;32mIn[190], line 23\u001b[0m\n\u001b[0;32m     16\u001b[0m \u001b[38;5;28;01mfor\u001b[39;00m k \u001b[38;5;129;01min\u001b[39;00m feature_range:\n\u001b[0;32m     17\u001b[0m     pipe \u001b[38;5;241m=\u001b[39m Pipeline([\n\u001b[0;32m     18\u001b[0m         (\u001b[38;5;124m'\u001b[39m\u001b[38;5;124mpreprocessor\u001b[39m\u001b[38;5;124m'\u001b[39m, preprocessor),\n\u001b[0;32m     19\u001b[0m         (\u001b[38;5;124m'\u001b[39m\u001b[38;5;124mfeature_selection\u001b[39m\u001b[38;5;124m'\u001b[39m, SelectKBest(score_func\u001b[38;5;241m=\u001b[39mmutual_info_classif, k\u001b[38;5;241m=\u001b[39mk)),\n\u001b[0;32m     20\u001b[0m         (\u001b[38;5;124m'\u001b[39m\u001b[38;5;124mclassifier\u001b[39m\u001b[38;5;124m'\u001b[39m, xgb_best_model)\n\u001b[0;32m     21\u001b[0m     ])\n\u001b[1;32m---> 23\u001b[0m     scores \u001b[38;5;241m=\u001b[39m cross_val_score(pipe, X_train, y_train, cv\u001b[38;5;241m=\u001b[39mcv, scoring\u001b[38;5;241m=\u001b[39m\u001b[38;5;124m'\u001b[39m\u001b[38;5;124mroc_auc\u001b[39m\u001b[38;5;124m'\u001b[39m, n_jobs\u001b[38;5;241m=\u001b[39m\u001b[38;5;241m-\u001b[39m\u001b[38;5;241m1\u001b[39m)\n\u001b[0;32m     24\u001b[0m     mean_score \u001b[38;5;241m=\u001b[39m scores\u001b[38;5;241m.\u001b[39mmean()\n\u001b[0;32m     25\u001b[0m     auc_scores\u001b[38;5;241m.\u001b[39mappend(mean_score)\n",
      "File \u001b[1;32m~\\anaconda3\\Lib\\site-packages\\sklearn\\utils\\_param_validation.py:216\u001b[0m, in \u001b[0;36mvalidate_params.<locals>.decorator.<locals>.wrapper\u001b[1;34m(*args, **kwargs)\u001b[0m\n\u001b[0;32m    210\u001b[0m \u001b[38;5;28;01mtry\u001b[39;00m:\n\u001b[0;32m    211\u001b[0m     \u001b[38;5;28;01mwith\u001b[39;00m config_context(\n\u001b[0;32m    212\u001b[0m         skip_parameter_validation\u001b[38;5;241m=\u001b[39m(\n\u001b[0;32m    213\u001b[0m             prefer_skip_nested_validation \u001b[38;5;129;01mor\u001b[39;00m global_skip_validation\n\u001b[0;32m    214\u001b[0m         )\n\u001b[0;32m    215\u001b[0m     ):\n\u001b[1;32m--> 216\u001b[0m         \u001b[38;5;28;01mreturn\u001b[39;00m func(\u001b[38;5;241m*\u001b[39margs, \u001b[38;5;241m*\u001b[39m\u001b[38;5;241m*\u001b[39mkwargs)\n\u001b[0;32m    217\u001b[0m \u001b[38;5;28;01mexcept\u001b[39;00m InvalidParameterError \u001b[38;5;28;01mas\u001b[39;00m e:\n\u001b[0;32m    218\u001b[0m     \u001b[38;5;66;03m# When the function is just a wrapper around an estimator, we allow\u001b[39;00m\n\u001b[0;32m    219\u001b[0m     \u001b[38;5;66;03m# the function to delegate validation to the estimator, but we replace\u001b[39;00m\n\u001b[0;32m    220\u001b[0m     \u001b[38;5;66;03m# the name of the estimator by the name of the function in the error\u001b[39;00m\n\u001b[0;32m    221\u001b[0m     \u001b[38;5;66;03m# message to avoid confusion.\u001b[39;00m\n\u001b[0;32m    222\u001b[0m     msg \u001b[38;5;241m=\u001b[39m re\u001b[38;5;241m.\u001b[39msub(\n\u001b[0;32m    223\u001b[0m         \u001b[38;5;124mr\u001b[39m\u001b[38;5;124m\"\u001b[39m\u001b[38;5;124mparameter of \u001b[39m\u001b[38;5;124m\\\u001b[39m\u001b[38;5;124mw+ must be\u001b[39m\u001b[38;5;124m\"\u001b[39m,\n\u001b[0;32m    224\u001b[0m         \u001b[38;5;124mf\u001b[39m\u001b[38;5;124m\"\u001b[39m\u001b[38;5;124mparameter of \u001b[39m\u001b[38;5;132;01m{\u001b[39;00mfunc\u001b[38;5;241m.\u001b[39m\u001b[38;5;18m__qualname__\u001b[39m\u001b[38;5;132;01m}\u001b[39;00m\u001b[38;5;124m must be\u001b[39m\u001b[38;5;124m\"\u001b[39m,\n\u001b[0;32m    225\u001b[0m         \u001b[38;5;28mstr\u001b[39m(e),\n\u001b[0;32m    226\u001b[0m     )\n",
      "File \u001b[1;32m~\\anaconda3\\Lib\\site-packages\\sklearn\\model_selection\\_validation.py:684\u001b[0m, in \u001b[0;36mcross_val_score\u001b[1;34m(estimator, X, y, groups, scoring, cv, n_jobs, verbose, params, pre_dispatch, error_score)\u001b[0m\n\u001b[0;32m    681\u001b[0m \u001b[38;5;66;03m# To ensure multimetric format is not supported\u001b[39;00m\n\u001b[0;32m    682\u001b[0m scorer \u001b[38;5;241m=\u001b[39m check_scoring(estimator, scoring\u001b[38;5;241m=\u001b[39mscoring)\n\u001b[1;32m--> 684\u001b[0m cv_results \u001b[38;5;241m=\u001b[39m cross_validate(\n\u001b[0;32m    685\u001b[0m     estimator\u001b[38;5;241m=\u001b[39mestimator,\n\u001b[0;32m    686\u001b[0m     X\u001b[38;5;241m=\u001b[39mX,\n\u001b[0;32m    687\u001b[0m     y\u001b[38;5;241m=\u001b[39my,\n\u001b[0;32m    688\u001b[0m     groups\u001b[38;5;241m=\u001b[39mgroups,\n\u001b[0;32m    689\u001b[0m     scoring\u001b[38;5;241m=\u001b[39m{\u001b[38;5;124m\"\u001b[39m\u001b[38;5;124mscore\u001b[39m\u001b[38;5;124m\"\u001b[39m: scorer},\n\u001b[0;32m    690\u001b[0m     cv\u001b[38;5;241m=\u001b[39mcv,\n\u001b[0;32m    691\u001b[0m     n_jobs\u001b[38;5;241m=\u001b[39mn_jobs,\n\u001b[0;32m    692\u001b[0m     verbose\u001b[38;5;241m=\u001b[39mverbose,\n\u001b[0;32m    693\u001b[0m     params\u001b[38;5;241m=\u001b[39mparams,\n\u001b[0;32m    694\u001b[0m     pre_dispatch\u001b[38;5;241m=\u001b[39mpre_dispatch,\n\u001b[0;32m    695\u001b[0m     error_score\u001b[38;5;241m=\u001b[39merror_score,\n\u001b[0;32m    696\u001b[0m )\n\u001b[0;32m    697\u001b[0m \u001b[38;5;28;01mreturn\u001b[39;00m cv_results[\u001b[38;5;124m\"\u001b[39m\u001b[38;5;124mtest_score\u001b[39m\u001b[38;5;124m\"\u001b[39m]\n",
      "File \u001b[1;32m~\\anaconda3\\Lib\\site-packages\\sklearn\\utils\\_param_validation.py:216\u001b[0m, in \u001b[0;36mvalidate_params.<locals>.decorator.<locals>.wrapper\u001b[1;34m(*args, **kwargs)\u001b[0m\n\u001b[0;32m    210\u001b[0m \u001b[38;5;28;01mtry\u001b[39;00m:\n\u001b[0;32m    211\u001b[0m     \u001b[38;5;28;01mwith\u001b[39;00m config_context(\n\u001b[0;32m    212\u001b[0m         skip_parameter_validation\u001b[38;5;241m=\u001b[39m(\n\u001b[0;32m    213\u001b[0m             prefer_skip_nested_validation \u001b[38;5;129;01mor\u001b[39;00m global_skip_validation\n\u001b[0;32m    214\u001b[0m         )\n\u001b[0;32m    215\u001b[0m     ):\n\u001b[1;32m--> 216\u001b[0m         \u001b[38;5;28;01mreturn\u001b[39;00m func(\u001b[38;5;241m*\u001b[39margs, \u001b[38;5;241m*\u001b[39m\u001b[38;5;241m*\u001b[39mkwargs)\n\u001b[0;32m    217\u001b[0m \u001b[38;5;28;01mexcept\u001b[39;00m InvalidParameterError \u001b[38;5;28;01mas\u001b[39;00m e:\n\u001b[0;32m    218\u001b[0m     \u001b[38;5;66;03m# When the function is just a wrapper around an estimator, we allow\u001b[39;00m\n\u001b[0;32m    219\u001b[0m     \u001b[38;5;66;03m# the function to delegate validation to the estimator, but we replace\u001b[39;00m\n\u001b[0;32m    220\u001b[0m     \u001b[38;5;66;03m# the name of the estimator by the name of the function in the error\u001b[39;00m\n\u001b[0;32m    221\u001b[0m     \u001b[38;5;66;03m# message to avoid confusion.\u001b[39;00m\n\u001b[0;32m    222\u001b[0m     msg \u001b[38;5;241m=\u001b[39m re\u001b[38;5;241m.\u001b[39msub(\n\u001b[0;32m    223\u001b[0m         \u001b[38;5;124mr\u001b[39m\u001b[38;5;124m\"\u001b[39m\u001b[38;5;124mparameter of \u001b[39m\u001b[38;5;124m\\\u001b[39m\u001b[38;5;124mw+ must be\u001b[39m\u001b[38;5;124m\"\u001b[39m,\n\u001b[0;32m    224\u001b[0m         \u001b[38;5;124mf\u001b[39m\u001b[38;5;124m\"\u001b[39m\u001b[38;5;124mparameter of \u001b[39m\u001b[38;5;132;01m{\u001b[39;00mfunc\u001b[38;5;241m.\u001b[39m\u001b[38;5;18m__qualname__\u001b[39m\u001b[38;5;132;01m}\u001b[39;00m\u001b[38;5;124m must be\u001b[39m\u001b[38;5;124m\"\u001b[39m,\n\u001b[0;32m    225\u001b[0m         \u001b[38;5;28mstr\u001b[39m(e),\n\u001b[0;32m    226\u001b[0m     )\n",
      "File \u001b[1;32m~\\anaconda3\\Lib\\site-packages\\sklearn\\model_selection\\_validation.py:411\u001b[0m, in \u001b[0;36mcross_validate\u001b[1;34m(estimator, X, y, groups, scoring, cv, n_jobs, verbose, params, pre_dispatch, return_train_score, return_estimator, return_indices, error_score)\u001b[0m\n\u001b[0;32m    408\u001b[0m \u001b[38;5;66;03m# We clone the estimator to make sure that all the folds are\u001b[39;00m\n\u001b[0;32m    409\u001b[0m \u001b[38;5;66;03m# independent, and that it is pickle-able.\u001b[39;00m\n\u001b[0;32m    410\u001b[0m parallel \u001b[38;5;241m=\u001b[39m Parallel(n_jobs\u001b[38;5;241m=\u001b[39mn_jobs, verbose\u001b[38;5;241m=\u001b[39mverbose, pre_dispatch\u001b[38;5;241m=\u001b[39mpre_dispatch)\n\u001b[1;32m--> 411\u001b[0m results \u001b[38;5;241m=\u001b[39m parallel(\n\u001b[0;32m    412\u001b[0m     delayed(_fit_and_score)(\n\u001b[0;32m    413\u001b[0m         clone(estimator),\n\u001b[0;32m    414\u001b[0m         X,\n\u001b[0;32m    415\u001b[0m         y,\n\u001b[0;32m    416\u001b[0m         scorer\u001b[38;5;241m=\u001b[39mscorers,\n\u001b[0;32m    417\u001b[0m         train\u001b[38;5;241m=\u001b[39mtrain,\n\u001b[0;32m    418\u001b[0m         test\u001b[38;5;241m=\u001b[39mtest,\n\u001b[0;32m    419\u001b[0m         verbose\u001b[38;5;241m=\u001b[39mverbose,\n\u001b[0;32m    420\u001b[0m         parameters\u001b[38;5;241m=\u001b[39m\u001b[38;5;28;01mNone\u001b[39;00m,\n\u001b[0;32m    421\u001b[0m         fit_params\u001b[38;5;241m=\u001b[39mrouted_params\u001b[38;5;241m.\u001b[39mestimator\u001b[38;5;241m.\u001b[39mfit,\n\u001b[0;32m    422\u001b[0m         score_params\u001b[38;5;241m=\u001b[39mrouted_params\u001b[38;5;241m.\u001b[39mscorer\u001b[38;5;241m.\u001b[39mscore,\n\u001b[0;32m    423\u001b[0m         return_train_score\u001b[38;5;241m=\u001b[39mreturn_train_score,\n\u001b[0;32m    424\u001b[0m         return_times\u001b[38;5;241m=\u001b[39m\u001b[38;5;28;01mTrue\u001b[39;00m,\n\u001b[0;32m    425\u001b[0m         return_estimator\u001b[38;5;241m=\u001b[39mreturn_estimator,\n\u001b[0;32m    426\u001b[0m         error_score\u001b[38;5;241m=\u001b[39merror_score,\n\u001b[0;32m    427\u001b[0m     )\n\u001b[0;32m    428\u001b[0m     \u001b[38;5;28;01mfor\u001b[39;00m train, test \u001b[38;5;129;01min\u001b[39;00m indices\n\u001b[0;32m    429\u001b[0m )\n\u001b[0;32m    431\u001b[0m _warn_or_raise_about_fit_failures(results, error_score)\n\u001b[0;32m    433\u001b[0m \u001b[38;5;66;03m# For callable scoring, the return type is only know after calling. If the\u001b[39;00m\n\u001b[0;32m    434\u001b[0m \u001b[38;5;66;03m# return type is a dictionary, the error scores can now be inserted with\u001b[39;00m\n\u001b[0;32m    435\u001b[0m \u001b[38;5;66;03m# the correct key.\u001b[39;00m\n",
      "File \u001b[1;32m~\\anaconda3\\Lib\\site-packages\\sklearn\\utils\\parallel.py:77\u001b[0m, in \u001b[0;36mParallel.__call__\u001b[1;34m(self, iterable)\u001b[0m\n\u001b[0;32m     72\u001b[0m config \u001b[38;5;241m=\u001b[39m get_config()\n\u001b[0;32m     73\u001b[0m iterable_with_config \u001b[38;5;241m=\u001b[39m (\n\u001b[0;32m     74\u001b[0m     (_with_config(delayed_func, config), args, kwargs)\n\u001b[0;32m     75\u001b[0m     \u001b[38;5;28;01mfor\u001b[39;00m delayed_func, args, kwargs \u001b[38;5;129;01min\u001b[39;00m iterable\n\u001b[0;32m     76\u001b[0m )\n\u001b[1;32m---> 77\u001b[0m \u001b[38;5;28;01mreturn\u001b[39;00m \u001b[38;5;28msuper\u001b[39m()\u001b[38;5;241m.\u001b[39m\u001b[38;5;21m__call__\u001b[39m(iterable_with_config)\n",
      "File \u001b[1;32m~\\anaconda3\\Lib\\site-packages\\joblib\\parallel.py:2072\u001b[0m, in \u001b[0;36mParallel.__call__\u001b[1;34m(self, iterable)\u001b[0m\n\u001b[0;32m   2066\u001b[0m \u001b[38;5;66;03m# The first item from the output is blank, but it makes the interpreter\u001b[39;00m\n\u001b[0;32m   2067\u001b[0m \u001b[38;5;66;03m# progress until it enters the Try/Except block of the generator and\u001b[39;00m\n\u001b[0;32m   2068\u001b[0m \u001b[38;5;66;03m# reaches the first `yield` statement. This starts the asynchronous\u001b[39;00m\n\u001b[0;32m   2069\u001b[0m \u001b[38;5;66;03m# dispatch of the tasks to the workers.\u001b[39;00m\n\u001b[0;32m   2070\u001b[0m \u001b[38;5;28mnext\u001b[39m(output)\n\u001b[1;32m-> 2072\u001b[0m \u001b[38;5;28;01mreturn\u001b[39;00m output \u001b[38;5;28;01mif\u001b[39;00m \u001b[38;5;28mself\u001b[39m\u001b[38;5;241m.\u001b[39mreturn_generator \u001b[38;5;28;01melse\u001b[39;00m \u001b[38;5;28mlist\u001b[39m(output)\n",
      "File \u001b[1;32m~\\anaconda3\\Lib\\site-packages\\joblib\\parallel.py:1682\u001b[0m, in \u001b[0;36mParallel._get_outputs\u001b[1;34m(self, iterator, pre_dispatch)\u001b[0m\n\u001b[0;32m   1679\u001b[0m     \u001b[38;5;28;01myield\u001b[39;00m\n\u001b[0;32m   1681\u001b[0m     \u001b[38;5;28;01mwith\u001b[39;00m \u001b[38;5;28mself\u001b[39m\u001b[38;5;241m.\u001b[39m_backend\u001b[38;5;241m.\u001b[39mretrieval_context():\n\u001b[1;32m-> 1682\u001b[0m         \u001b[38;5;28;01myield from\u001b[39;00m \u001b[38;5;28mself\u001b[39m\u001b[38;5;241m.\u001b[39m_retrieve()\n\u001b[0;32m   1684\u001b[0m \u001b[38;5;28;01mexcept\u001b[39;00m \u001b[38;5;167;01mGeneratorExit\u001b[39;00m:\n\u001b[0;32m   1685\u001b[0m     \u001b[38;5;66;03m# The generator has been garbage collected before being fully\u001b[39;00m\n\u001b[0;32m   1686\u001b[0m     \u001b[38;5;66;03m# consumed. This aborts the remaining tasks if possible and warn\u001b[39;00m\n\u001b[0;32m   1687\u001b[0m     \u001b[38;5;66;03m# the user if necessary.\u001b[39;00m\n\u001b[0;32m   1688\u001b[0m     \u001b[38;5;28mself\u001b[39m\u001b[38;5;241m.\u001b[39m_exception \u001b[38;5;241m=\u001b[39m \u001b[38;5;28;01mTrue\u001b[39;00m\n",
      "File \u001b[1;32m~\\anaconda3\\Lib\\site-packages\\joblib\\parallel.py:1800\u001b[0m, in \u001b[0;36mParallel._retrieve\u001b[1;34m(self)\u001b[0m\n\u001b[0;32m   1789\u001b[0m \u001b[38;5;28;01mif\u001b[39;00m \u001b[38;5;28mself\u001b[39m\u001b[38;5;241m.\u001b[39mreturn_ordered:\n\u001b[0;32m   1790\u001b[0m     \u001b[38;5;66;03m# Case ordered: wait for completion (or error) of the next job\u001b[39;00m\n\u001b[0;32m   1791\u001b[0m     \u001b[38;5;66;03m# that have been dispatched and not retrieved yet. If no job\u001b[39;00m\n\u001b[1;32m   (...)\u001b[0m\n\u001b[0;32m   1795\u001b[0m     \u001b[38;5;66;03m# control only have to be done on the amount of time the next\u001b[39;00m\n\u001b[0;32m   1796\u001b[0m     \u001b[38;5;66;03m# dispatched job is pending.\u001b[39;00m\n\u001b[0;32m   1797\u001b[0m     \u001b[38;5;28;01mif\u001b[39;00m (nb_jobs \u001b[38;5;241m==\u001b[39m \u001b[38;5;241m0\u001b[39m) \u001b[38;5;129;01mor\u001b[39;00m (\n\u001b[0;32m   1798\u001b[0m         \u001b[38;5;28mself\u001b[39m\u001b[38;5;241m.\u001b[39m_jobs[\u001b[38;5;241m0\u001b[39m]\u001b[38;5;241m.\u001b[39mget_status(timeout\u001b[38;5;241m=\u001b[39m\u001b[38;5;28mself\u001b[39m\u001b[38;5;241m.\u001b[39mtimeout) \u001b[38;5;241m==\u001b[39m TASK_PENDING\n\u001b[0;32m   1799\u001b[0m     ):\n\u001b[1;32m-> 1800\u001b[0m         time\u001b[38;5;241m.\u001b[39msleep(\u001b[38;5;241m0.01\u001b[39m)\n\u001b[0;32m   1801\u001b[0m         \u001b[38;5;28;01mcontinue\u001b[39;00m\n\u001b[0;32m   1803\u001b[0m \u001b[38;5;28;01melif\u001b[39;00m nb_jobs \u001b[38;5;241m==\u001b[39m \u001b[38;5;241m0\u001b[39m:\n\u001b[0;32m   1804\u001b[0m     \u001b[38;5;66;03m# Case unordered: jobs are added to the list of jobs to\u001b[39;00m\n\u001b[0;32m   1805\u001b[0m     \u001b[38;5;66;03m# retrieve `self._jobs` only once completed or in error, which\u001b[39;00m\n\u001b[1;32m   (...)\u001b[0m\n\u001b[0;32m   1811\u001b[0m     \u001b[38;5;66;03m# timeouts before any other dispatched job has completed and\u001b[39;00m\n\u001b[0;32m   1812\u001b[0m     \u001b[38;5;66;03m# been added to `self._jobs` to be retrieved.\u001b[39;00m\n",
      "\u001b[1;31mKeyboardInterrupt\u001b[0m: "
     ]
    }
   ],
   "source": [
    "import numpy as np\n",
    "import matplotlib.pyplot as plt\n",
    "from sklearn.pipeline import Pipeline\n",
    "from sklearn.feature_selection import SelectKBest, mutual_info_classif\n",
    "from sklearn.model_selection import cross_val_score, StratifiedKFold\n",
    "\n",
    "# Range of feature counts to try\n",
    "feature_range = range(5, min(X_train.shape[1], 70) + 1, 5)\n",
    "\n",
    "# Store AUC scores\n",
    "auc_scores = []\n",
    "\n",
    "# CV setup\n",
    "cv = StratifiedKFold(n_splits=5, shuffle=True, random_state=42)\n",
    "\n",
    "for k in feature_range:\n",
    "    pipe = Pipeline([\n",
    "        ('preprocessor', preprocessor),\n",
    "        ('feature_selection', SelectKBest(score_func=mutual_info_classif, k=k)),\n",
    "        ('classifier', xgb_best_model)\n",
    "    ])\n",
    "    \n",
    "    scores = cross_val_score(pipe, X_train, y_train, cv=cv, scoring='roc_auc', n_jobs=-1)\n",
    "    mean_score = scores.mean()\n",
    "    auc_scores.append(mean_score)\n",
    "    print(f\"✅ k = {k} | ROC-AUC = {mean_score:.4f}\")\n",
    "\n",
    "# Plot\n",
    "plt.figure(figsize=(10, 6))\n",
    "plt.plot(feature_range, auc_scores, marker='o', linestyle='-', color='royalblue')\n",
    "plt.title('ROC-AUC vs Number of Selected Features')\n",
    "plt.xlabel('Number of Features (k)')\n",
    "plt.ylabel('Cross-Validated ROC-AUC')\n",
    "plt.grid(True)\n",
    "plt.tight_layout()\n",
    "plt.show()\n"
   ]
  },
  {
   "cell_type": "markdown",
   "id": "800dae38-6385-403f-a331-f539bd09fef7",
   "metadata": {},
   "source": [
    "### Voting Classifier"
   ]
  },
  {
   "cell_type": "code",
   "execution_count": 192,
   "id": "810725c7-009e-40b4-9b0d-6ff4128e441d",
   "metadata": {},
   "outputs": [],
   "source": [
    "\n",
    "logreg = LogisticRegression(max_iter=1000, class_weight='balanced', random_state=42)\n",
    "rf = RandomForestClassifier(n_estimators=100, max_depth=6, class_weight='balanced', random_state=42)\n",
    "xgb = xgb_best_model  # make sure it supports predict_proba\n",
    "\n",
    "voting_clf = VotingClassifier(estimators=[\n",
    "    ('lr', logreg),\n",
    "    ('rf', rf),\n",
    "    ('xgb', xgb)\n",
    "], voting='soft')\n"
   ]
  },
  {
   "cell_type": "code",
   "execution_count": 194,
   "id": "1f36ca74-3e8c-4758-8a1b-f8961c7e5a0e",
   "metadata": {},
   "outputs": [],
   "source": [
    "voting_model_pipeline = Pipeline([\n",
    "    ('preprocessor', preprocessor),\n",
    "    ('feature_select', SelectKBest(score_func=mutual_info_classif, k=55)),  # choose k accordingly\n",
    "    ('classifier', voting_clf)\n",
    "])"
   ]
  },
  {
   "cell_type": "code",
   "execution_count": 196,
   "id": "d8f5abbf-39fd-4792-b3b6-eddc13a5da97",
   "metadata": {},
   "outputs": [
    {
     "name": "stderr",
     "output_type": "stream",
     "text": [
      "C:\\Users\\ASUS SMART\\anaconda3\\Lib\\site-packages\\xgboost\\training.py:183: UserWarning: [05:53:55] WARNING: C:\\actions-runner\\_work\\xgboost\\xgboost\\src\\learner.cc:738: \n",
      "Parameters: { \"use_label_encoder\" } are not used.\n",
      "\n",
      "  bst.update(dtrain, iteration=i, fobj=obj)\n",
      "C:\\Users\\ASUS SMART\\anaconda3\\Lib\\site-packages\\xgboost\\training.py:183: UserWarning: [05:54:12] WARNING: C:\\actions-runner\\_work\\xgboost\\xgboost\\src\\learner.cc:738: \n",
      "Parameters: { \"use_label_encoder\" } are not used.\n",
      "\n",
      "  bst.update(dtrain, iteration=i, fobj=obj)\n",
      "C:\\Users\\ASUS SMART\\anaconda3\\Lib\\site-packages\\xgboost\\training.py:183: UserWarning: [05:54:27] WARNING: C:\\actions-runner\\_work\\xgboost\\xgboost\\src\\learner.cc:738: \n",
      "Parameters: { \"use_label_encoder\" } are not used.\n",
      "\n",
      "  bst.update(dtrain, iteration=i, fobj=obj)\n",
      "C:\\Users\\ASUS SMART\\anaconda3\\Lib\\site-packages\\xgboost\\training.py:183: UserWarning: [05:54:42] WARNING: C:\\actions-runner\\_work\\xgboost\\xgboost\\src\\learner.cc:738: \n",
      "Parameters: { \"use_label_encoder\" } are not used.\n",
      "\n",
      "  bst.update(dtrain, iteration=i, fobj=obj)\n",
      "C:\\Users\\ASUS SMART\\anaconda3\\Lib\\site-packages\\xgboost\\training.py:183: UserWarning: [05:54:57] WARNING: C:\\actions-runner\\_work\\xgboost\\xgboost\\src\\learner.cc:738: \n",
      "Parameters: { \"use_label_encoder\" } are not used.\n",
      "\n",
      "  bst.update(dtrain, iteration=i, fobj=obj)\n"
     ]
    },
    {
     "name": "stdout",
     "output_type": "stream",
     "text": [
      "Cross-validated ROC-AUC: 0.5888 ± 0.0067\n"
     ]
    }
   ],
   "source": [
    "from sklearn.model_selection import StratifiedKFold, cross_val_score\n",
    "\n",
    "cv = StratifiedKFold(n_splits=5, shuffle=True, random_state=42)\n",
    "\n",
    "scores = cross_val_score(voting_model_pipeline, X_train, y_train, cv=cv, scoring='roc_auc')\n",
    "print(f\"Cross-validated ROC-AUC: {scores.mean():.4f} ± {scores.std():.4f}\")"
   ]
  },
  {
   "cell_type": "code",
   "execution_count": 197,
   "id": "c725f607-3f02-463c-995c-703a5ac42b19",
   "metadata": {},
   "outputs": [
    {
     "name": "stderr",
     "output_type": "stream",
     "text": [
      "C:\\Users\\ASUS SMART\\anaconda3\\Lib\\site-packages\\xgboost\\training.py:183: UserWarning: [05:55:16] WARNING: C:\\actions-runner\\_work\\xgboost\\xgboost\\src\\learner.cc:738: \n",
      "Parameters: { \"use_label_encoder\" } are not used.\n",
      "\n",
      "  bst.update(dtrain, iteration=i, fobj=obj)\n"
     ]
    },
    {
     "name": "stdout",
     "output_type": "stream",
     "text": [
      "✅ Classification Metrics\n",
      "----------------------------------------\n",
      "Accuracy       : 0.6570\n",
      "Precision      : 0.3502\n",
      "Recall         : 0.3685\n",
      "F1 Score       : 0.3591\n",
      "ROC-AUC Score  : 0.5938\n",
      "\n",
      "✅ Classification Report\n",
      "----------------------------------------\n",
      "              precision    recall  f1-score   support\n",
      "\n",
      "           0       0.77      0.76      0.77      7392\n",
      "           1       0.35      0.37      0.36      2608\n",
      "\n",
      "    accuracy                           0.66     10000\n",
      "   macro avg       0.56      0.56      0.56     10000\n",
      "weighted avg       0.66      0.66      0.66     10000\n",
      "\n",
      "✅ Confusion Matrix\n",
      "----------------------------------------\n",
      "[[5609 1783]\n",
      " [1647  961]]\n"
     ]
    }
   ],
   "source": [
    "voting_model_pipeline.fit(X_train, y_train)\n",
    "evaluate_model(voting_model_pipeline, X_test, y_test)"
   ]
  },
  {
   "cell_type": "markdown",
   "id": "23950c4c-9643-4d54-ad94-08b08b35df6a",
   "metadata": {},
   "source": [
    "The CV scores and model performance are comparable. Hence, the model is not over or underfitting. Overall ROC- AUC score is good. along with precision, recall and f1 score while balancing the minority class"
   ]
  },
  {
   "cell_type": "markdown",
   "id": "36ab00d5-07b6-452c-9af9-44d82118be24",
   "metadata": {},
   "source": [
    "### SHAP for model interpretability"
   ]
  },
  {
   "cell_type": "code",
   "execution_count": 200,
   "id": "ae3a1205-44c6-4041-8908-45c3e73c1f4f",
   "metadata": {},
   "outputs": [
    {
     "name": "stderr",
     "output_type": "stream",
     "text": [
      "C:\\Users\\ASUS SMART\\anaconda3\\Lib\\site-packages\\xgboost\\training.py:183: UserWarning: [05:58:26] WARNING: C:\\actions-runner\\_work\\xgboost\\xgboost\\src\\learner.cc:738: \n",
      "Parameters: { \"use_label_encoder\" } are not used.\n",
      "\n",
      "  bst.update(dtrain, iteration=i, fobj=obj)\n"
     ]
    },
    {
     "data": {
      "text/html": [
       "<style>#sk-container-id-2 {\n",
       "  /* Definition of color scheme common for light and dark mode */\n",
       "  --sklearn-color-text: #000;\n",
       "  --sklearn-color-text-muted: #666;\n",
       "  --sklearn-color-line: gray;\n",
       "  /* Definition of color scheme for unfitted estimators */\n",
       "  --sklearn-color-unfitted-level-0: #fff5e6;\n",
       "  --sklearn-color-unfitted-level-1: #f6e4d2;\n",
       "  --sklearn-color-unfitted-level-2: #ffe0b3;\n",
       "  --sklearn-color-unfitted-level-3: chocolate;\n",
       "  /* Definition of color scheme for fitted estimators */\n",
       "  --sklearn-color-fitted-level-0: #f0f8ff;\n",
       "  --sklearn-color-fitted-level-1: #d4ebff;\n",
       "  --sklearn-color-fitted-level-2: #b3dbfd;\n",
       "  --sklearn-color-fitted-level-3: cornflowerblue;\n",
       "\n",
       "  /* Specific color for light theme */\n",
       "  --sklearn-color-text-on-default-background: var(--sg-text-color, var(--theme-code-foreground, var(--jp-content-font-color1, black)));\n",
       "  --sklearn-color-background: var(--sg-background-color, var(--theme-background, var(--jp-layout-color0, white)));\n",
       "  --sklearn-color-border-box: var(--sg-text-color, var(--theme-code-foreground, var(--jp-content-font-color1, black)));\n",
       "  --sklearn-color-icon: #696969;\n",
       "\n",
       "  @media (prefers-color-scheme: dark) {\n",
       "    /* Redefinition of color scheme for dark theme */\n",
       "    --sklearn-color-text-on-default-background: var(--sg-text-color, var(--theme-code-foreground, var(--jp-content-font-color1, white)));\n",
       "    --sklearn-color-background: var(--sg-background-color, var(--theme-background, var(--jp-layout-color0, #111)));\n",
       "    --sklearn-color-border-box: var(--sg-text-color, var(--theme-code-foreground, var(--jp-content-font-color1, white)));\n",
       "    --sklearn-color-icon: #878787;\n",
       "  }\n",
       "}\n",
       "\n",
       "#sk-container-id-2 {\n",
       "  color: var(--sklearn-color-text);\n",
       "}\n",
       "\n",
       "#sk-container-id-2 pre {\n",
       "  padding: 0;\n",
       "}\n",
       "\n",
       "#sk-container-id-2 input.sk-hidden--visually {\n",
       "  border: 0;\n",
       "  clip: rect(1px 1px 1px 1px);\n",
       "  clip: rect(1px, 1px, 1px, 1px);\n",
       "  height: 1px;\n",
       "  margin: -1px;\n",
       "  overflow: hidden;\n",
       "  padding: 0;\n",
       "  position: absolute;\n",
       "  width: 1px;\n",
       "}\n",
       "\n",
       "#sk-container-id-2 div.sk-dashed-wrapped {\n",
       "  border: 1px dashed var(--sklearn-color-line);\n",
       "  margin: 0 0.4em 0.5em 0.4em;\n",
       "  box-sizing: border-box;\n",
       "  padding-bottom: 0.4em;\n",
       "  background-color: var(--sklearn-color-background);\n",
       "}\n",
       "\n",
       "#sk-container-id-2 div.sk-container {\n",
       "  /* jupyter's `normalize.less` sets `[hidden] { display: none; }`\n",
       "     but bootstrap.min.css set `[hidden] { display: none !important; }`\n",
       "     so we also need the `!important` here to be able to override the\n",
       "     default hidden behavior on the sphinx rendered scikit-learn.org.\n",
       "     See: https://github.com/scikit-learn/scikit-learn/issues/21755 */\n",
       "  display: inline-block !important;\n",
       "  position: relative;\n",
       "}\n",
       "\n",
       "#sk-container-id-2 div.sk-text-repr-fallback {\n",
       "  display: none;\n",
       "}\n",
       "\n",
       "div.sk-parallel-item,\n",
       "div.sk-serial,\n",
       "div.sk-item {\n",
       "  /* draw centered vertical line to link estimators */\n",
       "  background-image: linear-gradient(var(--sklearn-color-text-on-default-background), var(--sklearn-color-text-on-default-background));\n",
       "  background-size: 2px 100%;\n",
       "  background-repeat: no-repeat;\n",
       "  background-position: center center;\n",
       "}\n",
       "\n",
       "/* Parallel-specific style estimator block */\n",
       "\n",
       "#sk-container-id-2 div.sk-parallel-item::after {\n",
       "  content: \"\";\n",
       "  width: 100%;\n",
       "  border-bottom: 2px solid var(--sklearn-color-text-on-default-background);\n",
       "  flex-grow: 1;\n",
       "}\n",
       "\n",
       "#sk-container-id-2 div.sk-parallel {\n",
       "  display: flex;\n",
       "  align-items: stretch;\n",
       "  justify-content: center;\n",
       "  background-color: var(--sklearn-color-background);\n",
       "  position: relative;\n",
       "}\n",
       "\n",
       "#sk-container-id-2 div.sk-parallel-item {\n",
       "  display: flex;\n",
       "  flex-direction: column;\n",
       "}\n",
       "\n",
       "#sk-container-id-2 div.sk-parallel-item:first-child::after {\n",
       "  align-self: flex-end;\n",
       "  width: 50%;\n",
       "}\n",
       "\n",
       "#sk-container-id-2 div.sk-parallel-item:last-child::after {\n",
       "  align-self: flex-start;\n",
       "  width: 50%;\n",
       "}\n",
       "\n",
       "#sk-container-id-2 div.sk-parallel-item:only-child::after {\n",
       "  width: 0;\n",
       "}\n",
       "\n",
       "/* Serial-specific style estimator block */\n",
       "\n",
       "#sk-container-id-2 div.sk-serial {\n",
       "  display: flex;\n",
       "  flex-direction: column;\n",
       "  align-items: center;\n",
       "  background-color: var(--sklearn-color-background);\n",
       "  padding-right: 1em;\n",
       "  padding-left: 1em;\n",
       "}\n",
       "\n",
       "\n",
       "/* Toggleable style: style used for estimator/Pipeline/ColumnTransformer box that is\n",
       "clickable and can be expanded/collapsed.\n",
       "- Pipeline and ColumnTransformer use this feature and define the default style\n",
       "- Estimators will overwrite some part of the style using the `sk-estimator` class\n",
       "*/\n",
       "\n",
       "/* Pipeline and ColumnTransformer style (default) */\n",
       "\n",
       "#sk-container-id-2 div.sk-toggleable {\n",
       "  /* Default theme specific background. It is overwritten whether we have a\n",
       "  specific estimator or a Pipeline/ColumnTransformer */\n",
       "  background-color: var(--sklearn-color-background);\n",
       "}\n",
       "\n",
       "/* Toggleable label */\n",
       "#sk-container-id-2 label.sk-toggleable__label {\n",
       "  cursor: pointer;\n",
       "  display: flex;\n",
       "  width: 100%;\n",
       "  margin-bottom: 0;\n",
       "  padding: 0.5em;\n",
       "  box-sizing: border-box;\n",
       "  text-align: center;\n",
       "  align-items: start;\n",
       "  justify-content: space-between;\n",
       "  gap: 0.5em;\n",
       "}\n",
       "\n",
       "#sk-container-id-2 label.sk-toggleable__label .caption {\n",
       "  font-size: 0.6rem;\n",
       "  font-weight: lighter;\n",
       "  color: var(--sklearn-color-text-muted);\n",
       "}\n",
       "\n",
       "#sk-container-id-2 label.sk-toggleable__label-arrow:before {\n",
       "  /* Arrow on the left of the label */\n",
       "  content: \"▸\";\n",
       "  float: left;\n",
       "  margin-right: 0.25em;\n",
       "  color: var(--sklearn-color-icon);\n",
       "}\n",
       "\n",
       "#sk-container-id-2 label.sk-toggleable__label-arrow:hover:before {\n",
       "  color: var(--sklearn-color-text);\n",
       "}\n",
       "\n",
       "/* Toggleable content - dropdown */\n",
       "\n",
       "#sk-container-id-2 div.sk-toggleable__content {\n",
       "  max-height: 0;\n",
       "  max-width: 0;\n",
       "  overflow: hidden;\n",
       "  text-align: left;\n",
       "  /* unfitted */\n",
       "  background-color: var(--sklearn-color-unfitted-level-0);\n",
       "}\n",
       "\n",
       "#sk-container-id-2 div.sk-toggleable__content.fitted {\n",
       "  /* fitted */\n",
       "  background-color: var(--sklearn-color-fitted-level-0);\n",
       "}\n",
       "\n",
       "#sk-container-id-2 div.sk-toggleable__content pre {\n",
       "  margin: 0.2em;\n",
       "  border-radius: 0.25em;\n",
       "  color: var(--sklearn-color-text);\n",
       "  /* unfitted */\n",
       "  background-color: var(--sklearn-color-unfitted-level-0);\n",
       "}\n",
       "\n",
       "#sk-container-id-2 div.sk-toggleable__content.fitted pre {\n",
       "  /* unfitted */\n",
       "  background-color: var(--sklearn-color-fitted-level-0);\n",
       "}\n",
       "\n",
       "#sk-container-id-2 input.sk-toggleable__control:checked~div.sk-toggleable__content {\n",
       "  /* Expand drop-down */\n",
       "  max-height: 200px;\n",
       "  max-width: 100%;\n",
       "  overflow: auto;\n",
       "}\n",
       "\n",
       "#sk-container-id-2 input.sk-toggleable__control:checked~label.sk-toggleable__label-arrow:before {\n",
       "  content: \"▾\";\n",
       "}\n",
       "\n",
       "/* Pipeline/ColumnTransformer-specific style */\n",
       "\n",
       "#sk-container-id-2 div.sk-label input.sk-toggleable__control:checked~label.sk-toggleable__label {\n",
       "  color: var(--sklearn-color-text);\n",
       "  background-color: var(--sklearn-color-unfitted-level-2);\n",
       "}\n",
       "\n",
       "#sk-container-id-2 div.sk-label.fitted input.sk-toggleable__control:checked~label.sk-toggleable__label {\n",
       "  background-color: var(--sklearn-color-fitted-level-2);\n",
       "}\n",
       "\n",
       "/* Estimator-specific style */\n",
       "\n",
       "/* Colorize estimator box */\n",
       "#sk-container-id-2 div.sk-estimator input.sk-toggleable__control:checked~label.sk-toggleable__label {\n",
       "  /* unfitted */\n",
       "  background-color: var(--sklearn-color-unfitted-level-2);\n",
       "}\n",
       "\n",
       "#sk-container-id-2 div.sk-estimator.fitted input.sk-toggleable__control:checked~label.sk-toggleable__label {\n",
       "  /* fitted */\n",
       "  background-color: var(--sklearn-color-fitted-level-2);\n",
       "}\n",
       "\n",
       "#sk-container-id-2 div.sk-label label.sk-toggleable__label,\n",
       "#sk-container-id-2 div.sk-label label {\n",
       "  /* The background is the default theme color */\n",
       "  color: var(--sklearn-color-text-on-default-background);\n",
       "}\n",
       "\n",
       "/* On hover, darken the color of the background */\n",
       "#sk-container-id-2 div.sk-label:hover label.sk-toggleable__label {\n",
       "  color: var(--sklearn-color-text);\n",
       "  background-color: var(--sklearn-color-unfitted-level-2);\n",
       "}\n",
       "\n",
       "/* Label box, darken color on hover, fitted */\n",
       "#sk-container-id-2 div.sk-label.fitted:hover label.sk-toggleable__label.fitted {\n",
       "  color: var(--sklearn-color-text);\n",
       "  background-color: var(--sklearn-color-fitted-level-2);\n",
       "}\n",
       "\n",
       "/* Estimator label */\n",
       "\n",
       "#sk-container-id-2 div.sk-label label {\n",
       "  font-family: monospace;\n",
       "  font-weight: bold;\n",
       "  display: inline-block;\n",
       "  line-height: 1.2em;\n",
       "}\n",
       "\n",
       "#sk-container-id-2 div.sk-label-container {\n",
       "  text-align: center;\n",
       "}\n",
       "\n",
       "/* Estimator-specific */\n",
       "#sk-container-id-2 div.sk-estimator {\n",
       "  font-family: monospace;\n",
       "  border: 1px dotted var(--sklearn-color-border-box);\n",
       "  border-radius: 0.25em;\n",
       "  box-sizing: border-box;\n",
       "  margin-bottom: 0.5em;\n",
       "  /* unfitted */\n",
       "  background-color: var(--sklearn-color-unfitted-level-0);\n",
       "}\n",
       "\n",
       "#sk-container-id-2 div.sk-estimator.fitted {\n",
       "  /* fitted */\n",
       "  background-color: var(--sklearn-color-fitted-level-0);\n",
       "}\n",
       "\n",
       "/* on hover */\n",
       "#sk-container-id-2 div.sk-estimator:hover {\n",
       "  /* unfitted */\n",
       "  background-color: var(--sklearn-color-unfitted-level-2);\n",
       "}\n",
       "\n",
       "#sk-container-id-2 div.sk-estimator.fitted:hover {\n",
       "  /* fitted */\n",
       "  background-color: var(--sklearn-color-fitted-level-2);\n",
       "}\n",
       "\n",
       "/* Specification for estimator info (e.g. \"i\" and \"?\") */\n",
       "\n",
       "/* Common style for \"i\" and \"?\" */\n",
       "\n",
       ".sk-estimator-doc-link,\n",
       "a:link.sk-estimator-doc-link,\n",
       "a:visited.sk-estimator-doc-link {\n",
       "  float: right;\n",
       "  font-size: smaller;\n",
       "  line-height: 1em;\n",
       "  font-family: monospace;\n",
       "  background-color: var(--sklearn-color-background);\n",
       "  border-radius: 1em;\n",
       "  height: 1em;\n",
       "  width: 1em;\n",
       "  text-decoration: none !important;\n",
       "  margin-left: 0.5em;\n",
       "  text-align: center;\n",
       "  /* unfitted */\n",
       "  border: var(--sklearn-color-unfitted-level-1) 1pt solid;\n",
       "  color: var(--sklearn-color-unfitted-level-1);\n",
       "}\n",
       "\n",
       ".sk-estimator-doc-link.fitted,\n",
       "a:link.sk-estimator-doc-link.fitted,\n",
       "a:visited.sk-estimator-doc-link.fitted {\n",
       "  /* fitted */\n",
       "  border: var(--sklearn-color-fitted-level-1) 1pt solid;\n",
       "  color: var(--sklearn-color-fitted-level-1);\n",
       "}\n",
       "\n",
       "/* On hover */\n",
       "div.sk-estimator:hover .sk-estimator-doc-link:hover,\n",
       ".sk-estimator-doc-link:hover,\n",
       "div.sk-label-container:hover .sk-estimator-doc-link:hover,\n",
       ".sk-estimator-doc-link:hover {\n",
       "  /* unfitted */\n",
       "  background-color: var(--sklearn-color-unfitted-level-3);\n",
       "  color: var(--sklearn-color-background);\n",
       "  text-decoration: none;\n",
       "}\n",
       "\n",
       "div.sk-estimator.fitted:hover .sk-estimator-doc-link.fitted:hover,\n",
       ".sk-estimator-doc-link.fitted:hover,\n",
       "div.sk-label-container:hover .sk-estimator-doc-link.fitted:hover,\n",
       ".sk-estimator-doc-link.fitted:hover {\n",
       "  /* fitted */\n",
       "  background-color: var(--sklearn-color-fitted-level-3);\n",
       "  color: var(--sklearn-color-background);\n",
       "  text-decoration: none;\n",
       "}\n",
       "\n",
       "/* Span, style for the box shown on hovering the info icon */\n",
       ".sk-estimator-doc-link span {\n",
       "  display: none;\n",
       "  z-index: 9999;\n",
       "  position: relative;\n",
       "  font-weight: normal;\n",
       "  right: .2ex;\n",
       "  padding: .5ex;\n",
       "  margin: .5ex;\n",
       "  width: min-content;\n",
       "  min-width: 20ex;\n",
       "  max-width: 50ex;\n",
       "  color: var(--sklearn-color-text);\n",
       "  box-shadow: 2pt 2pt 4pt #999;\n",
       "  /* unfitted */\n",
       "  background: var(--sklearn-color-unfitted-level-0);\n",
       "  border: .5pt solid var(--sklearn-color-unfitted-level-3);\n",
       "}\n",
       "\n",
       ".sk-estimator-doc-link.fitted span {\n",
       "  /* fitted */\n",
       "  background: var(--sklearn-color-fitted-level-0);\n",
       "  border: var(--sklearn-color-fitted-level-3);\n",
       "}\n",
       "\n",
       ".sk-estimator-doc-link:hover span {\n",
       "  display: block;\n",
       "}\n",
       "\n",
       "/* \"?\"-specific style due to the `<a>` HTML tag */\n",
       "\n",
       "#sk-container-id-2 a.estimator_doc_link {\n",
       "  float: right;\n",
       "  font-size: 1rem;\n",
       "  line-height: 1em;\n",
       "  font-family: monospace;\n",
       "  background-color: var(--sklearn-color-background);\n",
       "  border-radius: 1rem;\n",
       "  height: 1rem;\n",
       "  width: 1rem;\n",
       "  text-decoration: none;\n",
       "  /* unfitted */\n",
       "  color: var(--sklearn-color-unfitted-level-1);\n",
       "  border: var(--sklearn-color-unfitted-level-1) 1pt solid;\n",
       "}\n",
       "\n",
       "#sk-container-id-2 a.estimator_doc_link.fitted {\n",
       "  /* fitted */\n",
       "  border: var(--sklearn-color-fitted-level-1) 1pt solid;\n",
       "  color: var(--sklearn-color-fitted-level-1);\n",
       "}\n",
       "\n",
       "/* On hover */\n",
       "#sk-container-id-2 a.estimator_doc_link:hover {\n",
       "  /* unfitted */\n",
       "  background-color: var(--sklearn-color-unfitted-level-3);\n",
       "  color: var(--sklearn-color-background);\n",
       "  text-decoration: none;\n",
       "}\n",
       "\n",
       "#sk-container-id-2 a.estimator_doc_link.fitted:hover {\n",
       "  /* fitted */\n",
       "  background-color: var(--sklearn-color-fitted-level-3);\n",
       "}\n",
       "</style><div id=\"sk-container-id-2\" class=\"sk-top-container\"><div class=\"sk-text-repr-fallback\"><pre>Pipeline(steps=[(&#x27;preprocessor&#x27;,\n",
       "                 ColumnTransformer(transformers=[(&#x27;num&#x27;,\n",
       "                                                  Pipeline(steps=[(&#x27;imputer&#x27;,\n",
       "                                                                   SimpleImputer(strategy=&#x27;median&#x27;)),\n",
       "                                                                  (&#x27;scaler&#x27;,\n",
       "                                                                   StandardScaler())]),\n",
       "                                                  [&#x27;QUANT_DEPENDANTS&#x27;,\n",
       "                                                   &#x27;MONTHS_IN_RESIDENCE&#x27;,\n",
       "                                                   &#x27;PERSONAL_MONTHLY_INCOME&#x27;,\n",
       "                                                   &#x27;QUANT_SPECIAL_BANKING_ACCOUNTS&#x27;,\n",
       "                                                   &#x27;QUANT_CARS&#x27;, &#x27;AGE&#x27;, &#x27;SEX&#x27;,\n",
       "                                                   &#x27;FLAG_RESIDENCIAL_PHONE&#x27;,\n",
       "                                                   &#x27;COMPANY&#x27;,\n",
       "                                                   &#x27;FLAG_PROFESSIONAL_PHONE&#x27;,\n",
       "                                                   &#x27;...\n",
       "                                                             gamma=None,\n",
       "                                                             grow_policy=None,\n",
       "                                                             importance_type=None,\n",
       "                                                             interaction_constraints=None,\n",
       "                                                             learning_rate=0.1,\n",
       "                                                             max_bin=None,\n",
       "                                                             max_cat_threshold=None,\n",
       "                                                             max_cat_to_onehot=None,\n",
       "                                                             max_delta_step=None,\n",
       "                                                             max_depth=6,\n",
       "                                                             max_leaves=None,\n",
       "                                                             min_child_weight=None,\n",
       "                                                             missing=nan,\n",
       "                                                             monotone_constraints=None,\n",
       "                                                             multi_strategy=None,\n",
       "                                                             n_estimators=200,\n",
       "                                                             n_jobs=None,\n",
       "                                                             num_parallel_tree=None, ...))],\n",
       "                                  voting=&#x27;soft&#x27;))])</pre><b>In a Jupyter environment, please rerun this cell to show the HTML representation or trust the notebook. <br />On GitHub, the HTML representation is unable to render, please try loading this page with nbviewer.org.</b></div><div class=\"sk-container\" hidden><div class=\"sk-item sk-dashed-wrapped\"><div class=\"sk-label-container\"><div class=\"sk-label fitted sk-toggleable\"><input class=\"sk-toggleable__control sk-hidden--visually\" id=\"sk-estimator-id-14\" type=\"checkbox\" ><label for=\"sk-estimator-id-14\" class=\"sk-toggleable__label fitted sk-toggleable__label-arrow\"><div><div>Pipeline</div></div><div><a class=\"sk-estimator-doc-link fitted\" rel=\"noreferrer\" target=\"_blank\" href=\"https://scikit-learn.org/1.6/modules/generated/sklearn.pipeline.Pipeline.html\">?<span>Documentation for Pipeline</span></a><span class=\"sk-estimator-doc-link fitted\">i<span>Fitted</span></span></div></label><div class=\"sk-toggleable__content fitted\"><pre>Pipeline(steps=[(&#x27;preprocessor&#x27;,\n",
       "                 ColumnTransformer(transformers=[(&#x27;num&#x27;,\n",
       "                                                  Pipeline(steps=[(&#x27;imputer&#x27;,\n",
       "                                                                   SimpleImputer(strategy=&#x27;median&#x27;)),\n",
       "                                                                  (&#x27;scaler&#x27;,\n",
       "                                                                   StandardScaler())]),\n",
       "                                                  [&#x27;QUANT_DEPENDANTS&#x27;,\n",
       "                                                   &#x27;MONTHS_IN_RESIDENCE&#x27;,\n",
       "                                                   &#x27;PERSONAL_MONTHLY_INCOME&#x27;,\n",
       "                                                   &#x27;QUANT_SPECIAL_BANKING_ACCOUNTS&#x27;,\n",
       "                                                   &#x27;QUANT_CARS&#x27;, &#x27;AGE&#x27;, &#x27;SEX&#x27;,\n",
       "                                                   &#x27;FLAG_RESIDENCIAL_PHONE&#x27;,\n",
       "                                                   &#x27;COMPANY&#x27;,\n",
       "                                                   &#x27;FLAG_PROFESSIONAL_PHONE&#x27;,\n",
       "                                                   &#x27;...\n",
       "                                                             gamma=None,\n",
       "                                                             grow_policy=None,\n",
       "                                                             importance_type=None,\n",
       "                                                             interaction_constraints=None,\n",
       "                                                             learning_rate=0.1,\n",
       "                                                             max_bin=None,\n",
       "                                                             max_cat_threshold=None,\n",
       "                                                             max_cat_to_onehot=None,\n",
       "                                                             max_delta_step=None,\n",
       "                                                             max_depth=6,\n",
       "                                                             max_leaves=None,\n",
       "                                                             min_child_weight=None,\n",
       "                                                             missing=nan,\n",
       "                                                             monotone_constraints=None,\n",
       "                                                             multi_strategy=None,\n",
       "                                                             n_estimators=200,\n",
       "                                                             n_jobs=None,\n",
       "                                                             num_parallel_tree=None, ...))],\n",
       "                                  voting=&#x27;soft&#x27;))])</pre></div> </div></div><div class=\"sk-serial\"><div class=\"sk-item sk-dashed-wrapped\"><div class=\"sk-label-container\"><div class=\"sk-label fitted sk-toggleable\"><input class=\"sk-toggleable__control sk-hidden--visually\" id=\"sk-estimator-id-15\" type=\"checkbox\" ><label for=\"sk-estimator-id-15\" class=\"sk-toggleable__label fitted sk-toggleable__label-arrow\"><div><div>preprocessor: ColumnTransformer</div></div><div><a class=\"sk-estimator-doc-link fitted\" rel=\"noreferrer\" target=\"_blank\" href=\"https://scikit-learn.org/1.6/modules/generated/sklearn.compose.ColumnTransformer.html\">?<span>Documentation for preprocessor: ColumnTransformer</span></a></div></label><div class=\"sk-toggleable__content fitted\"><pre>ColumnTransformer(transformers=[(&#x27;num&#x27;,\n",
       "                                 Pipeline(steps=[(&#x27;imputer&#x27;,\n",
       "                                                  SimpleImputer(strategy=&#x27;median&#x27;)),\n",
       "                                                 (&#x27;scaler&#x27;, StandardScaler())]),\n",
       "                                 [&#x27;QUANT_DEPENDANTS&#x27;, &#x27;MONTHS_IN_RESIDENCE&#x27;,\n",
       "                                  &#x27;PERSONAL_MONTHLY_INCOME&#x27;,\n",
       "                                  &#x27;QUANT_SPECIAL_BANKING_ACCOUNTS&#x27;,\n",
       "                                  &#x27;QUANT_CARS&#x27;, &#x27;AGE&#x27;, &#x27;SEX&#x27;,\n",
       "                                  &#x27;FLAG_RESIDENCIAL_PHONE&#x27;, &#x27;COMPANY&#x27;,\n",
       "                                  &#x27;FLAG_PROFESSIONAL_PHONE&#x27;, &#x27;NACIONALITY&#x27;,\n",
       "                                  &#x27;FLAG_EMAIL&#x27;, &#x27;FLAG_...\n",
       "                                  &#x27;RESIDENCIAL_BOROUGH&#x27;, &#x27;RESIDENCIAL_STATE&#x27;,\n",
       "                                  &#x27;STATE_OF_BIRTH&#x27;, &#x27;RESIDENCIAL_ZIP_3&#x27;,\n",
       "                                  &#x27;RESIDENCIAL_PHONE_AREA_CODE&#x27;]),\n",
       "                                (&#x27;ohe&#x27;,\n",
       "                                 Pipeline(steps=[(&#x27;imputer&#x27;,\n",
       "                                                  SimpleImputer(strategy=&#x27;most_frequent&#x27;)),\n",
       "                                                 (&#x27;ohe&#x27;,\n",
       "                                                  OneHotEncoder(handle_unknown=&#x27;ignore&#x27;,\n",
       "                                                                sparse_output=False))]),\n",
       "                                 [&#x27;PROFESSION_CODE&#x27;, &#x27;MARITAL_STATUS&#x27;,\n",
       "                                  &#x27;RESIDENCE_TYPE&#x27;, &#x27;PAYMENT_DAY&#x27;,\n",
       "                                  &#x27;OCCUPATION_TYPE&#x27;, &#x27;PRODUCT&#x27;,\n",
       "                                  &#x27;APPLICATION_SUBMISSION_TYPE&#x27;])])</pre></div> </div></div><div class=\"sk-parallel\"><div class=\"sk-parallel-item\"><div class=\"sk-item\"><div class=\"sk-label-container\"><div class=\"sk-label fitted sk-toggleable\"><input class=\"sk-toggleable__control sk-hidden--visually\" id=\"sk-estimator-id-16\" type=\"checkbox\" ><label for=\"sk-estimator-id-16\" class=\"sk-toggleable__label fitted sk-toggleable__label-arrow\"><div><div>num</div></div></label><div class=\"sk-toggleable__content fitted\"><pre>[&#x27;QUANT_DEPENDANTS&#x27;, &#x27;MONTHS_IN_RESIDENCE&#x27;, &#x27;PERSONAL_MONTHLY_INCOME&#x27;, &#x27;QUANT_SPECIAL_BANKING_ACCOUNTS&#x27;, &#x27;QUANT_CARS&#x27;, &#x27;AGE&#x27;, &#x27;SEX&#x27;, &#x27;FLAG_RESIDENCIAL_PHONE&#x27;, &#x27;COMPANY&#x27;, &#x27;FLAG_PROFESSIONAL_PHONE&#x27;, &#x27;NACIONALITY&#x27;, &#x27;FLAG_EMAIL&#x27;, &#x27;FLAG_VISA&#x27;, &#x27;FLAG_MASTERCARD&#x27;, &#x27;HAS_PERSONAL_ASSETS&#x27;, &#x27;HAS_OTHER_INCOME&#x27;]</pre></div> </div></div><div class=\"sk-serial\"><div class=\"sk-item\"><div class=\"sk-serial\"><div class=\"sk-item\"><div class=\"sk-estimator fitted sk-toggleable\"><input class=\"sk-toggleable__control sk-hidden--visually\" id=\"sk-estimator-id-17\" type=\"checkbox\" ><label for=\"sk-estimator-id-17\" class=\"sk-toggleable__label fitted sk-toggleable__label-arrow\"><div><div>SimpleImputer</div></div><div><a class=\"sk-estimator-doc-link fitted\" rel=\"noreferrer\" target=\"_blank\" href=\"https://scikit-learn.org/1.6/modules/generated/sklearn.impute.SimpleImputer.html\">?<span>Documentation for SimpleImputer</span></a></div></label><div class=\"sk-toggleable__content fitted\"><pre>SimpleImputer(strategy=&#x27;median&#x27;)</pre></div> </div></div><div class=\"sk-item\"><div class=\"sk-estimator fitted sk-toggleable\"><input class=\"sk-toggleable__control sk-hidden--visually\" id=\"sk-estimator-id-18\" type=\"checkbox\" ><label for=\"sk-estimator-id-18\" class=\"sk-toggleable__label fitted sk-toggleable__label-arrow\"><div><div>StandardScaler</div></div><div><a class=\"sk-estimator-doc-link fitted\" rel=\"noreferrer\" target=\"_blank\" href=\"https://scikit-learn.org/1.6/modules/generated/sklearn.preprocessing.StandardScaler.html\">?<span>Documentation for StandardScaler</span></a></div></label><div class=\"sk-toggleable__content fitted\"><pre>StandardScaler()</pre></div> </div></div></div></div></div></div></div><div class=\"sk-parallel-item\"><div class=\"sk-item\"><div class=\"sk-label-container\"><div class=\"sk-label fitted sk-toggleable\"><input class=\"sk-toggleable__control sk-hidden--visually\" id=\"sk-estimator-id-19\" type=\"checkbox\" ><label for=\"sk-estimator-id-19\" class=\"sk-toggleable__label fitted sk-toggleable__label-arrow\"><div><div>target</div></div></label><div class=\"sk-toggleable__content fitted\"><pre>[&#x27;CITY_OF_BIRTH&#x27;, &#x27;RESIDENCIAL_CITY&#x27;, &#x27;RESIDENCIAL_BOROUGH&#x27;, &#x27;RESIDENCIAL_STATE&#x27;, &#x27;STATE_OF_BIRTH&#x27;, &#x27;RESIDENCIAL_ZIP_3&#x27;, &#x27;RESIDENCIAL_PHONE_AREA_CODE&#x27;]</pre></div> </div></div><div class=\"sk-serial\"><div class=\"sk-item\"><div class=\"sk-serial\"><div class=\"sk-item\"><div class=\"sk-estimator fitted sk-toggleable\"><input class=\"sk-toggleable__control sk-hidden--visually\" id=\"sk-estimator-id-20\" type=\"checkbox\" ><label for=\"sk-estimator-id-20\" class=\"sk-toggleable__label fitted sk-toggleable__label-arrow\"><div><div>SimpleImputer</div></div><div><a class=\"sk-estimator-doc-link fitted\" rel=\"noreferrer\" target=\"_blank\" href=\"https://scikit-learn.org/1.6/modules/generated/sklearn.impute.SimpleImputer.html\">?<span>Documentation for SimpleImputer</span></a></div></label><div class=\"sk-toggleable__content fitted\"><pre>SimpleImputer(strategy=&#x27;most_frequent&#x27;)</pre></div> </div></div><div class=\"sk-item\"><div class=\"sk-estimator fitted sk-toggleable\"><input class=\"sk-toggleable__control sk-hidden--visually\" id=\"sk-estimator-id-21\" type=\"checkbox\" ><label for=\"sk-estimator-id-21\" class=\"sk-toggleable__label fitted sk-toggleable__label-arrow\"><div><div>TargetEncoder</div></div></label><div class=\"sk-toggleable__content fitted\"><pre>TargetEncoder()</pre></div> </div></div></div></div></div></div></div><div class=\"sk-parallel-item\"><div class=\"sk-item\"><div class=\"sk-label-container\"><div class=\"sk-label fitted sk-toggleable\"><input class=\"sk-toggleable__control sk-hidden--visually\" id=\"sk-estimator-id-22\" type=\"checkbox\" ><label for=\"sk-estimator-id-22\" class=\"sk-toggleable__label fitted sk-toggleable__label-arrow\"><div><div>ohe</div></div></label><div class=\"sk-toggleable__content fitted\"><pre>[&#x27;PROFESSION_CODE&#x27;, &#x27;MARITAL_STATUS&#x27;, &#x27;RESIDENCE_TYPE&#x27;, &#x27;PAYMENT_DAY&#x27;, &#x27;OCCUPATION_TYPE&#x27;, &#x27;PRODUCT&#x27;, &#x27;APPLICATION_SUBMISSION_TYPE&#x27;]</pre></div> </div></div><div class=\"sk-serial\"><div class=\"sk-item\"><div class=\"sk-serial\"><div class=\"sk-item\"><div class=\"sk-estimator fitted sk-toggleable\"><input class=\"sk-toggleable__control sk-hidden--visually\" id=\"sk-estimator-id-23\" type=\"checkbox\" ><label for=\"sk-estimator-id-23\" class=\"sk-toggleable__label fitted sk-toggleable__label-arrow\"><div><div>SimpleImputer</div></div><div><a class=\"sk-estimator-doc-link fitted\" rel=\"noreferrer\" target=\"_blank\" href=\"https://scikit-learn.org/1.6/modules/generated/sklearn.impute.SimpleImputer.html\">?<span>Documentation for SimpleImputer</span></a></div></label><div class=\"sk-toggleable__content fitted\"><pre>SimpleImputer(strategy=&#x27;most_frequent&#x27;)</pre></div> </div></div><div class=\"sk-item\"><div class=\"sk-estimator fitted sk-toggleable\"><input class=\"sk-toggleable__control sk-hidden--visually\" id=\"sk-estimator-id-24\" type=\"checkbox\" ><label for=\"sk-estimator-id-24\" class=\"sk-toggleable__label fitted sk-toggleable__label-arrow\"><div><div>OneHotEncoder</div></div><div><a class=\"sk-estimator-doc-link fitted\" rel=\"noreferrer\" target=\"_blank\" href=\"https://scikit-learn.org/1.6/modules/generated/sklearn.preprocessing.OneHotEncoder.html\">?<span>Documentation for OneHotEncoder</span></a></div></label><div class=\"sk-toggleable__content fitted\"><pre>OneHotEncoder(handle_unknown=&#x27;ignore&#x27;, sparse_output=False)</pre></div> </div></div></div></div></div></div></div></div></div><div class=\"sk-item\"><div class=\"sk-estimator fitted sk-toggleable\"><input class=\"sk-toggleable__control sk-hidden--visually\" id=\"sk-estimator-id-25\" type=\"checkbox\" ><label for=\"sk-estimator-id-25\" class=\"sk-toggleable__label fitted sk-toggleable__label-arrow\"><div><div>SelectKBest</div></div><div><a class=\"sk-estimator-doc-link fitted\" rel=\"noreferrer\" target=\"_blank\" href=\"https://scikit-learn.org/1.6/modules/generated/sklearn.feature_selection.SelectKBest.html\">?<span>Documentation for SelectKBest</span></a></div></label><div class=\"sk-toggleable__content fitted\"><pre>SelectKBest(k=55,\n",
       "            score_func=&lt;function mutual_info_classif at 0x000001AB54F9E840&gt;)</pre></div> </div></div><div class=\"sk-item sk-dashed-wrapped\"><div class=\"sk-label-container\"><div class=\"sk-label fitted sk-toggleable\"><input class=\"sk-toggleable__control sk-hidden--visually\" id=\"sk-estimator-id-26\" type=\"checkbox\" ><label for=\"sk-estimator-id-26\" class=\"sk-toggleable__label fitted sk-toggleable__label-arrow\"><div><div>classifier: VotingClassifier</div></div><div><a class=\"sk-estimator-doc-link fitted\" rel=\"noreferrer\" target=\"_blank\" href=\"https://scikit-learn.org/1.6/modules/generated/sklearn.ensemble.VotingClassifier.html\">?<span>Documentation for classifier: VotingClassifier</span></a></div></label><div class=\"sk-toggleable__content fitted\"><pre>VotingClassifier(estimators=[(&#x27;lr&#x27;,\n",
       "                              LogisticRegression(class_weight=&#x27;balanced&#x27;,\n",
       "                                                 max_iter=1000,\n",
       "                                                 random_state=42)),\n",
       "                             (&#x27;rf&#x27;,\n",
       "                              RandomForestClassifier(class_weight=&#x27;balanced&#x27;,\n",
       "                                                     max_depth=6,\n",
       "                                                     random_state=42)),\n",
       "                             (&#x27;xgb&#x27;,\n",
       "                              XGBClassifier(base_score=None, booster=None,\n",
       "                                            callbacks=None,\n",
       "                                            colsample_bylevel=None,\n",
       "                                            colsample_bynode=None,\n",
       "                                            colsample_bytree=0.8, device=None,\n",
       "                                            early_stopping...\n",
       "                                            feature_weights=None, gamma=None,\n",
       "                                            grow_policy=None,\n",
       "                                            importance_type=None,\n",
       "                                            interaction_constraints=None,\n",
       "                                            learning_rate=0.1, max_bin=None,\n",
       "                                            max_cat_threshold=None,\n",
       "                                            max_cat_to_onehot=None,\n",
       "                                            max_delta_step=None, max_depth=6,\n",
       "                                            max_leaves=None,\n",
       "                                            min_child_weight=None, missing=nan,\n",
       "                                            monotone_constraints=None,\n",
       "                                            multi_strategy=None,\n",
       "                                            n_estimators=200, n_jobs=None,\n",
       "                                            num_parallel_tree=None, ...))],\n",
       "                 voting=&#x27;soft&#x27;)</pre></div> </div></div><div class=\"sk-parallel\"><div class=\"sk-parallel-item\"><div class=\"sk-item\"><div class=\"sk-label-container\"><div class=\"sk-label fitted sk-toggleable\"><label>lr</label></div></div><div class=\"sk-serial\"><div class=\"sk-item\"><div class=\"sk-estimator fitted sk-toggleable\"><input class=\"sk-toggleable__control sk-hidden--visually\" id=\"sk-estimator-id-27\" type=\"checkbox\" ><label for=\"sk-estimator-id-27\" class=\"sk-toggleable__label fitted sk-toggleable__label-arrow\"><div><div>LogisticRegression</div></div><div><a class=\"sk-estimator-doc-link fitted\" rel=\"noreferrer\" target=\"_blank\" href=\"https://scikit-learn.org/1.6/modules/generated/sklearn.linear_model.LogisticRegression.html\">?<span>Documentation for LogisticRegression</span></a></div></label><div class=\"sk-toggleable__content fitted\"><pre>LogisticRegression(class_weight=&#x27;balanced&#x27;, max_iter=1000, random_state=42)</pre></div> </div></div></div></div></div><div class=\"sk-parallel-item\"><div class=\"sk-item\"><div class=\"sk-label-container\"><div class=\"sk-label fitted sk-toggleable\"><label>rf</label></div></div><div class=\"sk-serial\"><div class=\"sk-item\"><div class=\"sk-estimator fitted sk-toggleable\"><input class=\"sk-toggleable__control sk-hidden--visually\" id=\"sk-estimator-id-28\" type=\"checkbox\" ><label for=\"sk-estimator-id-28\" class=\"sk-toggleable__label fitted sk-toggleable__label-arrow\"><div><div>RandomForestClassifier</div></div><div><a class=\"sk-estimator-doc-link fitted\" rel=\"noreferrer\" target=\"_blank\" href=\"https://scikit-learn.org/1.6/modules/generated/sklearn.ensemble.RandomForestClassifier.html\">?<span>Documentation for RandomForestClassifier</span></a></div></label><div class=\"sk-toggleable__content fitted\"><pre>RandomForestClassifier(class_weight=&#x27;balanced&#x27;, max_depth=6, random_state=42)</pre></div> </div></div></div></div></div><div class=\"sk-parallel-item\"><div class=\"sk-item\"><div class=\"sk-label-container\"><div class=\"sk-label fitted sk-toggleable\"><label>xgb</label></div></div><div class=\"sk-serial\"><div class=\"sk-item\"><div class=\"sk-estimator fitted sk-toggleable\"><input class=\"sk-toggleable__control sk-hidden--visually\" id=\"sk-estimator-id-29\" type=\"checkbox\" ><label for=\"sk-estimator-id-29\" class=\"sk-toggleable__label fitted sk-toggleable__label-arrow\"><div><div>XGBClassifier</div></div><div><a class=\"sk-estimator-doc-link fitted\" rel=\"noreferrer\" target=\"_blank\" href=\"https://xgboost.readthedocs.io/en/release_3.0.0/python/python_api.html#xgboost.XGBClassifier\">?<span>Documentation for XGBClassifier</span></a></div></label><div class=\"sk-toggleable__content fitted\"><pre>XGBClassifier(base_score=None, booster=None, callbacks=None,\n",
       "              colsample_bylevel=None, colsample_bynode=None,\n",
       "              colsample_bytree=0.8, device=None, early_stopping_rounds=None,\n",
       "              enable_categorical=False, eval_metric=&#x27;logloss&#x27;,\n",
       "              feature_types=None, feature_weights=None, gamma=None,\n",
       "              grow_policy=None, importance_type=None,\n",
       "              interaction_constraints=None, learning_rate=0.1, max_bin=None,\n",
       "              max_cat_threshold=None, max_cat_to_onehot=None,\n",
       "              max_delta_step=None, max_depth=6, max_leaves=None,\n",
       "              min_child_weight=None, missing=nan, monotone_constraints=None,\n",
       "              multi_strategy=None, n_estimators=200, n_jobs=None,\n",
       "              num_parallel_tree=None, ...)</pre></div> </div></div></div></div></div></div></div></div></div></div></div>"
      ],
      "text/plain": [
       "Pipeline(steps=[('preprocessor',\n",
       "                 ColumnTransformer(transformers=[('num',\n",
       "                                                  Pipeline(steps=[('imputer',\n",
       "                                                                   SimpleImputer(strategy='median')),\n",
       "                                                                  ('scaler',\n",
       "                                                                   StandardScaler())]),\n",
       "                                                  ['QUANT_DEPENDANTS',\n",
       "                                                   'MONTHS_IN_RESIDENCE',\n",
       "                                                   'PERSONAL_MONTHLY_INCOME',\n",
       "                                                   'QUANT_SPECIAL_BANKING_ACCOUNTS',\n",
       "                                                   'QUANT_CARS', 'AGE', 'SEX',\n",
       "                                                   'FLAG_RESIDENCIAL_PHONE',\n",
       "                                                   'COMPANY',\n",
       "                                                   'FLAG_PROFESSIONAL_PHONE',\n",
       "                                                   '...\n",
       "                                                             gamma=None,\n",
       "                                                             grow_policy=None,\n",
       "                                                             importance_type=None,\n",
       "                                                             interaction_constraints=None,\n",
       "                                                             learning_rate=0.1,\n",
       "                                                             max_bin=None,\n",
       "                                                             max_cat_threshold=None,\n",
       "                                                             max_cat_to_onehot=None,\n",
       "                                                             max_delta_step=None,\n",
       "                                                             max_depth=6,\n",
       "                                                             max_leaves=None,\n",
       "                                                             min_child_weight=None,\n",
       "                                                             missing=nan,\n",
       "                                                             monotone_constraints=None,\n",
       "                                                             multi_strategy=None,\n",
       "                                                             n_estimators=200,\n",
       "                                                             n_jobs=None,\n",
       "                                                             num_parallel_tree=None, ...))],\n",
       "                                  voting='soft'))])"
      ]
     },
     "execution_count": 200,
     "metadata": {},
     "output_type": "execute_result"
    }
   ],
   "source": [
    "voting_model_pipeline.fit(X_train, y_train)\n"
   ]
  },
  {
   "cell_type": "code",
   "execution_count": 201,
   "id": "8aac00ab-0431-408d-b43e-ae50bde8f111",
   "metadata": {},
   "outputs": [],
   "source": [
    "# Transform X_test through all steps *except* final classifier\n",
    "from sklearn.pipeline import Pipeline\n",
    "\n",
    "# Get X_test transformed till feature selection step\n",
    "X_test_transformed = voting_model_pipeline.named_steps['feature_select'].transform(\n",
    "    voting_model_pipeline.named_steps['preprocessor'].transform(X_test)\n",
    ")\n"
   ]
  },
  {
   "cell_type": "code",
   "execution_count": 204,
   "id": "f5becd86-8f23-4bc1-b587-46902a56fbb5",
   "metadata": {},
   "outputs": [],
   "source": [
    "xgb_model = voting_clf.named_estimators_['xgb']\n"
   ]
  },
  {
   "cell_type": "code",
   "execution_count": 206,
   "id": "68c40b9d-2faa-4b5f-b5ef-3dfa8ab60c82",
   "metadata": {},
   "outputs": [
    {
     "name": "stderr",
     "output_type": "stream",
     "text": [
      "100%|===================| 9993/10000 [01:11<00:00]        "
     ]
    }
   ],
   "source": [
    "# Create SHAP explainer for XGBoost\n",
    "explainer = shap.Explainer(xgb_model, X_test_transformed)\n",
    "\n",
    "# Compute SHAP values\n",
    "shap_values = explainer(X_test_transformed)"
   ]
  },
  {
   "cell_type": "code",
   "execution_count": 208,
   "id": "e47ca4df-2e62-4d84-ab4b-83f003451601",
   "metadata": {},
   "outputs": [
    {
     "data": {
      "image/png": "[encoded data removed]",
      "text/plain": [
       "<Figure size 800x950 with 1 Axes>"
      ]
     },
     "metadata": {},
     "output_type": "display_data"
    }
   ],
   "source": [
    "shap.summary_plot(shap_values, X_test_transformed, plot_type=\"bar\")\n"
   ]
  },
  {
   "cell_type": "code",
   "execution_count": 210,
   "id": "d047e778-7044-41ee-abd3-6f9e893ea27f",
   "metadata": {},
   "outputs": [
    {
     "data": {
      "image/png": "[encoded data removed]",
      "text/plain": [
       "<Figure size 800x950 with 2 Axes>"
      ]
     },
     "metadata": {},
     "output_type": "display_data"
    }
   ],
   "source": [
    "shap.summary_plot(shap_values, X_test_transformed)\n"
   ]
  },
  {
   "cell_type": "code",
   "execution_count": 212,
   "id": "3f85f22b-7ff7-4999-9780-f035ae2e2bd1",
   "metadata": {},
   "outputs": [
    {
     "data": {
      "image/png": "[encoded data removed]",
      "text/plain": [
       "<Figure size 800x650 with 3 Axes>"
      ]
     },
     "metadata": {},
     "output_type": "display_data"
    }
   ],
   "source": [
    "shap.plots.waterfall(shap_values[0])  # Explain the first test instance\n"
   ]
  },
  {
   "cell_type": "markdown",
   "id": "41d87791-9ade-40b9-9e96-bc1494ee3833",
   "metadata": {},
   "source": [
    "### Catboost"
   ]
  },
  {
   "cell_type": "code",
   "execution_count": 119,
   "id": "fb210fbc-e09f-4289-9a6a-59e7d0d4bbfc",
   "metadata": {},
   "outputs": [
    {
     "data": {
      "text/plain": [
       "'from catboost import CatBoostClassifier\\nfrom sklearn.metrics import (\\n    accuracy_score, precision_score, recall_score, f1_score, roc_auc_score,\\n    classification_report, confusion_matrix\\n)\\n\\n# Define CatBoost model\\ncat_model = CatBoostClassifier(\\n    iterations=200,\\n    learning_rate=0.1,\\n    depth=6,\\n    loss_function=\\'Logloss\\',\\n    eval_metric=\\'AUC\\',\\n    verbose=0,\\n    random_state=42,\\n    class_weights=[1, 1]  # Since you\\'ve already used SMOTE\\n)\\n\\n# Train\\ncat_model.fit(X_train_smote, y_train_smote)\\n\\n# Predict\\ncat_preds = cat_model.predict(X_test_selected_55)\\ncat_probs = cat_model.predict_proba(X_test_selected_55)[:, 1]\\n\\n# Evaluate\\nprint(\"🚀 CatBoost Results\")\\nprint(\"-\" * 40)\\nprint(f\"Accuracy       : {accuracy_score(y_test, cat_preds):.4f}\")\\nprint(f\"Precision      : {precision_score(y_test, cat_preds):.4f}\")\\nprint(f\"Recall         : {recall_score(y_test, cat_preds):.4f}\")\\nprint(f\"F1 Score       : {f1_score(y_test, cat_preds):.4f}\")\\nprint(f\"ROC-AUC Score  : {roc_auc_score(y_test, cat_probs):.4f}\\n\")\\n\\nprint(\"Classification Report:\\n\", classification_report(y_test, cat_preds))\\nprint(\"Confusion Matrix:\\n\", confusion_matrix(y_test, cat_preds))\\n'"
      ]
     },
     "execution_count": 119,
     "metadata": {},
     "output_type": "execute_result"
    }
   ],
   "source": [
    "'''from catboost import CatBoostClassifier\n",
    "from sklearn.metrics import (\n",
    "    accuracy_score, precision_score, recall_score, f1_score, roc_auc_score,\n",
    "    classification_report, confusion_matrix\n",
    ")\n",
    "\n",
    "# Define CatBoost model\n",
    "cat_model = CatBoostClassifier(\n",
    "    iterations=200,\n",
    "    learning_rate=0.1,\n",
    "    depth=6,\n",
    "    loss_function='Logloss',\n",
    "    eval_metric='AUC',\n",
    "    verbose=0,\n",
    "    random_state=42,\n",
    "    class_weights=[1, 1]  # Since you've already used SMOTE\n",
    ")\n",
    "\n",
    "# Train\n",
    "cat_model.fit(X_train_smote, y_train_smote)\n",
    "\n",
    "# Predict\n",
    "cat_preds = cat_model.predict(X_test_selected_55)\n",
    "cat_probs = cat_model.predict_proba(X_test_selected_55)[:, 1]\n",
    "\n",
    "# Evaluate\n",
    "print(\"🚀 CatBoost Results\")\n",
    "print(\"-\" * 40)\n",
    "print(f\"Accuracy       : {accuracy_score(y_test, cat_preds):.4f}\")\n",
    "print(f\"Precision      : {precision_score(y_test, cat_preds):.4f}\")\n",
    "print(f\"Recall         : {recall_score(y_test, cat_preds):.4f}\")\n",
    "print(f\"F1 Score       : {f1_score(y_test, cat_preds):.4f}\")\n",
    "print(f\"ROC-AUC Score  : {roc_auc_score(y_test, cat_probs):.4f}\\n\")\n",
    "\n",
    "print(\"Classification Report:\\n\", classification_report(y_test, cat_preds))\n",
    "print(\"Confusion Matrix:\\n\", confusion_matrix(y_test, cat_preds))\n",
    "'''"
   ]
  },
  {
   "cell_type": "code",
   "execution_count": null,
   "id": "58b73762-f267-4fe0-9293-c5ad9c9825b0",
   "metadata": {},
   "outputs": [],
   "source": []
  }
 ],
 "metadata": {
  "kernelspec": {
   "display_name": "Python 3 (ipykernel)",
   "language": "python",
   "name": "python3"
  },
  "language_info": {
   "codemirror_mode": {
    "name": "ipython",
    "version": 3
   },
   "file_extension": ".py",
   "mimetype": "text/x-python",
   "name": "python",
   "nbconvert_exporter": "python",
   "pygments_lexer": "ipython3",
   "version": "3.12.7"
  }
 },
 "nbformat": 4,
 "nbformat_minor": 5
}
